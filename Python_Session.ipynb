{
 "cells": [
  {
   "cell_type": "markdown",
   "metadata": {
    "id": "Y5Im3VdXV5um"
   },
   "source": [
    "## Why Python?\n",
    "\n",
    "It's easier to learn and read than most other languages, given the form of its syntax.\n",
    "\n",
    "There's a huge, rapidly-growing community of coders that use it.\n",
    "\n",
    "There are a large number of extra libraries made by third parties, that can make coding a breeze.\n",
    "\n",
    "Let's start our lesson with something every coder will be familiar with - the obligatory, \"Hello World!\" program\n",
    "\n",
    "Open up Python and type this - \n",
    "\n"
   ]
  },
  {
   "cell_type": "code",
   "execution_count": 9,
   "metadata": {
    "ExecuteTime": {
     "end_time": "2021-02-11T16:34:12.081841Z",
     "start_time": "2021-02-11T16:34:12.075826Z"
    },
    "colab": {
     "base_uri": "https://localhost:8080/"
    },
    "id": "py5hFr-gVApd",
    "outputId": "e335d926-7703-463f-e9ea-a8f81db7dd2e"
   },
   "outputs": [
    {
     "name": "stdout",
     "output_type": "stream",
     "text": [
      "Hello World!\n"
     ]
    }
   ],
   "source": [
    "print(\"Hello World!\")\n",
    "# That's it, believe it or not!\n",
    "# By the way, this is a comment - you can freely type what you want to, \n",
    "# and the compiler will ignore it. Use comments to help readers understand your code, or to put random easter eggs :p"
   ]
  },
  {
   "cell_type": "markdown",
   "metadata": {
    "id": "CgDwz_ZXVHZV"
   },
   "source": [
    "There are two forms of Python - the Shell, and the Editor. The Shell executes statements instantly, while the Editor begins executing statements after you've written them all down and 'run' the program.\n"
   ]
  },
  {
   "cell_type": "markdown",
   "metadata": {
    "id": "kYi-rVOWfxIk"
   },
   "source": [
    "## Contents\n",
    "\n",
    "Today, we'll be going over the following topics:\n",
    "\n",
    "\n",
    "*   Data Types\n",
    "*   Conditional Statements\n",
    "*   Loops\n",
    "*   Operators\n",
    "*   Scope of Variables\n",
    "*   Lists, Tuples and Dictionaries\n",
    "*   Python Libraries\n",
    "\n"
   ]
  },
  {
   "cell_type": "markdown",
   "metadata": {
    "id": "Lt09_4a-gRt0"
   },
   "source": [
    "## Datatypes\n",
    "\n",
    "Varibles are grouped into different data types, with each data type giving a variable different properties. Using them lets us know what is expected from each variable; furthermore, functions (which you will learn about shortly) also react differently to variables based on their data type.\n",
    "\n",
    "The most commonly used data types are int(integers), float(decimal values), strings(characters, words and sentences) and bool(boolean values, i.e. True or False). There are several other data types like 'char' and 'complex', but we'll restrict our discussion to these ones, for now.\n",
    "\n"
   ]
  },
  {
   "cell_type": "code",
   "execution_count": 10,
   "metadata": {
    "ExecuteTime": {
     "end_time": "2021-02-11T16:34:12.471442Z",
     "start_time": "2021-02-11T16:34:12.106807Z"
    },
    "colab": {
     "base_uri": "https://localhost:8080/"
    },
    "id": "UGMM6-1Los7U",
    "outputId": "2e1ad0a2-d3eb-43fa-854d-ead8b899517c"
   },
   "outputs": [
    {
     "name": "stdout",
     "output_type": "stream",
     "text": [
      "5\n",
      "Wallstreet Bets\n",
      "<class 'int'>\n",
      "<class 'str'>\n"
     ]
    }
   ],
   "source": [
    "x = 5\n",
    "name = \"Wallstreet Bets\"\n",
    "\n",
    "print(x)\n",
    "print(name)\n",
    "\n",
    "print(type(x))\n",
    "print(type(name))"
   ]
  },
  {
   "cell_type": "markdown",
   "metadata": {
    "id": "Tv2ZD5YepDie"
   },
   "source": [
    "The example code you just saw showed us something new - Python doesn't require you to declare a varible's data type as most other languages do. Rather, it infers it from the value you the variable."
   ]
  },
  {
   "cell_type": "markdown",
   "metadata": {
    "id": "wRCvlO4Cpdzm"
   },
   "source": [
    "## Conditional Statements\n",
    "\n",
    "Conditional Statements are used for decision-making."
   ]
  },
  {
   "cell_type": "code",
   "execution_count": 11,
   "metadata": {
    "ExecuteTime": {
     "end_time": "2021-02-11T16:34:12.526359Z",
     "start_time": "2021-02-11T16:34:12.473415Z"
    },
    "colab": {
     "base_uri": "https://localhost:8080/"
    },
    "id": "Qt3tH2murO3J",
    "outputId": "254c92d6-d38f-4dc8-a13b-2093f48a7ddd"
   },
   "outputs": [
    {
     "name": "stdout",
     "output_type": "stream",
     "text": [
      "nice\n"
     ]
    }
   ],
   "source": [
    "a = 420\n",
    "if a == 420:\n",
    "  print(\"nice\")\n",
    "else:\n",
    "  print(\"meh\")"
   ]
  },
  {
   "cell_type": "markdown",
   "metadata": {
    "id": "fR1NevmkrpYC"
   },
   "source": [
    "Here we had to make a decision based on the value of a - whether to print 'nice' or not. That is what we use the following keywords for:\n",
    "\n",
    "\n",
    "*   if\n",
    "*   else\n",
    "*   elif\n",
    "\n",
    "These make use of test expressions, logical operations that evaluate to TRUE or FALSE - *if* the expression is true, the part indented below the 'if' expression is executed. Otherwise, it is ignored.\n",
    "\n",
    "The use of 'else' and 'elif' can be somewhat intuitively understood by the following code.\n",
    "\n"
   ]
  },
  {
   "cell_type": "code",
   "execution_count": 12,
   "metadata": {
    "ExecuteTime": {
     "end_time": "2021-02-11T16:34:12.580431Z",
     "start_time": "2021-02-11T16:34:12.528691Z"
    },
    "colab": {
     "base_uri": "https://localhost:8080/"
    },
    "id": "rYFcNu_7skg3",
    "outputId": "cc3b77da-9969-4439-ee0b-83749db2e694"
   },
   "outputs": [
    {
     "name": "stdout",
     "output_type": "stream",
     "text": [
      "niiiiiice\n"
     ]
    }
   ],
   "source": [
    "b = 69\n",
    "if b == 420:\n",
    "  print('nice')\n",
    "elif b == 69:\n",
    "  print('niiiiiice')\n",
    "else:\n",
    "  print('lame')"
   ]
  },
  {
   "cell_type": "markdown",
   "metadata": {
    "id": "yxmh6_DKs_0y"
   },
   "source": [
    "## Loops\n",
    "Let's look at two programs with the same output:\n",
    "\n",
    "\n"
   ]
  },
  {
   "cell_type": "code",
   "execution_count": 13,
   "metadata": {
    "ExecuteTime": {
     "end_time": "2021-02-11T16:34:12.642034Z",
     "start_time": "2021-02-11T16:34:12.586148Z"
    },
    "colab": {
     "base_uri": "https://localhost:8080/"
    },
    "id": "r4vqxmA4wv1J",
    "outputId": "23a8802e-fb3f-4a7b-df5d-3f5c06eba156"
   },
   "outputs": [
    {
     "name": "stdout",
     "output_type": "stream",
     "text": [
      "Hello!\n",
      "Hello!\n",
      "Hello!\n",
      "Hello!\n",
      "Hello!\n"
     ]
    }
   ],
   "source": [
    "print(\"Hello!\")\n",
    "print(\"Hello!\")\n",
    "print(\"Hello!\")\n",
    "print(\"Hello!\")\n",
    "print(\"Hello!\")"
   ]
  },
  {
   "cell_type": "code",
   "execution_count": 14,
   "metadata": {
    "ExecuteTime": {
     "end_time": "2021-02-11T16:34:12.695736Z",
     "start_time": "2021-02-11T16:34:12.646608Z"
    },
    "colab": {
     "base_uri": "https://localhost:8080/"
    },
    "id": "c11KUDuMxN9q",
    "outputId": "0624c0eb-ad12-4700-84fd-4bec1a4daa25"
   },
   "outputs": [
    {
     "name": "stdout",
     "output_type": "stream",
     "text": [
      "Hello!\n",
      "Hello!\n",
      "Hello!\n",
      "Hello!\n",
      "Hello!\n"
     ]
    }
   ],
   "source": [
    "t = 0\n",
    "while(t < 5):\n",
    "    print(\"Hello!\")\n",
    "    t = t + 1"
   ]
  },
  {
   "cell_type": "markdown",
   "metadata": {
    "id": "NgLRIhSUxaRZ"
   },
   "source": [
    "Which of those two programs seemed more efficient? Furthermore, the first method would be impractical for tasks that need to be repeated thousands of times, as is the case in modern times. \n",
    "\n",
    "There are two kinds of loops - bounded and unbounded loops.\n",
    "\n",
    "Bounded loops - We  specify the exact number of iterations\n",
    "\n",
    "Unbounded loops - We don't\n",
    "\n",
    "An *iteration* is what you call each repeating step in a loop.\n",
    "\n",
    "### While loop\n",
    "\n",
    "The while loop is an unbounded loop with the following form:"
   ]
  },
  {
   "cell_type": "code",
   "execution_count": 15,
   "metadata": {
    "ExecuteTime": {
     "end_time": "2021-02-11T16:34:12.747922Z",
     "start_time": "2021-02-11T16:34:12.697365Z"
    },
    "id": "QUVvvaq8yOzt"
   },
   "outputs": [
    {
     "name": "stdout",
     "output_type": "stream",
     "text": [
      "0\n",
      "1\n",
      "2\n",
      "3\n",
      "4\n",
      "5\n",
      "6\n",
      "7\n",
      "8\n",
      "9\n"
     ]
    }
   ],
   "source": [
    "i = 0\n",
    "while(i<10):\n",
    " print(i)\n",
    " i = i + 1"
   ]
  },
  {
   "cell_type": "markdown",
   "metadata": {
    "id": "VLeQ-XeAyVUG"
   },
   "source": [
    "As you can see, we did not specify the number of iterations.\n",
    "\n",
    "Loops make use of a test expression as well - they check the expression before each iteration, and execute said iteration only if the test expression evaluates to \"TRUE\"\n",
    "\n",
    "### For Loop\n",
    "\n",
    "We also have the *for* loop, where we do have to specify the number of iterations. Let's look at some example code:"
   ]
  },
  {
   "cell_type": "code",
   "execution_count": 16,
   "metadata": {
    "ExecuteTime": {
     "end_time": "2021-02-11T16:34:12.801200Z",
     "start_time": "2021-02-11T16:34:12.750000Z"
    },
    "colab": {
     "base_uri": "https://localhost:8080/"
    },
    "id": "s2iJWRJk69J5",
    "outputId": "8064c4c0-a9a2-4349-93ba-73d79e5419ce"
   },
   "outputs": [
    {
     "name": "stdout",
     "output_type": "stream",
     "text": [
      "0\n",
      "1\n",
      "2\n",
      "3\n",
      "4\n"
     ]
    }
   ],
   "source": [
    "for i in range(0,5,1):\n",
    "\tprint(i)\n"
   ]
  },
  {
   "cell_type": "markdown",
   "metadata": {
    "id": "en1WEIPWd1lH"
   },
   "source": [
    "## Nested Loops\n",
    "\n",
    "Loops within loops"
   ]
  },
  {
   "cell_type": "code",
   "execution_count": 17,
   "metadata": {
    "ExecuteTime": {
     "end_time": "2021-02-11T16:34:12.857548Z",
     "start_time": "2021-02-11T16:34:12.810561Z"
    },
    "colab": {
     "base_uri": "https://localhost:8080/"
    },
    "id": "T3WpF5taQDDU",
    "outputId": "56aa62d8-024f-4591-9f37-ef7e8d1f7534"
   },
   "outputs": [
    {
     "name": "stdout",
     "output_type": "stream",
     "text": [
      "1\n",
      "12\n",
      "123\n",
      "1234\n"
     ]
    }
   ],
   "source": [
    "x = 4\n",
    "for i in range(1, x + 1):\n",
    "  for j in range(1, i + 1):\n",
    "    print(j, end = '')\n",
    "  print('')"
   ]
  },
  {
   "cell_type": "markdown",
   "metadata": {
    "id": "ojNbEV08gXNn"
   },
   "source": [
    "## Fibonacci Sequence Example\n",
    "\n",
    "A fibonoacci series is a sequence with the first two elements always defined as 0, then 1, and every element after that equal to the sum of the two elements before it i.e. for n > 2, the n<sup>th</sup> element = (n-1)<sup>th</sup> element + (n-2)<sup>th</sup> element\n",
    "\n",
    "0, 1, 1, 2, 3, 5, 8 ... , (n-1)<sup>th</sup> + (n-2)<sup>th</sup>"
   ]
  },
  {
   "cell_type": "code",
   "execution_count": 18,
   "metadata": {
    "ExecuteTime": {
     "end_time": "2021-02-11T16:34:22.185444Z",
     "start_time": "2021-02-11T16:34:12.859462Z"
    },
    "colab": {
     "base_uri": "https://localhost:8080/"
    },
    "id": "yWjO9U-0SzXj",
    "outputId": "66dc5814-5473-4847-83fe-e8f967421bad"
   },
   "outputs": [
    {
     "name": "stdout",
     "output_type": "stream",
     "text": [
      "Enter Sequence Length: 10\n",
      "Sum is:  34\n"
     ]
    }
   ],
   "source": [
    "#code along with us!\n",
    "x = int(input(\"Enter Sequence Length: \"))\n",
    "\n",
    "#Defining the first 2 numbers of the sequence\n",
    "a = 0\n",
    "b = 1\n",
    "\n",
    "if (x <= 0):\n",
    "    print(\"Please re-enter the sequence length\")\n",
    "elif x == 1:\n",
    "    print(\"Sum is: \", a)\n",
    "else:\n",
    "    for i in range(x-2):\n",
    "        a, b = b, a+b\n",
    "    print(\"Sum is: \", b)"
   ]
  },
  {
   "cell_type": "markdown",
   "metadata": {
    "id": "4AjgJNPhCwFA"
   },
   "source": [
    "## Operators\n",
    "Operators perfom processes on variables and constants. The different kinds of operators can be understood through examples.\n",
    "\n",
    "### Arithmetic Operators\n",
    "\n",
    "\n",
    "1. Addition (+)\n",
    "2. Subtraction (-)\n",
    "3. Multiplication (*)\n",
    "4. Division (/)\n",
    "5. Modulus(%)\n",
    "6. Exponent(**)\n",
    "\n"
   ]
  },
  {
   "cell_type": "code",
   "execution_count": 19,
   "metadata": {
    "ExecuteTime": {
     "end_time": "2021-02-11T16:34:22.201982Z",
     "start_time": "2021-02-11T16:34:22.190819Z"
    },
    "colab": {
     "base_uri": "https://localhost:8080/"
    },
    "id": "tSkILN2FDhrC",
    "outputId": "8a54a534-2c23-4296-afe7-5d2abfaa8574"
   },
   "outputs": [
    {
     "name": "stdout",
     "output_type": "stream",
     "text": [
      "11\n",
      "4\n",
      "20\n",
      "2.0\n",
      "5\n",
      "25\n"
     ]
    }
   ],
   "source": [
    "a = 5\n",
    "b = 6\n",
    "#operations in order\n",
    "print(a+b)\n",
    "print(b-2)\n",
    "print(a*4)\n",
    "print(b/3)\n",
    "print(a%b)\n",
    "print(a**2 )\n"
   ]
  },
  {
   "cell_type": "markdown",
   "metadata": {
    "id": "qOn_PEWPDqgB"
   },
   "source": [
    "### Comparison Operators\n",
    "\n",
    "\n",
    "1.    Check equality (== )\n",
    "2.    Check inequality(!= or <>)\n",
    "3.    Greater than (>)\n",
    "4.    Less than(<)\n",
    "5.    Greater than or equal to (>=)\n",
    "6.    Less than or equal to (<=)\n",
    "\n",
    "\n"
   ]
  },
  {
   "cell_type": "code",
   "execution_count": 20,
   "metadata": {
    "ExecuteTime": {
     "end_time": "2021-02-11T16:34:22.686733Z",
     "start_time": "2021-02-11T16:34:22.208227Z"
    },
    "colab": {
     "base_uri": "https://localhost:8080/"
    },
    "id": "mhRC0bPOEYno",
    "outputId": "d2498aa6-ab26-4fea-b5d0-08b60d68ba0d"
   },
   "outputs": [
    {
     "name": "stdout",
     "output_type": "stream",
     "text": [
      "False\n",
      "True\n",
      "True\n",
      "False\n",
      "False\n",
      "False\n"
     ]
    }
   ],
   "source": [
    "a = 5\n",
    "b = 6\n",
    "#operations in order\n",
    "print(a==b)\n",
    "print(b!=2)\n",
    "print(a>4)\n",
    "print(b<3)\n",
    "print(a>=b)\n",
    "print(a<=2)"
   ]
  },
  {
   "cell_type": "markdown",
   "metadata": {
    "id": "KSeM7cmOEfFq"
   },
   "source": [
    "### Logical Operators\n",
    "\n",
    "\n",
    "\n",
    "1.  and\n",
    "2.  or\n",
    "3.  not\n",
    "\n"
   ]
  },
  {
   "cell_type": "code",
   "execution_count": 21,
   "metadata": {
    "ExecuteTime": {
     "end_time": "2021-02-11T16:34:22.745094Z",
     "start_time": "2021-02-11T16:34:22.693017Z"
    },
    "colab": {
     "base_uri": "https://localhost:8080/"
    },
    "id": "cfbb9e-CEo00",
    "outputId": "bf7411bf-69e5-42db-9841-7d7bdb40eb33"
   },
   "outputs": [
    {
     "name": "stdout",
     "output_type": "stream",
     "text": [
      "some other thing\n",
      "b is not equal to 9\n"
     ]
    }
   ],
   "source": [
    "a = 5\n",
    "b = 6\n",
    "if(a==b and b>5):\n",
    " print(\"something\")\n",
    "\n",
    "if(a==5 or b==2):\n",
    " print(\"some other thing\")\n",
    "\n",
    "if(not b==9):\n",
    " print(\"b is not equal to 9\")"
   ]
  },
  {
   "cell_type": "markdown",
   "metadata": {
    "id": "CcPb8jUeN2hs"
   },
   "source": [
    "## Example Problem: Adding Reversed Numbers\n",
    "\n",
    "Based on the SPOJ.com problem: https://www.spoj.com/problems/ADDREV/\n",
    "\n",
    "Given two integers, reverse their digits and add them."
   ]
  },
  {
   "cell_type": "code",
   "execution_count": 22,
   "metadata": {
    "ExecuteTime": {
     "end_time": "2021-02-11T16:34:25.526388Z",
     "start_time": "2021-02-11T16:34:22.751261Z"
    },
    "id": "S6_wNTeNN6s3"
   },
   "outputs": [
    {
     "name": "stdout",
     "output_type": "stream",
     "text": [
      "Enter the numbers separated by a space: 24 1\n",
      "43\n"
     ]
    }
   ],
   "source": [
    "#enter your code here\n",
    "txt = input(\"Enter the numbers separated by a space: \")   #Takes in any input as a string\n",
    "x, y = txt.split(' ')          # The split function splits any string according to the delimiter given\n",
    "\n",
    "#Now since x and y are still strings, lets use string operations to reverse the number!!\n",
    "\n",
    "def strrev(string):\n",
    "    reversedString = ''\n",
    "    index = len(string) # calculate length of string and save in index\n",
    "    while index > 0: \n",
    "        reversedString += string[ index - 1 ] # save the value of str[index-1] in reverseString\n",
    "        index = index - 1 # decrement index\n",
    "    return reversedString\n",
    "y_reversed = int(strrev(y))\n",
    "x_reversed = int(strrev(x))\n",
    "print(x_reversed + y_reversed)"
   ]
  },
  {
   "cell_type": "markdown",
   "metadata": {
    "id": "CS60e1NYSsPF"
   },
   "source": [
    "## Lists\n",
    "\n",
    "A list is a collections of entries that is ordered and can be changed. They also allow duplicate entries. Entries of a list don't need to be of the same datatype. Look at some of the examples given below"
   ]
  },
  {
   "cell_type": "code",
   "execution_count": 23,
   "metadata": {
    "ExecuteTime": {
     "end_time": "2021-02-11T16:34:25.540203Z",
     "start_time": "2021-02-11T16:34:25.532658Z"
    },
    "colab": {
     "base_uri": "https://localhost:8080/"
    },
    "id": "4wiQa7F2UHlW",
    "outputId": "6e312cef-149f-4d5a-c68d-3d977869e70c"
   },
   "outputs": [
    {
     "name": "stdout",
     "output_type": "stream",
     "text": [
      "['Hello', 2, True, 'The End']\n"
     ]
    }
   ],
   "source": [
    "a = ['Hello', 2, True, 'The End']\n",
    "print(a)"
   ]
  },
  {
   "cell_type": "markdown",
   "metadata": {
    "id": "dRs1GBq7Ugy7"
   },
   "source": [
    "You can access individual members of the list too!!\n",
    "\n",
    "Remember that the indexing starts from 0\n"
   ]
  },
  {
   "cell_type": "code",
   "execution_count": 24,
   "metadata": {
    "ExecuteTime": {
     "end_time": "2021-02-11T16:34:25.597910Z",
     "start_time": "2021-02-11T16:34:25.546628Z"
    },
    "colab": {
     "base_uri": "https://localhost:8080/"
    },
    "id": "axYsVW_rUcGJ",
    "outputId": "56e7831b-b4a1-4d5f-89ef-92fccaa62be8"
   },
   "outputs": [
    {
     "name": "stdout",
     "output_type": "stream",
     "text": [
      "Hello True\n"
     ]
    }
   ],
   "source": [
    "print(a[0], a[2])"
   ]
  },
  {
   "cell_type": "markdown",
   "metadata": {
    "id": "xK8i9lQxX3A8"
   },
   "source": [
    "You can find out about the length of a list using the len function"
   ]
  },
  {
   "cell_type": "code",
   "execution_count": 25,
   "metadata": {
    "ExecuteTime": {
     "end_time": "2021-02-11T16:34:26.867147Z",
     "start_time": "2021-02-11T16:34:25.603861Z"
    },
    "colab": {
     "base_uri": "https://localhost:8080/"
    },
    "id": "a3LOpfp1X7B0",
    "outputId": "7eb96daf-cc23-4f51-d135-aa4babb0ae15"
   },
   "outputs": [
    {
     "name": "stdout",
     "output_type": "stream",
     "text": [
      "4\n"
     ]
    }
   ],
   "source": [
    "print(len(a))"
   ]
  },
  {
   "cell_type": "markdown",
   "metadata": {
    "id": "SZGJrWIzU4lj"
   },
   "source": [
    "You learnt about for loops earlier right? Let's use that to make a slightly bigger list using the append function"
   ]
  },
  {
   "cell_type": "code",
   "execution_count": 26,
   "metadata": {
    "ExecuteTime": {
     "end_time": "2021-02-11T16:34:26.926216Z",
     "start_time": "2021-02-11T16:34:26.873351Z"
    },
    "colab": {
     "base_uri": "https://localhost:8080/"
    },
    "id": "IzH-z3MpU1WE",
    "outputId": "1f8d5538-f04d-4c9c-90d9-76819b6e0d57"
   },
   "outputs": [
    {
     "name": "stdout",
     "output_type": "stream",
     "text": [
      "[0, 1, 2, 3, 4, 5, 6, 7, 8, 9]\n"
     ]
    }
   ],
   "source": [
    "b = []                    #Declare an empty list to which we will add elements\n",
    "\n",
    "for num in range(10):\n",
    "  b.append(num)           # It's that simple!!!!\n",
    "\n",
    "print(b)"
   ]
  },
  {
   "cell_type": "code",
   "execution_count": 27,
   "metadata": {
    "ExecuteTime": {
     "end_time": "2021-02-11T16:34:26.978731Z",
     "start_time": "2021-02-11T16:34:26.931882Z"
    },
    "id": "5RgELBVUanRW"
   },
   "outputs": [],
   "source": [
    "# Code along with us\n",
    "# Let us make a list called big_numbers and append all 4 digit numbers to the list\n",
    "big_numbers = []\n",
    "\n",
    "for num in range(1000, 10000):\n",
    "    big_numbers.append(num)"
   ]
  },
  {
   "cell_type": "markdown",
   "metadata": {
    "id": "gwWIg0dzVcy_"
   },
   "source": [
    "Now let's take a scenario, where you made the list b and you've been asked to extract the second till the seventh element. Will you go through typing b[1], b[2], b[3] and so on? What if we take list big_numbers and you were required to extract 500 of those entries? Too much of a pain? Well worry not! Python allows for a simpler way to extract these elements"
   ]
  },
  {
   "cell_type": "code",
   "execution_count": 28,
   "metadata": {
    "ExecuteTime": {
     "end_time": "2021-02-11T16:34:27.033169Z",
     "start_time": "2021-02-11T16:34:26.983914Z"
    },
    "colab": {
     "base_uri": "https://localhost:8080/"
    },
    "id": "n-fQVTzsVZC7",
    "outputId": "1364c5d2-a026-4907-9ee0-3d7ad2891bc3"
   },
   "outputs": [
    {
     "name": "stdout",
     "output_type": "stream",
     "text": [
      "[1, 2, 3, 4, 5, 6]\n"
     ]
    }
   ],
   "source": [
    "print( b[1:7] )   # Yes that's right, you can slice these elements in this manner. [start_index : end_index + 1]"
   ]
  },
  {
   "cell_type": "code",
   "execution_count": 29,
   "metadata": {
    "ExecuteTime": {
     "end_time": "2021-02-11T16:34:27.083977Z",
     "start_time": "2021-02-11T16:34:27.035040Z"
    },
    "colab": {
     "base_uri": "https://localhost:8080/"
    },
    "id": "mld8GmWqWYr_",
    "outputId": "ed3464a7-6697-49a2-fa3d-17676d77d662"
   },
   "outputs": [
    {
     "name": "stdout",
     "output_type": "stream",
     "text": [
      "[1, 2, 3, 4, 5, 6, 7, 8, 9]\n"
     ]
    }
   ],
   "source": [
    "# You can also extract all the elements till the end in the following way\n",
    "print( b[1:] )"
   ]
  },
  {
   "cell_type": "markdown",
   "metadata": {
    "id": "Qvpyf964WlTf"
   },
   "source": [
    "Did you know that python allows you to extract negative indices too? You might be thinking about how that works right? Well whenever we provide python a negative index we essentially ask it to start at the end of the list and go backwards while indexing"
   ]
  },
  {
   "cell_type": "code",
   "execution_count": 30,
   "metadata": {
    "ExecuteTime": {
     "end_time": "2021-02-11T16:34:27.137494Z",
     "start_time": "2021-02-11T16:34:27.086002Z"
    },
    "colab": {
     "base_uri": "https://localhost:8080/"
    },
    "id": "19Bxunc7Wjkg",
    "outputId": "274fb69e-94f3-47b6-a203-2b91c15e5fcd"
   },
   "outputs": [
    {
     "name": "stdout",
     "output_type": "stream",
     "text": [
      "9\n"
     ]
    }
   ],
   "source": [
    "print( b[-1] ) # SPOILER ALERT: It will print the last element!"
   ]
  },
  {
   "cell_type": "code",
   "execution_count": 31,
   "metadata": {
    "ExecuteTime": {
     "end_time": "2021-02-11T16:34:27.197967Z",
     "start_time": "2021-02-11T16:34:27.142254Z"
    },
    "colab": {
     "base_uri": "https://localhost:8080/"
    },
    "id": "2924B0eVW5-D",
    "outputId": "1c1335de-83de-40b4-cd44-9d3f8f14b1d7"
   },
   "outputs": [
    {
     "name": "stdout",
     "output_type": "stream",
     "text": [
      "[6, 7]\n"
     ]
    }
   ],
   "source": [
    "print( b[-4: -2])"
   ]
  },
  {
   "cell_type": "markdown",
   "metadata": {
    "id": "gQrkNqTmXPiM"
   },
   "source": [
    "Now what do we do if we want to increment all the elements of b by 2 and store it in a new list c? You'll most probably think of something like this"
   ]
  },
  {
   "cell_type": "code",
   "execution_count": 32,
   "metadata": {
    "ExecuteTime": {
     "end_time": "2021-02-11T16:34:27.253922Z",
     "start_time": "2021-02-11T16:34:27.211215Z"
    },
    "colab": {
     "base_uri": "https://localhost:8080/"
    },
    "id": "8xogBguCXEGQ",
    "outputId": "6d2321ad-9498-4b26-eb87-61de5de39524"
   },
   "outputs": [
    {
     "name": "stdout",
     "output_type": "stream",
     "text": [
      "[2, 3, 4, 5, 6, 7, 8, 9, 10, 11]\n"
     ]
    }
   ],
   "source": [
    "c = []\n",
    "\n",
    "for i in range(len(b)):\n",
    "  c.append(2 + b[i])\n",
    "\n",
    "print(c)"
   ]
  },
  {
   "cell_type": "markdown",
   "metadata": {
    "id": "HtMCU2kxYMbR"
   },
   "source": [
    "While in theory this is essentially what is happening, there is another way which is much smaller which python allows for. It's called List Comperehension. Look at the following example"
   ]
  },
  {
   "cell_type": "code",
   "execution_count": 33,
   "metadata": {
    "ExecuteTime": {
     "end_time": "2021-02-11T16:34:27.304538Z",
     "start_time": "2021-02-11T16:34:27.257181Z"
    },
    "colab": {
     "base_uri": "https://localhost:8080/"
    },
    "id": "Qnb6vKZkXXgV",
    "outputId": "6c748fed-9ccd-41cb-c004-acb0d16b4e77"
   },
   "outputs": [
    {
     "name": "stdout",
     "output_type": "stream",
     "text": [
      "[2, 3, 4, 5, 6, 7, 8, 9, 10, 11]\n"
     ]
    }
   ],
   "source": [
    "c = [x+2 for x in b]\n",
    "\n",
    "print(c)"
   ]
  },
  {
   "cell_type": "markdown",
   "metadata": {
    "id": "9rXTpR2EYsV6"
   },
   "source": [
    "As you can see we've got the same results!!\n",
    "\n",
    "Let's try out an example"
   ]
  },
  {
   "cell_type": "code",
   "execution_count": 39,
   "metadata": {
    "ExecuteTime": {
     "end_time": "2021-02-11T16:35:07.544517Z",
     "start_time": "2021-02-11T16:35:07.535252Z"
    },
    "id": "mJjRbWWTZ6Ec"
   },
   "outputs": [
    {
     "data": {
      "text/plain": [
       "[42, 8, 9, 10, 11]"
      ]
     },
     "execution_count": 39,
     "metadata": {},
     "output_type": "execute_result"
    }
   ],
   "source": [
    "# Code along with us!!\n",
    "# Let us make a new list d whose entries are those entries in c which are greater than 6\n",
    "\n",
    "d = [x for x in c if x>6]\n",
    "d"
   ]
  },
  {
   "cell_type": "markdown",
   "metadata": {
    "id": "32qEoBnaZyXj"
   },
   "source": [
    "Well what do we do if we want to change the 3rd element of the list c to the number 42?"
   ]
  },
  {
   "cell_type": "code",
   "execution_count": 35,
   "metadata": {
    "ExecuteTime": {
     "end_time": "2021-02-11T16:34:40.876947Z",
     "start_time": "2021-02-11T16:34:40.869628Z"
    },
    "colab": {
     "base_uri": "https://localhost:8080/"
    },
    "id": "G0dUISuaYgJn",
    "outputId": "8e621f9e-488b-475d-b3a9-f56ce98e87b4"
   },
   "outputs": [
    {
     "name": "stdout",
     "output_type": "stream",
     "text": [
      "[2, 3, 42, 5, 6, 7, 8, 9, 10, 11]\n"
     ]
    }
   ],
   "source": [
    "# We simply do\n",
    "c[2] = 42\n",
    "\n",
    "print(c)"
   ]
  },
  {
   "cell_type": "markdown",
   "metadata": {
    "id": "gxYNfrUnZLVS"
   },
   "source": [
    "As you can see the third element of the list has changed\n",
    "\n",
    "Let us try removing one element from somewhere in between. Let's remove 7 from the list c"
   ]
  },
  {
   "cell_type": "code",
   "execution_count": 36,
   "metadata": {
    "ExecuteTime": {
     "end_time": "2021-02-11T16:34:41.626381Z",
     "start_time": "2021-02-11T16:34:41.618658Z"
    },
    "colab": {
     "base_uri": "https://localhost:8080/"
    },
    "id": "fIPI9YHoZJfX",
    "outputId": "df633d85-3fb9-4cea-c709-0c97695a6af1"
   },
   "outputs": [
    {
     "name": "stdout",
     "output_type": "stream",
     "text": [
      "[2, 3, 42, 5, 6, 8, 9, 10, 11]\n"
     ]
    }
   ],
   "source": [
    "c.remove(7)\n",
    "\n",
    "print(c)"
   ]
  },
  {
   "cell_type": "markdown",
   "metadata": {
    "id": "u4y75yWabPuC"
   },
   "source": [
    "## Tuples\n",
    "A tuple is a collection of entries which are ordered in the same way as lists but cannot be changed.\n",
    "\n",
    "All the regular list operations apply to tuples except for those which attempt to change it's own value"
   ]
  },
  {
   "cell_type": "code",
   "execution_count": 37,
   "metadata": {
    "ExecuteTime": {
     "end_time": "2021-02-11T16:34:43.465382Z",
     "start_time": "2021-02-11T16:34:43.457882Z"
    },
    "colab": {
     "base_uri": "https://localhost:8080/"
    },
    "id": "URkdzxTrZhaK",
    "outputId": "8bc97d93-50bd-4910-f7be-1919defd7360"
   },
   "outputs": [
    {
     "name": "stdout",
     "output_type": "stream",
     "text": [
      "(1, 2, 3, 4, 5, 6)\n"
     ]
    }
   ],
   "source": [
    "# Let us define a tuple\n",
    "\n",
    "tup_a = (1,2,3,4,5,6)\n",
    "\n",
    "print(tup_a)"
   ]
  },
  {
   "cell_type": "markdown",
   "metadata": {
    "id": "1F1xXCSLcI4J"
   },
   "source": [
    "Let us try changing the entry of a tuple and see what happens"
   ]
  },
  {
   "cell_type": "code",
   "execution_count": 38,
   "metadata": {
    "ExecuteTime": {
     "end_time": "2021-02-11T16:34:46.128981Z",
     "start_time": "2021-02-11T16:34:46.121487Z"
    },
    "colab": {
     "base_uri": "https://localhost:8080/",
     "height": 162
    },
    "id": "S2gWKYTYbshj",
    "outputId": "a67ec213-6c75-4fa6-c759-ceee698f9cac"
   },
   "outputs": [
    {
     "ename": "TypeError",
     "evalue": "'tuple' object does not support item assignment",
     "output_type": "error",
     "traceback": [
      "\u001b[0;31m---------------------------------------------------------------------------\u001b[0m",
      "\u001b[0;31mTypeError\u001b[0m                                 Traceback (most recent call last)",
      "\u001b[0;32m<ipython-input-38-6b822e1b98b1>\u001b[0m in \u001b[0;36m<module>\u001b[0;34m\u001b[0m\n\u001b[0;32m----> 1\u001b[0;31m \u001b[0mtup_a\u001b[0m\u001b[0;34m[\u001b[0m\u001b[0;36m2\u001b[0m\u001b[0;34m]\u001b[0m \u001b[0;34m=\u001b[0m \u001b[0;36m42\u001b[0m\u001b[0;34m\u001b[0m\u001b[0;34m\u001b[0m\u001b[0m\n\u001b[0m",
      "\u001b[0;31mTypeError\u001b[0m: 'tuple' object does not support item assignment"
     ]
    }
   ],
   "source": [
    "tup_a[2] = 42"
   ]
  },
  {
   "cell_type": "markdown",
   "metadata": {
    "id": "ZgdfAOoJcSEk"
   },
   "source": [
    "Oh no, it errored out :(\n",
    "  \n",
    "But this was expected right?"
   ]
  },
  {
   "cell_type": "code",
   "execution_count": 40,
   "metadata": {
    "ExecuteTime": {
     "end_time": "2021-02-11T16:35:50.043490Z",
     "start_time": "2021-02-11T16:35:50.034462Z"
    },
    "id": "P1aZw2WXcQs2"
   },
   "outputs": [
    {
     "name": "stdout",
     "output_type": "stream",
     "text": [
      "[6, 8, 10]\n",
      "(3, 4, 5)\n"
     ]
    }
   ],
   "source": [
    "# Code along with us\n",
    "# Make a new list e which has double the values of tuple a and select the 3rd till 5th element (both inclusive) of both list b and tuple tup_a to compare\n",
    "\n",
    "e = [2*x for x in tup_a]\n",
    "\n",
    "print(e[2:5])\n",
    "print(tup_a[2:5])"
   ]
  },
  {
   "cell_type": "markdown",
   "metadata": {
    "id": "4K_M7yPdrnrL"
   },
   "source": [
    "## Sets\n",
    "A collection of items that is both unordered and unindexed and doesn't allow duplicate values is called a set. Its main usage is to store multiple items in a single variable.\n"
   ]
  },
  {
   "cell_type": "code",
   "execution_count": null,
   "metadata": {
    "colab": {
     "base_uri": "https://localhost:8080/"
    },
    "id": "xTUCNWINsMWx",
    "outputId": "46c3b64e-435c-4265-ffda-d3db933fa4ef"
   },
   "outputs": [
    {
     "name": "stdout",
     "output_type": "stream",
     "text": [
      "{'apple', 'cherry', 'banana'}\n",
      "{'apple', 'cherry', 'banana'}\n"
     ]
    }
   ],
   "source": [
    "thisset = {\"apple\", \"banana\", \"cherry\"}\n",
    "print(thisset) \n",
    "\n",
    "#Another way to define it\n",
    "thisset = set([\"apple\", \"banana\", \"cherry\"])\n",
    "print(thisset)"
   ]
  },
  {
   "cell_type": "markdown",
   "metadata": {
    "id": "ifOGk8mVse6x"
   },
   "source": [
    "Well now that we know how to define a set let's go ahead and see some set operations"
   ]
  },
  {
   "cell_type": "code",
   "execution_count": null,
   "metadata": {
    "colab": {
     "base_uri": "https://localhost:8080/"
    },
    "id": "TX9ZyfoKsnvV",
    "outputId": "c7921ca3-f6a7-4707-d1df-f7aac3da76db"
   },
   "outputs": [
    {
     "name": "stdout",
     "output_type": "stream",
     "text": [
      "{1, 2, 3, 4, 5, 6, 7} {1, 2, 3, 4, 5}\n",
      "{1, 2, 3, 4, 5}\n",
      "{1, 2, 3, 4, 5, 6, 7}\n"
     ]
    }
   ],
   "source": [
    "one=set([4,5,6,7,1,2,3]) \n",
    "two=set([4,5,3,2,1,2]) \n",
    " \n",
    "print(\"The sets: \", one, two)\n",
    "print (\"Intersection: \",one & two) \n",
    "print (\"Union: \",one | two) \n",
    "print(\"Difference: \",one - two)"
   ]
  },
  {
   "cell_type": "markdown",
   "metadata": {
    "id": "m0UoxWLguXuI"
   },
   "source": [
    "As you can see with set two, the value which was repeated has got deleted while creating the set"
   ]
  },
  {
   "cell_type": "markdown",
   "metadata": {
    "id": "vS5HsK0RdTfR"
   },
   "source": [
    "# Dictionaries\n",
    "\n",
    "A dictionary is a collection of key value pairs which is ordered, changable and does not allow duplicate members. \n",
    "\n",
    "Too much terminology which doesn't make sense?\n",
    "\n",
    "Don't worry about it! Let's consider an analogy. \n",
    "\n",
    "What do you do when you save your close friend Manish's phone number on your phone? You type in their name followed by their phone number so that when they call you, you don't just see 10 digits staring at your face but instead see your friend's name. Well while saving that friend's number you have essentially created a dictionary!!!!\n",
    "\n",
    "You have used the friend's name as the key and his/her phone number as the value in the key value pair of the dictionary"
   ]
  },
  {
   "cell_type": "code",
   "execution_count": null,
   "metadata": {
    "colab": {
     "base_uri": "https://localhost:8080/"
    },
    "id": "1w3OBj3qclkS",
    "outputId": "5300a6a9-56a5-48f7-9067-845f94d0087e"
   },
   "outputs": [
    {
     "name": "stdout",
     "output_type": "stream",
     "text": [
      "{'Manish': 9937593721}\n"
     ]
    }
   ],
   "source": [
    "phone_num = {'Manish': 9937593721}  # This is just a random number I typed which starts with 9 please don't call this number, I don't even know if it's valid.\n",
    "\n",
    "print(phone_num)"
   ]
  },
  {
   "cell_type": "markdown",
   "metadata": {
    "id": "phbwHsM2e4vG"
   },
   "source": [
    "You go on and meet another friend of yours whose name is Harish. He gives you his number so once again you save this number"
   ]
  },
  {
   "cell_type": "code",
   "execution_count": null,
   "metadata": {
    "colab": {
     "base_uri": "https://localhost:8080/"
    },
    "id": "pYXwIccXejoA",
    "outputId": "8390ddf0-6ff9-429e-ed66-b0be0ba1df21"
   },
   "outputs": [
    {
     "name": "stdout",
     "output_type": "stream",
     "text": [
      "{'Manish': 9937593721, 'Harish': 9203848363}\n"
     ]
    }
   ],
   "source": [
    "phone_num['Harish'] = 9203848363  # You can make a new entry by mentioning the key and the value as shown\n",
    "\n",
    "print(phone_num)"
   ]
  },
  {
   "cell_type": "markdown",
   "metadata": {
    "id": "4yzuSfxofYu0"
   },
   "source": [
    "While you were talking to Harish, somewhere in the conversation Harish tells you that very recently he had switched his phone and he lost all his contacts. He asks you to give him Manish's number as they too are good friends. But wait none of us actually remember all our friends numbers do we? :P\n",
    "\n",
    "Well the dictionary you created can be used for this purpose!"
   ]
  },
  {
   "cell_type": "code",
   "execution_count": null,
   "metadata": {
    "colab": {
     "base_uri": "https://localhost:8080/"
    },
    "id": "bjcR9K5CfXiY",
    "outputId": "d4d768ad-c5ea-4d00-8e83-67cf2abcd842"
   },
   "outputs": [
    {
     "name": "stdout",
     "output_type": "stream",
     "text": [
      "9937593721\n"
     ]
    }
   ],
   "source": [
    "print( phone_num['Manish'] )"
   ]
  },
  {
   "cell_type": "markdown",
   "metadata": {
    "id": "gBrdOk2AgHDB"
   },
   "source": [
    "While you're talking Harish who is a little absent minded suddenly remembers that he gave you his old phone number by mistake and now wants you to save his new number. Well how do we do that with dictionaries?"
   ]
  },
  {
   "cell_type": "code",
   "execution_count": null,
   "metadata": {
    "colab": {
     "base_uri": "https://localhost:8080/"
    },
    "id": "ZE_dJ1fmf8sS",
    "outputId": "69b5d796-b549-4b29-8639-9b8ef82409ba"
   },
   "outputs": [
    {
     "name": "stdout",
     "output_type": "stream",
     "text": [
      "{'Manish': 9937593721, 'Harish': 9694038272}\n"
     ]
    }
   ],
   "source": [
    "phone_num['Harish'] = 9694038272   # It's that simple!\n",
    "\n",
    "print(phone_num)"
   ]
  },
  {
   "cell_type": "markdown",
   "metadata": {
    "id": "2JIRnXORgqaj"
   },
   "source": [
    "And while he's at it, he asks you to also save his email ID just in case something goes wrong. Well you might be thinking how do we do that? \n",
    "\n",
    "Did you know that python also allows us to make a dictionary inside a dictionary?"
   ]
  },
  {
   "cell_type": "code",
   "execution_count": null,
   "metadata": {
    "colab": {
     "base_uri": "https://localhost:8080/"
    },
    "id": "s8fth1AQgd2V",
    "outputId": "d31c228a-87f4-4015-8ef9-21c4746448a2"
   },
   "outputs": [
    {
     "name": "stdout",
     "output_type": "stream",
     "text": [
      "{'Manish': 9937593721, 'Harish': {'number': 9694038272, 'email': 'harishsinha2002@abc.com'}}\n"
     ]
    }
   ],
   "source": [
    "phone_num['Harish'] = {'number': 9694038272, 'email': 'harishsinha2002@abc.com'}\n",
    "\n",
    "print(phone_num)"
   ]
  },
  {
   "cell_type": "markdown",
   "metadata": {
    "id": "PmDjjVD_hhLe"
   },
   "source": [
    "Well how convenient is that?"
   ]
  },
  {
   "cell_type": "markdown",
   "metadata": {
    "id": "kps0oPRQirDq"
   },
   "source": [
    "## Functions\n",
    "\n",
    "Functions are \"self contained\" modules of code that accomplish a specific task. \n",
    "Functions usually \"take in\" data, process it, and \"return\" a result. \n",
    "Once a function is written, it can be used over and over and over again. "
   ]
  },
  {
   "cell_type": "code",
   "execution_count": null,
   "metadata": {
    "colab": {
     "base_uri": "https://localhost:8080/"
    },
    "id": "Pcpf_vuihfxN",
    "outputId": "a6ece846-ce3d-4e3f-a842-5e200f4325d4"
   },
   "outputs": [
    {
     "name": "stdout",
     "output_type": "stream",
     "text": [
      "5\n"
     ]
    }
   ],
   "source": [
    "def add_nums(a, b):\n",
    "  return a+b\n",
    "\n",
    "print(add_nums(2,3))"
   ]
  },
  {
   "cell_type": "markdown",
   "metadata": {
    "id": "UB8Dmu16jGHe"
   },
   "source": [
    "Well at this point you might think, why do we even need functions? it would be easier to type a+b than add_nums(a,b)\n",
    "\n",
    "But what happens when you have bigger pieces of code that you want to run?\n",
    "\n",
    "Let's say you want to check if a number is even or odd"
   ]
  },
  {
   "cell_type": "code",
   "execution_count": null,
   "metadata": {
    "id": "nBGuqI1Gi7OL"
   },
   "outputs": [],
   "source": [
    "def odd_even(num):\n",
    "  if num % 2 == 0:\n",
    "    return 'Even'\n",
    "  else:\n",
    "    return 'Odd'"
   ]
  },
  {
   "cell_type": "code",
   "execution_count": null,
   "metadata": {
    "colab": {
     "base_uri": "https://localhost:8080/"
    },
    "id": "v4azWl0PjkXp",
    "outputId": "74f9e244-be01-4d39-8a6f-691ba09c4236"
   },
   "outputs": [
    {
     "name": "stdout",
     "output_type": "stream",
     "text": [
      "Even Even Odd\n"
     ]
    }
   ],
   "source": [
    "print(odd_even(4), odd_even(6), odd_even(5))"
   ]
  },
  {
   "cell_type": "markdown",
   "metadata": {
    "id": "3jBci86hjxiF"
   },
   "source": [
    "Didn't that just save us a lot of time and unnecesary typing of code?"
   ]
  },
  {
   "cell_type": "markdown",
   "metadata": {
    "id": "bhBw5fP1nO8b"
   },
   "source": [
    "Let's Solve a question to actually get an idea of what's happening\n",
    "\n",
    "Write a function in python to take in a list a and a number d. Rotate the array a to the left by one step d times and return the output\n",
    "\n",
    "Detialed problem statement can be found [here](https://www.hackerrank.com/challenges/array-left-rotation/problem)"
   ]
  },
  {
   "cell_type": "code",
   "execution_count": null,
   "metadata": {
    "id": "6Vnp4ArQjvcs"
   },
   "outputs": [],
   "source": [
    "def rotLeft(a, d):\n",
    "    shift = d % len(a)  \n",
    "    arr = [0]*len(a)    \n",
    "    for i in range(len(a)):\n",
    "        arr[i-shift] = a[i]\n",
    "    \n",
    "    return arr"
   ]
  },
  {
   "cell_type": "markdown",
   "metadata": {
    "id": "-zf1fYurc44t"
   },
   "source": [
    "# **Python Libraries**\n"
   ]
  },
  {
   "cell_type": "markdown",
   "metadata": {
    "id": "W0oO8A2ZeJcW"
   },
   "source": [
    "What is a Library? <br> A collection of modules used for specific applications.<br>\n",
    "Popular Libraries in Python\n",
    "\n",
    "*   NumPy\n",
    "*   Pandas\n",
    "*   OpenCV\n",
    "*   Matplotlib\n",
    "*   Scipy\n",
    "*   Tensorflow\n",
    "*   PyTorch \n",
    "<br> and many more...\n",
    "\n"
   ]
  },
  {
   "cell_type": "markdown",
   "metadata": {
    "id": "4-klPa_WjHqJ"
   },
   "source": [
    "##Importing a Library\n",
    "We use 'import' to get access to the functions of the library"
   ]
  },
  {
   "cell_type": "code",
   "execution_count": null,
   "metadata": {
    "id": "AAFfN0TsjYgn"
   },
   "outputs": [],
   "source": [
    "# importing numpy library with the keyword as np\n",
    "# Syntax: import <library_name> as <shorthand_notation> \n",
    "# Note: as part is optional, but recommended\n",
    "import numpy as np"
   ]
  },
  {
   "cell_type": "markdown",
   "metadata": {
    "id": "IgdsDeZBjeLI"
   },
   "source": [
    "Here, we use a short hand notation for NumPy as 'np' while importing. Trust me, it saves time :)"
   ]
  },
  {
   "cell_type": "markdown",
   "metadata": {
    "id": "S9LxCd_Ciram"
   },
   "source": [
    "# Introduction to NumPy\n",
    "What is NumPy? <br>\n",
    "A python library used to deal with large multidimensional arrays. <br>\n"
   ]
  },
  {
   "cell_type": "code",
   "execution_count": null,
   "metadata": {
    "id": "z1cVCp6Om8ms"
   },
   "outputs": [],
   "source": [
    "#Code along with us\n",
    "#x=np.array([9,23,32,47,53])\n",
    "#print(x, type(x))"
   ]
  },
  {
   "cell_type": "markdown",
   "metadata": {
    "id": "PRrqtg4fkpRo"
   },
   "source": [
    "Bro, we already have Lists and Tuples right? Why NumPy? <br>\n",
    "Let's compare"
   ]
  },
  {
   "cell_type": "code",
   "execution_count": null,
   "metadata": {
    "id": "1nYkT8ADd4pa"
   },
   "outputs": [],
   "source": [
    "N = 100000"
   ]
  },
  {
   "cell_type": "markdown",
   "metadata": {
    "id": "wTamN8S5lSBk"
   },
   "source": [
    "Let's create a list with N entries containing integers from 0 to N-1 and multiply it element-wise with itself.<br> %%time will time the operation."
   ]
  },
  {
   "cell_type": "code",
   "execution_count": null,
   "metadata": {
    "colab": {
     "base_uri": "https://localhost:8080/"
    },
    "id": "LNLzAdSrk0am",
    "outputId": "6d2f272f-c09c-4cc6-c6ae-e9456fa802d6"
   },
   "outputs": [
    {
     "name": "stdout",
     "output_type": "stream",
     "text": [
      "CPU times: user 21.9 s, sys: 2.03 s, total: 23.9 s\n",
      "Wall time: 24 s\n"
     ]
    }
   ],
   "source": [
    "%%time\n",
    "list_ = list(range(N))\n",
    "for i in range(N):\n",
    "    list_[i] = list_[i] * list_[i]"
   ]
  },
  {
   "cell_type": "markdown",
   "metadata": {
    "id": "6AHFz9l7mKr7"
   },
   "source": [
    "Now, let's replicate this process using NumPy. Observe the simplicity in syntax and the latency"
   ]
  },
  {
   "cell_type": "code",
   "execution_count": null,
   "metadata": {
    "colab": {
     "base_uri": "https://localhost:8080/"
    },
    "id": "_3jeUsRtmX_L",
    "outputId": "801d78c3-4cf0-4316-dd69-91e4188d88d1"
   },
   "outputs": [
    {
     "name": "stdout",
     "output_type": "stream",
     "text": [
      "CPU times: user 209 ms, sys: 461 ms, total: 670 ms\n",
      "Wall time: 680 ms\n"
     ]
    }
   ],
   "source": [
    "%%time\n",
    "arr = np.arange(N)\n",
    "arr = arr * arr"
   ]
  },
  {
   "cell_type": "markdown",
   "metadata": {
    "id": "1t2xPoV9Nj9x"
   },
   "source": [
    "## Creating NumPy arrays"
   ]
  },
  {
   "cell_type": "code",
   "execution_count": null,
   "metadata": {
    "colab": {
     "base_uri": "https://localhost:8080/"
    },
    "id": "O1PvcfTJN1qi",
    "outputId": "2449773c-12d0-4a49-ccd7-3ece6eb5a8f3"
   },
   "outputs": [
    {
     "name": "stdout",
     "output_type": "stream",
     "text": [
      "int64\n",
      "1\n",
      "(12,)\n",
      "12\n"
     ]
    }
   ],
   "source": [
    "# Creating an array\n",
    "arr = np.arange(12)\n",
    "# Datatype of entries in np array\n",
    "print(arr.dtype)\n",
    "# Dimension of np array\n",
    "print(arr.ndim)\n",
    "# Shape of array\n",
    "print(arr.shape)\n",
    "# Size of array\n",
    "print(arr.size)"
   ]
  },
  {
   "cell_type": "markdown",
   "metadata": {
    "id": "a9wtsEgEPQtA"
   },
   "source": [
    "Let's create a 2 Dimensional array"
   ]
  },
  {
   "cell_type": "code",
   "execution_count": 42,
   "metadata": {
    "ExecuteTime": {
     "end_time": "2021-02-11T16:36:56.997797Z",
     "start_time": "2021-02-11T16:36:56.987202Z"
    },
    "id": "lrIZvvGYPc3b"
   },
   "outputs": [
    {
     "data": {
      "text/plain": [
       "array([[-2.04167351, -1.57521836,  0.30600353],\n",
       "       [-0.86817682, -0.85993279, -0.47049219]])"
      ]
     },
     "execution_count": 42,
     "metadata": {},
     "output_type": "execute_result"
    }
   ],
   "source": [
    "# Code along with us\n",
    "arr = np.random.randn(2,3)\n",
    "arr"
   ]
  },
  {
   "cell_type": "markdown",
   "metadata": {
    "id": "I5UsVrfaoRiS"
   },
   "source": [
    "## Understanding dimension and shape of an array\n",
    "Try making a 3 Dimensional array. How about a 4 dimensional array? It's getting more complicated? <br>\n",
    "No worries, we have NumPy functions to create some basic arrays of required dimensions"
   ]
  },
  {
   "cell_type": "code",
   "execution_count": null,
   "metadata": {
    "colab": {
     "base_uri": "https://localhost:8080/"
    },
    "id": "A7TXVq-JpGjk",
    "outputId": "87809c28-e2f7-47f5-bb0e-5c8381fa6357"
   },
   "outputs": [
    {
     "data": {
      "text/plain": [
       "array([[[1., 1., 1., 1.],\n",
       "        [1., 1., 1., 1.],\n",
       "        [1., 1., 1., 1.]],\n",
       "\n",
       "       [[1., 1., 1., 1.],\n",
       "        [1., 1., 1., 1.],\n",
       "        [1., 1., 1., 1.]]])"
      ]
     },
     "execution_count": 8,
     "metadata": {
      "tags": []
     },
     "output_type": "execute_result"
    }
   ],
   "source": [
    "# Create a 2x3x4 array with ones\n",
    "np.ones((2,3,4))"
   ]
  },
  {
   "cell_type": "code",
   "execution_count": 45,
   "metadata": {
    "ExecuteTime": {
     "end_time": "2021-02-11T16:37:49.486650Z",
     "start_time": "2021-02-11T16:37:49.476420Z"
    },
    "colab": {
     "base_uri": "https://localhost:8080/",
     "height": 132
    },
    "id": "XhzrGuFyped2",
    "outputId": "1c6dc7e3-e997-46c1-a1f0-08f70fa2789c"
   },
   "outputs": [
    {
     "data": {
      "text/plain": [
       "array([[0., 0., 0.],\n",
       "       [0., 0., 0.],\n",
       "       [0., 0., 0.],\n",
       "       [0., 0., 0.],\n",
       "       [0., 0., 0.],\n",
       "       [0., 0., 0.],\n",
       "       [0., 0., 0.],\n",
       "       [0., 0., 0.],\n",
       "       [0., 0., 0.],\n",
       "       [0., 0., 0.]])"
      ]
     },
     "execution_count": 45,
     "metadata": {},
     "output_type": "execute_result"
    }
   ],
   "source": [
    "# Create a 10x3 array with zeros\n",
    "#Fill the code\n",
    "arr2 = np.zeros((10,3))\n",
    "arr2"
   ]
  },
  {
   "cell_type": "markdown",
   "metadata": {
    "id": "bv1h71nhUbre"
   },
   "source": [
    "Let's first define a **function** that gives all info about nature of array"
   ]
  },
  {
   "cell_type": "code",
   "execution_count": 46,
   "metadata": {
    "ExecuteTime": {
     "end_time": "2021-02-11T16:37:51.138564Z",
     "start_time": "2021-02-11T16:37:51.131526Z"
    },
    "id": "GeEEzhlrnieZ"
   },
   "outputs": [],
   "source": [
    "# Function code\n",
    "def array_info(arr):\n",
    "    print(\"dtype is\",arr.dtype)\n",
    "    print(\"shape is\",arr.shape)\n",
    "    print(\"Dimension is\",arr.ndim)\n",
    "    print(\"Size is\",arr.size,\"\\n\")  #\\n to separate the text in next function call with a new line char\n"
   ]
  },
  {
   "cell_type": "code",
   "execution_count": 47,
   "metadata": {
    "ExecuteTime": {
     "end_time": "2021-02-11T16:37:51.802366Z",
     "start_time": "2021-02-11T16:37:51.791272Z"
    },
    "colab": {
     "base_uri": "https://localhost:8080/",
     "height": 185
    },
    "id": "-or8aH6jUmqv",
    "outputId": "66e456ce-f073-447e-86f6-9ab66b0980af"
   },
   "outputs": [
    {
     "name": "stdout",
     "output_type": "stream",
     "text": [
      "dtype is float64\n",
      "shape is (10, 3)\n",
      "Dimension is 2\n",
      "Size is 30 \n",
      "\n"
     ]
    }
   ],
   "source": [
    "# Calling the function\n",
    "array_info(arr2)"
   ]
  },
  {
   "cell_type": "markdown",
   "metadata": {
    "id": "sbRoILevSSOz"
   },
   "source": [
    "Observe the difference between the following arrays"
   ]
  },
  {
   "cell_type": "code",
   "execution_count": 48,
   "metadata": {
    "ExecuteTime": {
     "end_time": "2021-02-11T16:37:56.508873Z",
     "start_time": "2021-02-11T16:37:56.494501Z"
    },
    "colab": {
     "base_uri": "https://localhost:8080/"
    },
    "id": "KhlJlUbuSQal",
    "outputId": "a52d0909-a4ea-4eec-bba8-9402944d3ea3"
   },
   "outputs": [
    {
     "name": "stdout",
     "output_type": "stream",
     "text": [
      "dtype is float64\n",
      "shape is (6,)\n",
      "Dimension is 1\n",
      "Size is 6 \n",
      "\n",
      "dtype is float64\n",
      "shape is (6, 1)\n",
      "Dimension is 2\n",
      "Size is 6 \n",
      "\n",
      "dtype is float64\n",
      "shape is (2, 3)\n",
      "Dimension is 2\n",
      "Size is 6 \n",
      "\n"
     ]
    }
   ],
   "source": [
    "a = np.ones((6))\n",
    "b = np.ones((6,1))\n",
    "c = np.ones((2,3))\n",
    "array_info(a)\n",
    "array_info(b)\n",
    "array_info(c)"
   ]
  },
  {
   "cell_type": "markdown",
   "metadata": {
    "id": "3WokiWijXZeg"
   },
   "source": [
    "Try creating different sizes of arrays, play around, get the feel"
   ]
  },
  {
   "cell_type": "markdown",
   "metadata": {
    "id": "p8HoIHXU1BkZ"
   },
   "source": [
    "## Reshaping and Flattening"
   ]
  },
  {
   "cell_type": "code",
   "execution_count": 50,
   "metadata": {
    "ExecuteTime": {
     "end_time": "2021-02-11T16:38:13.823498Z",
     "start_time": "2021-02-11T16:38:13.813820Z"
    },
    "id": "BiBFZNcL1K3o"
   },
   "outputs": [
    {
     "data": {
      "text/plain": [
       "array([[1., 1.],\n",
       "       [1., 1.],\n",
       "       [1., 1.]])"
      ]
     },
     "execution_count": 50,
     "metadata": {},
     "output_type": "execute_result"
    }
   ],
   "source": [
    "a.reshape(3,2)"
   ]
  },
  {
   "cell_type": "markdown",
   "metadata": {
    "id": "G5BenCeo1XqG"
   },
   "source": [
    "Try converting arr2 to a one dimensional array without changing the elements using np.reshape()"
   ]
  },
  {
   "cell_type": "code",
   "execution_count": 52,
   "metadata": {
    "ExecuteTime": {
     "end_time": "2021-02-11T16:38:39.149648Z",
     "start_time": "2021-02-11T16:38:39.140397Z"
    },
    "id": "oNBF6bpV1o0t"
   },
   "outputs": [
    {
     "data": {
      "text/plain": [
       "array([1., 1., 1., 1., 1., 1.])"
      ]
     },
     "execution_count": 52,
     "metadata": {},
     "output_type": "execute_result"
    }
   ],
   "source": [
    "# Code with us\n",
    "c.reshape((6))"
   ]
  },
  {
   "cell_type": "markdown",
   "metadata": {
    "id": "PZVyl2F31xgp"
   },
   "source": [
    "Use np.ravel to do the same"
   ]
  },
  {
   "cell_type": "code",
   "execution_count": 53,
   "metadata": {
    "ExecuteTime": {
     "end_time": "2021-02-11T16:38:44.384069Z",
     "start_time": "2021-02-11T16:38:44.377572Z"
    },
    "id": "8v1nIT8t1vpv"
   },
   "outputs": [
    {
     "data": {
      "text/plain": [
       "array([1., 1., 1., 1., 1., 1.])"
      ]
     },
     "execution_count": 53,
     "metadata": {},
     "output_type": "execute_result"
    }
   ],
   "source": [
    "c.ravel()"
   ]
  },
  {
   "cell_type": "markdown",
   "metadata": {
    "id": "fCZw29aYqPnU"
   },
   "source": [
    "## Random normal and random uniform in Numpy\n",
    "Ever heard of normal and uniform distribution? <br>\n",
    "*   Normal distribution is a probability distribution of a random variable, which has bell shaped curve<br> \n",
    "*   In uniform distribution, probability of choosing any number at random is equally likely. <br>\n",
    "*   These probability distributions are extremely useful in a broad spectrum of engineering disciplines. We will look more about this in later part of the session"
   ]
  },
  {
   "cell_type": "code",
   "execution_count": 54,
   "metadata": {
    "ExecuteTime": {
     "end_time": "2021-02-11T16:38:50.456412Z",
     "start_time": "2021-02-11T16:38:50.452001Z"
    },
    "id": "m2iymA81rHdI"
   },
   "outputs": [
    {
     "data": {
      "text/plain": [
       "array([[ 0.54522357,  0.96554642,  2.09053776],\n",
       "       [ 1.73371611, -0.36783196, -0.55712886]])"
      ]
     },
     "execution_count": 54,
     "metadata": {},
     "output_type": "execute_result"
    }
   ],
   "source": [
    "# Creating 2x3 array whose elements are randomly sampled from a normal distribution with mean =0 and std = 1\n",
    "np.random.randn(2,3)"
   ]
  },
  {
   "cell_type": "code",
   "execution_count": 55,
   "metadata": {
    "ExecuteTime": {
     "end_time": "2021-02-11T16:38:51.755201Z",
     "start_time": "2021-02-11T16:38:51.155719Z"
    },
    "id": "sjVwk8gzrrKD"
   },
   "outputs": [
    {
     "data": {
      "text/plain": [
       "array([[0.3110705 , 0.61934981, 0.9789628 ],\n",
       "       [0.37606582, 0.13196872, 0.35608532]])"
      ]
     },
     "execution_count": 55,
     "metadata": {},
     "output_type": "execute_result"
    }
   ],
   "source": [
    "# Creating 2x3 array whose elements are randomly sampled from a uniform distribution of [0,1)\n",
    "np.random.rand(2,3)"
   ]
  },
  {
   "cell_type": "markdown",
   "metadata": {
    "id": "6Z5QnHGBsJXp"
   },
   "source": [
    "np.random.randint samples only integers, try creating one"
   ]
  },
  {
   "cell_type": "code",
   "execution_count": 56,
   "metadata": {
    "ExecuteTime": {
     "end_time": "2021-02-11T16:38:53.825214Z",
     "start_time": "2021-02-11T16:38:53.818792Z"
    },
    "id": "CWXgtAa1sYd6"
   },
   "outputs": [],
   "source": [
    "np.random.randint?"
   ]
  },
  {
   "cell_type": "markdown",
   "metadata": {
    "id": "qrv-gNc8sobp"
   },
   "source": [
    "## Other Data types in NumPy array"
   ]
  },
  {
   "cell_type": "code",
   "execution_count": 57,
   "metadata": {
    "ExecuteTime": {
     "end_time": "2021-02-11T16:39:04.203472Z",
     "start_time": "2021-02-11T16:39:04.197697Z"
    },
    "id": "ryrrAqYUtsvI"
   },
   "outputs": [
    {
     "name": "stdout",
     "output_type": "stream",
     "text": [
      "[ True False  True  True] <class 'numpy.ndarray'>\n"
     ]
    }
   ],
   "source": [
    "# Create an array with Boolean entries\n",
    "arr_bool = np.array([True, False, True, True])\n",
    "print(arr_bool, type(arr_bool))\n"
   ]
  },
  {
   "cell_type": "code",
   "execution_count": 58,
   "metadata": {
    "ExecuteTime": {
     "end_time": "2021-02-11T16:39:04.821285Z",
     "start_time": "2021-02-11T16:39:04.815557Z"
    },
    "id": "2fulEFaUuBZd"
   },
   "outputs": [],
   "source": [
    "# Create an array with str type elements\n",
    "arr_str = np.array(['1.4','3.14','6.314'])\n"
   ]
  },
  {
   "cell_type": "markdown",
   "metadata": {
    "id": "0DRn05kmu1yk"
   },
   "source": [
    "Can I use alphabetical characters as elements of NumPy array?"
   ]
  },
  {
   "cell_type": "markdown",
   "metadata": {
    "id": "Kv0v9dwzvEef"
   },
   "source": [
    "## NumPy Operations"
   ]
  },
  {
   "cell_type": "code",
   "execution_count": 62,
   "metadata": {
    "ExecuteTime": {
     "end_time": "2021-02-11T16:39:31.369690Z",
     "start_time": "2021-02-11T16:39:31.363274Z"
    },
    "id": "Bj-H7M9-pgX5"
   },
   "outputs": [
    {
     "name": "stdout",
     "output_type": "stream",
     "text": [
      "[[4 1 0]\n",
      " [4 2 2]]\n",
      "[[7 5 9]\n",
      " [5 5 4]]\n"
     ]
    }
   ],
   "source": [
    "arr1 = np.random.randint(0,10,(2,3))\n",
    "arr2 = np.random.randint(0,10,(2,3))\n",
    "print(arr1)\n",
    "print(arr2)"
   ]
  },
  {
   "cell_type": "code",
   "execution_count": 63,
   "metadata": {
    "ExecuteTime": {
     "end_time": "2021-02-11T16:39:35.429286Z",
     "start_time": "2021-02-11T16:39:35.418743Z"
    },
    "id": "LKQNS_sqvdC7"
   },
   "outputs": [
    {
     "name": "stdout",
     "output_type": "stream",
     "text": [
      "[[11  6  9]\n",
      " [ 9  7  6]]\n",
      "[[-3 -4 -9]\n",
      " [-1 -3 -2]]\n",
      "[[28  5  0]\n",
      " [20 10  8]]\n",
      "[[0.57142857 0.2        0.        ]\n",
      " [0.8        0.4        0.5       ]]\n"
     ]
    }
   ],
   "source": [
    "# Addition\n",
    "print(arr1+arr2)\n",
    "# Subtraction\n",
    "print(arr1-arr2)\n",
    "# Multiplication\n",
    "print(arr1*arr2)    #Notice that it multiplies element-wise\n",
    "# Division (Element-wise)\n",
    "print(arr1/arr2)"
   ]
  },
  {
   "cell_type": "markdown",
   "metadata": {
    "id": "dwktvJRRw8kc"
   },
   "source": [
    "Let's look at element-wise division more detailly"
   ]
  },
  {
   "cell_type": "code",
   "execution_count": 64,
   "metadata": {
    "ExecuteTime": {
     "end_time": "2021-02-11T16:39:37.498462Z",
     "start_time": "2021-02-11T16:39:37.491335Z"
    },
    "id": "M2qZ16pBwRQv"
   },
   "outputs": [
    {
     "name": "stderr",
     "output_type": "stream",
     "text": [
      "<ipython-input-64-7cc70270b483>:2: RuntimeWarning: divide by zero encountered in true_divide\n",
      "  arr_inv = 1/arr\n"
     ]
    }
   ],
   "source": [
    "arr = np.zeros((2,3))\n",
    "arr_inv = 1/arr"
   ]
  },
  {
   "cell_type": "code",
   "execution_count": 65,
   "metadata": {
    "ExecuteTime": {
     "end_time": "2021-02-11T16:39:38.205749Z",
     "start_time": "2021-02-11T16:39:38.197944Z"
    },
    "id": "5QMehTsPxVNo"
   },
   "outputs": [
    {
     "name": "stdout",
     "output_type": "stream",
     "text": [
      "[[inf inf inf]\n",
      " [inf inf inf]]\n"
     ]
    }
   ],
   "source": [
    "print(arr_inv)"
   ]
  },
  {
   "cell_type": "markdown",
   "metadata": {
    "id": "OrKYQyPrxPVl"
   },
   "source": [
    "We did get a **run-time error**"
   ]
  },
  {
   "cell_type": "code",
   "execution_count": 66,
   "metadata": {
    "ExecuteTime": {
     "end_time": "2021-02-11T16:39:50.390725Z",
     "start_time": "2021-02-11T16:39:50.386108Z"
    },
    "id": "tJiwmraBxgSg"
   },
   "outputs": [
    {
     "data": {
      "text/plain": [
       "array([[ True,  True,  True],\n",
       "       [ True,  True,  True]])"
      ]
     },
     "execution_count": 66,
     "metadata": {},
     "output_type": "execute_result"
    }
   ],
   "source": [
    "np.isinf(arr_inv)"
   ]
  },
  {
   "cell_type": "markdown",
   "metadata": {
    "id": "FptVB0tf3n9K"
   },
   "source": [
    "In lists, we say that we had to iterate through all the elements to increment each value by some value. NumPy makes our life easy"
   ]
  },
  {
   "cell_type": "code",
   "execution_count": 67,
   "metadata": {
    "ExecuteTime": {
     "end_time": "2021-02-11T16:39:51.721092Z",
     "start_time": "2021-02-11T16:39:51.717266Z"
    },
    "id": "egYqBkRH33ty"
   },
   "outputs": [
    {
     "name": "stdout",
     "output_type": "stream",
     "text": [
      "[[10  4  2]\n",
      " [10  6  6]]\n"
     ]
    }
   ],
   "source": [
    "print(2*arr1 + 2)"
   ]
  },
  {
   "cell_type": "markdown",
   "metadata": {
    "id": "SbPnDrml4dnW"
   },
   "source": [
    "To learn more how this works, browse for **NumPy broadcasting**"
   ]
  },
  {
   "cell_type": "markdown",
   "metadata": {
    "id": "xBcNna1awn86"
   },
   "source": [
    "Some important mathematical operations. Try running the code below"
   ]
  },
  {
   "cell_type": "code",
   "execution_count": 68,
   "metadata": {
    "ExecuteTime": {
     "end_time": "2021-02-11T16:39:53.247867Z",
     "start_time": "2021-02-11T16:39:53.241595Z"
    },
    "id": "HOVPBhZJwJ-3"
   },
   "outputs": [
    {
     "data": {
      "text/plain": [
       "array([[-0.7568025 ,  0.84147098,  0.        ],\n",
       "       [-0.7568025 ,  0.90929743,  0.90929743]])"
      ]
     },
     "execution_count": 68,
     "metadata": {},
     "output_type": "execute_result"
    }
   ],
   "source": [
    "np.sin(arr1)"
   ]
  },
  {
   "cell_type": "code",
   "execution_count": 69,
   "metadata": {
    "ExecuteTime": {
     "end_time": "2021-02-11T16:39:53.984496Z",
     "start_time": "2021-02-11T16:39:53.557890Z"
    },
    "id": "L0zlBVpjwMYF"
   },
   "outputs": [
    {
     "data": {
      "text/plain": [
       "array([[54.59815003,  2.71828183,  1.        ],\n",
       "       [54.59815003,  7.3890561 ,  7.3890561 ]])"
      ]
     },
     "execution_count": 69,
     "metadata": {},
     "output_type": "execute_result"
    }
   ],
   "source": [
    "np.exp(arr1)"
   ]
  },
  {
   "cell_type": "markdown",
   "metadata": {
    "id": "jtaaw2H2x8SJ"
   },
   "source": [
    "## Statistical operations"
   ]
  },
  {
   "cell_type": "code",
   "execution_count": 70,
   "metadata": {
    "ExecuteTime": {
     "end_time": "2021-02-11T16:39:58.066978Z",
     "start_time": "2021-02-11T16:39:58.061935Z"
    },
    "id": "X48jkBOCx_kc"
   },
   "outputs": [],
   "source": [
    "# Intialise an NumPy array with some vals\n",
    "arr = np.random.randint(0,50,(3,4))"
   ]
  },
  {
   "cell_type": "code",
   "execution_count": 71,
   "metadata": {
    "ExecuteTime": {
     "end_time": "2021-02-11T16:39:58.378096Z",
     "start_time": "2021-02-11T16:39:58.369054Z"
    },
    "id": "XMwtqwi7ygRG"
   },
   "outputs": [
    {
     "data": {
      "text/plain": [
       "1"
      ]
     },
     "execution_count": 71,
     "metadata": {},
     "output_type": "execute_result"
    }
   ],
   "source": [
    "np.amin(arr)"
   ]
  },
  {
   "cell_type": "code",
   "execution_count": 72,
   "metadata": {
    "ExecuteTime": {
     "end_time": "2021-02-11T16:39:58.600656Z",
     "start_time": "2021-02-11T16:39:58.596779Z"
    },
    "id": "hCnLaY5jykJx"
   },
   "outputs": [
    {
     "data": {
      "text/plain": [
       "45"
      ]
     },
     "execution_count": 72,
     "metadata": {},
     "output_type": "execute_result"
    }
   ],
   "source": [
    "np.amax(arr)"
   ]
  },
  {
   "cell_type": "code",
   "execution_count": 73,
   "metadata": {
    "ExecuteTime": {
     "end_time": "2021-02-11T16:39:58.832823Z",
     "start_time": "2021-02-11T16:39:58.827851Z"
    },
    "id": "nHuve64DymZv"
   },
   "outputs": [
    {
     "data": {
      "text/plain": [
       "24.666666666666668"
      ]
     },
     "execution_count": 73,
     "metadata": {},
     "output_type": "execute_result"
    }
   ],
   "source": [
    "np.mean(arr)"
   ]
  },
  {
   "cell_type": "code",
   "execution_count": 74,
   "metadata": {
    "ExecuteTime": {
     "end_time": "2021-02-11T16:39:59.125547Z",
     "start_time": "2021-02-11T16:39:59.120792Z"
    },
    "id": "1v8Uj6o2qIF-"
   },
   "outputs": [],
   "source": [
    "#axis 0 and axis 1"
   ]
  },
  {
   "cell_type": "markdown",
   "metadata": {
    "id": "DnDHOufryyj6"
   },
   "source": [
    "Browse for NumPy functions to find median, variance, standard deviation and percentile"
   ]
  },
  {
   "cell_type": "markdown",
   "metadata": {
    "id": "XXzKVFe_oLue"
   },
   "source": [
    "## Exercise Problem 1\n",
    "Write a program to multiply two matrices of size $(100, 100)$ in two methods: (a) by using `np.dot(mat_1, mat_2)` and (b) by using for-loops. Comapre the time of execution in both the cases. Check out the documentation of `np.dot` in case that is not familiar to you. "
   ]
  },
  {
   "cell_type": "code",
   "execution_count": null,
   "metadata": {
    "id": "V1M_0booob-E"
   },
   "outputs": [],
   "source": [
    "#Initialise the two matrices\n",
    "mat_1 = np.random.rand(100,100)\n",
    "mat_2 = np.random.rand(100,100)\n",
    "#Intitialise the output matrix with zero\n"
   ]
  },
  {
   "cell_type": "code",
   "execution_count": null,
   "metadata": {
    "id": "aaTJDwk_oRJ8"
   },
   "outputs": [],
   "source": [
    "## Using the definition of matrix mutliplication"
   ]
  },
  {
   "cell_type": "code",
   "execution_count": null,
   "metadata": {
    "id": "UZr8eW-CoRzO"
   },
   "outputs": [],
   "source": [
    "## Using np.dot function"
   ]
  },
  {
   "cell_type": "markdown",
   "metadata": {
    "id": "oxSwKNnGkYA4"
   },
   "source": [
    "## Exercise Problem 2\n",
    "Create two vectors $y$ and $\\hat{y}$ having **same** dimensions, where $\\hat{y}$ should consist of random numbers between $[0, 1)$ and $y$ should contain $0s$ and $1s$, for example $y = [0, 1, 1, 0, 1, 0, 0, 1, ..., 1]$. Compute the given expression: $$O = -\\frac{1}{n}\\sum_{i=1}^{n}[y_i\\log_2(\\hat{y_i}) + (1-y_i)\\log_2(1-\\hat{y_i})]$$\n",
    "where $n$ = 100, is the total number of elements in $y$ and $\\hat{y}$."
   ]
  },
  {
   "cell_type": "code",
   "execution_count": null,
   "metadata": {
    "id": "pfH-uS74kgUy"
   },
   "outputs": [],
   "source": [
    "#Given n = 100\n",
    "#Create a 1D array y, of size 100 with randomly selected 0s and 1s\n",
    "#Create a 1D array y_hat, of size 100 with numbers randomly (uniformly) selected from [0,1)\n",
    "#Find logarithmic loss (Also known as logarithmic loss)\n"
   ]
  },
  {
   "cell_type": "markdown",
   "metadata": {
    "id": "iV28g8xXmZbD"
   },
   "source": [
    "The expression $O = -\\frac{1}{n}\\sum_{i=1}^{n}[y_i\\log_2(\\hat{y_i}) + (1-y_i)\\log_2(1-\\hat{y_i})]$, which you have computed is actually a **Cross-Entropy** loss function used in machine learning for classification task which tells us how bad or good model is performing, if $O$ is large then model is performing worst and vice versa."
   ]
  },
  {
   "cell_type": "markdown",
   "metadata": {
    "id": "mAhhefzL2kCv"
   },
   "source": [
    "# Matplotlib\n"
   ]
  },
  {
   "cell_type": "markdown",
   "metadata": {
    "id": "PUkcE1IIYcdw"
   },
   "source": [
    "Matplotlib is a popular plotting software. It's name comes from \"MATLAB like Plotting library\" <br> In this section we will be using a module called pyplot from matlplotlib. A wide range of statistical plots like bar diagrams, pie charts, histograms etc. can be shown using Matplotlib<br>"
   ]
  },
  {
   "cell_type": "code",
   "execution_count": null,
   "metadata": {
    "id": "0KMzbComHKDY"
   },
   "outputs": [],
   "source": [
    "from matplotlib import pyplot as plt"
   ]
  },
  {
   "cell_type": "markdown",
   "metadata": {
    "id": "5uYr3wCTc8po"
   },
   "source": [
    "## Plotting graphs\n",
    "Let's make a simple $y$ vs $x$ graph for the function $y(x)$ = $3x$ + 4"
   ]
  },
  {
   "cell_type": "code",
   "execution_count": null,
   "metadata": {
    "id": "Fp5v1EH9c6Zm"
   },
   "outputs": [],
   "source": [
    "x = np.linspace(-10,10,100)\n",
    "y = 3*x + 4"
   ]
  },
  {
   "cell_type": "code",
   "execution_count": null,
   "metadata": {
    "id": "-yY-4cq5kzlM"
   },
   "outputs": [],
   "source": [
    "plt.plot(x,y)"
   ]
  },
  {
   "cell_type": "markdown",
   "metadata": {
    "id": "rr_3-tvdlAys"
   },
   "source": [
    "Let's try plotting any quadratic function, say $y(x)$ = $x^2$"
   ]
  },
  {
   "cell_type": "code",
   "execution_count": null,
   "metadata": {
    "colab": {
     "base_uri": "https://localhost:8080/",
     "height": 132
    },
    "id": "KzHxgjpik_P6",
    "outputId": "a203d593-a193-491b-ebc1-f78115d4f8fc"
   },
   "outputs": [
    {
     "ename": "SyntaxError",
     "evalue": "ignored",
     "output_type": "error",
     "traceback": [
      "\u001b[0;36m  File \u001b[0;32m\"<ipython-input-10-63c8eb371597>\"\u001b[0;36m, line \u001b[0;32m1\u001b[0m\n\u001b[0;31m    y = #Fill the code\u001b[0m\n\u001b[0m                      ^\u001b[0m\n\u001b[0;31mSyntaxError\u001b[0m\u001b[0;31m:\u001b[0m invalid syntax\n"
     ]
    }
   ],
   "source": [
    "y = #Fill the code\n"
   ]
  },
  {
   "cell_type": "markdown",
   "metadata": {
    "id": "bl0shiPzlu0j"
   },
   "source": [
    "Observe that the plot functions plots the best fit inspite of giving only discrete points as inputs."
   ]
  },
  {
   "cell_type": "markdown",
   "metadata": {
    "id": "07P36169sGdz"
   },
   "source": [
    "Let's consider a noisy data i.e, a data which doesn't have a perfect fit "
   ]
  },
  {
   "cell_type": "code",
   "execution_count": null,
   "metadata": {
    "id": "-oizsH_Urdf5"
   },
   "outputs": [],
   "source": [
    "# Samples random values from standard normal distribution (Size = 100)\n",
    "noise = np.random.randn(100)\n",
    "# Create a lin-spaced array x with 100 elements\n",
    "x = np.linspace(-10,10,100)\n",
    "y = 3*x + noise\n",
    "plt.plot(x,y);"
   ]
  },
  {
   "cell_type": "markdown",
   "metadata": {
    "id": "tC63VeNNtnlN"
   },
   "source": [
    "The plot function tries to give a good fit to the curve"
   ]
  },
  {
   "cell_type": "markdown",
   "metadata": {
    "id": "xaM0XSnZregM"
   },
   "source": [
    "## Scatter Plots"
   ]
  },
  {
   "cell_type": "markdown",
   "metadata": {
    "id": "_H90fcAVvUE5"
   },
   "source": [
    "In the above example, let's increase the data from 100 to 1000"
   ]
  },
  {
   "cell_type": "code",
   "execution_count": null,
   "metadata": {
    "id": "UQKHzT4dtlh4"
   },
   "outputs": [],
   "source": [
    "noise = np.random.randn(1000)\n",
    "x = np.linspace(-10,10,1000)\n",
    "y = 3*x + 6*noise\n",
    "plt.plot(x,y);"
   ]
  },
  {
   "cell_type": "markdown",
   "metadata": {
    "id": "7z4HoJ59uc2H"
   },
   "source": [
    "The plot does look messy right! We use scatter plots when we want to plot the data points without any curve to fit them"
   ]
  },
  {
   "cell_type": "code",
   "execution_count": null,
   "metadata": {
    "id": "iDurC0vrtgDf"
   },
   "outputs": [],
   "source": [
    "plt.scatter(x,y,s=2);"
   ]
  },
  {
   "cell_type": "markdown",
   "metadata": {
    "id": "k7W-ZEdiookv"
   },
   "source": [
    "## Histograms "
   ]
  },
  {
   "cell_type": "markdown",
   "metadata": {
    "id": "L0aH8KsppKLr"
   },
   "source": [
    "To get a better understanding of normal distribution, we can use histograms"
   ]
  },
  {
   "cell_type": "code",
   "execution_count": null,
   "metadata": {
    "id": "XAlhQfcJoq3n"
   },
   "outputs": [],
   "source": [
    "# A 1D array of size 10k\n",
    "x = np.random.randn(10000)\n",
    "plt.hist(x);"
   ]
  },
  {
   "cell_type": "markdown",
   "metadata": {
    "id": "bHJW3Z-kyjH8"
   },
   "source": [
    "plt.hist() function takes an argument called 'bins'. When it takes positive integral value it defines the number of equal-width bins (Class Intervals) in the range."
   ]
  },
  {
   "cell_type": "code",
   "execution_count": null,
   "metadata": {
    "id": "3e5CbH-Wye2Y"
   },
   "outputs": [],
   "source": [
    "plt.hist(x, bins = 11);"
   ]
  },
  {
   "cell_type": "markdown",
   "metadata": {
    "id": "DwX_pgQfzVRR"
   },
   "source": [
    "Play around with the value of bins, see what happens when you increase it"
   ]
  },
  {
   "cell_type": "code",
   "execution_count": null,
   "metadata": {
    "id": "oBT5k6W8zivm"
   },
   "outputs": [],
   "source": []
  }
 ],
 "metadata": {
  "colab": {
   "collapsed_sections": [],
   "name": "Python_Session.ipynb",
   "provenance": [],
   "toc_visible": true
  },
  "kernelspec": {
   "display_name": "Python 3",
   "language": "python",
   "name": "python3"
  },
  "language_info": {
   "codemirror_mode": {
    "name": "ipython",
    "version": 3
   },
   "file_extension": ".py",
   "mimetype": "text/x-python",
   "name": "python",
   "nbconvert_exporter": "python",
   "pygments_lexer": "ipython3",
   "version": "3.8.5"
  },
  "toc": {
   "base_numbering": 1,
   "nav_menu": {},
   "number_sections": true,
   "sideBar": true,
   "skip_h1_title": false,
   "title_cell": "Table of Contents",
   "title_sidebar": "Contents",
   "toc_cell": false,
   "toc_position": {},
   "toc_section_display": true,
   "toc_window_display": false
  },
  "varInspector": {
   "cols": {
    "lenName": 16,
    "lenType": 16,
    "lenVar": 40
   },
   "kernels_config": {
    "python": {
     "delete_cmd_postfix": "",
     "delete_cmd_prefix": "del ",
     "library": "var_list.py",
     "varRefreshCmd": "print(var_dic_list())"
    },
    "r": {
     "delete_cmd_postfix": ") ",
     "delete_cmd_prefix": "rm(",
     "library": "var_list.r",
     "varRefreshCmd": "cat(var_dic_list()) "
    }
   },
   "types_to_exclude": [
    "module",
    "function",
    "builtin_function_or_method",
    "instance",
    "_Feature"
   ],
   "window_display": false
  }
 },
 "nbformat": 4,
 "nbformat_minor": 1
}
