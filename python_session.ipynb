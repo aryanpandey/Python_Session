{
 "cells": [
  {
   "cell_type": "markdown",
   "metadata": {
    "id": "Y5Im3VdXV5um"
   },
   "source": [
    "## Why Python?\n",
    "\n",
    "It's easier to learn and read than most other languages, given the form of its syntax.\n",
    "\n",
    "There's a huge, rapidly-growing community of coders that use it.\n",
    "\n",
    "There are a large number of extra libraries made by third parties, that can make coding a breeze.\n",
    "\n",
    "Let's start our lesson with something every coder will be familiar with - the obligatory, \"Hello World!\" program\n",
    "\n",
    "Open up Python and type this - \n",
    "\n"
   ]
  },
  {
   "cell_type": "code",
   "execution_count": 9,
   "metadata": {
    "ExecuteTime": {
     "end_time": "2021-02-11T16:34:12.081841Z",
     "start_time": "2021-02-11T16:34:12.075826Z"
    },
    "colab": {
     "base_uri": "https://localhost:8080/"
    },
    "id": "py5hFr-gVApd",
    "outputId": "e335d926-7703-463f-e9ea-a8f81db7dd2e"
   },
   "outputs": [
    {
     "name": "stdout",
     "output_type": "stream",
     "text": [
      "Hello World!\n"
     ]
    }
   ],
   "source": [
    "print(\"Hello World!\")\n",
    "# That's it, believe it or not!\n",
    "# By the way, this is a comment - you can freely type what you want to, \n",
    "# and the compiler will ignore it. Use comments to help readers understand your code, or to put random easter eggs :p"
   ]
  },
  {
   "cell_type": "markdown",
   "metadata": {
    "id": "CgDwz_ZXVHZV"
   },
   "source": [
    "There are two forms of Python - the Shell, and the Editor. The Shell executes statements instantly, while the Editor begins executing statements after you've written them all down and 'run' the program.\n"
   ]
  },
  {
   "cell_type": "markdown",
   "metadata": {
    "id": "kYi-rVOWfxIk"
   },
   "source": [
    "## Contents\n",
    "\n",
    "Today, we'll be going over the following topics:\n",
    "\n",
    "\n",
    "*   Data Types\n",
    "*   Conditional Statements\n",
    "*   Loops\n",
    "*   Operators\n",
    "*   Scope of Variables\n",
    "*   Lists, Tuples and Dictionaries\n",
    "*   Python Libraries\n",
    "\n"
   ]
  },
  {
   "cell_type": "markdown",
   "metadata": {
    "id": "Lt09_4a-gRt0"
   },
   "source": [
    "## Datatypes\n",
    "\n",
    "Varibles are grouped into different data types, with each data type giving a variable different properties. Using them lets us know what is expected from each variable; furthermore, functions (which you will learn about shortly) also react differently to variables based on their data type.\n",
    "\n",
    "The most commonly used data types are int(integers), float(decimal values), strings(characters, words and sentences) and bool(boolean values, i.e. True or False). There are several other data types like 'char' and 'complex', but we'll restrict our discussion to these ones, for now.\n",
    "\n"
   ]
  },
  {
   "cell_type": "code",
   "execution_count": 10,
   "metadata": {
    "ExecuteTime": {
     "end_time": "2021-02-11T16:34:12.471442Z",
     "start_time": "2021-02-11T16:34:12.106807Z"
    },
    "colab": {
     "base_uri": "https://localhost:8080/"
    },
    "id": "UGMM6-1Los7U",
    "outputId": "2e1ad0a2-d3eb-43fa-854d-ead8b899517c"
   },
   "outputs": [
    {
     "name": "stdout",
     "output_type": "stream",
     "text": [
      "5\n",
      "Wallstreet Bets\n",
      "<class 'int'>\n",
      "<class 'str'>\n"
     ]
    }
   ],
   "source": [
    "x = 5\n",
    "name = \"Wallstreet Bets\"\n",
    "\n",
    "print(x)\n",
    "print(name)\n",
    "\n",
    "print(type(x))\n",
    "print(type(name))"
   ]
  },
  {
   "cell_type": "markdown",
   "metadata": {
    "id": "Tv2ZD5YepDie"
   },
   "source": [
    "The example code you just saw showed us something new - Python doesn't require you to declare a varible's data type as most other languages do. Rather, it infers it from the value you the variable."
   ]
  },
  {
   "cell_type": "markdown",
   "metadata": {
    "id": "wRCvlO4Cpdzm"
   },
   "source": [
    "## Conditional Statements\n",
    "\n",
    "Conditional Statements are used for decision-making."
   ]
  },
  {
   "cell_type": "code",
   "execution_count": 11,
   "metadata": {
    "ExecuteTime": {
     "end_time": "2021-02-11T16:34:12.526359Z",
     "start_time": "2021-02-11T16:34:12.473415Z"
    },
    "colab": {
     "base_uri": "https://localhost:8080/"
    },
    "id": "Qt3tH2murO3J",
    "outputId": "254c92d6-d38f-4dc8-a13b-2093f48a7ddd"
   },
   "outputs": [
    {
     "name": "stdout",
     "output_type": "stream",
     "text": [
      "nice\n"
     ]
    }
   ],
   "source": [
    "a = 420\n",
    "if a == 420:\n",
    "  print(\"nice\")\n",
    "else:\n",
    "  print(\"meh\")"
   ]
  },
  {
   "cell_type": "markdown",
   "metadata": {
    "id": "fR1NevmkrpYC"
   },
   "source": [
    "Here we had to make a decision based on the value of a - whether to print 'nice' or not. That is what we use the following keywords for:\n",
    "\n",
    "\n",
    "*   if\n",
    "*   else\n",
    "*   elif\n",
    "\n",
    "These make use of test expressions, logical operations that evaluate to TRUE or FALSE - *if* the expression is true, the part indented below the 'if' expression is executed. Otherwise, it is ignored.\n",
    "\n",
    "The use of 'else' and 'elif' can be somewhat intuitively understood by the following code.\n",
    "\n"
   ]
  },
  {
   "cell_type": "code",
   "execution_count": 12,
   "metadata": {
    "ExecuteTime": {
     "end_time": "2021-02-11T16:34:12.580431Z",
     "start_time": "2021-02-11T16:34:12.528691Z"
    },
    "colab": {
     "base_uri": "https://localhost:8080/"
    },
    "id": "rYFcNu_7skg3",
    "outputId": "cc3b77da-9969-4439-ee0b-83749db2e694"
   },
   "outputs": [
    {
     "name": "stdout",
     "output_type": "stream",
     "text": [
      "niiiiiice\n"
     ]
    }
   ],
   "source": [
    "b = 69\n",
    "if b == 420:\n",
    "  print('nice')\n",
    "elif b == 69:\n",
    "  print('niiiiiice')\n",
    "else:\n",
    "  print('lame')"
   ]
  },
  {
   "cell_type": "markdown",
   "metadata": {
    "id": "yxmh6_DKs_0y"
   },
   "source": [
    "## Loops\n",
    "Let's look at two programs with the same output:\n",
    "\n",
    "\n"
   ]
  },
  {
   "cell_type": "code",
   "execution_count": 13,
   "metadata": {
    "ExecuteTime": {
     "end_time": "2021-02-11T16:34:12.642034Z",
     "start_time": "2021-02-11T16:34:12.586148Z"
    },
    "colab": {
     "base_uri": "https://localhost:8080/"
    },
    "id": "r4vqxmA4wv1J",
    "outputId": "23a8802e-fb3f-4a7b-df5d-3f5c06eba156"
   },
   "outputs": [
    {
     "name": "stdout",
     "output_type": "stream",
     "text": [
      "Hello!\n",
      "Hello!\n",
      "Hello!\n",
      "Hello!\n",
      "Hello!\n"
     ]
    }
   ],
   "source": [
    "print(\"Hello!\")\n",
    "print(\"Hello!\")\n",
    "print(\"Hello!\")\n",
    "print(\"Hello!\")\n",
    "print(\"Hello!\")"
   ]
  },
  {
   "cell_type": "code",
   "execution_count": 14,
   "metadata": {
    "ExecuteTime": {
     "end_time": "2021-02-11T16:34:12.695736Z",
     "start_time": "2021-02-11T16:34:12.646608Z"
    },
    "colab": {
     "base_uri": "https://localhost:8080/"
    },
    "id": "c11KUDuMxN9q",
    "outputId": "0624c0eb-ad12-4700-84fd-4bec1a4daa25"
   },
   "outputs": [
    {
     "name": "stdout",
     "output_type": "stream",
     "text": [
      "Hello!\n",
      "Hello!\n",
      "Hello!\n",
      "Hello!\n",
      "Hello!\n"
     ]
    }
   ],
   "source": [
    "t = 0\n",
    "while(t < 5):\n",
    "    print(\"Hello!\")\n",
    "    t = t + 1"
   ]
  },
  {
   "cell_type": "markdown",
   "metadata": {
    "id": "NgLRIhSUxaRZ"
   },
   "source": [
    "Which of those two programs seemed more efficient? Furthermore, the first method would be impractical for tasks that need to be repeated thousands of times, as is the case in modern times. \n",
    "\n",
    "There are two kinds of loops - bounded and unbounded loops.\n",
    "\n",
    "Bounded loops - We  specify the exact number of iterations\n",
    "\n",
    "Unbounded loops - We don't\n",
    "\n",
    "An *iteration* is what you call each repeating step in a loop.\n",
    "\n",
    "### While loop\n",
    "\n",
    "The while loop is an unbounded loop with the following form:"
   ]
  },
  {
   "cell_type": "code",
   "execution_count": 15,
   "metadata": {
    "ExecuteTime": {
     "end_time": "2021-02-11T16:34:12.747922Z",
     "start_time": "2021-02-11T16:34:12.697365Z"
    },
    "id": "QUVvvaq8yOzt"
   },
   "outputs": [
    {
     "name": "stdout",
     "output_type": "stream",
     "text": [
      "0\n",
      "1\n",
      "2\n",
      "3\n",
      "4\n",
      "5\n",
      "6\n",
      "7\n",
      "8\n",
      "9\n"
     ]
    }
   ],
   "source": [
    "i = 0\n",
    "while(i<10):\n",
    " print(i)\n",
    " i = i + 1"
   ]
  },
  {
   "cell_type": "markdown",
   "metadata": {
    "id": "VLeQ-XeAyVUG"
   },
   "source": [
    "As you can see, we did not specify the number of iterations.\n",
    "\n",
    "Loops make use of a test expression as well - they check the expression before each iteration, and execute said iteration only if the test expression evaluates to \"TRUE\"\n",
    "\n",
    "### For Loop\n",
    "\n",
    "We also have the *for* loop, where we do have to specify the number of iterations. Let's look at some example code:"
   ]
  },
  {
   "cell_type": "code",
   "execution_count": 16,
   "metadata": {
    "ExecuteTime": {
     "end_time": "2021-02-11T16:34:12.801200Z",
     "start_time": "2021-02-11T16:34:12.750000Z"
    },
    "colab": {
     "base_uri": "https://localhost:8080/"
    },
    "id": "s2iJWRJk69J5",
    "outputId": "8064c4c0-a9a2-4349-93ba-73d79e5419ce"
   },
   "outputs": [
    {
     "name": "stdout",
     "output_type": "stream",
     "text": [
      "0\n",
      "1\n",
      "2\n",
      "3\n",
      "4\n"
     ]
    }
   ],
   "source": [
    "for i in range(0,5,1):\n",
    "\tprint(i)\n"
   ]
  },
  {
   "cell_type": "markdown",
   "metadata": {
    "id": "en1WEIPWd1lH"
   },
   "source": [
    "## Nested Loops\n",
    "\n",
    "Loops within loops"
   ]
  },
  {
   "cell_type": "code",
   "execution_count": 17,
   "metadata": {
    "ExecuteTime": {
     "end_time": "2021-02-11T16:34:12.857548Z",
     "start_time": "2021-02-11T16:34:12.810561Z"
    },
    "colab": {
     "base_uri": "https://localhost:8080/"
    },
    "id": "T3WpF5taQDDU",
    "outputId": "56aa62d8-024f-4591-9f37-ef7e8d1f7534"
   },
   "outputs": [
    {
     "name": "stdout",
     "output_type": "stream",
     "text": [
      "1\n",
      "12\n",
      "123\n",
      "1234\n"
     ]
    }
   ],
   "source": [
    "x = 4\n",
    "for i in range(1, x + 1):\n",
    "  for j in range(1, i + 1):\n",
    "    print(j, end = '')\n",
    "  print('')"
   ]
  },
  {
   "cell_type": "markdown",
   "metadata": {
    "id": "ojNbEV08gXNn"
   },
   "source": [
    "## Fibonacci Sequence Example\n",
    "\n",
    "A fibonoacci series is a sequence with the first two elements always defined as 0, then 1, and every element after that equal to the sum of the two elements before it i.e. for n > 2, the n<sup>th</sup> element = (n-1)<sup>th</sup> element + (n-2)<sup>th</sup> element\n",
    "\n",
    "0, 1, 1, 2, 3, 5, 8 ... , (n-1)<sup>th</sup> + (n-2)<sup>th</sup>"
   ]
  },
  {
   "cell_type": "code",
   "execution_count": 18,
   "metadata": {
    "ExecuteTime": {
     "end_time": "2021-02-11T16:34:22.185444Z",
     "start_time": "2021-02-11T16:34:12.859462Z"
    },
    "colab": {
     "base_uri": "https://localhost:8080/"
    },
    "id": "yWjO9U-0SzXj",
    "outputId": "66dc5814-5473-4847-83fe-e8f967421bad"
   },
   "outputs": [
    {
     "name": "stdout",
     "output_type": "stream",
     "text": [
      "Enter Sequence Length: 10\n",
      "Sum is:  34\n"
     ]
    }
   ],
   "source": [
    "#code along with us!\n",
    "x = int(input(\"Enter Sequence Length: \"))\n",
    "\n",
    "#Defining the first 2 numbers of the sequence\n",
    "a = 0\n",
    "b = 1\n",
    "\n",
    "if (x <= 0):\n",
    "    print(\"Please re-enter the sequence length\")\n",
    "elif x == 1:\n",
    "    print(\"Sum is: \", a)\n",
    "else:\n",
    "    for i in range(x-2):\n",
    "        a, b = b, a+b\n",
    "    print(\"Sum is: \", b)"
   ]
  },
  {
   "cell_type": "markdown",
   "metadata": {
    "id": "4AjgJNPhCwFA"
   },
   "source": [
    "## Operators\n",
    "Operators perfom processes on variables and constants. The different kinds of operators can be understood through examples.\n",
    "\n",
    "### Arithmetic Operators\n",
    "\n",
    "\n",
    "1. Addition (+)\n",
    "2. Subtraction (-)\n",
    "3. Multiplication (*)\n",
    "4. Division (/)\n",
    "5. Modulus(%)\n",
    "6. Exponent(**)\n",
    "\n"
   ]
  },
  {
   "cell_type": "code",
   "execution_count": 19,
   "metadata": {
    "ExecuteTime": {
     "end_time": "2021-02-11T16:34:22.201982Z",
     "start_time": "2021-02-11T16:34:22.190819Z"
    },
    "colab": {
     "base_uri": "https://localhost:8080/"
    },
    "id": "tSkILN2FDhrC",
    "outputId": "8a54a534-2c23-4296-afe7-5d2abfaa8574"
   },
   "outputs": [
    {
     "name": "stdout",
     "output_type": "stream",
     "text": [
      "11\n",
      "4\n",
      "20\n",
      "2.0\n",
      "5\n",
      "25\n"
     ]
    }
   ],
   "source": [
    "a = 5\n",
    "b = 6\n",
    "#operations in order\n",
    "print(a+b)\n",
    "print(b-2)\n",
    "print(a*4)\n",
    "print(b/3)\n",
    "print(a%b)\n",
    "print(a**2 )\n"
   ]
  },
  {
   "cell_type": "markdown",
   "metadata": {
    "id": "qOn_PEWPDqgB"
   },
   "source": [
    "### Comparison Operators\n",
    "\n",
    "\n",
    "1.    Check equality (== )\n",
    "2.    Check inequality(!= or <>)\n",
    "3.    Greater than (>)\n",
    "4.    Less than(<)\n",
    "5.    Greater than or equal to (>=)\n",
    "6.    Less than or equal to (<=)\n",
    "\n",
    "\n"
   ]
  },
  {
   "cell_type": "code",
   "execution_count": 20,
   "metadata": {
    "ExecuteTime": {
     "end_time": "2021-02-11T16:34:22.686733Z",
     "start_time": "2021-02-11T16:34:22.208227Z"
    },
    "colab": {
     "base_uri": "https://localhost:8080/"
    },
    "id": "mhRC0bPOEYno",
    "outputId": "d2498aa6-ab26-4fea-b5d0-08b60d68ba0d"
   },
   "outputs": [
    {
     "name": "stdout",
     "output_type": "stream",
     "text": [
      "False\n",
      "True\n",
      "True\n",
      "False\n",
      "False\n",
      "False\n"
     ]
    }
   ],
   "source": [
    "a = 5\n",
    "b = 6\n",
    "#operations in order\n",
    "print(a==b)\n",
    "print(b!=2)\n",
    "print(a>4)\n",
    "print(b<3)\n",
    "print(a>=b)\n",
    "print(a<=2)"
   ]
  },
  {
   "cell_type": "markdown",
   "metadata": {
    "id": "KSeM7cmOEfFq"
   },
   "source": [
    "### Logical Operators\n",
    "\n",
    "\n",
    "\n",
    "1.  and\n",
    "2.  or\n",
    "3.  not\n",
    "\n"
   ]
  },
  {
   "cell_type": "code",
   "execution_count": 21,
   "metadata": {
    "ExecuteTime": {
     "end_time": "2021-02-11T16:34:22.745094Z",
     "start_time": "2021-02-11T16:34:22.693017Z"
    },
    "colab": {
     "base_uri": "https://localhost:8080/"
    },
    "id": "cfbb9e-CEo00",
    "outputId": "bf7411bf-69e5-42db-9841-7d7bdb40eb33"
   },
   "outputs": [
    {
     "name": "stdout",
     "output_type": "stream",
     "text": [
      "some other thing\n",
      "b is not equal to 9\n"
     ]
    }
   ],
   "source": [
    "a = 5\n",
    "b = 6\n",
    "if(a==b and b>5):\n",
    " print(\"something\")\n",
    "\n",
    "if(a==5 or b==2):\n",
    " print(\"some other thing\")\n",
    "\n",
    "if(not b==9):\n",
    " print(\"b is not equal to 9\")"
   ]
  },
  {
   "cell_type": "markdown",
   "metadata": {
    "id": "CcPb8jUeN2hs"
   },
   "source": [
    "## Example Problem: Adding Reversed Numbers\n",
    "\n",
    "Based on the SPOJ.com problem: https://www.spoj.com/problems/ADDREV/\n",
    "\n",
    "Given two integers, reverse their digits and add them."
   ]
  },
  {
   "cell_type": "code",
   "execution_count": 22,
   "metadata": {
    "ExecuteTime": {
     "end_time": "2021-02-11T16:34:25.526388Z",
     "start_time": "2021-02-11T16:34:22.751261Z"
    },
    "id": "S6_wNTeNN6s3"
   },
   "outputs": [
    {
     "name": "stdout",
     "output_type": "stream",
     "text": [
      "Enter the numbers separated by a space: 24 1\n",
      "43\n"
     ]
    }
   ],
   "source": [
    "#enter your code here\n",
    "txt = input(\"Enter the numbers separated by a space: \")   #Takes in any input as a string\n",
    "x, y = txt.split(' ')          # The split function splits any string according to the delimiter given\n",
    "\n",
    "#Now since x and y are still strings, lets use string operations to reverse the number!!\n",
    "\n",
    "def strrev(string):\n",
    "    reversedString = ''\n",
    "    index = len(string) # calculate length of string and save in index\n",
    "    while index > 0: \n",
    "        reversedString += string[ index - 1 ] # save the value of str[index-1] in reverseString\n",
    "        index = index - 1 # decrement index\n",
    "    return reversedString\n",
    "y_reversed = int(strrev(y))\n",
    "x_reversed = int(strrev(x))\n",
    "print(x_reversed + y_reversed)"
   ]
  },
  {
   "cell_type": "markdown",
   "metadata": {
    "id": "CS60e1NYSsPF"
   },
   "source": [
    "## Lists\n",
    "\n",
    "A list is a collections of entries that is ordered and can be changed. They also allow duplicate entries. Entries of a list don't need to be of the same datatype. Look at some of the examples given below"
   ]
  },
  {
   "cell_type": "code",
   "execution_count": 23,
   "metadata": {
    "ExecuteTime": {
     "end_time": "2021-02-11T16:34:25.540203Z",
     "start_time": "2021-02-11T16:34:25.532658Z"
    },
    "colab": {
     "base_uri": "https://localhost:8080/"
    },
    "id": "4wiQa7F2UHlW",
    "outputId": "6e312cef-149f-4d5a-c68d-3d977869e70c"
   },
   "outputs": [
    {
     "name": "stdout",
     "output_type": "stream",
     "text": [
      "['Hello', 2, True, 'The End']\n"
     ]
    }
   ],
   "source": [
    "a = ['Hello', 2, True, 'The End']\n",
    "print(a)"
   ]
  },
  {
   "cell_type": "markdown",
   "metadata": {
    "id": "dRs1GBq7Ugy7"
   },
   "source": [
    "You can access individual members of the list too!!\n",
    "\n",
    "Remember that the indexing starts from 0\n"
   ]
  },
  {
   "cell_type": "code",
   "execution_count": 24,
   "metadata": {
    "ExecuteTime": {
     "end_time": "2021-02-11T16:34:25.597910Z",
     "start_time": "2021-02-11T16:34:25.546628Z"
    },
    "colab": {
     "base_uri": "https://localhost:8080/"
    },
    "id": "axYsVW_rUcGJ",
    "outputId": "56e7831b-b4a1-4d5f-89ef-92fccaa62be8"
   },
   "outputs": [
    {
     "name": "stdout",
     "output_type": "stream",
     "text": [
      "Hello True\n"
     ]
    }
   ],
   "source": [
    "print(a[0], a[2])"
   ]
  },
  {
   "cell_type": "markdown",
   "metadata": {
    "id": "xK8i9lQxX3A8"
   },
   "source": [
    "You can find out about the length of a list using the len function"
   ]
  },
  {
   "cell_type": "code",
   "execution_count": 25,
   "metadata": {
    "ExecuteTime": {
     "end_time": "2021-02-11T16:34:26.867147Z",
     "start_time": "2021-02-11T16:34:25.603861Z"
    },
    "colab": {
     "base_uri": "https://localhost:8080/"
    },
    "id": "a3LOpfp1X7B0",
    "outputId": "7eb96daf-cc23-4f51-d135-aa4babb0ae15"
   },
   "outputs": [
    {
     "name": "stdout",
     "output_type": "stream",
     "text": [
      "4\n"
     ]
    }
   ],
   "source": [
    "print(len(a))"
   ]
  },
  {
   "cell_type": "markdown",
   "metadata": {
    "id": "SZGJrWIzU4lj"
   },
   "source": [
    "You learnt about for loops earlier right? Let's use that to make a slightly bigger list using the append function"
   ]
  },
  {
   "cell_type": "code",
   "execution_count": 26,
   "metadata": {
    "ExecuteTime": {
     "end_time": "2021-02-11T16:34:26.926216Z",
     "start_time": "2021-02-11T16:34:26.873351Z"
    },
    "colab": {
     "base_uri": "https://localhost:8080/"
    },
    "id": "IzH-z3MpU1WE",
    "outputId": "1f8d5538-f04d-4c9c-90d9-76819b6e0d57"
   },
   "outputs": [
    {
     "name": "stdout",
     "output_type": "stream",
     "text": [
      "[0, 1, 2, 3, 4, 5, 6, 7, 8, 9]\n"
     ]
    }
   ],
   "source": [
    "b = []                    #Declare an empty list to which we will add elements\n",
    "\n",
    "for num in range(10):\n",
    "  b.append(num)           # It's that simple!!!!\n",
    "\n",
    "print(b)"
   ]
  },
  {
   "cell_type": "code",
   "execution_count": 27,
   "metadata": {
    "ExecuteTime": {
     "end_time": "2021-02-11T16:34:26.978731Z",
     "start_time": "2021-02-11T16:34:26.931882Z"
    },
    "id": "5RgELBVUanRW"
   },
   "outputs": [],
   "source": [
    "# Code along with us\n",
    "# Let us make a list called big_numbers and append all 4 digit numbers to the list\n",
    "big_numbers = []\n",
    "\n",
    "for num in range(1000, 10000):\n",
    "    big_numbers.append(num)"
   ]
  },
  {
   "cell_type": "markdown",
   "metadata": {
    "id": "gwWIg0dzVcy_"
   },
   "source": [
    "Now let's take a scenario, where you made the list b and you've been asked to extract the second till the seventh element. Will you go through typing b[1], b[2], b[3] and so on? What if we take list big_numbers and you were required to extract 500 of those entries? Too much of a pain? Well worry not! Python allows for a simpler way to extract these elements"
   ]
  },
  {
   "cell_type": "code",
   "execution_count": 28,
   "metadata": {
    "ExecuteTime": {
     "end_time": "2021-02-11T16:34:27.033169Z",
     "start_time": "2021-02-11T16:34:26.983914Z"
    },
    "colab": {
     "base_uri": "https://localhost:8080/"
    },
    "id": "n-fQVTzsVZC7",
    "outputId": "1364c5d2-a026-4907-9ee0-3d7ad2891bc3"
   },
   "outputs": [
    {
     "name": "stdout",
     "output_type": "stream",
     "text": [
      "[1, 2, 3, 4, 5, 6]\n"
     ]
    }
   ],
   "source": [
    "print( b[1:7] )   # Yes that's right, you can slice these elements in this manner. [start_index : end_index + 1]"
   ]
  },
  {
   "cell_type": "code",
   "execution_count": 29,
   "metadata": {
    "ExecuteTime": {
     "end_time": "2021-02-11T16:34:27.083977Z",
     "start_time": "2021-02-11T16:34:27.035040Z"
    },
    "colab": {
     "base_uri": "https://localhost:8080/"
    },
    "id": "mld8GmWqWYr_",
    "outputId": "ed3464a7-6697-49a2-fa3d-17676d77d662"
   },
   "outputs": [
    {
     "name": "stdout",
     "output_type": "stream",
     "text": [
      "[1, 2, 3, 4, 5, 6, 7, 8, 9]\n"
     ]
    }
   ],
   "source": [
    "# You can also extract all the elements till the end in the following way\n",
    "print( b[1:] )"
   ]
  },
  {
   "cell_type": "markdown",
   "metadata": {
    "id": "Qvpyf964WlTf"
   },
   "source": [
    "Did you know that python allows you to extract negative indices too? You might be thinking about how that works right? Well whenever we provide python a negative index we essentially ask it to start at the end of the list and go backwards while indexing"
   ]
  },
  {
   "cell_type": "code",
   "execution_count": 30,
   "metadata": {
    "ExecuteTime": {
     "end_time": "2021-02-11T16:34:27.137494Z",
     "start_time": "2021-02-11T16:34:27.086002Z"
    },
    "colab": {
     "base_uri": "https://localhost:8080/"
    },
    "id": "19Bxunc7Wjkg",
    "outputId": "274fb69e-94f3-47b6-a203-2b91c15e5fcd"
   },
   "outputs": [
    {
     "name": "stdout",
     "output_type": "stream",
     "text": [
      "9\n"
     ]
    }
   ],
   "source": [
    "print( b[-1] ) # SPOILER ALERT: It will print the last element!"
   ]
  },
  {
   "cell_type": "code",
   "execution_count": 31,
   "metadata": {
    "ExecuteTime": {
     "end_time": "2021-02-11T16:34:27.197967Z",
     "start_time": "2021-02-11T16:34:27.142254Z"
    },
    "colab": {
     "base_uri": "https://localhost:8080/"
    },
    "id": "2924B0eVW5-D",
    "outputId": "1c1335de-83de-40b4-cd44-9d3f8f14b1d7"
   },
   "outputs": [
    {
     "name": "stdout",
     "output_type": "stream",
     "text": [
      "[6, 7]\n"
     ]
    }
   ],
   "source": [
    "print( b[-4: -2])"
   ]
  },
  {
   "cell_type": "markdown",
   "metadata": {
    "id": "gQrkNqTmXPiM"
   },
   "source": [
    "Now what do we do if we want to increment all the elements of b by 2 and store it in a new list c? You'll most probably think of something like this"
   ]
  },
  {
   "cell_type": "code",
   "execution_count": 32,
   "metadata": {
    "ExecuteTime": {
     "end_time": "2021-02-11T16:34:27.253922Z",
     "start_time": "2021-02-11T16:34:27.211215Z"
    },
    "colab": {
     "base_uri": "https://localhost:8080/"
    },
    "id": "8xogBguCXEGQ",
    "outputId": "6d2321ad-9498-4b26-eb87-61de5de39524"
   },
   "outputs": [
    {
     "name": "stdout",
     "output_type": "stream",
     "text": [
      "[2, 3, 4, 5, 6, 7, 8, 9, 10, 11]\n"
     ]
    }
   ],
   "source": [
    "c = []\n",
    "\n",
    "for i in range(len(b)):\n",
    "  c.append(2 + b[i])\n",
    "\n",
    "print(c)"
   ]
  },
  {
   "cell_type": "markdown",
   "metadata": {
    "id": "HtMCU2kxYMbR"
   },
   "source": [
    "While in theory this is essentially what is happening, there is another way which is much smaller which python allows for. It's called List Comperehension. Look at the following example"
   ]
  },
  {
   "cell_type": "code",
   "execution_count": 33,
   "metadata": {
    "ExecuteTime": {
     "end_time": "2021-02-11T16:34:27.304538Z",
     "start_time": "2021-02-11T16:34:27.257181Z"
    },
    "colab": {
     "base_uri": "https://localhost:8080/"
    },
    "id": "Qnb6vKZkXXgV",
    "outputId": "6c748fed-9ccd-41cb-c004-acb0d16b4e77"
   },
   "outputs": [
    {
     "name": "stdout",
     "output_type": "stream",
     "text": [
      "[2, 3, 4, 5, 6, 7, 8, 9, 10, 11]\n"
     ]
    }
   ],
   "source": [
    "c = [x+2 for x in b]\n",
    "\n",
    "print(c)"
   ]
  },
  {
   "cell_type": "markdown",
   "metadata": {
    "id": "9rXTpR2EYsV6"
   },
   "source": [
    "As you can see we've got the same results!!\n",
    "\n",
    "Let's try out an example"
   ]
  },
  {
   "cell_type": "code",
   "execution_count": 39,
   "metadata": {
    "ExecuteTime": {
     "end_time": "2021-02-11T16:35:07.544517Z",
     "start_time": "2021-02-11T16:35:07.535252Z"
    },
    "id": "mJjRbWWTZ6Ec"
   },
   "outputs": [
    {
     "data": {
      "text/plain": [
       "[42, 8, 9, 10, 11]"
      ]
     },
     "execution_count": 39,
     "metadata": {},
     "output_type": "execute_result"
    }
   ],
   "source": [
    "# Code along with us!!\n",
    "# Let us make a new list d whose entries are those entries in c which are greater than 6\n",
    "\n",
    "d = [x for x in c if x>6]\n",
    "d"
   ]
  },
  {
   "cell_type": "markdown",
   "metadata": {
    "id": "32qEoBnaZyXj"
   },
   "source": [
    "Well what do we do if we want to change the 3rd element of the list c to the number 42?"
   ]
  },
  {
   "cell_type": "code",
   "execution_count": 35,
   "metadata": {
    "ExecuteTime": {
     "end_time": "2021-02-11T16:34:40.876947Z",
     "start_time": "2021-02-11T16:34:40.869628Z"
    },
    "colab": {
     "base_uri": "https://localhost:8080/"
    },
    "id": "G0dUISuaYgJn",
    "outputId": "8e621f9e-488b-475d-b3a9-f56ce98e87b4"
   },
   "outputs": [
    {
     "name": "stdout",
     "output_type": "stream",
     "text": [
      "[2, 3, 42, 5, 6, 7, 8, 9, 10, 11]\n"
     ]
    }
   ],
   "source": [
    "# We simply do\n",
    "c[2] = 42\n",
    "\n",
    "print(c)"
   ]
  },
  {
   "cell_type": "markdown",
   "metadata": {
    "id": "gxYNfrUnZLVS"
   },
   "source": [
    "As you can see the third element of the list has changed\n",
    "\n",
    "Let us try removing one element from somewhere in between. Let's remove 7 from the list c"
   ]
  },
  {
   "cell_type": "code",
   "execution_count": 36,
   "metadata": {
    "ExecuteTime": {
     "end_time": "2021-02-11T16:34:41.626381Z",
     "start_time": "2021-02-11T16:34:41.618658Z"
    },
    "colab": {
     "base_uri": "https://localhost:8080/"
    },
    "id": "fIPI9YHoZJfX",
    "outputId": "df633d85-3fb9-4cea-c709-0c97695a6af1"
   },
   "outputs": [
    {
     "name": "stdout",
     "output_type": "stream",
     "text": [
      "[2, 3, 42, 5, 6, 8, 9, 10, 11]\n"
     ]
    }
   ],
   "source": [
    "c.remove(7)\n",
    "\n",
    "print(c)"
   ]
  },
  {
   "cell_type": "markdown",
   "metadata": {
    "id": "u4y75yWabPuC"
   },
   "source": [
    "## Tuples\n",
    "A tuple is a collection of entries which are ordered in the same way as lists but cannot be changed.\n",
    "\n",
    "All the regular list operations apply to tuples except for those which attempt to change it's own value"
   ]
  },
  {
   "cell_type": "code",
   "execution_count": 37,
   "metadata": {
    "ExecuteTime": {
     "end_time": "2021-02-11T16:34:43.465382Z",
     "start_time": "2021-02-11T16:34:43.457882Z"
    },
    "colab": {
     "base_uri": "https://localhost:8080/"
    },
    "id": "URkdzxTrZhaK",
    "outputId": "8bc97d93-50bd-4910-f7be-1919defd7360"
   },
   "outputs": [
    {
     "name": "stdout",
     "output_type": "stream",
     "text": [
      "(1, 2, 3, 4, 5, 6)\n"
     ]
    }
   ],
   "source": [
    "# Let us define a tuple\n",
    "\n",
    "tup_a = (1,2,3,4,5,6)\n",
    "\n",
    "print(tup_a)"
   ]
  },
  {
   "cell_type": "markdown",
   "metadata": {
    "id": "1F1xXCSLcI4J"
   },
   "source": [
    "Let us try changing the entry of a tuple and see what happens"
   ]
  },
  {
   "cell_type": "code",
   "execution_count": 38,
   "metadata": {
    "ExecuteTime": {
     "end_time": "2021-02-11T16:34:46.128981Z",
     "start_time": "2021-02-11T16:34:46.121487Z"
    },
    "colab": {
     "base_uri": "https://localhost:8080/",
     "height": 162
    },
    "id": "S2gWKYTYbshj",
    "outputId": "a67ec213-6c75-4fa6-c759-ceee698f9cac"
   },
   "outputs": [
    {
     "ename": "TypeError",
     "evalue": "'tuple' object does not support item assignment",
     "output_type": "error",
     "traceback": [
      "\u001b[0;31m---------------------------------------------------------------------------\u001b[0m",
      "\u001b[0;31mTypeError\u001b[0m                                 Traceback (most recent call last)",
      "\u001b[0;32m<ipython-input-38-6b822e1b98b1>\u001b[0m in \u001b[0;36m<module>\u001b[0;34m\u001b[0m\n\u001b[0;32m----> 1\u001b[0;31m \u001b[0mtup_a\u001b[0m\u001b[0;34m[\u001b[0m\u001b[0;36m2\u001b[0m\u001b[0;34m]\u001b[0m \u001b[0;34m=\u001b[0m \u001b[0;36m42\u001b[0m\u001b[0;34m\u001b[0m\u001b[0;34m\u001b[0m\u001b[0m\n\u001b[0m",
      "\u001b[0;31mTypeError\u001b[0m: 'tuple' object does not support item assignment"
     ]
    }
   ],
   "source": [
    "tup_a[2] = 42"
   ]
  },
  {
   "cell_type": "markdown",
   "metadata": {
    "id": "ZgdfAOoJcSEk"
   },
   "source": [
    "Oh no, it errored out :(\n",
    "  \n",
    "But this was expected right?"
   ]
  },
  {
   "cell_type": "code",
   "execution_count": 40,
   "metadata": {
    "ExecuteTime": {
     "end_time": "2021-02-11T16:35:50.043490Z",
     "start_time": "2021-02-11T16:35:50.034462Z"
    },
    "id": "P1aZw2WXcQs2"
   },
   "outputs": [
    {
     "name": "stdout",
     "output_type": "stream",
     "text": [
      "[6, 8, 10]\n",
      "(3, 4, 5)\n"
     ]
    }
   ],
   "source": [
    "# Code along with us\n",
    "# Make a new list e which has double the values of tuple a and select the 3rd till 5th element (both inclusive) of both list b and tuple tup_a to compare\n",
    "\n",
    "e = [2*x for x in tup_a]\n",
    "\n",
    "print(e[2:5])\n",
    "print(tup_a[2:5])"
   ]
  },
  {
   "cell_type": "markdown",
   "metadata": {
    "id": "4K_M7yPdrnrL"
   },
   "source": [
    "## Sets\n",
    "A collection of items that is both unordered and unindexed and doesn't allow duplicate values is called a set. Its main usage is to store multiple items in a single variable.\n"
   ]
  },
  {
   "cell_type": "code",
   "execution_count": null,
   "metadata": {
    "colab": {
     "base_uri": "https://localhost:8080/"
    },
    "id": "xTUCNWINsMWx",
    "outputId": "46c3b64e-435c-4265-ffda-d3db933fa4ef"
   },
   "outputs": [
    {
     "name": "stdout",
     "output_type": "stream",
     "text": [
      "{'apple', 'cherry', 'banana'}\n",
      "{'apple', 'cherry', 'banana'}\n"
     ]
    }
   ],
   "source": [
    "thisset = {\"apple\", \"banana\", \"cherry\"}\n",
    "print(thisset) \n",
    "\n",
    "#Another way to define it\n",
    "thisset = set([\"apple\", \"banana\", \"cherry\"])\n",
    "print(thisset)"
   ]
  },
  {
   "cell_type": "markdown",
   "metadata": {
    "id": "ifOGk8mVse6x"
   },
   "source": [
    "Well now that we know how to define a set let's go ahead and see some set operations"
   ]
  },
  {
   "cell_type": "code",
   "execution_count": null,
   "metadata": {
    "colab": {
     "base_uri": "https://localhost:8080/"
    },
    "id": "TX9ZyfoKsnvV",
    "outputId": "c7921ca3-f6a7-4707-d1df-f7aac3da76db"
   },
   "outputs": [
    {
     "name": "stdout",
     "output_type": "stream",
     "text": [
      "{1, 2, 3, 4, 5, 6, 7} {1, 2, 3, 4, 5}\n",
      "{1, 2, 3, 4, 5}\n",
      "{1, 2, 3, 4, 5, 6, 7}\n"
     ]
    }
   ],
   "source": [
    "one=set([4,5,6,7,1,2,3]) \n",
    "two=set([4,5,3,2,1,2]) \n",
    " \n",
    "print(\"The sets: \", one, two)\n",
    "print (\"Intersection: \",one & two) \n",
    "print (\"Union: \",one | two) \n",
    "print(\"Difference: \",one - two)"
   ]
  },
  {
   "cell_type": "markdown",
   "metadata": {
    "id": "m0UoxWLguXuI"
   },
   "source": [
    "As you can see with set two, the value which was repeated has got deleted while creating the set"
   ]
  },
  {
   "cell_type": "markdown",
   "metadata": {
    "id": "vS5HsK0RdTfR"
   },
   "source": [
    "# Dictionaries\n",
    "\n",
    "A dictionary is a collection of key value pairs which is ordered, changable and does not allow duplicate members. \n",
    "\n",
    "Too much terminology which doesn't make sense?\n",
    "\n",
    "Don't worry about it! Let's consider an analogy. \n",
    "\n",
    "What do you do when you save your close friend Manish's phone number on your phone? You type in their name followed by their phone number so that when they call you, you don't just see 10 digits staring at your face but instead see your friend's name. Well while saving that friend's number you have essentially created a dictionary!!!!\n",
    "\n",
    "You have used the friend's name as the key and his/her phone number as the value in the key value pair of the dictionary"
   ]
  },
  {
   "cell_type": "code",
   "execution_count": null,
   "metadata": {
    "colab": {
     "base_uri": "https://localhost:8080/"
    },
    "id": "1w3OBj3qclkS",
    "outputId": "5300a6a9-56a5-48f7-9067-845f94d0087e"
   },
   "outputs": [
    {
     "name": "stdout",
     "output_type": "stream",
     "text": [
      "{'Manish': 9937593721}\n"
     ]
    }
   ],
   "source": [
    "phone_num = {'Manish': 9937593721}  # This is just a random number I typed which starts with 9 please don't call this number, I don't even know if it's valid.\n",
    "\n",
    "print(phone_num)"
   ]
  },
  {
   "cell_type": "markdown",
   "metadata": {
    "id": "phbwHsM2e4vG"
   },
   "source": [
    "You go on and meet another friend of yours whose name is Harish. He gives you his number so once again you save this number"
   ]
  },
  {
   "cell_type": "code",
   "execution_count": null,
   "metadata": {
    "colab": {
     "base_uri": "https://localhost:8080/"
    },
    "id": "pYXwIccXejoA",
    "outputId": "8390ddf0-6ff9-429e-ed66-b0be0ba1df21"
   },
   "outputs": [
    {
     "name": "stdout",
     "output_type": "stream",
     "text": [
      "{'Manish': 9937593721, 'Harish': 9203848363}\n"
     ]
    }
   ],
   "source": [
    "phone_num['Harish'] = 9203848363  # You can make a new entry by mentioning the key and the value as shown\n",
    "\n",
    "print(phone_num)"
   ]
  },
  {
   "cell_type": "markdown",
   "metadata": {
    "id": "4yzuSfxofYu0"
   },
   "source": [
    "While you were talking to Harish, somewhere in the conversation Harish tells you that very recently he had switched his phone and he lost all his contacts. He asks you to give him Manish's number as they too are good friends. But wait none of us actually remember all our friends numbers do we? :P\n",
    "\n",
    "Well the dictionary you created can be used for this purpose!"
   ]
  },
  {
   "cell_type": "code",
   "execution_count": null,
   "metadata": {
    "colab": {
     "base_uri": "https://localhost:8080/"
    },
    "id": "bjcR9K5CfXiY",
    "outputId": "d4d768ad-c5ea-4d00-8e83-67cf2abcd842"
   },
   "outputs": [
    {
     "name": "stdout",
     "output_type": "stream",
     "text": [
      "9937593721\n"
     ]
    }
   ],
   "source": [
    "print( phone_num['Manish'] )"
   ]
  },
  {
   "cell_type": "markdown",
   "metadata": {
    "id": "gBrdOk2AgHDB"
   },
   "source": [
    "While you're talking Harish who is a little absent minded suddenly remembers that he gave you his old phone number by mistake and now wants you to save his new number. Well how do we do that with dictionaries?"
   ]
  },
  {
   "cell_type": "code",
   "execution_count": null,
   "metadata": {
    "colab": {
     "base_uri": "https://localhost:8080/"
    },
    "id": "ZE_dJ1fmf8sS",
    "outputId": "69b5d796-b549-4b29-8639-9b8ef82409ba"
   },
   "outputs": [
    {
     "name": "stdout",
     "output_type": "stream",
     "text": [
      "{'Manish': 9937593721, 'Harish': 9694038272}\n"
     ]
    }
   ],
   "source": [
    "phone_num['Harish'] = 9694038272   # It's that simple!\n",
    "\n",
    "print(phone_num)"
   ]
  },
  {
   "cell_type": "markdown",
   "metadata": {
    "id": "2JIRnXORgqaj"
   },
   "source": [
    "And while he's at it, he asks you to also save his email ID just in case something goes wrong. Well you might be thinking how do we do that? \n",
    "\n",
    "Did you know that python also allows us to make a dictionary inside a dictionary?"
   ]
  },
  {
   "cell_type": "code",
   "execution_count": null,
   "metadata": {
    "colab": {
     "base_uri": "https://localhost:8080/"
    },
    "id": "s8fth1AQgd2V",
    "outputId": "d31c228a-87f4-4015-8ef9-21c4746448a2"
   },
   "outputs": [
    {
     "name": "stdout",
     "output_type": "stream",
     "text": [
      "{'Manish': 9937593721, 'Harish': {'number': 9694038272, 'email': 'harishsinha2002@abc.com'}}\n"
     ]
    }
   ],
   "source": [
    "phone_num['Harish'] = {'number': 9694038272, 'email': 'harishsinha2002@abc.com'}\n",
    "\n",
    "print(phone_num)"
   ]
  },
  {
   "cell_type": "markdown",
   "metadata": {
    "id": "PmDjjVD_hhLe"
   },
   "source": [
    "Well how convenient is that?"
   ]
  },
  {
   "cell_type": "markdown",
   "metadata": {
    "id": "kps0oPRQirDq"
   },
   "source": [
    "## Functions\n",
    "\n",
    "Functions are \"self contained\" modules of code that accomplish a specific task. \n",
    "Functions usually \"take in\" data, process it, and \"return\" a result. \n",
    "Once a function is written, it can be used over and over and over again. "
   ]
  },
  {
   "cell_type": "code",
   "execution_count": null,
   "metadata": {
    "colab": {
     "base_uri": "https://localhost:8080/"
    },
    "id": "Pcpf_vuihfxN",
    "outputId": "a6ece846-ce3d-4e3f-a842-5e200f4325d4"
   },
   "outputs": [
    {
     "name": "stdout",
     "output_type": "stream",
     "text": [
      "5\n"
     ]
    }
   ],
   "source": [
    "def add_nums(a, b):\n",
    "  return a+b\n",
    "\n",
    "print(add_nums(2,3))"
   ]
  },
  {
   "cell_type": "markdown",
   "metadata": {
    "id": "UB8Dmu16jGHe"
   },
   "source": [
    "Well at this point you might think, why do we even need functions? it would be easier to type a+b than add_nums(a,b)\n",
    "\n",
    "But what happens when you have bigger pieces of code that you want to run?\n",
    "\n",
    "Let's say you want to check if a number is even or odd"
   ]
  },
  {
   "cell_type": "code",
   "execution_count": null,
   "metadata": {
    "id": "nBGuqI1Gi7OL"
   },
   "outputs": [],
   "source": [
    "def odd_even(num):\n",
    "  if num % 2 == 0:\n",
    "    return 'Even'\n",
    "  else:\n",
    "    return 'Odd'"
   ]
  },
  {
   "cell_type": "code",
   "execution_count": null,
   "metadata": {
    "colab": {
     "base_uri": "https://localhost:8080/"
    },
    "id": "v4azWl0PjkXp",
    "outputId": "74f9e244-be01-4d39-8a6f-691ba09c4236"
   },
   "outputs": [
    {
     "name": "stdout",
     "output_type": "stream",
     "text": [
      "Even Even Odd\n"
     ]
    }
   ],
   "source": [
    "print(odd_even(4), odd_even(6), odd_even(5))"
   ]
  },
  {
   "cell_type": "markdown",
   "metadata": {
    "id": "3jBci86hjxiF"
   },
   "source": [
    "Didn't that just save us a lot of time and unnecesary typing of code?"
   ]
  },
  {
   "cell_type": "markdown",
   "metadata": {
    "id": "bhBw5fP1nO8b"
   },
   "source": [
    "Let's Solve a question to actually get an idea of what's happening\n",
    "\n",
    "Write a function in python to take in a list a and a number d. Rotate the array a to the left by one step d times and return the output\n",
    "\n",
    "Detialed problem statement can be found [here](https://www.hackerrank.com/challenges/array-left-rotation/problem)"
   ]
  },
  {
   "cell_type": "code",
   "execution_count": null,
   "metadata": {
    "id": "6Vnp4ArQjvcs"
   },
   "outputs": [],
   "source": [
    "def rotLeft(a, d):\n",
    "    shift = d % len(a)  \n",
    "    arr = [0]*len(a)    \n",
    "    for i in range(len(a)):\n",
    "        arr[i-shift] = a[i]\n",
    "    \n",
    "    return arr"
   ]
  },
  {
   "cell_type": "markdown",
   "metadata": {
    "id": "-zf1fYurc44t"
   },
   "source": [
    "# **Python Libraries**\n"
   ]
  },
  {
   "cell_type": "markdown",
   "metadata": {
    "id": "W0oO8A2ZeJcW"
   },
   "source": [
    "What is a Library? <br> A collection of modules used for specific applications.<br>\n",
    "Popular Libraries in Python\n",
    "\n",
    "*   NumPy\n",
    "*   Pandas\n",
    "*   OpenCV\n",
    "*   Matplotlib\n",
    "*   Scipy\n",
    "*   Tensorflow\n",
    "*   PyTorch \n",
    "<br> and many more...\n",
    "\n"
   ]
  },
  {
   "cell_type": "markdown",
   "metadata": {
    "id": "4-klPa_WjHqJ"
   },
   "source": [
    "##Importing a Library\n",
    "We use 'import' to get access to the functions of the library"
   ]
  },
  {
   "cell_type": "code",
   "execution_count": null,
   "metadata": {
    "id": "AAFfN0TsjYgn"
   },
   "outputs": [],
   "source": [
    "# importing numpy library with the keyword as np\n",
    "# Syntax: import <library_name> as <shorthand_notation> \n",
    "# Note: as part is optional, but recommended\n",
    "import numpy as np"
   ]
  },
  {
   "cell_type": "markdown",
   "metadata": {
    "id": "IgdsDeZBjeLI"
   },
   "source": [
    "Here, we use a short hand notation for NumPy as 'np' while importing. Trust me, it saves time :)"
   ]
  },
  {
   "cell_type": "markdown",
   "metadata": {
    "id": "S9LxCd_Ciram"
   },
   "source": [
    "# Introduction to NumPy\n",
    "What is NumPy? <br>\n",
    "A python library used to deal with large multidimensional arrays. <br>\n"
   ]
  },
  {
   "cell_type": "code",
   "execution_count": null,
   "metadata": {
    "id": "z1cVCp6Om8ms"
   },
   "outputs": [],
   "source": [
    "#Code along with us\n",
    "#x=np.array([9,23,32,47,53])\n",
    "#print(x, type(x))"
   ]
  },
  {
   "cell_type": "markdown",
   "metadata": {
    "id": "PRrqtg4fkpRo"
   },
   "source": [
    "Bro, we already have Lists and Tuples right? Why NumPy? <br>\n",
    "Let's compare"
   ]
  },
  {
   "cell_type": "code",
   "execution_count": null,
   "metadata": {
    "id": "1nYkT8ADd4pa"
   },
   "outputs": [],
   "source": [
    "N = 100000"
   ]
  },
  {
   "cell_type": "markdown",
   "metadata": {
    "id": "wTamN8S5lSBk"
   },
   "source": [
    "Let's create a list with N entries containing integers from 0 to N-1 and multiply it element-wise with itself.<br> %%time will time the operation."
   ]
  },
  {
   "cell_type": "code",
   "execution_count": null,
   "metadata": {
    "colab": {
     "base_uri": "https://localhost:8080/"
    },
    "id": "LNLzAdSrk0am",
    "outputId": "6d2f272f-c09c-4cc6-c6ae-e9456fa802d6"
   },
   "outputs": [
    {
     "name": "stdout",
     "output_type": "stream",
     "text": [
      "CPU times: user 21.9 s, sys: 2.03 s, total: 23.9 s\n",
      "Wall time: 24 s\n"
     ]
    }
   ],
   "source": [
    "%%time\n",
    "list_ = list(range(N))\n",
    "for i in range(N):\n",
    "    list_[i] = list_[i] * list_[i]"
   ]
  },
  {
   "cell_type": "markdown",
   "metadata": {
    "id": "6AHFz9l7mKr7"
   },
   "source": [
    "Now, let's replicate this process using NumPy. Observe the simplicity in syntax and the latency"
   ]
  },
  {
   "cell_type": "code",
   "execution_count": null,
   "metadata": {
    "colab": {
     "base_uri": "https://localhost:8080/"
    },
    "id": "_3jeUsRtmX_L",
    "outputId": "801d78c3-4cf0-4316-dd69-91e4188d88d1"
   },
   "outputs": [
    {
     "name": "stdout",
     "output_type": "stream",
     "text": [
      "CPU times: user 209 ms, sys: 461 ms, total: 670 ms\n",
      "Wall time: 680 ms\n"
     ]
    }
   ],
   "source": [
    "%%time\n",
    "arr = np.arange(N)\n",
    "arr = arr * arr"
   ]
  },
  {
   "cell_type": "markdown",
   "metadata": {
    "id": "1t2xPoV9Nj9x"
   },
   "source": [
    "## Creating NumPy arrays"
   ]
  },
  {
   "cell_type": "code",
   "execution_count": null,
   "metadata": {
    "colab": {
     "base_uri": "https://localhost:8080/"
    },
    "id": "O1PvcfTJN1qi",
    "outputId": "2449773c-12d0-4a49-ccd7-3ece6eb5a8f3"
   },
   "outputs": [
    {
     "name": "stdout",
     "output_type": "stream",
     "text": [
      "int64\n",
      "1\n",
      "(12,)\n",
      "12\n"
     ]
    }
   ],
   "source": [
    "# Creating an array\n",
    "arr = np.arange(12)\n",
    "# Datatype of entries in np array\n",
    "print(arr.dtype)\n",
    "# Dimension of np array\n",
    "print(arr.ndim)\n",
    "# Shape of array\n",
    "print(arr.shape)\n",
    "# Size of array\n",
    "print(arr.size)"
   ]
  },
  {
   "cell_type": "markdown",
   "metadata": {
    "id": "a9wtsEgEPQtA"
   },
   "source": [
    "Let's create a 2 Dimensional array"
   ]
  },
  {
   "cell_type": "code",
   "execution_count": 42,
   "metadata": {
    "ExecuteTime": {
     "end_time": "2021-02-11T16:36:56.997797Z",
     "start_time": "2021-02-11T16:36:56.987202Z"
    },
    "id": "lrIZvvGYPc3b"
   },
   "outputs": [
    {
     "data": {
      "text/plain": [
       "array([[-2.04167351, -1.57521836,  0.30600353],\n",
       "       [-0.86817682, -0.85993279, -0.47049219]])"
      ]
     },
     "execution_count": 42,
     "metadata": {},
     "output_type": "execute_result"
    }
   ],
   "source": [
    "# Code along with us\n",
    "arr = np.random.randn(2,3)\n",
    "arr"
   ]
  },
  {
   "cell_type": "markdown",
   "metadata": {
    "id": "I5UsVrfaoRiS"
   },
   "source": [
    "## Understanding dimension and shape of an array\n",
    "Try making a 3 Dimensional array. How about a 4 dimensional array? It's getting more complicated? <br>\n",
    "No worries, we have NumPy functions to create some basic arrays of required dimensions"
   ]
  },
  {
   "cell_type": "code",
   "execution_count": null,
   "metadata": {
    "colab": {
     "base_uri": "https://localhost:8080/"
    },
    "id": "A7TXVq-JpGjk",
    "outputId": "87809c28-e2f7-47f5-bb0e-5c8381fa6357"
   },
   "outputs": [
    {
     "data": {
      "text/plain": [
       "array([[[1., 1., 1., 1.],\n",
       "        [1., 1., 1., 1.],\n",
       "        [1., 1., 1., 1.]],\n",
       "\n",
       "       [[1., 1., 1., 1.],\n",
       "        [1., 1., 1., 1.],\n",
       "        [1., 1., 1., 1.]]])"
      ]
     },
     "execution_count": 8,
     "metadata": {
      "tags": []
     },
     "output_type": "execute_result"
    }
   ],
   "source": [
    "# Create a 2x3x4 array with ones\n",
    "np.ones((2,3,4))"
   ]
  },
  {
   "cell_type": "code",
   "execution_count": 45,
   "metadata": {
    "ExecuteTime": {
     "end_time": "2021-02-11T16:37:49.486650Z",
     "start_time": "2021-02-11T16:37:49.476420Z"
    },
    "colab": {
     "base_uri": "https://localhost:8080/",
     "height": 132
    },
    "id": "XhzrGuFyped2",
    "outputId": "1c6dc7e3-e997-46c1-a1f0-08f70fa2789c"
   },
   "outputs": [
    {
     "data": {
      "text/plain": [
       "array([[0., 0., 0.],\n",
       "       [0., 0., 0.],\n",
       "       [0., 0., 0.],\n",
       "       [0., 0., 0.],\n",
       "       [0., 0., 0.],\n",
       "       [0., 0., 0.],\n",
       "       [0., 0., 0.],\n",
       "       [0., 0., 0.],\n",
       "       [0., 0., 0.],\n",
       "       [0., 0., 0.]])"
      ]
     },
     "execution_count": 45,
     "metadata": {},
     "output_type": "execute_result"
    }
   ],
   "source": [
    "# Create a 10x3 array with zeros\n",
    "#Fill the code\n",
    "arr2 = np.zeros((10,3))\n",
    "arr2"
   ]
  },
  {
   "cell_type": "markdown",
   "metadata": {
    "id": "bv1h71nhUbre"
   },
   "source": [
    "Let's first define a **function** that gives all info about nature of array"
   ]
  },
  {
   "cell_type": "code",
   "execution_count": 46,
   "metadata": {
    "ExecuteTime": {
     "end_time": "2021-02-11T16:37:51.138564Z",
     "start_time": "2021-02-11T16:37:51.131526Z"
    },
    "id": "GeEEzhlrnieZ"
   },
   "outputs": [],
   "source": [
    "# Function code\n",
    "def array_info(arr):\n",
    "    print(\"dtype is\",arr.dtype)\n",
    "    print(\"shape is\",arr.shape)\n",
    "    print(\"Dimension is\",arr.ndim)\n",
    "    print(\"Size is\",arr.size,\"\\n\")  #\\n to separate the text in next function call with a new line char\n"
   ]
  },
  {
   "cell_type": "code",
   "execution_count": 47,
   "metadata": {
    "ExecuteTime": {
     "end_time": "2021-02-11T16:37:51.802366Z",
     "start_time": "2021-02-11T16:37:51.791272Z"
    },
    "colab": {
     "base_uri": "https://localhost:8080/",
     "height": 185
    },
    "id": "-or8aH6jUmqv",
    "outputId": "66e456ce-f073-447e-86f6-9ab66b0980af"
   },
   "outputs": [
    {
     "name": "stdout",
     "output_type": "stream",
     "text": [
      "dtype is float64\n",
      "shape is (10, 3)\n",
      "Dimension is 2\n",
      "Size is 30 \n",
      "\n"
     ]
    }
   ],
   "source": [
    "# Calling the function\n",
    "array_info(arr2)"
   ]
  },
  {
   "cell_type": "markdown",
   "metadata": {
    "id": "sbRoILevSSOz"
   },
   "source": [
    "Observe the difference between the following arrays"
   ]
  },
  {
   "cell_type": "code",
   "execution_count": 48,
   "metadata": {
    "ExecuteTime": {
     "end_time": "2021-02-11T16:37:56.508873Z",
     "start_time": "2021-02-11T16:37:56.494501Z"
    },
    "colab": {
     "base_uri": "https://localhost:8080/"
    },
    "id": "KhlJlUbuSQal",
    "outputId": "a52d0909-a4ea-4eec-bba8-9402944d3ea3"
   },
   "outputs": [
    {
     "name": "stdout",
     "output_type": "stream",
     "text": [
      "dtype is float64\n",
      "shape is (6,)\n",
      "Dimension is 1\n",
      "Size is 6 \n",
      "\n",
      "dtype is float64\n",
      "shape is (6, 1)\n",
      "Dimension is 2\n",
      "Size is 6 \n",
      "\n",
      "dtype is float64\n",
      "shape is (2, 3)\n",
      "Dimension is 2\n",
      "Size is 6 \n",
      "\n"
     ]
    }
   ],
   "source": [
    "a = np.ones((6))\n",
    "b = np.ones((6,1))\n",
    "c = np.ones((2,3))\n",
    "array_info(a)\n",
    "array_info(b)\n",
    "array_info(c)"
   ]
  },
  {
   "cell_type": "markdown",
   "metadata": {
    "id": "3WokiWijXZeg"
   },
   "source": [
    "Try creating different sizes of arrays, play around, get the feel"
   ]
  },
  {
   "cell_type": "markdown",
   "metadata": {
    "id": "p8HoIHXU1BkZ"
   },
   "source": [
    "## Reshaping and Flattening"
   ]
  },
  {
   "cell_type": "code",
   "execution_count": 50,
   "metadata": {
    "ExecuteTime": {
     "end_time": "2021-02-11T16:38:13.823498Z",
     "start_time": "2021-02-11T16:38:13.813820Z"
    },
    "id": "BiBFZNcL1K3o"
   },
   "outputs": [
    {
     "data": {
      "text/plain": [
       "array([[1., 1.],\n",
       "       [1., 1.],\n",
       "       [1., 1.]])"
      ]
     },
     "execution_count": 50,
     "metadata": {},
     "output_type": "execute_result"
    }
   ],
   "source": [
    "a.reshape(3,2)"
   ]
  },
  {
   "cell_type": "markdown",
   "metadata": {
    "id": "G5BenCeo1XqG"
   },
   "source": [
    "Try converting arr2 to a one dimensional array without changing the elements using np.reshape()"
   ]
  },
  {
   "cell_type": "code",
   "execution_count": 52,
   "metadata": {
    "ExecuteTime": {
     "end_time": "2021-02-11T16:38:39.149648Z",
     "start_time": "2021-02-11T16:38:39.140397Z"
    },
    "id": "oNBF6bpV1o0t"
   },
   "outputs": [
    {
     "data": {
      "text/plain": [
       "array([1., 1., 1., 1., 1., 1.])"
      ]
     },
     "execution_count": 52,
     "metadata": {},
     "output_type": "execute_result"
    }
   ],
   "source": [
    "# Code with us\n",
    "c.reshape((6))"
   ]
  },
  {
   "cell_type": "markdown",
   "metadata": {
    "id": "PZVyl2F31xgp"
   },
   "source": [
    "Use np.ravel to do the same"
   ]
  },
  {
   "cell_type": "code",
   "execution_count": 53,
   "metadata": {
    "ExecuteTime": {
     "end_time": "2021-02-11T16:38:44.384069Z",
     "start_time": "2021-02-11T16:38:44.377572Z"
    },
    "id": "8v1nIT8t1vpv"
   },
   "outputs": [
    {
     "data": {
      "text/plain": [
       "array([1., 1., 1., 1., 1., 1.])"
      ]
     },
     "execution_count": 53,
     "metadata": {},
     "output_type": "execute_result"
    }
   ],
   "source": [
    "c.ravel()"
   ]
  },
  {
   "cell_type": "markdown",
   "metadata": {
    "id": "fCZw29aYqPnU"
   },
   "source": [
    "## Random normal and random uniform in Numpy\n",
    "Ever heard of normal and uniform distribution? <br>\n",
    "*   Normal distribution is a probability distribution of a random variable, which has bell shaped curve<br> \n",
    "*   In uniform distribution, probability of choosing any number at random is equally likely. <br>\n",
    "*   These probability distributions are extremely useful in a broad spectrum of engineering disciplines. We will look more about this in later part of the session"
   ]
  },
  {
   "cell_type": "code",
   "execution_count": 54,
   "metadata": {
    "ExecuteTime": {
     "end_time": "2021-02-11T16:38:50.456412Z",
     "start_time": "2021-02-11T16:38:50.452001Z"
    },
    "id": "m2iymA81rHdI"
   },
   "outputs": [
    {
     "data": {
      "text/plain": [
       "array([[ 0.54522357,  0.96554642,  2.09053776],\n",
       "       [ 1.73371611, -0.36783196, -0.55712886]])"
      ]
     },
     "execution_count": 54,
     "metadata": {},
     "output_type": "execute_result"
    }
   ],
   "source": [
    "# Creating 2x3 array whose elements are randomly sampled from a normal distribution with mean =0 and std = 1\n",
    "np.random.randn(2,3)"
   ]
  },
  {
   "cell_type": "code",
   "execution_count": 55,
   "metadata": {
    "ExecuteTime": {
     "end_time": "2021-02-11T16:38:51.755201Z",
     "start_time": "2021-02-11T16:38:51.155719Z"
    },
    "id": "sjVwk8gzrrKD"
   },
   "outputs": [
    {
     "data": {
      "text/plain": [
       "array([[0.3110705 , 0.61934981, 0.9789628 ],\n",
       "       [0.37606582, 0.13196872, 0.35608532]])"
      ]
     },
     "execution_count": 55,
     "metadata": {},
     "output_type": "execute_result"
    }
   ],
   "source": [
    "# Creating 2x3 array whose elements are randomly sampled from a uniform distribution of [0,1)\n",
    "np.random.rand(2,3)"
   ]
  },
  {
   "cell_type": "markdown",
   "metadata": {
    "id": "6Z5QnHGBsJXp"
   },
   "source": [
    "np.random.randint samples only integers, try creating one"
   ]
  },
  {
   "cell_type": "code",
   "execution_count": 56,
   "metadata": {
    "ExecuteTime": {
     "end_time": "2021-02-11T16:38:53.825214Z",
     "start_time": "2021-02-11T16:38:53.818792Z"
    },
    "id": "CWXgtAa1sYd6"
   },
   "outputs": [],
   "source": [
    "np.random.randint?"
   ]
  },
  {
   "cell_type": "markdown",
   "metadata": {
    "id": "qrv-gNc8sobp"
   },
   "source": [
    "## Other Data types in NumPy array"
   ]
  },
  {
   "cell_type": "code",
   "execution_count": 57,
   "metadata": {
    "ExecuteTime": {
     "end_time": "2021-02-11T16:39:04.203472Z",
     "start_time": "2021-02-11T16:39:04.197697Z"
    },
    "id": "ryrrAqYUtsvI"
   },
   "outputs": [
    {
     "name": "stdout",
     "output_type": "stream",
     "text": [
      "[ True False  True  True] <class 'numpy.ndarray'>\n"
     ]
    }
   ],
   "source": [
    "# Create an array with Boolean entries\n",
    "arr_bool = np.array([True, False, True, True])\n",
    "print(arr_bool, type(arr_bool))\n"
   ]
  },
  {
   "cell_type": "code",
   "execution_count": 58,
   "metadata": {
    "ExecuteTime": {
     "end_time": "2021-02-11T16:39:04.821285Z",
     "start_time": "2021-02-11T16:39:04.815557Z"
    },
    "id": "2fulEFaUuBZd"
   },
   "outputs": [],
   "source": [
    "# Create an array with str type elements\n",
    "arr_str = np.array(['1.4','3.14','6.314'])\n"
   ]
  },
  {
   "cell_type": "markdown",
   "metadata": {
    "id": "0DRn05kmu1yk"
   },
   "source": [
    "Can I use alphabetical characters as elements of NumPy array?"
   ]
  },
  {
   "cell_type": "markdown",
   "metadata": {
    "id": "Kv0v9dwzvEef"
   },
   "source": [
    "## NumPy Operations"
   ]
  },
  {
   "cell_type": "code",
   "execution_count": 62,
   "metadata": {
    "ExecuteTime": {
     "end_time": "2021-02-11T16:39:31.369690Z",
     "start_time": "2021-02-11T16:39:31.363274Z"
    },
    "id": "Bj-H7M9-pgX5"
   },
   "outputs": [
    {
     "name": "stdout",
     "output_type": "stream",
     "text": [
      "[[4 1 0]\n",
      " [4 2 2]]\n",
      "[[7 5 9]\n",
      " [5 5 4]]\n"
     ]
    }
   ],
   "source": [
    "arr1 = np.random.randint(0,10,(2,3))\n",
    "arr2 = np.random.randint(0,10,(2,3))\n",
    "print(arr1)\n",
    "print(arr2)"
   ]
  },
  {
   "cell_type": "code",
   "execution_count": 63,
   "metadata": {
    "ExecuteTime": {
     "end_time": "2021-02-11T16:39:35.429286Z",
     "start_time": "2021-02-11T16:39:35.418743Z"
    },
    "id": "LKQNS_sqvdC7"
   },
   "outputs": [
    {
     "name": "stdout",
     "output_type": "stream",
     "text": [
      "[[11  6  9]\n",
      " [ 9  7  6]]\n",
      "[[-3 -4 -9]\n",
      " [-1 -3 -2]]\n",
      "[[28  5  0]\n",
      " [20 10  8]]\n",
      "[[0.57142857 0.2        0.        ]\n",
      " [0.8        0.4        0.5       ]]\n"
     ]
    }
   ],
   "source": [
    "# Addition\n",
    "print(arr1+arr2)\n",
    "# Subtraction\n",
    "print(arr1-arr2)\n",
    "# Multiplication\n",
    "print(arr1*arr2)    #Notice that it multiplies element-wise\n",
    "# Division (Element-wise)\n",
    "print(arr1/arr2)"
   ]
  },
  {
   "cell_type": "markdown",
   "metadata": {
    "id": "dwktvJRRw8kc"
   },
   "source": [
    "Let's look at element-wise division more detailly"
   ]
  },
  {
   "cell_type": "code",
   "execution_count": 64,
   "metadata": {
    "ExecuteTime": {
     "end_time": "2021-02-11T16:39:37.498462Z",
     "start_time": "2021-02-11T16:39:37.491335Z"
    },
    "id": "M2qZ16pBwRQv"
   },
   "outputs": [
    {
     "name": "stderr",
     "output_type": "stream",
     "text": [
      "<ipython-input-64-7cc70270b483>:2: RuntimeWarning: divide by zero encountered in true_divide\n",
      "  arr_inv = 1/arr\n"
     ]
    }
   ],
   "source": [
    "arr = np.zeros((2,3))\n",
    "arr_inv = 1/arr"
   ]
  },
  {
   "cell_type": "code",
   "execution_count": 65,
   "metadata": {
    "ExecuteTime": {
     "end_time": "2021-02-11T16:39:38.205749Z",
     "start_time": "2021-02-11T16:39:38.197944Z"
    },
    "id": "5QMehTsPxVNo"
   },
   "outputs": [
    {
     "name": "stdout",
     "output_type": "stream",
     "text": [
      "[[inf inf inf]\n",
      " [inf inf inf]]\n"
     ]
    }
   ],
   "source": [
    "print(arr_inv)"
   ]
  },
  {
   "cell_type": "markdown",
   "metadata": {
    "id": "OrKYQyPrxPVl"
   },
   "source": [
    "We did get a **run-time error**"
   ]
  },
  {
   "cell_type": "code",
   "execution_count": 66,
   "metadata": {
    "ExecuteTime": {
     "end_time": "2021-02-11T16:39:50.390725Z",
     "start_time": "2021-02-11T16:39:50.386108Z"
    },
    "id": "tJiwmraBxgSg"
   },
   "outputs": [
    {
     "data": {
      "text/plain": [
       "array([[ True,  True,  True],\n",
       "       [ True,  True,  True]])"
      ]
     },
     "execution_count": 66,
     "metadata": {},
     "output_type": "execute_result"
    }
   ],
   "source": [
    "np.isinf(arr_inv)"
   ]
  },
  {
   "cell_type": "markdown",
   "metadata": {
    "id": "FptVB0tf3n9K"
   },
   "source": [
    "In lists, we say that we had to iterate through all the elements to increment each value by some value. NumPy makes our life easy"
   ]
  },
  {
   "cell_type": "code",
   "execution_count": 67,
   "metadata": {
    "ExecuteTime": {
     "end_time": "2021-02-11T16:39:51.721092Z",
     "start_time": "2021-02-11T16:39:51.717266Z"
    },
    "id": "egYqBkRH33ty"
   },
   "outputs": [
    {
     "name": "stdout",
     "output_type": "stream",
     "text": [
      "[[10  4  2]\n",
      " [10  6  6]]\n"
     ]
    }
   ],
   "source": [
    "print(2*arr1 + 2)"
   ]
  },
  {
   "cell_type": "markdown",
   "metadata": {
    "id": "SbPnDrml4dnW"
   },
   "source": [
    "To learn more how this works, browse for **NumPy broadcasting**"
   ]
  },
  {
   "cell_type": "markdown",
   "metadata": {
    "id": "xBcNna1awn86"
   },
   "source": [
    "Some important mathematical operations. Try running the code below"
   ]
  },
  {
   "cell_type": "code",
   "execution_count": 68,
   "metadata": {
    "ExecuteTime": {
     "end_time": "2021-02-11T16:39:53.247867Z",
     "start_time": "2021-02-11T16:39:53.241595Z"
    },
    "id": "HOVPBhZJwJ-3"
   },
   "outputs": [
    {
     "data": {
      "text/plain": [
       "array([[-0.7568025 ,  0.84147098,  0.        ],\n",
       "       [-0.7568025 ,  0.90929743,  0.90929743]])"
      ]
     },
     "execution_count": 68,
     "metadata": {},
     "output_type": "execute_result"
    }
   ],
   "source": [
    "np.sin(arr1)"
   ]
  },
  {
   "cell_type": "code",
   "execution_count": 69,
   "metadata": {
    "ExecuteTime": {
     "end_time": "2021-02-11T16:39:53.984496Z",
     "start_time": "2021-02-11T16:39:53.557890Z"
    },
    "id": "L0zlBVpjwMYF"
   },
   "outputs": [
    {
     "data": {
      "text/plain": [
       "array([[54.59815003,  2.71828183,  1.        ],\n",
       "       [54.59815003,  7.3890561 ,  7.3890561 ]])"
      ]
     },
     "execution_count": 69,
     "metadata": {},
     "output_type": "execute_result"
    }
   ],
   "source": [
    "np.exp(arr1)"
   ]
  },
  {
   "cell_type": "markdown",
   "metadata": {
    "id": "jtaaw2H2x8SJ"
   },
   "source": [
    "## Statistical operations"
   ]
  },
  {
   "cell_type": "code",
   "execution_count": 70,
   "metadata": {
    "ExecuteTime": {
     "end_time": "2021-02-11T16:39:58.066978Z",
     "start_time": "2021-02-11T16:39:58.061935Z"
    },
    "id": "X48jkBOCx_kc"
   },
   "outputs": [],
   "source": [
    "# Intialise an NumPy array with some vals\n",
    "arr = np.random.randint(0,50,(3,4))"
   ]
  },
  {
   "cell_type": "code",
   "execution_count": 71,
   "metadata": {
    "ExecuteTime": {
     "end_time": "2021-02-11T16:39:58.378096Z",
     "start_time": "2021-02-11T16:39:58.369054Z"
    },
    "id": "XMwtqwi7ygRG"
   },
   "outputs": [
    {
     "data": {
      "text/plain": [
       "1"
      ]
     },
     "execution_count": 71,
     "metadata": {},
     "output_type": "execute_result"
    }
   ],
   "source": [
    "np.amin(arr)"
   ]
  },
  {
   "cell_type": "code",
   "execution_count": 72,
   "metadata": {
    "ExecuteTime": {
     "end_time": "2021-02-11T16:39:58.600656Z",
     "start_time": "2021-02-11T16:39:58.596779Z"
    },
    "id": "hCnLaY5jykJx"
   },
   "outputs": [
    {
     "data": {
      "text/plain": [
       "45"
      ]
     },
     "execution_count": 72,
     "metadata": {},
     "output_type": "execute_result"
    }
   ],
   "source": [
    "np.amax(arr)"
   ]
  },
  {
   "cell_type": "code",
   "execution_count": 73,
   "metadata": {
    "ExecuteTime": {
     "end_time": "2021-02-11T16:39:58.832823Z",
     "start_time": "2021-02-11T16:39:58.827851Z"
    },
    "id": "nHuve64DymZv"
   },
   "outputs": [
    {
     "data": {
      "text/plain": [
       "24.666666666666668"
      ]
     },
     "execution_count": 73,
     "metadata": {},
     "output_type": "execute_result"
    }
   ],
   "source": [
    "np.mean(arr)"
   ]
  },
  {
   "cell_type": "code",
   "execution_count": 74,
   "metadata": {
    "ExecuteTime": {
     "end_time": "2021-02-11T16:39:59.125547Z",
     "start_time": "2021-02-11T16:39:59.120792Z"
    },
    "id": "1v8Uj6o2qIF-"
   },
   "outputs": [],
   "source": [
    "#axis 0 and axis 1"
   ]
  },
  {
   "cell_type": "markdown",
   "metadata": {
    "id": "DnDHOufryyj6"
   },
   "source": [
    "Browse for NumPy functions to find median, variance, standard deviation and percentile"
   ]
  },
  {
   "cell_type": "markdown",
   "metadata": {
    "id": "XXzKVFe_oLue"
   },
   "source": [
    "## Exercise Problem 1\n",
    "Write a program to multiply two matrices of size $(100, 100)$ in two methods: (a) by using `np.dot(mat_1, mat_2)` and (b) by using for-loops. Comapre the time of execution in both the cases. Check out the documentation of `np.dot` in case that is not familiar to you. "
   ]
  },
  {
   "cell_type": "code",
   "execution_count": 1,
   "metadata": {
    "id": "V1M_0booob-E"
   },
   "outputs": [],
   "source": [
    "#Initialise the two matrices\n",
    "mat_1 = np.random.rand(100,100)\n",
    "mat_2 = np.random.rand(100,100)\n",
    "#Intitialise the output matrix with zero\n"
   ]
  },
  {
   "cell_type": "code",
   "execution_count": 15,
   "metadata": {
    "id": "aaTJDwk_oRJ8"
   },
   "outputs": [
    {
     "name": "stdout",
     "output_type": "stream",
     "text": [
      "[[26.60266382 25.0934768  26.86696495 ... 27.19346973 27.07152501\n",
      "  24.67594406]\n",
      " [26.0706883  23.52810725 25.58010018 ... 26.24223884 25.48329449\n",
      "  26.06917211]\n",
      " [23.91142515 22.90024908 26.5502404  ... 25.46338314 23.11630709\n",
      "  23.26172699]\n",
      " ...\n",
      " [24.73073527 21.60357368 27.88121354 ... 27.08517239 25.19242872\n",
      "  24.14344334]\n",
      " [25.96589672 20.67928078 27.30242112 ... 26.36012753 23.2248646\n",
      "  23.53904093]\n",
      " [27.9423137  26.5198607  30.4504541  ... 28.83874886 27.78044206\n",
      "  25.02323599]]\n"
     ]
    }
   ],
   "source": [
    "## Using the definition of matrix mutliplication\n",
    "assert mat_1.shape[1] == mat_2.shape[0], \"matrix multiplication not possible\"\n",
    "result = np.zeros((mat_1.shape[0], mat_2.shape[1]))\n",
    "for i in range(mat_1.shape[0]):\n",
    "    for j in range(mat_2.shape[1]):\n",
    "        result[i][j]=sum((mat_1[i][v]*mat_2[v][j] for v in range(len(mat_1[i]))))\n",
    "print(result)"
   ]
  },
  {
   "cell_type": "code",
   "execution_count": 16,
   "metadata": {
    "id": "UZr8eW-CoRzO"
   },
   "outputs": [
    {
     "name": "stdout",
     "output_type": "stream",
     "text": [
      "[[26.60266382 25.0934768  26.86696495 ... 27.19346973 27.07152501\n",
      "  24.67594406]\n",
      " [26.0706883  23.52810725 25.58010018 ... 26.24223884 25.48329449\n",
      "  26.06917211]\n",
      " [23.91142515 22.90024908 26.5502404  ... 25.46338314 23.11630709\n",
      "  23.26172699]\n",
      " ...\n",
      " [24.73073527 21.60357368 27.88121354 ... 27.08517239 25.19242872\n",
      "  24.14344334]\n",
      " [25.96589672 20.67928078 27.30242112 ... 26.36012753 23.2248646\n",
      "  23.53904093]\n",
      " [27.9423137  26.5198607  30.4504541  ... 28.83874886 27.78044206\n",
      "  25.02323599]]\n"
     ]
    }
   ],
   "source": [
    "## Using np.dot function\n",
    "result = np.dot(mat_1, mat_2)\n",
    "# result = mat_1@mat_2 (an alternative)\n",
    "print(result)"
   ]
  },
  {
   "cell_type": "markdown",
   "metadata": {
    "id": "oxSwKNnGkYA4"
   },
   "source": [
    "## Exercise Problem 2\n",
    "Create two vectors $y$ and $\\hat{y}$ having **same** dimensions, where $\\hat{y}$ should consist of random numbers between $[0, 1)$ and $y$ should contain $0s$ and $1s$, for example $y = [0, 1, 1, 0, 1, 0, 0, 1, ..., 1]$. Compute the given expression: $$O = -\\frac{1}{n}\\sum_{i=1}^{n}[y_i\\log_2(\\hat{y_i}) + (1-y_i)\\log_2(1-\\hat{y_i})]$$\n",
    "where $n$ = 100, is the total number of elements in $y$ and $\\hat{y}$."
   ]
  },
  {
   "cell_type": "code",
   "execution_count": 26,
   "metadata": {
    "id": "pfH-uS74kgUy"
   },
   "outputs": [
    {
     "name": "stdout",
     "output_type": "stream",
     "text": [
      "1.4408297493149254\n"
     ]
    }
   ],
   "source": [
    "#Given n = 100\n",
    "#Create a 1D array y, of size 100 with randomly selected 0s and 1s\n",
    "#Create a 1D array y_hat, of size 100 with numbers randomly (uniformly) selected from [0,1)\n",
    "#Find logarithmic loss (Also known as logarithmic loss)\n",
    "n = 100\n",
    "y_hat = np.random.uniform(size=n)\n",
    "y = (np.random.uniform(size=n) > 0.5).astype(np.int)\n",
    "\n",
    "loss = -1/n * np.sum(y*np.log2(y_hat) + (1-y)*np.log2(1-y_hat))\n",
    "print(loss)"
   ]
  },
  {
   "cell_type": "markdown",
   "metadata": {
    "id": "iV28g8xXmZbD"
   },
   "source": [
    "The expression $O = -\\frac{1}{n}\\sum_{i=1}^{n}[y_i\\log_2(\\hat{y_i}) + (1-y_i)\\log_2(1-\\hat{y_i})]$, which you have computed is actually a **Cross-Entropy** loss function used in machine learning for classification task which tells us how bad or good model is performing, if $O$ is large then model is performing worst and vice versa."
   ]
  },
  {
   "cell_type": "markdown",
   "metadata": {
    "id": "mAhhefzL2kCv"
   },
   "source": [
    "# Matplotlib\n"
   ]
  },
  {
   "cell_type": "markdown",
   "metadata": {
    "id": "PUkcE1IIYcdw"
   },
   "source": [
    "Matplotlib is a popular plotting software. It's name comes from \"MATLAB like Plotting library\" <br> In this section we will be using a module called pyplot from matlplotlib. A wide range of statistical plots like bar diagrams, pie charts, histograms etc. can be shown using Matplotlib<br>"
   ]
  },
  {
   "cell_type": "code",
   "execution_count": 28,
   "metadata": {
    "id": "0KMzbComHKDY"
   },
   "outputs": [],
   "source": [
    "from matplotlib import pyplot as plt"
   ]
  },
  {
   "cell_type": "markdown",
   "metadata": {
    "id": "5uYr3wCTc8po"
   },
   "source": [
    "## Plotting graphs\n",
    "Let's make a simple $y$ vs $x$ graph for the function $y(x)$ = $3x$ + 4"
   ]
  },
  {
   "cell_type": "code",
   "execution_count": 29,
   "metadata": {
    "id": "Fp5v1EH9c6Zm"
   },
   "outputs": [],
   "source": [
    "x = np.linspace(-10,10,100)\n",
    "y = 3*x + 4"
   ]
  },
  {
   "cell_type": "code",
   "execution_count": 30,
   "metadata": {
    "id": "-yY-4cq5kzlM"
   },
   "outputs": [
    {
     "data": {
      "text/plain": [
       "[<matplotlib.lines.Line2D at 0x7fecff553040>]"
      ]
     },
     "execution_count": 30,
     "metadata": {},
     "output_type": "execute_result"
    },
    {
     "data": {
      "image/png": "[encoded data removed]",
      "image/svg+xml": [
       "<?xml version=\"1.0\" encoding=\"utf-8\" standalone=\"no\"?>\n",
       "<!DOCTYPE svg PUBLIC \"-//W3C//DTD SVG 1.1//EN\"\n",
       "  \"http://www.w3.org/Graphics/SVG/1.1/DTD/svg11.dtd\">\n",
       "<!-- Created with matplotlib (https://matplotlib.org/) -->\n",
       "<svg height=\"248.518125pt\" version=\"1.1\" viewBox=\"0 0 377.304687 248.518125\" width=\"377.304687pt\" xmlns=\"http://www.w3.org/2000/svg\" xmlns:xlink=\"http://www.w3.org/1999/xlink\">\n",
       " <metadata>\n",
       "  <rdf:RDF xmlns:cc=\"http://creativecommons.org/ns#\" xmlns:dc=\"http://purl.org/dc/elements/1.1/\" xmlns:rdf=\"http://www.w3.org/1999/02/22-rdf-syntax-ns#\">\n",
       "   <cc:Work>\n",
       "    <dc:type rdf:resource=\"http://purl.org/dc/dcmitype/StillImage\"/>\n",
       "    <dc:date>2021-02-12T00:08:50.496738</dc:date>\n",
       "    <dc:format>image/svg+xml</dc:format>\n",
       "    <dc:creator>\n",
       "     <cc:Agent>\n",
       "      <dc:title>Matplotlib v3.3.3, https://matplotlib.org/</dc:title>\n",
       "     </cc:Agent>\n",
       "    </dc:creator>\n",
       "   </cc:Work>\n",
       "  </rdf:RDF>\n",
       " </metadata>\n",
       " <defs>\n",
       "  <style type=\"text/css\">*{stroke-linecap:butt;stroke-linejoin:round;}</style>\n",
       " </defs>\n",
       " <g id=\"figure_1\">\n",
       "  <g id=\"patch_1\">\n",
       "   <path d=\"M 0 248.518125 \n",
       "L 377.304687 248.518125 \n",
       "L 377.304687 0 \n",
       "L 0 0 \n",
       "z\n",
       "\" style=\"fill:none;\"/>\n",
       "  </g>\n",
       "  <g id=\"axes_1\">\n",
       "   <g id=\"patch_2\">\n",
       "    <path d=\"M 35.304688 224.64 \n",
       "L 370.104688 224.64 \n",
       "L 370.104688 7.2 \n",
       "L 35.304688 7.2 \n",
       "z\n",
       "\" style=\"fill:#ffffff;\"/>\n",
       "   </g>\n",
       "   <g id=\"matplotlib.axis_1\">\n",
       "    <g id=\"xtick_1\">\n",
       "     <g id=\"line2d_1\">\n",
       "      <defs>\n",
       "       <path d=\"M 0 0 \n",
       "L 0 3.5 \n",
       "\" id=\"mf332f9821d\" style=\"stroke:#000000;stroke-width:0.8;\"/>\n",
       "      </defs>\n",
       "      <g>\n",
       "       <use style=\"stroke:#000000;stroke-width:0.8;\" x=\"50.522869\" xlink:href=\"#mf332f9821d\" y=\"224.64\"/>\n",
       "      </g>\n",
       "     </g>\n",
       "     <g id=\"text_1\">\n",
       "      <!-- −10.0 -->\n",
       "      <g transform=\"translate(35.200213 239.238437)scale(0.1 -0.1)\">\n",
       "       <defs>\n",
       "        <path d=\"M 10.59375 35.5 \n",
       "L 73.1875 35.5 \n",
       "L 73.1875 27.203125 \n",
       "L 10.59375 27.203125 \n",
       "z\n",
       "\" id=\"DejaVuSans-8722\"/>\n",
       "        <path d=\"M 12.40625 8.296875 \n",
       "L 28.515625 8.296875 \n",
       "L 28.515625 63.921875 \n",
       "L 10.984375 60.40625 \n",
       "L 10.984375 69.390625 \n",
       "L 28.421875 72.90625 \n",
       "L 38.28125 72.90625 \n",
       "L 38.28125 8.296875 \n",
       "L 54.390625 8.296875 \n",
       "L 54.390625 0 \n",
       "L 12.40625 0 \n",
       "z\n",
       "\" id=\"DejaVuSans-49\"/>\n",
       "        <path d=\"M 31.78125 66.40625 \n",
       "Q 24.171875 66.40625 20.328125 58.90625 \n",
       "Q 16.5 51.421875 16.5 36.375 \n",
       "Q 16.5 21.390625 20.328125 13.890625 \n",
       "Q 24.171875 6.390625 31.78125 6.390625 \n",
       "Q 39.453125 6.390625 43.28125 13.890625 \n",
       "Q 47.125 21.390625 47.125 36.375 \n",
       "Q 47.125 51.421875 43.28125 58.90625 \n",
       "Q 39.453125 66.40625 31.78125 66.40625 \n",
       "z\n",
       "M 31.78125 74.21875 \n",
       "Q 44.046875 74.21875 50.515625 64.515625 \n",
       "Q 56.984375 54.828125 56.984375 36.375 \n",
       "Q 56.984375 17.96875 50.515625 8.265625 \n",
       "Q 44.046875 -1.421875 31.78125 -1.421875 \n",
       "Q 19.53125 -1.421875 13.0625 8.265625 \n",
       "Q 6.59375 17.96875 6.59375 36.375 \n",
       "Q 6.59375 54.828125 13.0625 64.515625 \n",
       "Q 19.53125 74.21875 31.78125 74.21875 \n",
       "z\n",
       "\" id=\"DejaVuSans-48\"/>\n",
       "        <path d=\"M 10.6875 12.40625 \n",
       "L 21 12.40625 \n",
       "L 21 0 \n",
       "L 10.6875 0 \n",
       "z\n",
       "\" id=\"DejaVuSans-46\"/>\n",
       "       </defs>\n",
       "       <use xlink:href=\"#DejaVuSans-8722\"/>\n",
       "       <use x=\"83.789062\" xlink:href=\"#DejaVuSans-49\"/>\n",
       "       <use x=\"147.412109\" xlink:href=\"#DejaVuSans-48\"/>\n",
       "       <use x=\"211.035156\" xlink:href=\"#DejaVuSans-46\"/>\n",
       "       <use x=\"242.822266\" xlink:href=\"#DejaVuSans-48\"/>\n",
       "      </g>\n",
       "     </g>\n",
       "    </g>\n",
       "    <g id=\"xtick_2\">\n",
       "     <g id=\"line2d_2\">\n",
       "      <g>\n",
       "       <use style=\"stroke:#000000;stroke-width:0.8;\" x=\"88.568324\" xlink:href=\"#mf332f9821d\" y=\"224.64\"/>\n",
       "      </g>\n",
       "     </g>\n",
       "     <g id=\"text_2\">\n",
       "      <!-- −7.5 -->\n",
       "      <g transform=\"translate(76.426918 239.238437)scale(0.1 -0.1)\">\n",
       "       <defs>\n",
       "        <path d=\"M 8.203125 72.90625 \n",
       "L 55.078125 72.90625 \n",
       "L 55.078125 68.703125 \n",
       "L 28.609375 0 \n",
       "L 18.3125 0 \n",
       "L 43.21875 64.59375 \n",
       "L 8.203125 64.59375 \n",
       "z\n",
       "\" id=\"DejaVuSans-55\"/>\n",
       "        <path d=\"M 10.796875 72.90625 \n",
       "L 49.515625 72.90625 \n",
       "L 49.515625 64.59375 \n",
       "L 19.828125 64.59375 \n",
       "L 19.828125 46.734375 \n",
       "Q 21.96875 47.46875 24.109375 47.828125 \n",
       "Q 26.265625 48.1875 28.421875 48.1875 \n",
       "Q 40.625 48.1875 47.75 41.5 \n",
       "Q 54.890625 34.8125 54.890625 23.390625 \n",
       "Q 54.890625 11.625 47.5625 5.09375 \n",
       "Q 40.234375 -1.421875 26.90625 -1.421875 \n",
       "Q 22.3125 -1.421875 17.546875 -0.640625 \n",
       "Q 12.796875 0.140625 7.71875 1.703125 \n",
       "L 7.71875 11.625 \n",
       "Q 12.109375 9.234375 16.796875 8.0625 \n",
       "Q 21.484375 6.890625 26.703125 6.890625 \n",
       "Q 35.15625 6.890625 40.078125 11.328125 \n",
       "Q 45.015625 15.765625 45.015625 23.390625 \n",
       "Q 45.015625 31 40.078125 35.4375 \n",
       "Q 35.15625 39.890625 26.703125 39.890625 \n",
       "Q 22.75 39.890625 18.8125 39.015625 \n",
       "Q 14.890625 38.140625 10.796875 36.28125 \n",
       "z\n",
       "\" id=\"DejaVuSans-53\"/>\n",
       "       </defs>\n",
       "       <use xlink:href=\"#DejaVuSans-8722\"/>\n",
       "       <use x=\"83.789062\" xlink:href=\"#DejaVuSans-55\"/>\n",
       "       <use x=\"147.412109\" xlink:href=\"#DejaVuSans-46\"/>\n",
       "       <use x=\"179.199219\" xlink:href=\"#DejaVuSans-53\"/>\n",
       "      </g>\n",
       "     </g>\n",
       "    </g>\n",
       "    <g id=\"xtick_3\">\n",
       "     <g id=\"line2d_3\">\n",
       "      <g>\n",
       "       <use style=\"stroke:#000000;stroke-width:0.8;\" x=\"126.613778\" xlink:href=\"#mf332f9821d\" y=\"224.64\"/>\n",
       "      </g>\n",
       "     </g>\n",
       "     <g id=\"text_3\">\n",
       "      <!-- −5.0 -->\n",
       "      <g transform=\"translate(114.472372 239.238437)scale(0.1 -0.1)\">\n",
       "       <use xlink:href=\"#DejaVuSans-8722\"/>\n",
       "       <use x=\"83.789062\" xlink:href=\"#DejaVuSans-53\"/>\n",
       "       <use x=\"147.412109\" xlink:href=\"#DejaVuSans-46\"/>\n",
       "       <use x=\"179.199219\" xlink:href=\"#DejaVuSans-48\"/>\n",
       "      </g>\n",
       "     </g>\n",
       "    </g>\n",
       "    <g id=\"xtick_4\">\n",
       "     <g id=\"line2d_4\">\n",
       "      <g>\n",
       "       <use style=\"stroke:#000000;stroke-width:0.8;\" x=\"164.659233\" xlink:href=\"#mf332f9821d\" y=\"224.64\"/>\n",
       "      </g>\n",
       "     </g>\n",
       "     <g id=\"text_4\">\n",
       "      <!-- −2.5 -->\n",
       "      <g transform=\"translate(152.517827 239.238437)scale(0.1 -0.1)\">\n",
       "       <defs>\n",
       "        <path d=\"M 19.1875 8.296875 \n",
       "L 53.609375 8.296875 \n",
       "L 53.609375 0 \n",
       "L 7.328125 0 \n",
       "L 7.328125 8.296875 \n",
       "Q 12.9375 14.109375 22.625 23.890625 \n",
       "Q 32.328125 33.6875 34.8125 36.53125 \n",
       "Q 39.546875 41.84375 41.421875 45.53125 \n",
       "Q 43.3125 49.21875 43.3125 52.78125 \n",
       "Q 43.3125 58.59375 39.234375 62.25 \n",
       "Q 35.15625 65.921875 28.609375 65.921875 \n",
       "Q 23.96875 65.921875 18.8125 64.3125 \n",
       "Q 13.671875 62.703125 7.8125 59.421875 \n",
       "L 7.8125 69.390625 \n",
       "Q 13.765625 71.78125 18.9375 73 \n",
       "Q 24.125 74.21875 28.421875 74.21875 \n",
       "Q 39.75 74.21875 46.484375 68.546875 \n",
       "Q 53.21875 62.890625 53.21875 53.421875 \n",
       "Q 53.21875 48.921875 51.53125 44.890625 \n",
       "Q 49.859375 40.875 45.40625 35.40625 \n",
       "Q 44.1875 33.984375 37.640625 27.21875 \n",
       "Q 31.109375 20.453125 19.1875 8.296875 \n",
       "z\n",
       "\" id=\"DejaVuSans-50\"/>\n",
       "       </defs>\n",
       "       <use xlink:href=\"#DejaVuSans-8722\"/>\n",
       "       <use x=\"83.789062\" xlink:href=\"#DejaVuSans-50\"/>\n",
       "       <use x=\"147.412109\" xlink:href=\"#DejaVuSans-46\"/>\n",
       "       <use x=\"179.199219\" xlink:href=\"#DejaVuSans-53\"/>\n",
       "      </g>\n",
       "     </g>\n",
       "    </g>\n",
       "    <g id=\"xtick_5\">\n",
       "     <g id=\"line2d_5\">\n",
       "      <g>\n",
       "       <use style=\"stroke:#000000;stroke-width:0.8;\" x=\"202.704688\" xlink:href=\"#mf332f9821d\" y=\"224.64\"/>\n",
       "      </g>\n",
       "     </g>\n",
       "     <g id=\"text_5\">\n",
       "      <!-- 0.0 -->\n",
       "      <g transform=\"translate(194.753125 239.238437)scale(0.1 -0.1)\">\n",
       "       <use xlink:href=\"#DejaVuSans-48\"/>\n",
       "       <use x=\"63.623047\" xlink:href=\"#DejaVuSans-46\"/>\n",
       "       <use x=\"95.410156\" xlink:href=\"#DejaVuSans-48\"/>\n",
       "      </g>\n",
       "     </g>\n",
       "    </g>\n",
       "    <g id=\"xtick_6\">\n",
       "     <g id=\"line2d_6\">\n",
       "      <g>\n",
       "       <use style=\"stroke:#000000;stroke-width:0.8;\" x=\"240.750142\" xlink:href=\"#mf332f9821d\" y=\"224.64\"/>\n",
       "      </g>\n",
       "     </g>\n",
       "     <g id=\"text_6\">\n",
       "      <!-- 2.5 -->\n",
       "      <g transform=\"translate(232.79858 239.238437)scale(0.1 -0.1)\">\n",
       "       <use xlink:href=\"#DejaVuSans-50\"/>\n",
       "       <use x=\"63.623047\" xlink:href=\"#DejaVuSans-46\"/>\n",
       "       <use x=\"95.410156\" xlink:href=\"#DejaVuSans-53\"/>\n",
       "      </g>\n",
       "     </g>\n",
       "    </g>\n",
       "    <g id=\"xtick_7\">\n",
       "     <g id=\"line2d_7\">\n",
       "      <g>\n",
       "       <use style=\"stroke:#000000;stroke-width:0.8;\" x=\"278.795597\" xlink:href=\"#mf332f9821d\" y=\"224.64\"/>\n",
       "      </g>\n",
       "     </g>\n",
       "     <g id=\"text_7\">\n",
       "      <!-- 5.0 -->\n",
       "      <g transform=\"translate(270.844034 239.238437)scale(0.1 -0.1)\">\n",
       "       <use xlink:href=\"#DejaVuSans-53\"/>\n",
       "       <use x=\"63.623047\" xlink:href=\"#DejaVuSans-46\"/>\n",
       "       <use x=\"95.410156\" xlink:href=\"#DejaVuSans-48\"/>\n",
       "      </g>\n",
       "     </g>\n",
       "    </g>\n",
       "    <g id=\"xtick_8\">\n",
       "     <g id=\"line2d_8\">\n",
       "      <g>\n",
       "       <use style=\"stroke:#000000;stroke-width:0.8;\" x=\"316.841051\" xlink:href=\"#mf332f9821d\" y=\"224.64\"/>\n",
       "      </g>\n",
       "     </g>\n",
       "     <g id=\"text_8\">\n",
       "      <!-- 7.5 -->\n",
       "      <g transform=\"translate(308.889489 239.238437)scale(0.1 -0.1)\">\n",
       "       <use xlink:href=\"#DejaVuSans-55\"/>\n",
       "       <use x=\"63.623047\" xlink:href=\"#DejaVuSans-46\"/>\n",
       "       <use x=\"95.410156\" xlink:href=\"#DejaVuSans-53\"/>\n",
       "      </g>\n",
       "     </g>\n",
       "    </g>\n",
       "    <g id=\"xtick_9\">\n",
       "     <g id=\"line2d_9\">\n",
       "      <g>\n",
       "       <use style=\"stroke:#000000;stroke-width:0.8;\" x=\"354.886506\" xlink:href=\"#mf332f9821d\" y=\"224.64\"/>\n",
       "      </g>\n",
       "     </g>\n",
       "     <g id=\"text_9\">\n",
       "      <!-- 10.0 -->\n",
       "      <g transform=\"translate(343.753693 239.238437)scale(0.1 -0.1)\">\n",
       "       <use xlink:href=\"#DejaVuSans-49\"/>\n",
       "       <use x=\"63.623047\" xlink:href=\"#DejaVuSans-48\"/>\n",
       "       <use x=\"127.246094\" xlink:href=\"#DejaVuSans-46\"/>\n",
       "       <use x=\"159.033203\" xlink:href=\"#DejaVuSans-48\"/>\n",
       "      </g>\n",
       "     </g>\n",
       "    </g>\n",
       "   </g>\n",
       "   <g id=\"matplotlib.axis_2\">\n",
       "    <g id=\"ytick_1\">\n",
       "     <g id=\"line2d_10\">\n",
       "      <defs>\n",
       "       <path d=\"M 0 0 \n",
       "L -3.5 0 \n",
       "\" id=\"m2074f4938f\" style=\"stroke:#000000;stroke-width:0.8;\"/>\n",
       "      </defs>\n",
       "      <g>\n",
       "       <use style=\"stroke:#000000;stroke-width:0.8;\" x=\"35.304688\" xlink:href=\"#m2074f4938f\" y=\"194.989091\"/>\n",
       "      </g>\n",
       "     </g>\n",
       "     <g id=\"text_10\">\n",
       "      <!-- −20 -->\n",
       "      <g transform=\"translate(7.2 198.78831)scale(0.1 -0.1)\">\n",
       "       <use xlink:href=\"#DejaVuSans-8722\"/>\n",
       "       <use x=\"83.789062\" xlink:href=\"#DejaVuSans-50\"/>\n",
       "       <use x=\"147.412109\" xlink:href=\"#DejaVuSans-48\"/>\n",
       "      </g>\n",
       "     </g>\n",
       "    </g>\n",
       "    <g id=\"ytick_2\">\n",
       "     <g id=\"line2d_11\">\n",
       "      <g>\n",
       "       <use style=\"stroke:#000000;stroke-width:0.8;\" x=\"35.304688\" xlink:href=\"#m2074f4938f\" y=\"162.043636\"/>\n",
       "      </g>\n",
       "     </g>\n",
       "     <g id=\"text_11\">\n",
       "      <!-- −10 -->\n",
       "      <g transform=\"translate(7.2 165.842855)scale(0.1 -0.1)\">\n",
       "       <use xlink:href=\"#DejaVuSans-8722\"/>\n",
       "       <use x=\"83.789062\" xlink:href=\"#DejaVuSans-49\"/>\n",
       "       <use x=\"147.412109\" xlink:href=\"#DejaVuSans-48\"/>\n",
       "      </g>\n",
       "     </g>\n",
       "    </g>\n",
       "    <g id=\"ytick_3\">\n",
       "     <g id=\"line2d_12\">\n",
       "      <g>\n",
       "       <use style=\"stroke:#000000;stroke-width:0.8;\" x=\"35.304688\" xlink:href=\"#m2074f4938f\" y=\"129.098182\"/>\n",
       "      </g>\n",
       "     </g>\n",
       "     <g id=\"text_12\">\n",
       "      <!-- 0 -->\n",
       "      <g transform=\"translate(21.942188 132.897401)scale(0.1 -0.1)\">\n",
       "       <use xlink:href=\"#DejaVuSans-48\"/>\n",
       "      </g>\n",
       "     </g>\n",
       "    </g>\n",
       "    <g id=\"ytick_4\">\n",
       "     <g id=\"line2d_13\">\n",
       "      <g>\n",
       "       <use style=\"stroke:#000000;stroke-width:0.8;\" x=\"35.304688\" xlink:href=\"#m2074f4938f\" y=\"96.152727\"/>\n",
       "      </g>\n",
       "     </g>\n",
       "     <g id=\"text_13\">\n",
       "      <!-- 10 -->\n",
       "      <g transform=\"translate(15.579688 99.951946)scale(0.1 -0.1)\">\n",
       "       <use xlink:href=\"#DejaVuSans-49\"/>\n",
       "       <use x=\"63.623047\" xlink:href=\"#DejaVuSans-48\"/>\n",
       "      </g>\n",
       "     </g>\n",
       "    </g>\n",
       "    <g id=\"ytick_5\">\n",
       "     <g id=\"line2d_14\">\n",
       "      <g>\n",
       "       <use style=\"stroke:#000000;stroke-width:0.8;\" x=\"35.304688\" xlink:href=\"#m2074f4938f\" y=\"63.207273\"/>\n",
       "      </g>\n",
       "     </g>\n",
       "     <g id=\"text_14\">\n",
       "      <!-- 20 -->\n",
       "      <g transform=\"translate(15.579688 67.006491)scale(0.1 -0.1)\">\n",
       "       <use xlink:href=\"#DejaVuSans-50\"/>\n",
       "       <use x=\"63.623047\" xlink:href=\"#DejaVuSans-48\"/>\n",
       "      </g>\n",
       "     </g>\n",
       "    </g>\n",
       "    <g id=\"ytick_6\">\n",
       "     <g id=\"line2d_15\">\n",
       "      <g>\n",
       "       <use style=\"stroke:#000000;stroke-width:0.8;\" x=\"35.304688\" xlink:href=\"#m2074f4938f\" y=\"30.261818\"/>\n",
       "      </g>\n",
       "     </g>\n",
       "     <g id=\"text_15\">\n",
       "      <!-- 30 -->\n",
       "      <g transform=\"translate(15.579688 34.061037)scale(0.1 -0.1)\">\n",
       "       <defs>\n",
       "        <path d=\"M 40.578125 39.3125 \n",
       "Q 47.65625 37.796875 51.625 33 \n",
       "Q 55.609375 28.21875 55.609375 21.1875 \n",
       "Q 55.609375 10.40625 48.1875 4.484375 \n",
       "Q 40.765625 -1.421875 27.09375 -1.421875 \n",
       "Q 22.515625 -1.421875 17.65625 -0.515625 \n",
       "Q 12.796875 0.390625 7.625 2.203125 \n",
       "L 7.625 11.71875 \n",
       "Q 11.71875 9.328125 16.59375 8.109375 \n",
       "Q 21.484375 6.890625 26.8125 6.890625 \n",
       "Q 36.078125 6.890625 40.9375 10.546875 \n",
       "Q 45.796875 14.203125 45.796875 21.1875 \n",
       "Q 45.796875 27.640625 41.28125 31.265625 \n",
       "Q 36.765625 34.90625 28.71875 34.90625 \n",
       "L 20.21875 34.90625 \n",
       "L 20.21875 43.015625 \n",
       "L 29.109375 43.015625 \n",
       "Q 36.375 43.015625 40.234375 45.921875 \n",
       "Q 44.09375 48.828125 44.09375 54.296875 \n",
       "Q 44.09375 59.90625 40.109375 62.90625 \n",
       "Q 36.140625 65.921875 28.71875 65.921875 \n",
       "Q 24.65625 65.921875 20.015625 65.03125 \n",
       "Q 15.375 64.15625 9.8125 62.3125 \n",
       "L 9.8125 71.09375 \n",
       "Q 15.4375 72.65625 20.34375 73.4375 \n",
       "Q 25.25 74.21875 29.59375 74.21875 \n",
       "Q 40.828125 74.21875 47.359375 69.109375 \n",
       "Q 53.90625 64.015625 53.90625 55.328125 \n",
       "Q 53.90625 49.265625 50.4375 45.09375 \n",
       "Q 46.96875 40.921875 40.578125 39.3125 \n",
       "z\n",
       "\" id=\"DejaVuSans-51\"/>\n",
       "       </defs>\n",
       "       <use xlink:href=\"#DejaVuSans-51\"/>\n",
       "       <use x=\"63.623047\" xlink:href=\"#DejaVuSans-48\"/>\n",
       "      </g>\n",
       "     </g>\n",
       "    </g>\n",
       "   </g>\n",
       "   <g id=\"line2d_16\">\n",
       "    <path clip-path=\"url(#p7a6ba8ea1d)\" d=\"M 50.522869 214.756364 \n",
       "L 53.597249 212.759669 \n",
       "L 56.67163 210.762975 \n",
       "L 59.74601 208.766281 \n",
       "L 62.82039 206.769587 \n",
       "L 65.89477 204.772893 \n",
       "L 68.96915 202.776198 \n",
       "L 72.04353 200.779504 \n",
       "L 75.117911 198.78281 \n",
       "L 78.192291 196.786116 \n",
       "L 81.266671 194.789421 \n",
       "L 84.341051 192.792727 \n",
       "L 87.415431 190.796033 \n",
       "L 90.489811 188.799339 \n",
       "L 93.564192 186.802645 \n",
       "L 96.638572 184.80595 \n",
       "L 99.712952 182.809256 \n",
       "L 102.787332 180.812562 \n",
       "L 105.861712 178.815868 \n",
       "L 108.936092 176.819174 \n",
       "L 112.010473 174.822479 \n",
       "L 115.084853 172.825785 \n",
       "L 118.159233 170.829091 \n",
       "L 121.233613 168.832397 \n",
       "L 124.307993 166.835702 \n",
       "L 127.382373 164.839008 \n",
       "L 130.456754 162.842314 \n",
       "L 133.531134 160.84562 \n",
       "L 136.605514 158.848926 \n",
       "L 139.679894 156.852231 \n",
       "L 142.754274 154.855537 \n",
       "L 145.828654 152.858843 \n",
       "L 148.903035 150.862149 \n",
       "L 151.977415 148.865455 \n",
       "L 155.051795 146.86876 \n",
       "L 158.126175 144.872066 \n",
       "L 161.200555 142.875372 \n",
       "L 164.274935 140.878678 \n",
       "L 167.349316 138.881983 \n",
       "L 170.423696 136.885289 \n",
       "L 173.498076 134.888595 \n",
       "L 176.572456 132.891901 \n",
       "L 179.646836 130.895207 \n",
       "L 182.721216 128.898512 \n",
       "L 185.795597 126.901818 \n",
       "L 188.869977 124.905124 \n",
       "L 191.944357 122.90843 \n",
       "L 195.018737 120.911736 \n",
       "L 198.093117 118.915041 \n",
       "L 201.167497 116.918347 \n",
       "L 204.241878 114.921653 \n",
       "L 207.316258 112.924959 \n",
       "L 210.390638 110.928264 \n",
       "L 213.465018 108.93157 \n",
       "L 216.539398 106.934876 \n",
       "L 219.613778 104.938182 \n",
       "L 222.688159 102.941488 \n",
       "L 225.762539 100.944793 \n",
       "L 228.836919 98.948099 \n",
       "L 231.911299 96.951405 \n",
       "L 234.985679 94.954711 \n",
       "L 238.060059 92.958017 \n",
       "L 241.13444 90.961322 \n",
       "L 244.20882 88.964628 \n",
       "L 247.2832 86.967934 \n",
       "L 250.35758 84.97124 \n",
       "L 253.43196 82.974545 \n",
       "L 256.50634 80.977851 \n",
       "L 259.580721 78.981157 \n",
       "L 262.655101 76.984463 \n",
       "L 265.729481 74.987769 \n",
       "L 268.803861 72.991074 \n",
       "L 271.878241 70.99438 \n",
       "L 274.952621 68.997686 \n",
       "L 278.027002 67.000992 \n",
       "L 281.101382 65.004298 \n",
       "L 284.175762 63.007603 \n",
       "L 287.250142 61.010909 \n",
       "L 290.324522 59.014215 \n",
       "L 293.398902 57.017521 \n",
       "L 296.473283 55.020826 \n",
       "L 299.547663 53.024132 \n",
       "L 302.622043 51.027438 \n",
       "L 305.696423 49.030744 \n",
       "L 308.770803 47.03405 \n",
       "L 311.845183 45.037355 \n",
       "L 314.919564 43.040661 \n",
       "L 317.993944 41.043967 \n",
       "L 321.068324 39.047273 \n",
       "L 324.142704 37.050579 \n",
       "L 327.217084 35.053884 \n",
       "L 330.291464 33.05719 \n",
       "L 333.365845 31.060496 \n",
       "L 336.440225 29.063802 \n",
       "L 339.514605 27.067107 \n",
       "L 342.588985 25.070413 \n",
       "L 345.663365 23.073719 \n",
       "L 348.737745 21.077025 \n",
       "L 351.812126 19.080331 \n",
       "L 354.886506 17.083636 \n",
       "\" style=\"fill:none;stroke:#1f77b4;stroke-linecap:square;stroke-width:1.5;\"/>\n",
       "   </g>\n",
       "   <g id=\"patch_3\">\n",
       "    <path d=\"M 35.304688 224.64 \n",
       "L 35.304688 7.2 \n",
       "\" style=\"fill:none;stroke:#000000;stroke-linecap:square;stroke-linejoin:miter;stroke-width:0.8;\"/>\n",
       "   </g>\n",
       "   <g id=\"patch_4\">\n",
       "    <path d=\"M 370.104688 224.64 \n",
       "L 370.104688 7.2 \n",
       "\" style=\"fill:none;stroke:#000000;stroke-linecap:square;stroke-linejoin:miter;stroke-width:0.8;\"/>\n",
       "   </g>\n",
       "   <g id=\"patch_5\">\n",
       "    <path d=\"M 35.304688 224.64 \n",
       "L 370.104688 224.64 \n",
       "\" style=\"fill:none;stroke:#000000;stroke-linecap:square;stroke-linejoin:miter;stroke-width:0.8;\"/>\n",
       "   </g>\n",
       "   <g id=\"patch_6\">\n",
       "    <path d=\"M 35.304688 7.2 \n",
       "L 370.104688 7.2 \n",
       "\" style=\"fill:none;stroke:#000000;stroke-linecap:square;stroke-linejoin:miter;stroke-width:0.8;\"/>\n",
       "   </g>\n",
       "  </g>\n",
       " </g>\n",
       " <defs>\n",
       "  <clipPath id=\"p7a6ba8ea1d\">\n",
       "   <rect height=\"217.44\" width=\"334.8\" x=\"35.304688\" y=\"7.2\"/>\n",
       "  </clipPath>\n",
       " </defs>\n",
       "</svg>\n"
      ],
      "text/plain": [
       "<Figure size 432x288 with 1 Axes>"
      ]
     },
     "metadata": {
      "needs_background": "light"
     },
     "output_type": "display_data"
    }
   ],
   "source": [
    "plt.plot(x,y)"
   ]
  },
  {
   "cell_type": "markdown",
   "metadata": {
    "id": "rr_3-tvdlAys"
   },
   "source": [
    "Let's try plotting any quadratic function, say $y(x)$ = $x^2$"
   ]
  },
  {
   "cell_type": "code",
   "execution_count": 31,
   "metadata": {
    "colab": {
     "base_uri": "https://localhost:8080/",
     "height": 132
    },
    "id": "KzHxgjpik_P6",
    "outputId": "a203d593-a193-491b-ebc1-f78115d4f8fc"
   },
   "outputs": [
    {
     "data": {
      "text/plain": [
       "[<matplotlib.lines.Line2D at 0x7fecff55b730>]"
      ]
     },
     "execution_count": 31,
     "metadata": {},
     "output_type": "execute_result"
    },
    {
     "data": {
      "image/png": "[encoded data removed]",
      "image/svg+xml": [
       "<?xml version=\"1.0\" encoding=\"utf-8\" standalone=\"no\"?>\n",
       "<!DOCTYPE svg PUBLIC \"-//W3C//DTD SVG 1.1//EN\"\n",
       "  \"http://www.w3.org/Graphics/SVG/1.1/DTD/svg11.dtd\">\n",
       "<!-- Created with matplotlib (https://matplotlib.org/) -->\n",
       "<svg height=\"248.518125pt\" version=\"1.1\" viewBox=\"0 0 375.2875 248.518125\" width=\"375.2875pt\" xmlns=\"http://www.w3.org/2000/svg\" xmlns:xlink=\"http://www.w3.org/1999/xlink\">\n",
       " <metadata>\n",
       "  <rdf:RDF xmlns:cc=\"http://creativecommons.org/ns#\" xmlns:dc=\"http://purl.org/dc/elements/1.1/\" xmlns:rdf=\"http://www.w3.org/1999/02/22-rdf-syntax-ns#\">\n",
       "   <cc:Work>\n",
       "    <dc:type rdf:resource=\"http://purl.org/dc/dcmitype/StillImage\"/>\n",
       "    <dc:date>2021-02-12T00:08:52.793224</dc:date>\n",
       "    <dc:format>image/svg+xml</dc:format>\n",
       "    <dc:creator>\n",
       "     <cc:Agent>\n",
       "      <dc:title>Matplotlib v3.3.3, https://matplotlib.org/</dc:title>\n",
       "     </cc:Agent>\n",
       "    </dc:creator>\n",
       "   </cc:Work>\n",
       "  </rdf:RDF>\n",
       " </metadata>\n",
       " <defs>\n",
       "  <style type=\"text/css\">*{stroke-linecap:butt;stroke-linejoin:round;}</style>\n",
       " </defs>\n",
       " <g id=\"figure_1\">\n",
       "  <g id=\"patch_1\">\n",
       "   <path d=\"M 0 248.518125 \n",
       "L 375.2875 248.518125 \n",
       "L 375.2875 0 \n",
       "L 0 0 \n",
       "z\n",
       "\" style=\"fill:none;\"/>\n",
       "  </g>\n",
       "  <g id=\"axes_1\">\n",
       "   <g id=\"patch_2\">\n",
       "    <path d=\"M 33.2875 224.64 \n",
       "L 368.0875 224.64 \n",
       "L 368.0875 7.2 \n",
       "L 33.2875 7.2 \n",
       "z\n",
       "\" style=\"fill:#ffffff;\"/>\n",
       "   </g>\n",
       "   <g id=\"matplotlib.axis_1\">\n",
       "    <g id=\"xtick_1\">\n",
       "     <g id=\"line2d_1\">\n",
       "      <defs>\n",
       "       <path d=\"M 0 0 \n",
       "L 0 3.5 \n",
       "\" id=\"m816c310d56\" style=\"stroke:#000000;stroke-width:0.8;\"/>\n",
       "      </defs>\n",
       "      <g>\n",
       "       <use style=\"stroke:#000000;stroke-width:0.8;\" x=\"48.505682\" xlink:href=\"#m816c310d56\" y=\"224.64\"/>\n",
       "      </g>\n",
       "     </g>\n",
       "     <g id=\"text_1\">\n",
       "      <!-- −10.0 -->\n",
       "      <g transform=\"translate(33.183026 239.238437)scale(0.1 -0.1)\">\n",
       "       <defs>\n",
       "        <path d=\"M 10.59375 35.5 \n",
       "L 73.1875 35.5 \n",
       "L 73.1875 27.203125 \n",
       "L 10.59375 27.203125 \n",
       "z\n",
       "\" id=\"DejaVuSans-8722\"/>\n",
       "        <path d=\"M 12.40625 8.296875 \n",
       "L 28.515625 8.296875 \n",
       "L 28.515625 63.921875 \n",
       "L 10.984375 60.40625 \n",
       "L 10.984375 69.390625 \n",
       "L 28.421875 72.90625 \n",
       "L 38.28125 72.90625 \n",
       "L 38.28125 8.296875 \n",
       "L 54.390625 8.296875 \n",
       "L 54.390625 0 \n",
       "L 12.40625 0 \n",
       "z\n",
       "\" id=\"DejaVuSans-49\"/>\n",
       "        <path d=\"M 31.78125 66.40625 \n",
       "Q 24.171875 66.40625 20.328125 58.90625 \n",
       "Q 16.5 51.421875 16.5 36.375 \n",
       "Q 16.5 21.390625 20.328125 13.890625 \n",
       "Q 24.171875 6.390625 31.78125 6.390625 \n",
       "Q 39.453125 6.390625 43.28125 13.890625 \n",
       "Q 47.125 21.390625 47.125 36.375 \n",
       "Q 47.125 51.421875 43.28125 58.90625 \n",
       "Q 39.453125 66.40625 31.78125 66.40625 \n",
       "z\n",
       "M 31.78125 74.21875 \n",
       "Q 44.046875 74.21875 50.515625 64.515625 \n",
       "Q 56.984375 54.828125 56.984375 36.375 \n",
       "Q 56.984375 17.96875 50.515625 8.265625 \n",
       "Q 44.046875 -1.421875 31.78125 -1.421875 \n",
       "Q 19.53125 -1.421875 13.0625 8.265625 \n",
       "Q 6.59375 17.96875 6.59375 36.375 \n",
       "Q 6.59375 54.828125 13.0625 64.515625 \n",
       "Q 19.53125 74.21875 31.78125 74.21875 \n",
       "z\n",
       "\" id=\"DejaVuSans-48\"/>\n",
       "        <path d=\"M 10.6875 12.40625 \n",
       "L 21 12.40625 \n",
       "L 21 0 \n",
       "L 10.6875 0 \n",
       "z\n",
       "\" id=\"DejaVuSans-46\"/>\n",
       "       </defs>\n",
       "       <use xlink:href=\"#DejaVuSans-8722\"/>\n",
       "       <use x=\"83.789062\" xlink:href=\"#DejaVuSans-49\"/>\n",
       "       <use x=\"147.412109\" xlink:href=\"#DejaVuSans-48\"/>\n",
       "       <use x=\"211.035156\" xlink:href=\"#DejaVuSans-46\"/>\n",
       "       <use x=\"242.822266\" xlink:href=\"#DejaVuSans-48\"/>\n",
       "      </g>\n",
       "     </g>\n",
       "    </g>\n",
       "    <g id=\"xtick_2\">\n",
       "     <g id=\"line2d_2\">\n",
       "      <g>\n",
       "       <use style=\"stroke:#000000;stroke-width:0.8;\" x=\"86.551136\" xlink:href=\"#m816c310d56\" y=\"224.64\"/>\n",
       "      </g>\n",
       "     </g>\n",
       "     <g id=\"text_2\">\n",
       "      <!-- −7.5 -->\n",
       "      <g transform=\"translate(74.40973 239.238437)scale(0.1 -0.1)\">\n",
       "       <defs>\n",
       "        <path d=\"M 8.203125 72.90625 \n",
       "L 55.078125 72.90625 \n",
       "L 55.078125 68.703125 \n",
       "L 28.609375 0 \n",
       "L 18.3125 0 \n",
       "L 43.21875 64.59375 \n",
       "L 8.203125 64.59375 \n",
       "z\n",
       "\" id=\"DejaVuSans-55\"/>\n",
       "        <path d=\"M 10.796875 72.90625 \n",
       "L 49.515625 72.90625 \n",
       "L 49.515625 64.59375 \n",
       "L 19.828125 64.59375 \n",
       "L 19.828125 46.734375 \n",
       "Q 21.96875 47.46875 24.109375 47.828125 \n",
       "Q 26.265625 48.1875 28.421875 48.1875 \n",
       "Q 40.625 48.1875 47.75 41.5 \n",
       "Q 54.890625 34.8125 54.890625 23.390625 \n",
       "Q 54.890625 11.625 47.5625 5.09375 \n",
       "Q 40.234375 -1.421875 26.90625 -1.421875 \n",
       "Q 22.3125 -1.421875 17.546875 -0.640625 \n",
       "Q 12.796875 0.140625 7.71875 1.703125 \n",
       "L 7.71875 11.625 \n",
       "Q 12.109375 9.234375 16.796875 8.0625 \n",
       "Q 21.484375 6.890625 26.703125 6.890625 \n",
       "Q 35.15625 6.890625 40.078125 11.328125 \n",
       "Q 45.015625 15.765625 45.015625 23.390625 \n",
       "Q 45.015625 31 40.078125 35.4375 \n",
       "Q 35.15625 39.890625 26.703125 39.890625 \n",
       "Q 22.75 39.890625 18.8125 39.015625 \n",
       "Q 14.890625 38.140625 10.796875 36.28125 \n",
       "z\n",
       "\" id=\"DejaVuSans-53\"/>\n",
       "       </defs>\n",
       "       <use xlink:href=\"#DejaVuSans-8722\"/>\n",
       "       <use x=\"83.789062\" xlink:href=\"#DejaVuSans-55\"/>\n",
       "       <use x=\"147.412109\" xlink:href=\"#DejaVuSans-46\"/>\n",
       "       <use x=\"179.199219\" xlink:href=\"#DejaVuSans-53\"/>\n",
       "      </g>\n",
       "     </g>\n",
       "    </g>\n",
       "    <g id=\"xtick_3\">\n",
       "     <g id=\"line2d_3\">\n",
       "      <g>\n",
       "       <use style=\"stroke:#000000;stroke-width:0.8;\" x=\"124.596591\" xlink:href=\"#m816c310d56\" y=\"224.64\"/>\n",
       "      </g>\n",
       "     </g>\n",
       "     <g id=\"text_3\">\n",
       "      <!-- −5.0 -->\n",
       "      <g transform=\"translate(112.455185 239.238437)scale(0.1 -0.1)\">\n",
       "       <use xlink:href=\"#DejaVuSans-8722\"/>\n",
       "       <use x=\"83.789062\" xlink:href=\"#DejaVuSans-53\"/>\n",
       "       <use x=\"147.412109\" xlink:href=\"#DejaVuSans-46\"/>\n",
       "       <use x=\"179.199219\" xlink:href=\"#DejaVuSans-48\"/>\n",
       "      </g>\n",
       "     </g>\n",
       "    </g>\n",
       "    <g id=\"xtick_4\">\n",
       "     <g id=\"line2d_4\">\n",
       "      <g>\n",
       "       <use style=\"stroke:#000000;stroke-width:0.8;\" x=\"162.642045\" xlink:href=\"#m816c310d56\" y=\"224.64\"/>\n",
       "      </g>\n",
       "     </g>\n",
       "     <g id=\"text_4\">\n",
       "      <!-- −2.5 -->\n",
       "      <g transform=\"translate(150.500639 239.238437)scale(0.1 -0.1)\">\n",
       "       <defs>\n",
       "        <path d=\"M 19.1875 8.296875 \n",
       "L 53.609375 8.296875 \n",
       "L 53.609375 0 \n",
       "L 7.328125 0 \n",
       "L 7.328125 8.296875 \n",
       "Q 12.9375 14.109375 22.625 23.890625 \n",
       "Q 32.328125 33.6875 34.8125 36.53125 \n",
       "Q 39.546875 41.84375 41.421875 45.53125 \n",
       "Q 43.3125 49.21875 43.3125 52.78125 \n",
       "Q 43.3125 58.59375 39.234375 62.25 \n",
       "Q 35.15625 65.921875 28.609375 65.921875 \n",
       "Q 23.96875 65.921875 18.8125 64.3125 \n",
       "Q 13.671875 62.703125 7.8125 59.421875 \n",
       "L 7.8125 69.390625 \n",
       "Q 13.765625 71.78125 18.9375 73 \n",
       "Q 24.125 74.21875 28.421875 74.21875 \n",
       "Q 39.75 74.21875 46.484375 68.546875 \n",
       "Q 53.21875 62.890625 53.21875 53.421875 \n",
       "Q 53.21875 48.921875 51.53125 44.890625 \n",
       "Q 49.859375 40.875 45.40625 35.40625 \n",
       "Q 44.1875 33.984375 37.640625 27.21875 \n",
       "Q 31.109375 20.453125 19.1875 8.296875 \n",
       "z\n",
       "\" id=\"DejaVuSans-50\"/>\n",
       "       </defs>\n",
       "       <use xlink:href=\"#DejaVuSans-8722\"/>\n",
       "       <use x=\"83.789062\" xlink:href=\"#DejaVuSans-50\"/>\n",
       "       <use x=\"147.412109\" xlink:href=\"#DejaVuSans-46\"/>\n",
       "       <use x=\"179.199219\" xlink:href=\"#DejaVuSans-53\"/>\n",
       "      </g>\n",
       "     </g>\n",
       "    </g>\n",
       "    <g id=\"xtick_5\">\n",
       "     <g id=\"line2d_5\">\n",
       "      <g>\n",
       "       <use style=\"stroke:#000000;stroke-width:0.8;\" x=\"200.6875\" xlink:href=\"#m816c310d56\" y=\"224.64\"/>\n",
       "      </g>\n",
       "     </g>\n",
       "     <g id=\"text_5\">\n",
       "      <!-- 0.0 -->\n",
       "      <g transform=\"translate(192.735938 239.238437)scale(0.1 -0.1)\">\n",
       "       <use xlink:href=\"#DejaVuSans-48\"/>\n",
       "       <use x=\"63.623047\" xlink:href=\"#DejaVuSans-46\"/>\n",
       "       <use x=\"95.410156\" xlink:href=\"#DejaVuSans-48\"/>\n",
       "      </g>\n",
       "     </g>\n",
       "    </g>\n",
       "    <g id=\"xtick_6\">\n",
       "     <g id=\"line2d_6\">\n",
       "      <g>\n",
       "       <use style=\"stroke:#000000;stroke-width:0.8;\" x=\"238.732955\" xlink:href=\"#m816c310d56\" y=\"224.64\"/>\n",
       "      </g>\n",
       "     </g>\n",
       "     <g id=\"text_6\">\n",
       "      <!-- 2.5 -->\n",
       "      <g transform=\"translate(230.781392 239.238437)scale(0.1 -0.1)\">\n",
       "       <use xlink:href=\"#DejaVuSans-50\"/>\n",
       "       <use x=\"63.623047\" xlink:href=\"#DejaVuSans-46\"/>\n",
       "       <use x=\"95.410156\" xlink:href=\"#DejaVuSans-53\"/>\n",
       "      </g>\n",
       "     </g>\n",
       "    </g>\n",
       "    <g id=\"xtick_7\">\n",
       "     <g id=\"line2d_7\">\n",
       "      <g>\n",
       "       <use style=\"stroke:#000000;stroke-width:0.8;\" x=\"276.778409\" xlink:href=\"#m816c310d56\" y=\"224.64\"/>\n",
       "      </g>\n",
       "     </g>\n",
       "     <g id=\"text_7\">\n",
       "      <!-- 5.0 -->\n",
       "      <g transform=\"translate(268.826847 239.238437)scale(0.1 -0.1)\">\n",
       "       <use xlink:href=\"#DejaVuSans-53\"/>\n",
       "       <use x=\"63.623047\" xlink:href=\"#DejaVuSans-46\"/>\n",
       "       <use x=\"95.410156\" xlink:href=\"#DejaVuSans-48\"/>\n",
       "      </g>\n",
       "     </g>\n",
       "    </g>\n",
       "    <g id=\"xtick_8\">\n",
       "     <g id=\"line2d_8\">\n",
       "      <g>\n",
       "       <use style=\"stroke:#000000;stroke-width:0.8;\" x=\"314.823864\" xlink:href=\"#m816c310d56\" y=\"224.64\"/>\n",
       "      </g>\n",
       "     </g>\n",
       "     <g id=\"text_8\">\n",
       "      <!-- 7.5 -->\n",
       "      <g transform=\"translate(306.872301 239.238437)scale(0.1 -0.1)\">\n",
       "       <use xlink:href=\"#DejaVuSans-55\"/>\n",
       "       <use x=\"63.623047\" xlink:href=\"#DejaVuSans-46\"/>\n",
       "       <use x=\"95.410156\" xlink:href=\"#DejaVuSans-53\"/>\n",
       "      </g>\n",
       "     </g>\n",
       "    </g>\n",
       "    <g id=\"xtick_9\">\n",
       "     <g id=\"line2d_9\">\n",
       "      <g>\n",
       "       <use style=\"stroke:#000000;stroke-width:0.8;\" x=\"352.869318\" xlink:href=\"#m816c310d56\" y=\"224.64\"/>\n",
       "      </g>\n",
       "     </g>\n",
       "     <g id=\"text_9\">\n",
       "      <!-- 10.0 -->\n",
       "      <g transform=\"translate(341.736506 239.238437)scale(0.1 -0.1)\">\n",
       "       <use xlink:href=\"#DejaVuSans-49\"/>\n",
       "       <use x=\"63.623047\" xlink:href=\"#DejaVuSans-48\"/>\n",
       "       <use x=\"127.246094\" xlink:href=\"#DejaVuSans-46\"/>\n",
       "       <use x=\"159.033203\" xlink:href=\"#DejaVuSans-48\"/>\n",
       "      </g>\n",
       "     </g>\n",
       "    </g>\n",
       "   </g>\n",
       "   <g id=\"matplotlib.axis_2\">\n",
       "    <g id=\"ytick_1\">\n",
       "     <g id=\"line2d_10\">\n",
       "      <defs>\n",
       "       <path d=\"M 0 0 \n",
       "L -3.5 0 \n",
       "\" id=\"mb1601b12e9\" style=\"stroke:#000000;stroke-width:0.8;\"/>\n",
       "      </defs>\n",
       "      <g>\n",
       "       <use style=\"stroke:#000000;stroke-width:0.8;\" x=\"33.2875\" xlink:href=\"#mb1601b12e9\" y=\"214.776534\"/>\n",
       "      </g>\n",
       "     </g>\n",
       "     <g id=\"text_10\">\n",
       "      <!-- 0 -->\n",
       "      <g transform=\"translate(19.925 218.575753)scale(0.1 -0.1)\">\n",
       "       <use xlink:href=\"#DejaVuSans-48\"/>\n",
       "      </g>\n",
       "     </g>\n",
       "    </g>\n",
       "    <g id=\"ytick_2\">\n",
       "     <g id=\"line2d_11\">\n",
       "      <g>\n",
       "       <use style=\"stroke:#000000;stroke-width:0.8;\" x=\"33.2875\" xlink:href=\"#mb1601b12e9\" y=\"175.237955\"/>\n",
       "      </g>\n",
       "     </g>\n",
       "     <g id=\"text_11\">\n",
       "      <!-- 20 -->\n",
       "      <g transform=\"translate(13.5625 179.037173)scale(0.1 -0.1)\">\n",
       "       <use xlink:href=\"#DejaVuSans-50\"/>\n",
       "       <use x=\"63.623047\" xlink:href=\"#DejaVuSans-48\"/>\n",
       "      </g>\n",
       "     </g>\n",
       "    </g>\n",
       "    <g id=\"ytick_3\">\n",
       "     <g id=\"line2d_12\">\n",
       "      <g>\n",
       "       <use style=\"stroke:#000000;stroke-width:0.8;\" x=\"33.2875\" xlink:href=\"#mb1601b12e9\" y=\"135.699375\"/>\n",
       "      </g>\n",
       "     </g>\n",
       "     <g id=\"text_12\">\n",
       "      <!-- 40 -->\n",
       "      <g transform=\"translate(13.5625 139.498594)scale(0.1 -0.1)\">\n",
       "       <defs>\n",
       "        <path d=\"M 37.796875 64.3125 \n",
       "L 12.890625 25.390625 \n",
       "L 37.796875 25.390625 \n",
       "z\n",
       "M 35.203125 72.90625 \n",
       "L 47.609375 72.90625 \n",
       "L 47.609375 25.390625 \n",
       "L 58.015625 25.390625 \n",
       "L 58.015625 17.1875 \n",
       "L 47.609375 17.1875 \n",
       "L 47.609375 0 \n",
       "L 37.796875 0 \n",
       "L 37.796875 17.1875 \n",
       "L 4.890625 17.1875 \n",
       "L 4.890625 26.703125 \n",
       "z\n",
       "\" id=\"DejaVuSans-52\"/>\n",
       "       </defs>\n",
       "       <use xlink:href=\"#DejaVuSans-52\"/>\n",
       "       <use x=\"63.623047\" xlink:href=\"#DejaVuSans-48\"/>\n",
       "      </g>\n",
       "     </g>\n",
       "    </g>\n",
       "    <g id=\"ytick_4\">\n",
       "     <g id=\"line2d_13\">\n",
       "      <g>\n",
       "       <use style=\"stroke:#000000;stroke-width:0.8;\" x=\"33.2875\" xlink:href=\"#mb1601b12e9\" y=\"96.160796\"/>\n",
       "      </g>\n",
       "     </g>\n",
       "     <g id=\"text_13\">\n",
       "      <!-- 60 -->\n",
       "      <g transform=\"translate(13.5625 99.960014)scale(0.1 -0.1)\">\n",
       "       <defs>\n",
       "        <path d=\"M 33.015625 40.375 \n",
       "Q 26.375 40.375 22.484375 35.828125 \n",
       "Q 18.609375 31.296875 18.609375 23.390625 \n",
       "Q 18.609375 15.53125 22.484375 10.953125 \n",
       "Q 26.375 6.390625 33.015625 6.390625 \n",
       "Q 39.65625 6.390625 43.53125 10.953125 \n",
       "Q 47.40625 15.53125 47.40625 23.390625 \n",
       "Q 47.40625 31.296875 43.53125 35.828125 \n",
       "Q 39.65625 40.375 33.015625 40.375 \n",
       "z\n",
       "M 52.59375 71.296875 \n",
       "L 52.59375 62.3125 \n",
       "Q 48.875 64.0625 45.09375 64.984375 \n",
       "Q 41.3125 65.921875 37.59375 65.921875 \n",
       "Q 27.828125 65.921875 22.671875 59.328125 \n",
       "Q 17.53125 52.734375 16.796875 39.40625 \n",
       "Q 19.671875 43.65625 24.015625 45.921875 \n",
       "Q 28.375 48.1875 33.59375 48.1875 \n",
       "Q 44.578125 48.1875 50.953125 41.515625 \n",
       "Q 57.328125 34.859375 57.328125 23.390625 \n",
       "Q 57.328125 12.15625 50.6875 5.359375 \n",
       "Q 44.046875 -1.421875 33.015625 -1.421875 \n",
       "Q 20.359375 -1.421875 13.671875 8.265625 \n",
       "Q 6.984375 17.96875 6.984375 36.375 \n",
       "Q 6.984375 53.65625 15.1875 63.9375 \n",
       "Q 23.390625 74.21875 37.203125 74.21875 \n",
       "Q 40.921875 74.21875 44.703125 73.484375 \n",
       "Q 48.484375 72.75 52.59375 71.296875 \n",
       "z\n",
       "\" id=\"DejaVuSans-54\"/>\n",
       "       </defs>\n",
       "       <use xlink:href=\"#DejaVuSans-54\"/>\n",
       "       <use x=\"63.623047\" xlink:href=\"#DejaVuSans-48\"/>\n",
       "      </g>\n",
       "     </g>\n",
       "    </g>\n",
       "    <g id=\"ytick_5\">\n",
       "     <g id=\"line2d_14\">\n",
       "      <g>\n",
       "       <use style=\"stroke:#000000;stroke-width:0.8;\" x=\"33.2875\" xlink:href=\"#mb1601b12e9\" y=\"56.622216\"/>\n",
       "      </g>\n",
       "     </g>\n",
       "     <g id=\"text_14\">\n",
       "      <!-- 80 -->\n",
       "      <g transform=\"translate(13.5625 60.421435)scale(0.1 -0.1)\">\n",
       "       <defs>\n",
       "        <path d=\"M 31.78125 34.625 \n",
       "Q 24.75 34.625 20.71875 30.859375 \n",
       "Q 16.703125 27.09375 16.703125 20.515625 \n",
       "Q 16.703125 13.921875 20.71875 10.15625 \n",
       "Q 24.75 6.390625 31.78125 6.390625 \n",
       "Q 38.8125 6.390625 42.859375 10.171875 \n",
       "Q 46.921875 13.96875 46.921875 20.515625 \n",
       "Q 46.921875 27.09375 42.890625 30.859375 \n",
       "Q 38.875 34.625 31.78125 34.625 \n",
       "z\n",
       "M 21.921875 38.8125 \n",
       "Q 15.578125 40.375 12.03125 44.71875 \n",
       "Q 8.5 49.078125 8.5 55.328125 \n",
       "Q 8.5 64.0625 14.71875 69.140625 \n",
       "Q 20.953125 74.21875 31.78125 74.21875 \n",
       "Q 42.671875 74.21875 48.875 69.140625 \n",
       "Q 55.078125 64.0625 55.078125 55.328125 \n",
       "Q 55.078125 49.078125 51.53125 44.71875 \n",
       "Q 48 40.375 41.703125 38.8125 \n",
       "Q 48.828125 37.15625 52.796875 32.3125 \n",
       "Q 56.78125 27.484375 56.78125 20.515625 \n",
       "Q 56.78125 9.90625 50.3125 4.234375 \n",
       "Q 43.84375 -1.421875 31.78125 -1.421875 \n",
       "Q 19.734375 -1.421875 13.25 4.234375 \n",
       "Q 6.78125 9.90625 6.78125 20.515625 \n",
       "Q 6.78125 27.484375 10.78125 32.3125 \n",
       "Q 14.796875 37.15625 21.921875 38.8125 \n",
       "z\n",
       "M 18.3125 54.390625 \n",
       "Q 18.3125 48.734375 21.84375 45.5625 \n",
       "Q 25.390625 42.390625 31.78125 42.390625 \n",
       "Q 38.140625 42.390625 41.71875 45.5625 \n",
       "Q 45.3125 48.734375 45.3125 54.390625 \n",
       "Q 45.3125 60.0625 41.71875 63.234375 \n",
       "Q 38.140625 66.40625 31.78125 66.40625 \n",
       "Q 25.390625 66.40625 21.84375 63.234375 \n",
       "Q 18.3125 60.0625 18.3125 54.390625 \n",
       "z\n",
       "\" id=\"DejaVuSans-56\"/>\n",
       "       </defs>\n",
       "       <use xlink:href=\"#DejaVuSans-56\"/>\n",
       "       <use x=\"63.623047\" xlink:href=\"#DejaVuSans-48\"/>\n",
       "      </g>\n",
       "     </g>\n",
       "    </g>\n",
       "    <g id=\"ytick_6\">\n",
       "     <g id=\"line2d_15\">\n",
       "      <g>\n",
       "       <use style=\"stroke:#000000;stroke-width:0.8;\" x=\"33.2875\" xlink:href=\"#mb1601b12e9\" y=\"17.083636\"/>\n",
       "      </g>\n",
       "     </g>\n",
       "     <g id=\"text_15\">\n",
       "      <!-- 100 -->\n",
       "      <g transform=\"translate(7.2 20.882855)scale(0.1 -0.1)\">\n",
       "       <use xlink:href=\"#DejaVuSans-49\"/>\n",
       "       <use x=\"63.623047\" xlink:href=\"#DejaVuSans-48\"/>\n",
       "       <use x=\"127.246094\" xlink:href=\"#DejaVuSans-48\"/>\n",
       "      </g>\n",
       "     </g>\n",
       "    </g>\n",
       "   </g>\n",
       "   <g id=\"line2d_16\">\n",
       "    <path clip-path=\"url(#p108f95b1bc)\" d=\"M 48.505682 17.083636 \n",
       "L 51.580062 24.990545 \n",
       "L 54.654442 32.736089 \n",
       "L 57.728822 40.320267 \n",
       "L 60.803202 47.74308 \n",
       "L 63.877583 55.004527 \n",
       "L 66.951963 62.104609 \n",
       "L 70.026343 69.043325 \n",
       "L 73.100723 75.820675 \n",
       "L 76.175103 82.43666 \n",
       "L 79.249483 88.89128 \n",
       "L 82.323864 95.184534 \n",
       "L 85.398244 101.316423 \n",
       "L 88.472624 107.286946 \n",
       "L 91.547004 113.096104 \n",
       "L 94.621384 118.743896 \n",
       "L 97.695764 124.230323 \n",
       "L 100.770145 129.555384 \n",
       "L 103.844525 134.71908 \n",
       "L 106.918905 139.72141 \n",
       "L 109.993285 144.562375 \n",
       "L 113.067665 149.241974 \n",
       "L 116.142045 153.760208 \n",
       "L 119.216426 158.117076 \n",
       "L 122.290806 162.312579 \n",
       "L 125.365186 166.346716 \n",
       "L 128.439566 170.219488 \n",
       "L 131.513946 173.930894 \n",
       "L 134.588326 177.480935 \n",
       "L 137.662707 180.86961 \n",
       "L 140.737087 184.09692 \n",
       "L 143.811467 187.162865 \n",
       "L 146.885847 190.067443 \n",
       "L 149.960227 192.810657 \n",
       "L 153.034607 195.392505 \n",
       "L 156.108988 197.812987 \n",
       "L 159.183368 200.072104 \n",
       "L 162.257748 202.169855 \n",
       "L 165.332128 204.106241 \n",
       "L 168.406508 205.881262 \n",
       "L 171.480888 207.494917 \n",
       "L 174.555269 208.947206 \n",
       "L 177.629649 210.23813 \n",
       "L 180.704029 211.367688 \n",
       "L 183.778409 212.335881 \n",
       "L 186.852789 213.142709 \n",
       "L 189.927169 213.788171 \n",
       "L 193.00155 214.272267 \n",
       "L 196.07593 214.594998 \n",
       "L 199.15031 214.756364 \n",
       "L 202.22469 214.756364 \n",
       "L 205.29907 214.594998 \n",
       "L 208.37345 214.272267 \n",
       "L 211.447831 213.788171 \n",
       "L 214.522211 213.142709 \n",
       "L 217.596591 212.335881 \n",
       "L 220.670971 211.367688 \n",
       "L 223.745351 210.23813 \n",
       "L 226.819731 208.947206 \n",
       "L 229.894112 207.494917 \n",
       "L 232.968492 205.881262 \n",
       "L 236.042872 204.106241 \n",
       "L 239.117252 202.169855 \n",
       "L 242.191632 200.072104 \n",
       "L 245.266012 197.812987 \n",
       "L 248.340393 195.392505 \n",
       "L 251.414773 192.810657 \n",
       "L 254.489153 190.067443 \n",
       "L 257.563533 187.162865 \n",
       "L 260.637913 184.09692 \n",
       "L 263.712293 180.86961 \n",
       "L 266.786674 177.480935 \n",
       "L 269.861054 173.930894 \n",
       "L 272.935434 170.219488 \n",
       "L 276.009814 166.346716 \n",
       "L 279.084194 162.312579 \n",
       "L 282.158574 158.117076 \n",
       "L 285.232955 153.760208 \n",
       "L 288.307335 149.241974 \n",
       "L 291.381715 144.562375 \n",
       "L 294.456095 139.72141 \n",
       "L 297.530475 134.71908 \n",
       "L 300.604855 129.555384 \n",
       "L 303.679236 124.230323 \n",
       "L 306.753616 118.743896 \n",
       "L 309.827996 113.096104 \n",
       "L 312.902376 107.286946 \n",
       "L 315.976756 101.316423 \n",
       "L 319.051136 95.184534 \n",
       "L 322.125517 88.89128 \n",
       "L 325.199897 82.43666 \n",
       "L 328.274277 75.820675 \n",
       "L 331.348657 69.043325 \n",
       "L 334.423037 62.104609 \n",
       "L 337.497417 55.004527 \n",
       "L 340.571798 47.74308 \n",
       "L 343.646178 40.320267 \n",
       "L 346.720558 32.736089 \n",
       "L 349.794938 24.990545 \n",
       "L 352.869318 17.083636 \n",
       "\" style=\"fill:none;stroke:#1f77b4;stroke-linecap:square;stroke-width:1.5;\"/>\n",
       "   </g>\n",
       "   <g id=\"patch_3\">\n",
       "    <path d=\"M 33.2875 224.64 \n",
       "L 33.2875 7.2 \n",
       "\" style=\"fill:none;stroke:#000000;stroke-linecap:square;stroke-linejoin:miter;stroke-width:0.8;\"/>\n",
       "   </g>\n",
       "   <g id=\"patch_4\">\n",
       "    <path d=\"M 368.0875 224.64 \n",
       "L 368.0875 7.2 \n",
       "\" style=\"fill:none;stroke:#000000;stroke-linecap:square;stroke-linejoin:miter;stroke-width:0.8;\"/>\n",
       "   </g>\n",
       "   <g id=\"patch_5\">\n",
       "    <path d=\"M 33.2875 224.64 \n",
       "L 368.0875 224.64 \n",
       "\" style=\"fill:none;stroke:#000000;stroke-linecap:square;stroke-linejoin:miter;stroke-width:0.8;\"/>\n",
       "   </g>\n",
       "   <g id=\"patch_6\">\n",
       "    <path d=\"M 33.2875 7.2 \n",
       "L 368.0875 7.2 \n",
       "\" style=\"fill:none;stroke:#000000;stroke-linecap:square;stroke-linejoin:miter;stroke-width:0.8;\"/>\n",
       "   </g>\n",
       "  </g>\n",
       " </g>\n",
       " <defs>\n",
       "  <clipPath id=\"p108f95b1bc\">\n",
       "   <rect height=\"217.44\" width=\"334.8\" x=\"33.2875\" y=\"7.2\"/>\n",
       "  </clipPath>\n",
       " </defs>\n",
       "</svg>\n"
      ],
      "text/plain": [
       "<Figure size 432x288 with 1 Axes>"
      ]
     },
     "metadata": {
      "needs_background": "light"
     },
     "output_type": "display_data"
    }
   ],
   "source": [
    "y = x**2\n",
    "plt.plot(x, y)"
   ]
  },
  {
   "cell_type": "markdown",
   "metadata": {
    "id": "bl0shiPzlu0j"
   },
   "source": [
    "Observe that the plot functions plots the best fit inspite of giving only discrete points as inputs."
   ]
  },
  {
   "cell_type": "markdown",
   "metadata": {
    "id": "07P36169sGdz"
   },
   "source": [
    "Let's consider a noisy data i.e, a data which doesn't have a perfect fit "
   ]
  },
  {
   "cell_type": "code",
   "execution_count": 32,
   "metadata": {
    "id": "-oizsH_Urdf5"
   },
   "outputs": [
    {
     "data": {
      "image/png": "[encoded data removed]",
      "image/svg+xml": [
       "<?xml version=\"1.0\" encoding=\"utf-8\" standalone=\"no\"?>\n",
       "<!DOCTYPE svg PUBLIC \"-//W3C//DTD SVG 1.1//EN\"\n",
       "  \"http://www.w3.org/Graphics/SVG/1.1/DTD/svg11.dtd\">\n",
       "<!-- Created with matplotlib (https://matplotlib.org/) -->\n",
       "<svg height=\"248.518125pt\" version=\"1.1\" viewBox=\"0 0 377.304687 248.518125\" width=\"377.304687pt\" xmlns=\"http://www.w3.org/2000/svg\" xmlns:xlink=\"http://www.w3.org/1999/xlink\">\n",
       " <metadata>\n",
       "  <rdf:RDF xmlns:cc=\"http://creativecommons.org/ns#\" xmlns:dc=\"http://purl.org/dc/elements/1.1/\" xmlns:rdf=\"http://www.w3.org/1999/02/22-rdf-syntax-ns#\">\n",
       "   <cc:Work>\n",
       "    <dc:type rdf:resource=\"http://purl.org/dc/dcmitype/StillImage\"/>\n",
       "    <dc:date>2021-02-12T00:08:58.260829</dc:date>\n",
       "    <dc:format>image/svg+xml</dc:format>\n",
       "    <dc:creator>\n",
       "     <cc:Agent>\n",
       "      <dc:title>Matplotlib v3.3.3, https://matplotlib.org/</dc:title>\n",
       "     </cc:Agent>\n",
       "    </dc:creator>\n",
       "   </cc:Work>\n",
       "  </rdf:RDF>\n",
       " </metadata>\n",
       " <defs>\n",
       "  <style type=\"text/css\">*{stroke-linecap:butt;stroke-linejoin:round;}</style>\n",
       " </defs>\n",
       " <g id=\"figure_1\">\n",
       "  <g id=\"patch_1\">\n",
       "   <path d=\"M 0 248.518125 \n",
       "L 377.304687 248.518125 \n",
       "L 377.304687 0 \n",
       "L 0 0 \n",
       "z\n",
       "\" style=\"fill:none;\"/>\n",
       "  </g>\n",
       "  <g id=\"axes_1\">\n",
       "   <g id=\"patch_2\">\n",
       "    <path d=\"M 35.304688 224.64 \n",
       "L 370.104688 224.64 \n",
       "L 370.104688 7.2 \n",
       "L 35.304688 7.2 \n",
       "z\n",
       "\" style=\"fill:#ffffff;\"/>\n",
       "   </g>\n",
       "   <g id=\"matplotlib.axis_1\">\n",
       "    <g id=\"xtick_1\">\n",
       "     <g id=\"line2d_1\">\n",
       "      <defs>\n",
       "       <path d=\"M 0 0 \n",
       "L 0 3.5 \n",
       "\" id=\"mb9478988d3\" style=\"stroke:#000000;stroke-width:0.8;\"/>\n",
       "      </defs>\n",
       "      <g>\n",
       "       <use style=\"stroke:#000000;stroke-width:0.8;\" x=\"50.522869\" xlink:href=\"#mb9478988d3\" y=\"224.64\"/>\n",
       "      </g>\n",
       "     </g>\n",
       "     <g id=\"text_1\">\n",
       "      <!-- −10.0 -->\n",
       "      <g transform=\"translate(35.200213 239.238437)scale(0.1 -0.1)\">\n",
       "       <defs>\n",
       "        <path d=\"M 10.59375 35.5 \n",
       "L 73.1875 35.5 \n",
       "L 73.1875 27.203125 \n",
       "L 10.59375 27.203125 \n",
       "z\n",
       "\" id=\"DejaVuSans-8722\"/>\n",
       "        <path d=\"M 12.40625 8.296875 \n",
       "L 28.515625 8.296875 \n",
       "L 28.515625 63.921875 \n",
       "L 10.984375 60.40625 \n",
       "L 10.984375 69.390625 \n",
       "L 28.421875 72.90625 \n",
       "L 38.28125 72.90625 \n",
       "L 38.28125 8.296875 \n",
       "L 54.390625 8.296875 \n",
       "L 54.390625 0 \n",
       "L 12.40625 0 \n",
       "z\n",
       "\" id=\"DejaVuSans-49\"/>\n",
       "        <path d=\"M 31.78125 66.40625 \n",
       "Q 24.171875 66.40625 20.328125 58.90625 \n",
       "Q 16.5 51.421875 16.5 36.375 \n",
       "Q 16.5 21.390625 20.328125 13.890625 \n",
       "Q 24.171875 6.390625 31.78125 6.390625 \n",
       "Q 39.453125 6.390625 43.28125 13.890625 \n",
       "Q 47.125 21.390625 47.125 36.375 \n",
       "Q 47.125 51.421875 43.28125 58.90625 \n",
       "Q 39.453125 66.40625 31.78125 66.40625 \n",
       "z\n",
       "M 31.78125 74.21875 \n",
       "Q 44.046875 74.21875 50.515625 64.515625 \n",
       "Q 56.984375 54.828125 56.984375 36.375 \n",
       "Q 56.984375 17.96875 50.515625 8.265625 \n",
       "Q 44.046875 -1.421875 31.78125 -1.421875 \n",
       "Q 19.53125 -1.421875 13.0625 8.265625 \n",
       "Q 6.59375 17.96875 6.59375 36.375 \n",
       "Q 6.59375 54.828125 13.0625 64.515625 \n",
       "Q 19.53125 74.21875 31.78125 74.21875 \n",
       "z\n",
       "\" id=\"DejaVuSans-48\"/>\n",
       "        <path d=\"M 10.6875 12.40625 \n",
       "L 21 12.40625 \n",
       "L 21 0 \n",
       "L 10.6875 0 \n",
       "z\n",
       "\" id=\"DejaVuSans-46\"/>\n",
       "       </defs>\n",
       "       <use xlink:href=\"#DejaVuSans-8722\"/>\n",
       "       <use x=\"83.789062\" xlink:href=\"#DejaVuSans-49\"/>\n",
       "       <use x=\"147.412109\" xlink:href=\"#DejaVuSans-48\"/>\n",
       "       <use x=\"211.035156\" xlink:href=\"#DejaVuSans-46\"/>\n",
       "       <use x=\"242.822266\" xlink:href=\"#DejaVuSans-48\"/>\n",
       "      </g>\n",
       "     </g>\n",
       "    </g>\n",
       "    <g id=\"xtick_2\">\n",
       "     <g id=\"line2d_2\">\n",
       "      <g>\n",
       "       <use style=\"stroke:#000000;stroke-width:0.8;\" x=\"88.568324\" xlink:href=\"#mb9478988d3\" y=\"224.64\"/>\n",
       "      </g>\n",
       "     </g>\n",
       "     <g id=\"text_2\">\n",
       "      <!-- −7.5 -->\n",
       "      <g transform=\"translate(76.426918 239.238437)scale(0.1 -0.1)\">\n",
       "       <defs>\n",
       "        <path d=\"M 8.203125 72.90625 \n",
       "L 55.078125 72.90625 \n",
       "L 55.078125 68.703125 \n",
       "L 28.609375 0 \n",
       "L 18.3125 0 \n",
       "L 43.21875 64.59375 \n",
       "L 8.203125 64.59375 \n",
       "z\n",
       "\" id=\"DejaVuSans-55\"/>\n",
       "        <path d=\"M 10.796875 72.90625 \n",
       "L 49.515625 72.90625 \n",
       "L 49.515625 64.59375 \n",
       "L 19.828125 64.59375 \n",
       "L 19.828125 46.734375 \n",
       "Q 21.96875 47.46875 24.109375 47.828125 \n",
       "Q 26.265625 48.1875 28.421875 48.1875 \n",
       "Q 40.625 48.1875 47.75 41.5 \n",
       "Q 54.890625 34.8125 54.890625 23.390625 \n",
       "Q 54.890625 11.625 47.5625 5.09375 \n",
       "Q 40.234375 -1.421875 26.90625 -1.421875 \n",
       "Q 22.3125 -1.421875 17.546875 -0.640625 \n",
       "Q 12.796875 0.140625 7.71875 1.703125 \n",
       "L 7.71875 11.625 \n",
       "Q 12.109375 9.234375 16.796875 8.0625 \n",
       "Q 21.484375 6.890625 26.703125 6.890625 \n",
       "Q 35.15625 6.890625 40.078125 11.328125 \n",
       "Q 45.015625 15.765625 45.015625 23.390625 \n",
       "Q 45.015625 31 40.078125 35.4375 \n",
       "Q 35.15625 39.890625 26.703125 39.890625 \n",
       "Q 22.75 39.890625 18.8125 39.015625 \n",
       "Q 14.890625 38.140625 10.796875 36.28125 \n",
       "z\n",
       "\" id=\"DejaVuSans-53\"/>\n",
       "       </defs>\n",
       "       <use xlink:href=\"#DejaVuSans-8722\"/>\n",
       "       <use x=\"83.789062\" xlink:href=\"#DejaVuSans-55\"/>\n",
       "       <use x=\"147.412109\" xlink:href=\"#DejaVuSans-46\"/>\n",
       "       <use x=\"179.199219\" xlink:href=\"#DejaVuSans-53\"/>\n",
       "      </g>\n",
       "     </g>\n",
       "    </g>\n",
       "    <g id=\"xtick_3\">\n",
       "     <g id=\"line2d_3\">\n",
       "      <g>\n",
       "       <use style=\"stroke:#000000;stroke-width:0.8;\" x=\"126.613778\" xlink:href=\"#mb9478988d3\" y=\"224.64\"/>\n",
       "      </g>\n",
       "     </g>\n",
       "     <g id=\"text_3\">\n",
       "      <!-- −5.0 -->\n",
       "      <g transform=\"translate(114.472372 239.238437)scale(0.1 -0.1)\">\n",
       "       <use xlink:href=\"#DejaVuSans-8722\"/>\n",
       "       <use x=\"83.789062\" xlink:href=\"#DejaVuSans-53\"/>\n",
       "       <use x=\"147.412109\" xlink:href=\"#DejaVuSans-46\"/>\n",
       "       <use x=\"179.199219\" xlink:href=\"#DejaVuSans-48\"/>\n",
       "      </g>\n",
       "     </g>\n",
       "    </g>\n",
       "    <g id=\"xtick_4\">\n",
       "     <g id=\"line2d_4\">\n",
       "      <g>\n",
       "       <use style=\"stroke:#000000;stroke-width:0.8;\" x=\"164.659233\" xlink:href=\"#mb9478988d3\" y=\"224.64\"/>\n",
       "      </g>\n",
       "     </g>\n",
       "     <g id=\"text_4\">\n",
       "      <!-- −2.5 -->\n",
       "      <g transform=\"translate(152.517827 239.238437)scale(0.1 -0.1)\">\n",
       "       <defs>\n",
       "        <path d=\"M 19.1875 8.296875 \n",
       "L 53.609375 8.296875 \n",
       "L 53.609375 0 \n",
       "L 7.328125 0 \n",
       "L 7.328125 8.296875 \n",
       "Q 12.9375 14.109375 22.625 23.890625 \n",
       "Q 32.328125 33.6875 34.8125 36.53125 \n",
       "Q 39.546875 41.84375 41.421875 45.53125 \n",
       "Q 43.3125 49.21875 43.3125 52.78125 \n",
       "Q 43.3125 58.59375 39.234375 62.25 \n",
       "Q 35.15625 65.921875 28.609375 65.921875 \n",
       "Q 23.96875 65.921875 18.8125 64.3125 \n",
       "Q 13.671875 62.703125 7.8125 59.421875 \n",
       "L 7.8125 69.390625 \n",
       "Q 13.765625 71.78125 18.9375 73 \n",
       "Q 24.125 74.21875 28.421875 74.21875 \n",
       "Q 39.75 74.21875 46.484375 68.546875 \n",
       "Q 53.21875 62.890625 53.21875 53.421875 \n",
       "Q 53.21875 48.921875 51.53125 44.890625 \n",
       "Q 49.859375 40.875 45.40625 35.40625 \n",
       "Q 44.1875 33.984375 37.640625 27.21875 \n",
       "Q 31.109375 20.453125 19.1875 8.296875 \n",
       "z\n",
       "\" id=\"DejaVuSans-50\"/>\n",
       "       </defs>\n",
       "       <use xlink:href=\"#DejaVuSans-8722\"/>\n",
       "       <use x=\"83.789062\" xlink:href=\"#DejaVuSans-50\"/>\n",
       "       <use x=\"147.412109\" xlink:href=\"#DejaVuSans-46\"/>\n",
       "       <use x=\"179.199219\" xlink:href=\"#DejaVuSans-53\"/>\n",
       "      </g>\n",
       "     </g>\n",
       "    </g>\n",
       "    <g id=\"xtick_5\">\n",
       "     <g id=\"line2d_5\">\n",
       "      <g>\n",
       "       <use style=\"stroke:#000000;stroke-width:0.8;\" x=\"202.704688\" xlink:href=\"#mb9478988d3\" y=\"224.64\"/>\n",
       "      </g>\n",
       "     </g>\n",
       "     <g id=\"text_5\">\n",
       "      <!-- 0.0 -->\n",
       "      <g transform=\"translate(194.753125 239.238437)scale(0.1 -0.1)\">\n",
       "       <use xlink:href=\"#DejaVuSans-48\"/>\n",
       "       <use x=\"63.623047\" xlink:href=\"#DejaVuSans-46\"/>\n",
       "       <use x=\"95.410156\" xlink:href=\"#DejaVuSans-48\"/>\n",
       "      </g>\n",
       "     </g>\n",
       "    </g>\n",
       "    <g id=\"xtick_6\">\n",
       "     <g id=\"line2d_6\">\n",
       "      <g>\n",
       "       <use style=\"stroke:#000000;stroke-width:0.8;\" x=\"240.750142\" xlink:href=\"#mb9478988d3\" y=\"224.64\"/>\n",
       "      </g>\n",
       "     </g>\n",
       "     <g id=\"text_6\">\n",
       "      <!-- 2.5 -->\n",
       "      <g transform=\"translate(232.79858 239.238437)scale(0.1 -0.1)\">\n",
       "       <use xlink:href=\"#DejaVuSans-50\"/>\n",
       "       <use x=\"63.623047\" xlink:href=\"#DejaVuSans-46\"/>\n",
       "       <use x=\"95.410156\" xlink:href=\"#DejaVuSans-53\"/>\n",
       "      </g>\n",
       "     </g>\n",
       "    </g>\n",
       "    <g id=\"xtick_7\">\n",
       "     <g id=\"line2d_7\">\n",
       "      <g>\n",
       "       <use style=\"stroke:#000000;stroke-width:0.8;\" x=\"278.795597\" xlink:href=\"#mb9478988d3\" y=\"224.64\"/>\n",
       "      </g>\n",
       "     </g>\n",
       "     <g id=\"text_7\">\n",
       "      <!-- 5.0 -->\n",
       "      <g transform=\"translate(270.844034 239.238437)scale(0.1 -0.1)\">\n",
       "       <use xlink:href=\"#DejaVuSans-53\"/>\n",
       "       <use x=\"63.623047\" xlink:href=\"#DejaVuSans-46\"/>\n",
       "       <use x=\"95.410156\" xlink:href=\"#DejaVuSans-48\"/>\n",
       "      </g>\n",
       "     </g>\n",
       "    </g>\n",
       "    <g id=\"xtick_8\">\n",
       "     <g id=\"line2d_8\">\n",
       "      <g>\n",
       "       <use style=\"stroke:#000000;stroke-width:0.8;\" x=\"316.841051\" xlink:href=\"#mb9478988d3\" y=\"224.64\"/>\n",
       "      </g>\n",
       "     </g>\n",
       "     <g id=\"text_8\">\n",
       "      <!-- 7.5 -->\n",
       "      <g transform=\"translate(308.889489 239.238437)scale(0.1 -0.1)\">\n",
       "       <use xlink:href=\"#DejaVuSans-55\"/>\n",
       "       <use x=\"63.623047\" xlink:href=\"#DejaVuSans-46\"/>\n",
       "       <use x=\"95.410156\" xlink:href=\"#DejaVuSans-53\"/>\n",
       "      </g>\n",
       "     </g>\n",
       "    </g>\n",
       "    <g id=\"xtick_9\">\n",
       "     <g id=\"line2d_9\">\n",
       "      <g>\n",
       "       <use style=\"stroke:#000000;stroke-width:0.8;\" x=\"354.886506\" xlink:href=\"#mb9478988d3\" y=\"224.64\"/>\n",
       "      </g>\n",
       "     </g>\n",
       "     <g id=\"text_9\">\n",
       "      <!-- 10.0 -->\n",
       "      <g transform=\"translate(343.753693 239.238437)scale(0.1 -0.1)\">\n",
       "       <use xlink:href=\"#DejaVuSans-49\"/>\n",
       "       <use x=\"63.623047\" xlink:href=\"#DejaVuSans-48\"/>\n",
       "       <use x=\"127.246094\" xlink:href=\"#DejaVuSans-46\"/>\n",
       "       <use x=\"159.033203\" xlink:href=\"#DejaVuSans-48\"/>\n",
       "      </g>\n",
       "     </g>\n",
       "    </g>\n",
       "   </g>\n",
       "   <g id=\"matplotlib.axis_2\">\n",
       "    <g id=\"ytick_1\">\n",
       "     <g id=\"line2d_10\">\n",
       "      <defs>\n",
       "       <path d=\"M 0 0 \n",
       "L -3.5 0 \n",
       "\" id=\"ma0647117f1\" style=\"stroke:#000000;stroke-width:0.8;\"/>\n",
       "      </defs>\n",
       "      <g>\n",
       "       <use style=\"stroke:#000000;stroke-width:0.8;\" x=\"35.304688\" xlink:href=\"#ma0647117f1\" y=\"214.565532\"/>\n",
       "      </g>\n",
       "     </g>\n",
       "     <g id=\"text_10\">\n",
       "      <!-- −30 -->\n",
       "      <g transform=\"translate(7.2 218.364751)scale(0.1 -0.1)\">\n",
       "       <defs>\n",
       "        <path d=\"M 40.578125 39.3125 \n",
       "Q 47.65625 37.796875 51.625 33 \n",
       "Q 55.609375 28.21875 55.609375 21.1875 \n",
       "Q 55.609375 10.40625 48.1875 4.484375 \n",
       "Q 40.765625 -1.421875 27.09375 -1.421875 \n",
       "Q 22.515625 -1.421875 17.65625 -0.515625 \n",
       "Q 12.796875 0.390625 7.625 2.203125 \n",
       "L 7.625 11.71875 \n",
       "Q 11.71875 9.328125 16.59375 8.109375 \n",
       "Q 21.484375 6.890625 26.8125 6.890625 \n",
       "Q 36.078125 6.890625 40.9375 10.546875 \n",
       "Q 45.796875 14.203125 45.796875 21.1875 \n",
       "Q 45.796875 27.640625 41.28125 31.265625 \n",
       "Q 36.765625 34.90625 28.71875 34.90625 \n",
       "L 20.21875 34.90625 \n",
       "L 20.21875 43.015625 \n",
       "L 29.109375 43.015625 \n",
       "Q 36.375 43.015625 40.234375 45.921875 \n",
       "Q 44.09375 48.828125 44.09375 54.296875 \n",
       "Q 44.09375 59.90625 40.109375 62.90625 \n",
       "Q 36.140625 65.921875 28.71875 65.921875 \n",
       "Q 24.65625 65.921875 20.015625 65.03125 \n",
       "Q 15.375 64.15625 9.8125 62.3125 \n",
       "L 9.8125 71.09375 \n",
       "Q 15.4375 72.65625 20.34375 73.4375 \n",
       "Q 25.25 74.21875 29.59375 74.21875 \n",
       "Q 40.828125 74.21875 47.359375 69.109375 \n",
       "Q 53.90625 64.015625 53.90625 55.328125 \n",
       "Q 53.90625 49.265625 50.4375 45.09375 \n",
       "Q 46.96875 40.921875 40.578125 39.3125 \n",
       "z\n",
       "\" id=\"DejaVuSans-51\"/>\n",
       "       </defs>\n",
       "       <use xlink:href=\"#DejaVuSans-8722\"/>\n",
       "       <use x=\"83.789062\" xlink:href=\"#DejaVuSans-51\"/>\n",
       "       <use x=\"147.412109\" xlink:href=\"#DejaVuSans-48\"/>\n",
       "      </g>\n",
       "     </g>\n",
       "    </g>\n",
       "    <g id=\"ytick_2\">\n",
       "     <g id=\"line2d_11\">\n",
       "      <g>\n",
       "       <use style=\"stroke:#000000;stroke-width:0.8;\" x=\"35.304688\" xlink:href=\"#ma0647117f1\" y=\"182.157118\"/>\n",
       "      </g>\n",
       "     </g>\n",
       "     <g id=\"text_11\">\n",
       "      <!-- −20 -->\n",
       "      <g transform=\"translate(7.2 185.956337)scale(0.1 -0.1)\">\n",
       "       <use xlink:href=\"#DejaVuSans-8722\"/>\n",
       "       <use x=\"83.789062\" xlink:href=\"#DejaVuSans-50\"/>\n",
       "       <use x=\"147.412109\" xlink:href=\"#DejaVuSans-48\"/>\n",
       "      </g>\n",
       "     </g>\n",
       "    </g>\n",
       "    <g id=\"ytick_3\">\n",
       "     <g id=\"line2d_12\">\n",
       "      <g>\n",
       "       <use style=\"stroke:#000000;stroke-width:0.8;\" x=\"35.304688\" xlink:href=\"#ma0647117f1\" y=\"149.748705\"/>\n",
       "      </g>\n",
       "     </g>\n",
       "     <g id=\"text_12\">\n",
       "      <!-- −10 -->\n",
       "      <g transform=\"translate(7.2 153.547923)scale(0.1 -0.1)\">\n",
       "       <use xlink:href=\"#DejaVuSans-8722\"/>\n",
       "       <use x=\"83.789062\" xlink:href=\"#DejaVuSans-49\"/>\n",
       "       <use x=\"147.412109\" xlink:href=\"#DejaVuSans-48\"/>\n",
       "      </g>\n",
       "     </g>\n",
       "    </g>\n",
       "    <g id=\"ytick_4\">\n",
       "     <g id=\"line2d_13\">\n",
       "      <g>\n",
       "       <use style=\"stroke:#000000;stroke-width:0.8;\" x=\"35.304688\" xlink:href=\"#ma0647117f1\" y=\"117.340291\"/>\n",
       "      </g>\n",
       "     </g>\n",
       "     <g id=\"text_13\">\n",
       "      <!-- 0 -->\n",
       "      <g transform=\"translate(21.942188 121.13951)scale(0.1 -0.1)\">\n",
       "       <use xlink:href=\"#DejaVuSans-48\"/>\n",
       "      </g>\n",
       "     </g>\n",
       "    </g>\n",
       "    <g id=\"ytick_5\">\n",
       "     <g id=\"line2d_14\">\n",
       "      <g>\n",
       "       <use style=\"stroke:#000000;stroke-width:0.8;\" x=\"35.304688\" xlink:href=\"#ma0647117f1\" y=\"84.931877\"/>\n",
       "      </g>\n",
       "     </g>\n",
       "     <g id=\"text_14\">\n",
       "      <!-- 10 -->\n",
       "      <g transform=\"translate(15.579688 88.731096)scale(0.1 -0.1)\">\n",
       "       <use xlink:href=\"#DejaVuSans-49\"/>\n",
       "       <use x=\"63.623047\" xlink:href=\"#DejaVuSans-48\"/>\n",
       "      </g>\n",
       "     </g>\n",
       "    </g>\n",
       "    <g id=\"ytick_6\">\n",
       "     <g id=\"line2d_15\">\n",
       "      <g>\n",
       "       <use style=\"stroke:#000000;stroke-width:0.8;\" x=\"35.304688\" xlink:href=\"#ma0647117f1\" y=\"52.523464\"/>\n",
       "      </g>\n",
       "     </g>\n",
       "     <g id=\"text_15\">\n",
       "      <!-- 20 -->\n",
       "      <g transform=\"translate(15.579688 56.322682)scale(0.1 -0.1)\">\n",
       "       <use xlink:href=\"#DejaVuSans-50\"/>\n",
       "       <use x=\"63.623047\" xlink:href=\"#DejaVuSans-48\"/>\n",
       "      </g>\n",
       "     </g>\n",
       "    </g>\n",
       "    <g id=\"ytick_7\">\n",
       "     <g id=\"line2d_16\">\n",
       "      <g>\n",
       "       <use style=\"stroke:#000000;stroke-width:0.8;\" x=\"35.304688\" xlink:href=\"#ma0647117f1\" y=\"20.11505\"/>\n",
       "      </g>\n",
       "     </g>\n",
       "     <g id=\"text_16\">\n",
       "      <!-- 30 -->\n",
       "      <g transform=\"translate(15.579688 23.914269)scale(0.1 -0.1)\">\n",
       "       <use xlink:href=\"#DejaVuSans-51\"/>\n",
       "       <use x=\"63.623047\" xlink:href=\"#DejaVuSans-48\"/>\n",
       "      </g>\n",
       "     </g>\n",
       "    </g>\n",
       "   </g>\n",
       "   <g id=\"line2d_17\">\n",
       "    <path clip-path=\"url(#p154d03cac7)\" d=\"M 50.522869 214.756364 \n",
       "L 53.597249 211.800527 \n",
       "L 56.67163 210.581464 \n",
       "L 59.74601 212.844728 \n",
       "L 62.82039 209.126299 \n",
       "L 65.89477 207.410393 \n",
       "L 68.96915 200.420777 \n",
       "L 72.04353 196.105245 \n",
       "L 75.117911 201.075847 \n",
       "L 78.192291 190.662009 \n",
       "L 81.266671 195.34015 \n",
       "L 84.341051 192.847714 \n",
       "L 87.415431 189.504597 \n",
       "L 90.489811 186.680803 \n",
       "L 93.564192 183.595354 \n",
       "L 96.638572 182.996126 \n",
       "L 99.712952 179.672132 \n",
       "L 102.787332 179.215336 \n",
       "L 105.861712 177.289634 \n",
       "L 108.936092 179.912165 \n",
       "L 112.010473 173.047266 \n",
       "L 115.084853 170.43281 \n",
       "L 118.159233 174.560481 \n",
       "L 121.233613 169.368946 \n",
       "L 124.307993 168.390426 \n",
       "L 127.382373 166.384296 \n",
       "L 130.456754 162.695381 \n",
       "L 133.531134 167.192286 \n",
       "L 136.605514 158.938583 \n",
       "L 139.679894 160.204471 \n",
       "L 142.754274 155.363095 \n",
       "L 145.828654 151.658198 \n",
       "L 148.903035 148.595741 \n",
       "L 151.977415 149.714508 \n",
       "L 155.051795 148.767255 \n",
       "L 158.126175 141.961363 \n",
       "L 161.200555 144.996153 \n",
       "L 164.274935 142.831117 \n",
       "L 167.349316 133.648438 \n",
       "L 170.423696 138.250621 \n",
       "L 173.498076 134.998094 \n",
       "L 176.572456 137.756243 \n",
       "L 179.646836 134.036578 \n",
       "L 182.721216 133.257851 \n",
       "L 185.795597 128.756592 \n",
       "L 188.869977 128.587209 \n",
       "L 191.944357 127.599379 \n",
       "L 195.018737 125.37943 \n",
       "L 198.093117 118.778769 \n",
       "L 201.167497 116.533836 \n",
       "L 204.241878 115.98564 \n",
       "L 207.316258 109.991395 \n",
       "L 210.390638 109.571723 \n",
       "L 213.465018 106.127617 \n",
       "L 216.539398 113.704734 \n",
       "L 219.613778 108.178992 \n",
       "L 222.688159 102.771162 \n",
       "L 225.762539 107.804517 \n",
       "L 228.836919 98.231485 \n",
       "L 231.911299 100.25097 \n",
       "L 234.985679 95.006282 \n",
       "L 238.060059 97.276773 \n",
       "L 241.13444 94.284521 \n",
       "L 244.20882 88.890459 \n",
       "L 247.2832 86.906223 \n",
       "L 250.35758 84.917682 \n",
       "L 253.43196 86.75522 \n",
       "L 256.50634 85.668091 \n",
       "L 259.580721 81.301367 \n",
       "L 262.655101 78.168092 \n",
       "L 265.729481 81.395826 \n",
       "L 268.803861 74.030718 \n",
       "L 271.878241 72.664574 \n",
       "L 274.952621 73.529497 \n",
       "L 278.027002 65.778937 \n",
       "L 281.101382 61.892687 \n",
       "L 284.175762 66.177334 \n",
       "L 287.250142 63.312696 \n",
       "L 290.324522 63.75391 \n",
       "L 293.398902 56.861216 \n",
       "L 296.473283 59.990544 \n",
       "L 299.547663 54.888489 \n",
       "L 302.622043 51.659112 \n",
       "L 305.696423 45.606843 \n",
       "L 308.770803 46.882549 \n",
       "L 311.845183 50.064322 \n",
       "L 314.919564 45.860708 \n",
       "L 317.993944 47.29798 \n",
       "L 321.068324 41.697357 \n",
       "L 324.142704 39.18289 \n",
       "L 327.217084 46.02956 \n",
       "L 330.291464 38.55427 \n",
       "L 333.365845 29.266622 \n",
       "L 336.440225 27.618849 \n",
       "L 339.514605 31.035156 \n",
       "L 342.588985 22.043601 \n",
       "L 345.663365 26.458211 \n",
       "L 348.737745 21.800201 \n",
       "L 351.812126 17.083636 \n",
       "L 354.886506 23.669642 \n",
       "\" style=\"fill:none;stroke:#1f77b4;stroke-linecap:square;stroke-width:1.5;\"/>\n",
       "   </g>\n",
       "   <g id=\"patch_3\">\n",
       "    <path d=\"M 35.304688 224.64 \n",
       "L 35.304688 7.2 \n",
       "\" style=\"fill:none;stroke:#000000;stroke-linecap:square;stroke-linejoin:miter;stroke-width:0.8;\"/>\n",
       "   </g>\n",
       "   <g id=\"patch_4\">\n",
       "    <path d=\"M 370.104688 224.64 \n",
       "L 370.104688 7.2 \n",
       "\" style=\"fill:none;stroke:#000000;stroke-linecap:square;stroke-linejoin:miter;stroke-width:0.8;\"/>\n",
       "   </g>\n",
       "   <g id=\"patch_5\">\n",
       "    <path d=\"M 35.304688 224.64 \n",
       "L 370.104688 224.64 \n",
       "\" style=\"fill:none;stroke:#000000;stroke-linecap:square;stroke-linejoin:miter;stroke-width:0.8;\"/>\n",
       "   </g>\n",
       "   <g id=\"patch_6\">\n",
       "    <path d=\"M 35.304688 7.2 \n",
       "L 370.104688 7.2 \n",
       "\" style=\"fill:none;stroke:#000000;stroke-linecap:square;stroke-linejoin:miter;stroke-width:0.8;\"/>\n",
       "   </g>\n",
       "  </g>\n",
       " </g>\n",
       " <defs>\n",
       "  <clipPath id=\"p154d03cac7\">\n",
       "   <rect height=\"217.44\" width=\"334.8\" x=\"35.304688\" y=\"7.2\"/>\n",
       "  </clipPath>\n",
       " </defs>\n",
       "</svg>\n"
      ],
      "text/plain": [
       "<Figure size 432x288 with 1 Axes>"
      ]
     },
     "metadata": {
      "needs_background": "light"
     },
     "output_type": "display_data"
    }
   ],
   "source": [
    "# Samples random values from standard normal distribution (Size = 100)\n",
    "noise = np.random.randn(100)\n",
    "# Create a lin-spaced array x with 100 elements\n",
    "x = np.linspace(-10,10,100)\n",
    "y = 3*x + noise\n",
    "plt.plot(x,y);"
   ]
  },
  {
   "cell_type": "markdown",
   "metadata": {
    "id": "tC63VeNNtnlN"
   },
   "source": [
    "The plot function tries to give a good fit to the curve"
   ]
  },
  {
   "cell_type": "markdown",
   "metadata": {
    "id": "xaM0XSnZregM"
   },
   "source": [
    "## Scatter Plots"
   ]
  },
  {
   "cell_type": "markdown",
   "metadata": {
    "id": "_H90fcAVvUE5"
   },
   "source": [
    "In the above example, let's increase the data from 100 to 1000"
   ]
  },
  {
   "cell_type": "code",
   "execution_count": 33,
   "metadata": {
    "id": "UQKHzT4dtlh4"
   },
   "outputs": [
    {
     "data": {
      "image/png": "[encoded data removed]",
      "image/svg+xml": [
       "<?xml version=\"1.0\" encoding=\"utf-8\" standalone=\"no\"?>\n",
       "<!DOCTYPE svg PUBLIC \"-//W3C//DTD SVG 1.1//EN\"\n",
       "  \"http://www.w3.org/Graphics/SVG/1.1/DTD/svg11.dtd\">\n",
       "<!-- Created with matplotlib (https://matplotlib.org/) -->\n",
       "<svg height=\"248.518125pt\" version=\"1.1\" viewBox=\"0 0 377.304687 248.518125\" width=\"377.304687pt\" xmlns=\"http://www.w3.org/2000/svg\" xmlns:xlink=\"http://www.w3.org/1999/xlink\">\n",
       " <metadata>\n",
       "  <rdf:RDF xmlns:cc=\"http://creativecommons.org/ns#\" xmlns:dc=\"http://purl.org/dc/elements/1.1/\" xmlns:rdf=\"http://www.w3.org/1999/02/22-rdf-syntax-ns#\">\n",
       "   <cc:Work>\n",
       "    <dc:type rdf:resource=\"http://purl.org/dc/dcmitype/StillImage\"/>\n",
       "    <dc:date>2021-02-12T00:09:01.162833</dc:date>\n",
       "    <dc:format>image/svg+xml</dc:format>\n",
       "    <dc:creator>\n",
       "     <cc:Agent>\n",
       "      <dc:title>Matplotlib v3.3.3, https://matplotlib.org/</dc:title>\n",
       "     </cc:Agent>\n",
       "    </dc:creator>\n",
       "   </cc:Work>\n",
       "  </rdf:RDF>\n",
       " </metadata>\n",
       " <defs>\n",
       "  <style type=\"text/css\">*{stroke-linecap:butt;stroke-linejoin:round;}</style>\n",
       " </defs>\n",
       " <g id=\"figure_1\">\n",
       "  <g id=\"patch_1\">\n",
       "   <path d=\"M 0 248.518125 \n",
       "L 377.304687 248.518125 \n",
       "L 377.304687 0 \n",
       "L 0 0 \n",
       "z\n",
       "\" style=\"fill:none;\"/>\n",
       "  </g>\n",
       "  <g id=\"axes_1\">\n",
       "   <g id=\"patch_2\">\n",
       "    <path d=\"M 35.304688 224.64 \n",
       "L 370.104688 224.64 \n",
       "L 370.104688 7.2 \n",
       "L 35.304688 7.2 \n",
       "z\n",
       "\" style=\"fill:#ffffff;\"/>\n",
       "   </g>\n",
       "   <g id=\"matplotlib.axis_1\">\n",
       "    <g id=\"xtick_1\">\n",
       "     <g id=\"line2d_1\">\n",
       "      <defs>\n",
       "       <path d=\"M 0 0 \n",
       "L 0 3.5 \n",
       "\" id=\"m850f448c10\" style=\"stroke:#000000;stroke-width:0.8;\"/>\n",
       "      </defs>\n",
       "      <g>\n",
       "       <use style=\"stroke:#000000;stroke-width:0.8;\" x=\"50.522869\" xlink:href=\"#m850f448c10\" y=\"224.64\"/>\n",
       "      </g>\n",
       "     </g>\n",
       "     <g id=\"text_1\">\n",
       "      <!-- −10.0 -->\n",
       "      <g transform=\"translate(35.200213 239.238437)scale(0.1 -0.1)\">\n",
       "       <defs>\n",
       "        <path d=\"M 10.59375 35.5 \n",
       "L 73.1875 35.5 \n",
       "L 73.1875 27.203125 \n",
       "L 10.59375 27.203125 \n",
       "z\n",
       "\" id=\"DejaVuSans-8722\"/>\n",
       "        <path d=\"M 12.40625 8.296875 \n",
       "L 28.515625 8.296875 \n",
       "L 28.515625 63.921875 \n",
       "L 10.984375 60.40625 \n",
       "L 10.984375 69.390625 \n",
       "L 28.421875 72.90625 \n",
       "L 38.28125 72.90625 \n",
       "L 38.28125 8.296875 \n",
       "L 54.390625 8.296875 \n",
       "L 54.390625 0 \n",
       "L 12.40625 0 \n",
       "z\n",
       "\" id=\"DejaVuSans-49\"/>\n",
       "        <path d=\"M 31.78125 66.40625 \n",
       "Q 24.171875 66.40625 20.328125 58.90625 \n",
       "Q 16.5 51.421875 16.5 36.375 \n",
       "Q 16.5 21.390625 20.328125 13.890625 \n",
       "Q 24.171875 6.390625 31.78125 6.390625 \n",
       "Q 39.453125 6.390625 43.28125 13.890625 \n",
       "Q 47.125 21.390625 47.125 36.375 \n",
       "Q 47.125 51.421875 43.28125 58.90625 \n",
       "Q 39.453125 66.40625 31.78125 66.40625 \n",
       "z\n",
       "M 31.78125 74.21875 \n",
       "Q 44.046875 74.21875 50.515625 64.515625 \n",
       "Q 56.984375 54.828125 56.984375 36.375 \n",
       "Q 56.984375 17.96875 50.515625 8.265625 \n",
       "Q 44.046875 -1.421875 31.78125 -1.421875 \n",
       "Q 19.53125 -1.421875 13.0625 8.265625 \n",
       "Q 6.59375 17.96875 6.59375 36.375 \n",
       "Q 6.59375 54.828125 13.0625 64.515625 \n",
       "Q 19.53125 74.21875 31.78125 74.21875 \n",
       "z\n",
       "\" id=\"DejaVuSans-48\"/>\n",
       "        <path d=\"M 10.6875 12.40625 \n",
       "L 21 12.40625 \n",
       "L 21 0 \n",
       "L 10.6875 0 \n",
       "z\n",
       "\" id=\"DejaVuSans-46\"/>\n",
       "       </defs>\n",
       "       <use xlink:href=\"#DejaVuSans-8722\"/>\n",
       "       <use x=\"83.789062\" xlink:href=\"#DejaVuSans-49\"/>\n",
       "       <use x=\"147.412109\" xlink:href=\"#DejaVuSans-48\"/>\n",
       "       <use x=\"211.035156\" xlink:href=\"#DejaVuSans-46\"/>\n",
       "       <use x=\"242.822266\" xlink:href=\"#DejaVuSans-48\"/>\n",
       "      </g>\n",
       "     </g>\n",
       "    </g>\n",
       "    <g id=\"xtick_2\">\n",
       "     <g id=\"line2d_2\">\n",
       "      <g>\n",
       "       <use style=\"stroke:#000000;stroke-width:0.8;\" x=\"88.568324\" xlink:href=\"#m850f448c10\" y=\"224.64\"/>\n",
       "      </g>\n",
       "     </g>\n",
       "     <g id=\"text_2\">\n",
       "      <!-- −7.5 -->\n",
       "      <g transform=\"translate(76.426918 239.238437)scale(0.1 -0.1)\">\n",
       "       <defs>\n",
       "        <path d=\"M 8.203125 72.90625 \n",
       "L 55.078125 72.90625 \n",
       "L 55.078125 68.703125 \n",
       "L 28.609375 0 \n",
       "L 18.3125 0 \n",
       "L 43.21875 64.59375 \n",
       "L 8.203125 64.59375 \n",
       "z\n",
       "\" id=\"DejaVuSans-55\"/>\n",
       "        <path d=\"M 10.796875 72.90625 \n",
       "L 49.515625 72.90625 \n",
       "L 49.515625 64.59375 \n",
       "L 19.828125 64.59375 \n",
       "L 19.828125 46.734375 \n",
       "Q 21.96875 47.46875 24.109375 47.828125 \n",
       "Q 26.265625 48.1875 28.421875 48.1875 \n",
       "Q 40.625 48.1875 47.75 41.5 \n",
       "Q 54.890625 34.8125 54.890625 23.390625 \n",
       "Q 54.890625 11.625 47.5625 5.09375 \n",
       "Q 40.234375 -1.421875 26.90625 -1.421875 \n",
       "Q 22.3125 -1.421875 17.546875 -0.640625 \n",
       "Q 12.796875 0.140625 7.71875 1.703125 \n",
       "L 7.71875 11.625 \n",
       "Q 12.109375 9.234375 16.796875 8.0625 \n",
       "Q 21.484375 6.890625 26.703125 6.890625 \n",
       "Q 35.15625 6.890625 40.078125 11.328125 \n",
       "Q 45.015625 15.765625 45.015625 23.390625 \n",
       "Q 45.015625 31 40.078125 35.4375 \n",
       "Q 35.15625 39.890625 26.703125 39.890625 \n",
       "Q 22.75 39.890625 18.8125 39.015625 \n",
       "Q 14.890625 38.140625 10.796875 36.28125 \n",
       "z\n",
       "\" id=\"DejaVuSans-53\"/>\n",
       "       </defs>\n",
       "       <use xlink:href=\"#DejaVuSans-8722\"/>\n",
       "       <use x=\"83.789062\" xlink:href=\"#DejaVuSans-55\"/>\n",
       "       <use x=\"147.412109\" xlink:href=\"#DejaVuSans-46\"/>\n",
       "       <use x=\"179.199219\" xlink:href=\"#DejaVuSans-53\"/>\n",
       "      </g>\n",
       "     </g>\n",
       "    </g>\n",
       "    <g id=\"xtick_3\">\n",
       "     <g id=\"line2d_3\">\n",
       "      <g>\n",
       "       <use style=\"stroke:#000000;stroke-width:0.8;\" x=\"126.613778\" xlink:href=\"#m850f448c10\" y=\"224.64\"/>\n",
       "      </g>\n",
       "     </g>\n",
       "     <g id=\"text_3\">\n",
       "      <!-- −5.0 -->\n",
       "      <g transform=\"translate(114.472372 239.238437)scale(0.1 -0.1)\">\n",
       "       <use xlink:href=\"#DejaVuSans-8722\"/>\n",
       "       <use x=\"83.789062\" xlink:href=\"#DejaVuSans-53\"/>\n",
       "       <use x=\"147.412109\" xlink:href=\"#DejaVuSans-46\"/>\n",
       "       <use x=\"179.199219\" xlink:href=\"#DejaVuSans-48\"/>\n",
       "      </g>\n",
       "     </g>\n",
       "    </g>\n",
       "    <g id=\"xtick_4\">\n",
       "     <g id=\"line2d_4\">\n",
       "      <g>\n",
       "       <use style=\"stroke:#000000;stroke-width:0.8;\" x=\"164.659233\" xlink:href=\"#m850f448c10\" y=\"224.64\"/>\n",
       "      </g>\n",
       "     </g>\n",
       "     <g id=\"text_4\">\n",
       "      <!-- −2.5 -->\n",
       "      <g transform=\"translate(152.517827 239.238437)scale(0.1 -0.1)\">\n",
       "       <defs>\n",
       "        <path d=\"M 19.1875 8.296875 \n",
       "L 53.609375 8.296875 \n",
       "L 53.609375 0 \n",
       "L 7.328125 0 \n",
       "L 7.328125 8.296875 \n",
       "Q 12.9375 14.109375 22.625 23.890625 \n",
       "Q 32.328125 33.6875 34.8125 36.53125 \n",
       "Q 39.546875 41.84375 41.421875 45.53125 \n",
       "Q 43.3125 49.21875 43.3125 52.78125 \n",
       "Q 43.3125 58.59375 39.234375 62.25 \n",
       "Q 35.15625 65.921875 28.609375 65.921875 \n",
       "Q 23.96875 65.921875 18.8125 64.3125 \n",
       "Q 13.671875 62.703125 7.8125 59.421875 \n",
       "L 7.8125 69.390625 \n",
       "Q 13.765625 71.78125 18.9375 73 \n",
       "Q 24.125 74.21875 28.421875 74.21875 \n",
       "Q 39.75 74.21875 46.484375 68.546875 \n",
       "Q 53.21875 62.890625 53.21875 53.421875 \n",
       "Q 53.21875 48.921875 51.53125 44.890625 \n",
       "Q 49.859375 40.875 45.40625 35.40625 \n",
       "Q 44.1875 33.984375 37.640625 27.21875 \n",
       "Q 31.109375 20.453125 19.1875 8.296875 \n",
       "z\n",
       "\" id=\"DejaVuSans-50\"/>\n",
       "       </defs>\n",
       "       <use xlink:href=\"#DejaVuSans-8722\"/>\n",
       "       <use x=\"83.789062\" xlink:href=\"#DejaVuSans-50\"/>\n",
       "       <use x=\"147.412109\" xlink:href=\"#DejaVuSans-46\"/>\n",
       "       <use x=\"179.199219\" xlink:href=\"#DejaVuSans-53\"/>\n",
       "      </g>\n",
       "     </g>\n",
       "    </g>\n",
       "    <g id=\"xtick_5\">\n",
       "     <g id=\"line2d_5\">\n",
       "      <g>\n",
       "       <use style=\"stroke:#000000;stroke-width:0.8;\" x=\"202.704688\" xlink:href=\"#m850f448c10\" y=\"224.64\"/>\n",
       "      </g>\n",
       "     </g>\n",
       "     <g id=\"text_5\">\n",
       "      <!-- 0.0 -->\n",
       "      <g transform=\"translate(194.753125 239.238437)scale(0.1 -0.1)\">\n",
       "       <use xlink:href=\"#DejaVuSans-48\"/>\n",
       "       <use x=\"63.623047\" xlink:href=\"#DejaVuSans-46\"/>\n",
       "       <use x=\"95.410156\" xlink:href=\"#DejaVuSans-48\"/>\n",
       "      </g>\n",
       "     </g>\n",
       "    </g>\n",
       "    <g id=\"xtick_6\">\n",
       "     <g id=\"line2d_6\">\n",
       "      <g>\n",
       "       <use style=\"stroke:#000000;stroke-width:0.8;\" x=\"240.750142\" xlink:href=\"#m850f448c10\" y=\"224.64\"/>\n",
       "      </g>\n",
       "     </g>\n",
       "     <g id=\"text_6\">\n",
       "      <!-- 2.5 -->\n",
       "      <g transform=\"translate(232.79858 239.238437)scale(0.1 -0.1)\">\n",
       "       <use xlink:href=\"#DejaVuSans-50\"/>\n",
       "       <use x=\"63.623047\" xlink:href=\"#DejaVuSans-46\"/>\n",
       "       <use x=\"95.410156\" xlink:href=\"#DejaVuSans-53\"/>\n",
       "      </g>\n",
       "     </g>\n",
       "    </g>\n",
       "    <g id=\"xtick_7\">\n",
       "     <g id=\"line2d_7\">\n",
       "      <g>\n",
       "       <use style=\"stroke:#000000;stroke-width:0.8;\" x=\"278.795597\" xlink:href=\"#m850f448c10\" y=\"224.64\"/>\n",
       "      </g>\n",
       "     </g>\n",
       "     <g id=\"text_7\">\n",
       "      <!-- 5.0 -->\n",
       "      <g transform=\"translate(270.844034 239.238437)scale(0.1 -0.1)\">\n",
       "       <use xlink:href=\"#DejaVuSans-53\"/>\n",
       "       <use x=\"63.623047\" xlink:href=\"#DejaVuSans-46\"/>\n",
       "       <use x=\"95.410156\" xlink:href=\"#DejaVuSans-48\"/>\n",
       "      </g>\n",
       "     </g>\n",
       "    </g>\n",
       "    <g id=\"xtick_8\">\n",
       "     <g id=\"line2d_8\">\n",
       "      <g>\n",
       "       <use style=\"stroke:#000000;stroke-width:0.8;\" x=\"316.841051\" xlink:href=\"#m850f448c10\" y=\"224.64\"/>\n",
       "      </g>\n",
       "     </g>\n",
       "     <g id=\"text_8\">\n",
       "      <!-- 7.5 -->\n",
       "      <g transform=\"translate(308.889489 239.238437)scale(0.1 -0.1)\">\n",
       "       <use xlink:href=\"#DejaVuSans-55\"/>\n",
       "       <use x=\"63.623047\" xlink:href=\"#DejaVuSans-46\"/>\n",
       "       <use x=\"95.410156\" xlink:href=\"#DejaVuSans-53\"/>\n",
       "      </g>\n",
       "     </g>\n",
       "    </g>\n",
       "    <g id=\"xtick_9\">\n",
       "     <g id=\"line2d_9\">\n",
       "      <g>\n",
       "       <use style=\"stroke:#000000;stroke-width:0.8;\" x=\"354.886506\" xlink:href=\"#m850f448c10\" y=\"224.64\"/>\n",
       "      </g>\n",
       "     </g>\n",
       "     <g id=\"text_9\">\n",
       "      <!-- 10.0 -->\n",
       "      <g transform=\"translate(343.753693 239.238437)scale(0.1 -0.1)\">\n",
       "       <use xlink:href=\"#DejaVuSans-49\"/>\n",
       "       <use x=\"63.623047\" xlink:href=\"#DejaVuSans-48\"/>\n",
       "       <use x=\"127.246094\" xlink:href=\"#DejaVuSans-46\"/>\n",
       "       <use x=\"159.033203\" xlink:href=\"#DejaVuSans-48\"/>\n",
       "      </g>\n",
       "     </g>\n",
       "    </g>\n",
       "   </g>\n",
       "   <g id=\"matplotlib.axis_2\">\n",
       "    <g id=\"ytick_1\">\n",
       "     <g id=\"line2d_10\">\n",
       "      <defs>\n",
       "       <path d=\"M 0 0 \n",
       "L -3.5 0 \n",
       "\" id=\"m8e8a13f9c4\" style=\"stroke:#000000;stroke-width:0.8;\"/>\n",
       "      </defs>\n",
       "      <g>\n",
       "       <use style=\"stroke:#000000;stroke-width:0.8;\" x=\"35.304688\" xlink:href=\"#m8e8a13f9c4\" y=\"211.724912\"/>\n",
       "      </g>\n",
       "     </g>\n",
       "     <g id=\"text_10\">\n",
       "      <!-- −40 -->\n",
       "      <g transform=\"translate(7.2 215.524131)scale(0.1 -0.1)\">\n",
       "       <defs>\n",
       "        <path d=\"M 37.796875 64.3125 \n",
       "L 12.890625 25.390625 \n",
       "L 37.796875 25.390625 \n",
       "z\n",
       "M 35.203125 72.90625 \n",
       "L 47.609375 72.90625 \n",
       "L 47.609375 25.390625 \n",
       "L 58.015625 25.390625 \n",
       "L 58.015625 17.1875 \n",
       "L 47.609375 17.1875 \n",
       "L 47.609375 0 \n",
       "L 37.796875 0 \n",
       "L 37.796875 17.1875 \n",
       "L 4.890625 17.1875 \n",
       "L 4.890625 26.703125 \n",
       "z\n",
       "\" id=\"DejaVuSans-52\"/>\n",
       "       </defs>\n",
       "       <use xlink:href=\"#DejaVuSans-8722\"/>\n",
       "       <use x=\"83.789062\" xlink:href=\"#DejaVuSans-52\"/>\n",
       "       <use x=\"147.412109\" xlink:href=\"#DejaVuSans-48\"/>\n",
       "      </g>\n",
       "     </g>\n",
       "    </g>\n",
       "    <g id=\"ytick_2\">\n",
       "     <g id=\"line2d_11\">\n",
       "      <g>\n",
       "       <use style=\"stroke:#000000;stroke-width:0.8;\" x=\"35.304688\" xlink:href=\"#m8e8a13f9c4\" y=\"164.928676\"/>\n",
       "      </g>\n",
       "     </g>\n",
       "     <g id=\"text_11\">\n",
       "      <!-- −20 -->\n",
       "      <g transform=\"translate(7.2 168.727895)scale(0.1 -0.1)\">\n",
       "       <use xlink:href=\"#DejaVuSans-8722\"/>\n",
       "       <use x=\"83.789062\" xlink:href=\"#DejaVuSans-50\"/>\n",
       "       <use x=\"147.412109\" xlink:href=\"#DejaVuSans-48\"/>\n",
       "      </g>\n",
       "     </g>\n",
       "    </g>\n",
       "    <g id=\"ytick_3\">\n",
       "     <g id=\"line2d_12\">\n",
       "      <g>\n",
       "       <use style=\"stroke:#000000;stroke-width:0.8;\" x=\"35.304688\" xlink:href=\"#m8e8a13f9c4\" y=\"118.132441\"/>\n",
       "      </g>\n",
       "     </g>\n",
       "     <g id=\"text_12\">\n",
       "      <!-- 0 -->\n",
       "      <g transform=\"translate(21.942188 121.931659)scale(0.1 -0.1)\">\n",
       "       <use xlink:href=\"#DejaVuSans-48\"/>\n",
       "      </g>\n",
       "     </g>\n",
       "    </g>\n",
       "    <g id=\"ytick_4\">\n",
       "     <g id=\"line2d_13\">\n",
       "      <g>\n",
       "       <use style=\"stroke:#000000;stroke-width:0.8;\" x=\"35.304688\" xlink:href=\"#m8e8a13f9c4\" y=\"71.336205\"/>\n",
       "      </g>\n",
       "     </g>\n",
       "     <g id=\"text_13\">\n",
       "      <!-- 20 -->\n",
       "      <g transform=\"translate(15.579688 75.135424)scale(0.1 -0.1)\">\n",
       "       <use xlink:href=\"#DejaVuSans-50\"/>\n",
       "       <use x=\"63.623047\" xlink:href=\"#DejaVuSans-48\"/>\n",
       "      </g>\n",
       "     </g>\n",
       "    </g>\n",
       "    <g id=\"ytick_5\">\n",
       "     <g id=\"line2d_14\">\n",
       "      <g>\n",
       "       <use style=\"stroke:#000000;stroke-width:0.8;\" x=\"35.304688\" xlink:href=\"#m8e8a13f9c4\" y=\"24.53997\"/>\n",
       "      </g>\n",
       "     </g>\n",
       "     <g id=\"text_14\">\n",
       "      <!-- 40 -->\n",
       "      <g transform=\"translate(15.579688 28.339188)scale(0.1 -0.1)\">\n",
       "       <use xlink:href=\"#DejaVuSans-52\"/>\n",
       "       <use x=\"63.623047\" xlink:href=\"#DejaVuSans-48\"/>\n",
       "      </g>\n",
       "     </g>\n",
       "    </g>\n",
       "   </g>\n",
       "   <g id=\"line2d_15\">\n",
       "    <path clip-path=\"url(#p11de04dc27)\" d=\"M 50.522869 205.657252 \n",
       "L 50.827538 197.627049 \n",
       "L 51.436874 167.876145 \n",
       "L 51.741543 211.107275 \n",
       "L 52.046211 173.920225 \n",
       "L 52.350879 187.716946 \n",
       "L 52.655547 164.939457 \n",
       "L 52.960216 188.443616 \n",
       "L 53.264884 164.974325 \n",
       "L 53.569552 163.524734 \n",
       "L 53.874221 182.223372 \n",
       "L 54.178889 188.677539 \n",
       "L 54.483557 177.318387 \n",
       "L 54.788226 188.204245 \n",
       "L 55.092894 189.524406 \n",
       "L 55.397562 208.323642 \n",
       "L 56.006899 168.786925 \n",
       "L 56.311567 159.583923 \n",
       "L 56.616235 163.342389 \n",
       "L 56.920904 183.453624 \n",
       "L 57.225572 191.920614 \n",
       "L 57.834909 170.357367 \n",
       "L 58.139577 186.392605 \n",
       "L 58.444245 186.900665 \n",
       "L 58.748914 192.859931 \n",
       "L 59.053582 185.0945 \n",
       "L 59.35825 195.315246 \n",
       "L 59.662918 181.032451 \n",
       "L 59.967587 180.836942 \n",
       "L 60.272255 187.587681 \n",
       "L 60.576923 163.538249 \n",
       "L 60.881592 167.209218 \n",
       "L 61.18626 181.43235 \n",
       "L 61.490928 184.334495 \n",
       "L 61.795597 190.708489 \n",
       "L 62.100265 189.431115 \n",
       "L 62.404933 165.30077 \n",
       "L 63.01427 191.223224 \n",
       "L 63.318938 202.522448 \n",
       "L 63.623606 186.166373 \n",
       "L 63.928275 183.704995 \n",
       "L 64.232943 196.187124 \n",
       "L 64.537611 178.195122 \n",
       "L 64.84228 214.756364 \n",
       "L 65.146948 154.944151 \n",
       "L 65.451616 196.251307 \n",
       "L 65.756285 158.244883 \n",
       "L 66.060953 156.46648 \n",
       "L 66.365621 187.111005 \n",
       "L 66.670289 159.397802 \n",
       "L 66.974958 186.857395 \n",
       "L 67.279626 186.790557 \n",
       "L 67.584294 177.629941 \n",
       "L 67.888963 183.89653 \n",
       "L 68.193631 172.699079 \n",
       "L 68.498299 174.27619 \n",
       "L 68.802968 174.22498 \n",
       "L 69.107636 180.054312 \n",
       "L 69.412304 202.392754 \n",
       "L 69.716973 181.297828 \n",
       "L 70.021641 198.604249 \n",
       "L 70.326309 199.145952 \n",
       "L 70.630977 166.581276 \n",
       "L 70.935646 193.755011 \n",
       "L 71.240314 172.579709 \n",
       "L 71.544982 182.436108 \n",
       "L 72.154319 159.12409 \n",
       "L 72.458987 210.101703 \n",
       "L 72.763656 194.548203 \n",
       "L 73.068324 188.060236 \n",
       "L 73.372992 156.015744 \n",
       "L 73.67766 175.883761 \n",
       "L 73.982329 162.799097 \n",
       "L 74.286997 168.632112 \n",
       "L 74.591665 161.111364 \n",
       "L 74.896334 172.713095 \n",
       "L 75.201002 175.710764 \n",
       "L 75.50567 158.643465 \n",
       "L 75.810339 170.561046 \n",
       "L 76.115007 129.009186 \n",
       "L 76.419675 180.06684 \n",
       "L 76.724344 174.694546 \n",
       "L 77.029012 175.949174 \n",
       "L 77.33368 179.071598 \n",
       "L 77.638348 191.357543 \n",
       "L 78.247685 155.768357 \n",
       "L 78.552353 177.979957 \n",
       "L 78.857022 175.251769 \n",
       "L 79.16169 185.562544 \n",
       "L 80.075695 159.668577 \n",
       "L 80.380363 188.073776 \n",
       "L 80.685031 185.314126 \n",
       "L 80.9897 178.437388 \n",
       "L 81.294368 184.288442 \n",
       "L 81.599036 184.245767 \n",
       "L 81.903705 141.759704 \n",
       "L 82.208373 169.746089 \n",
       "L 82.513041 177.103716 \n",
       "L 82.81771 165.804052 \n",
       "L 83.122378 183.01197 \n",
       "L 83.427046 160.30051 \n",
       "L 83.731715 195.01278 \n",
       "L 84.036383 180.993464 \n",
       "L 84.341051 173.501967 \n",
       "L 84.645719 153.704039 \n",
       "L 84.950388 155.251069 \n",
       "L 85.559724 191.162808 \n",
       "L 85.864393 196.053645 \n",
       "L 86.169061 156.617187 \n",
       "L 86.473729 171.110375 \n",
       "L 86.778398 177.321748 \n",
       "L 87.083066 157.719313 \n",
       "L 87.387734 160.677638 \n",
       "L 87.692402 178.558786 \n",
       "L 87.997071 163.833753 \n",
       "L 88.301739 186.021313 \n",
       "L 88.606407 143.371971 \n",
       "L 88.911076 181.65282 \n",
       "L 89.215744 147.046026 \n",
       "L 89.520412 166.132249 \n",
       "L 89.825081 175.848785 \n",
       "L 90.129749 170.562294 \n",
       "L 90.434417 172.213656 \n",
       "L 90.739086 166.076887 \n",
       "L 91.043754 157.432307 \n",
       "L 91.348422 185.134859 \n",
       "L 91.65309 170.813069 \n",
       "L 91.957759 183.939714 \n",
       "L 92.262427 158.859929 \n",
       "L 92.567095 157.449575 \n",
       "L 92.871764 191.627618 \n",
       "L 93.176432 166.065723 \n",
       "L 93.4811 167.960407 \n",
       "L 93.785769 163.851811 \n",
       "L 94.090437 168.068268 \n",
       "L 94.395105 178.54234 \n",
       "L 95.004442 161.17972 \n",
       "L 95.30911 153.670215 \n",
       "L 95.613778 200.748659 \n",
       "L 95.918447 176.883158 \n",
       "L 96.223115 134.501046 \n",
       "L 96.527783 180.897331 \n",
       "L 96.832452 189.798608 \n",
       "L 97.13712 178.418102 \n",
       "L 97.441788 140.615528 \n",
       "L 97.746457 135.202683 \n",
       "L 98.051125 164.550061 \n",
       "L 98.355793 118.488925 \n",
       "L 98.660461 180.407559 \n",
       "L 98.96513 171.90856 \n",
       "L 99.269798 173.812111 \n",
       "L 99.574466 161.71168 \n",
       "L 99.879135 158.774914 \n",
       "L 100.183803 162.027039 \n",
       "L 100.488471 172.157349 \n",
       "L 100.79314 171.767505 \n",
       "L 101.097808 167.003608 \n",
       "L 101.402476 172.658675 \n",
       "L 101.707145 164.534724 \n",
       "L 102.011813 160.48458 \n",
       "L 102.316481 139.210861 \n",
       "L 102.621149 186.505339 \n",
       "L 103.230486 159.235793 \n",
       "L 104.144491 180.706106 \n",
       "L 104.449159 176.777237 \n",
       "L 104.753828 145.845156 \n",
       "L 105.058496 174.077907 \n",
       "L 105.667832 143.988061 \n",
       "L 106.277169 155.743205 \n",
       "L 106.581837 140.312361 \n",
       "L 106.886506 173.46285 \n",
       "L 107.191174 136.115471 \n",
       "L 107.495842 156.182813 \n",
       "L 107.800511 149.697444 \n",
       "L 108.105179 140.693548 \n",
       "L 108.409847 161.808876 \n",
       "L 108.714516 148.798062 \n",
       "L 109.323852 186.762632 \n",
       "L 109.62852 155.18521 \n",
       "L 109.933189 158.793046 \n",
       "L 110.237857 173.465239 \n",
       "L 110.542525 165.982542 \n",
       "L 110.847194 177.237485 \n",
       "L 111.151862 154.447299 \n",
       "L 111.45653 147.349738 \n",
       "L 111.761199 150.548251 \n",
       "L 112.065867 151.516644 \n",
       "L 112.370535 149.600832 \n",
       "L 112.675203 157.12361 \n",
       "L 112.979872 177.709029 \n",
       "L 113.28454 176.993189 \n",
       "L 113.589208 175.686004 \n",
       "L 113.893877 157.487644 \n",
       "L 114.198545 169.466107 \n",
       "L 114.503213 145.901729 \n",
       "L 114.807882 163.946518 \n",
       "L 115.11255 162.77524 \n",
       "L 115.417218 122.360267 \n",
       "L 115.721887 135.131256 \n",
       "L 116.026555 156.657751 \n",
       "L 116.331223 152.884656 \n",
       "L 116.635891 137.700462 \n",
       "L 116.94056 147.984235 \n",
       "L 117.245228 146.407406 \n",
       "L 117.549896 133.693811 \n",
       "L 117.854565 154.437 \n",
       "L 118.159233 152.701729 \n",
       "L 118.463901 168.173607 \n",
       "L 118.76857 177.502354 \n",
       "L 119.073238 166.44453 \n",
       "L 119.377906 167.705306 \n",
       "L 119.682574 153.18583 \n",
       "L 119.987243 178.426964 \n",
       "L 120.291911 183.276818 \n",
       "L 120.596579 174.677503 \n",
       "L 120.901248 137.91644 \n",
       "L 121.205916 164.821952 \n",
       "L 121.510584 139.620432 \n",
       "L 121.815253 172.393484 \n",
       "L 122.119921 128.63978 \n",
       "L 122.729258 156.299006 \n",
       "L 123.033926 152.983809 \n",
       "L 123.338594 165.711124 \n",
       "L 123.643262 170.710053 \n",
       "L 123.947931 136.811841 \n",
       "L 124.557267 161.820057 \n",
       "L 124.861936 151.667105 \n",
       "L 125.166604 183.4414 \n",
       "L 125.471272 132.976295 \n",
       "L 125.775941 127.780644 \n",
       "L 126.080609 130.640519 \n",
       "L 126.385277 153.885786 \n",
       "L 126.689945 145.193215 \n",
       "L 126.994614 141.343927 \n",
       "L 127.299282 159.738892 \n",
       "L 127.60395 137.40955 \n",
       "L 127.908619 171.456529 \n",
       "L 128.213287 154.078717 \n",
       "L 128.517955 121.837684 \n",
       "L 128.822624 124.651007 \n",
       "L 129.43196 188.263794 \n",
       "L 129.736629 146.250523 \n",
       "L 130.041297 138.819279 \n",
       "L 130.345965 193.581849 \n",
       "L 130.650633 165.810134 \n",
       "L 130.955302 155.526637 \n",
       "L 131.25997 139.60658 \n",
       "L 131.564638 148.145983 \n",
       "L 131.869307 123.812231 \n",
       "L 132.173975 173.197634 \n",
       "L 132.783312 141.433178 \n",
       "L 133.08798 137.848297 \n",
       "L 133.697316 172.985785 \n",
       "L 134.001985 171.788663 \n",
       "L 134.306653 152.221904 \n",
       "L 134.611321 176.609028 \n",
       "L 134.91599 174.969367 \n",
       "L 135.220658 141.95132 \n",
       "L 135.525326 163.283537 \n",
       "L 135.829995 154.863617 \n",
       "L 136.134663 163.168873 \n",
       "L 136.439331 137.633245 \n",
       "L 137.048668 151.415872 \n",
       "L 137.353336 151.175666 \n",
       "L 137.658004 144.79778 \n",
       "L 137.962673 164.522222 \n",
       "L 138.267341 157.448572 \n",
       "L 138.572009 155.758672 \n",
       "L 138.876678 156.513234 \n",
       "L 139.181346 134.376763 \n",
       "L 139.486014 139.226007 \n",
       "L 139.790683 169.29753 \n",
       "L 140.095351 137.813914 \n",
       "L 140.400019 147.694724 \n",
       "L 140.704688 147.992206 \n",
       "L 141.009356 157.030947 \n",
       "L 141.314024 120.659084 \n",
       "L 141.618692 151.329622 \n",
       "L 141.923361 154.536423 \n",
       "L 142.228029 130.497944 \n",
       "L 142.532697 126.726066 \n",
       "L 142.837366 148.761707 \n",
       "L 143.142034 146.727072 \n",
       "L 143.446702 165.463392 \n",
       "L 143.751371 125.010348 \n",
       "L 144.056039 168.042848 \n",
       "L 144.360707 140.222244 \n",
       "L 144.665375 148.690288 \n",
       "L 144.970044 142.784509 \n",
       "L 145.274712 157.311037 \n",
       "L 145.57938 131.763786 \n",
       "L 145.884049 121.128681 \n",
       "L 146.188717 139.464145 \n",
       "L 146.493385 140.561639 \n",
       "L 146.798054 139.432446 \n",
       "L 147.102722 147.279469 \n",
       "L 147.40739 120.859738 \n",
       "L 147.712059 142.212699 \n",
       "L 148.016727 139.370448 \n",
       "L 148.321395 134.49943 \n",
       "L 148.626063 144.877143 \n",
       "L 148.930732 150.004372 \n",
       "L 149.540068 136.148469 \n",
       "L 149.844737 148.468202 \n",
       "L 150.149405 140.320469 \n",
       "L 150.454073 141.585647 \n",
       "L 151.06341 148.161258 \n",
       "L 151.368078 127.687016 \n",
       "L 151.672746 132.832906 \n",
       "L 151.977415 125.227529 \n",
       "L 152.282083 171.167877 \n",
       "L 152.586751 114.7398 \n",
       "L 152.89142 139.730249 \n",
       "L 153.196088 117.136893 \n",
       "L 153.500756 153.875885 \n",
       "L 153.805425 141.967401 \n",
       "L 154.110093 158.298451 \n",
       "L 154.414761 162.292406 \n",
       "L 154.71943 138.304239 \n",
       "L 155.024098 160.069875 \n",
       "L 155.328766 144.455038 \n",
       "L 155.938103 125.089163 \n",
       "L 156.242771 135.589862 \n",
       "L 156.547439 152.103626 \n",
       "L 156.852108 141.458105 \n",
       "L 157.156776 97.05265 \n",
       "L 157.766113 159.41848 \n",
       "L 158.070781 130.981567 \n",
       "L 158.375449 143.129382 \n",
       "L 158.680117 130.095235 \n",
       "L 158.984786 125.273515 \n",
       "L 159.289454 139.819909 \n",
       "L 159.594122 164.666672 \n",
       "L 159.898791 128.347998 \n",
       "L 160.203459 144.358045 \n",
       "L 160.508127 131.456883 \n",
       "L 160.812796 134.565563 \n",
       "L 161.117464 130.477094 \n",
       "L 161.422132 112.291154 \n",
       "L 161.726801 122.632978 \n",
       "L 162.031469 125.064181 \n",
       "L 162.336137 149.331369 \n",
       "L 162.640805 131.0233 \n",
       "L 162.945474 138.688803 \n",
       "L 163.250142 120.807714 \n",
       "L 163.55481 109.892798 \n",
       "L 163.859479 134.35844 \n",
       "L 164.164147 137.542551 \n",
       "L 164.468815 134.677203 \n",
       "L 164.773484 107.107877 \n",
       "L 165.078152 149.380826 \n",
       "L 165.38282 114.898734 \n",
       "L 165.687488 145.393547 \n",
       "L 166.296825 126.267121 \n",
       "L 166.601493 159.418413 \n",
       "L 166.906162 148.948013 \n",
       "L 167.21083 107.503864 \n",
       "L 167.515498 114.315435 \n",
       "L 167.820167 124.376663 \n",
       "L 168.124835 125.004537 \n",
       "L 168.429503 142.162443 \n",
       "L 168.734172 121.736565 \n",
       "L 169.03884 115.377306 \n",
       "L 169.343508 135.174866 \n",
       "L 169.648176 107.962808 \n",
       "L 169.952845 127.637433 \n",
       "L 170.257513 128.880552 \n",
       "L 170.562181 131.761466 \n",
       "L 170.86685 138.518374 \n",
       "L 171.171518 121.017942 \n",
       "L 171.476186 111.371534 \n",
       "L 171.780855 132.406329 \n",
       "L 172.085523 126.870947 \n",
       "L 172.390191 132.882339 \n",
       "L 172.694859 147.03089 \n",
       "L 173.304196 131.424891 \n",
       "L 173.608864 146.966061 \n",
       "L 173.913533 118.003373 \n",
       "L 174.522869 143.353692 \n",
       "L 174.827538 145.897476 \n",
       "L 175.132206 143.000122 \n",
       "L 175.436874 143.590232 \n",
       "L 175.741543 118.879399 \n",
       "L 176.046211 111.090076 \n",
       "L 176.350879 116.979594 \n",
       "L 176.655547 103.627009 \n",
       "L 176.960216 162.948191 \n",
       "L 177.264884 121.000403 \n",
       "L 177.569552 140.388409 \n",
       "L 177.874221 138.921289 \n",
       "L 178.178889 130.834306 \n",
       "L 178.483557 132.041108 \n",
       "L 178.788226 139.784489 \n",
       "L 179.092894 123.998883 \n",
       "L 179.397562 137.796453 \n",
       "L 179.70223 135.433613 \n",
       "L 180.006899 123.243245 \n",
       "L 180.311567 121.865051 \n",
       "L 180.616235 171.946342 \n",
       "L 180.920904 123.970666 \n",
       "L 181.225572 122.924057 \n",
       "L 181.53024 115.772724 \n",
       "L 181.834909 130.604687 \n",
       "L 182.444245 112.884672 \n",
       "L 183.053582 142.38278 \n",
       "L 183.35825 141.204862 \n",
       "L 183.662918 125.118581 \n",
       "L 183.967587 133.402653 \n",
       "L 184.272255 130.472537 \n",
       "L 184.576923 119.727792 \n",
       "L 184.881592 125.53068 \n",
       "L 185.18626 122.881046 \n",
       "L 185.490928 137.86502 \n",
       "L 185.795597 122.024692 \n",
       "L 186.100265 151.020913 \n",
       "L 186.404933 134.583831 \n",
       "L 186.709602 143.184032 \n",
       "L 187.01427 137.206957 \n",
       "L 187.318938 138.819192 \n",
       "L 187.623606 115.118915 \n",
       "L 187.928275 122.580019 \n",
       "L 188.232943 133.324263 \n",
       "L 188.537611 105.292931 \n",
       "L 188.84228 103.855917 \n",
       "L 189.146948 127.624469 \n",
       "L 189.451616 129.834301 \n",
       "L 189.756285 104.401099 \n",
       "L 190.060953 103.908172 \n",
       "L 190.365621 110.108422 \n",
       "L 190.670289 97.898619 \n",
       "L 190.974958 106.488571 \n",
       "L 191.279626 134.605078 \n",
       "L 191.584294 131.557038 \n",
       "L 191.888963 106.347189 \n",
       "L 192.193631 125.563507 \n",
       "L 192.498299 116.44426 \n",
       "L 192.802968 102.069558 \n",
       "L 193.107636 129.384679 \n",
       "L 193.412304 105.914146 \n",
       "L 193.716973 114.973378 \n",
       "L 194.021641 127.714016 \n",
       "L 194.326309 116.167849 \n",
       "L 194.630977 128.299168 \n",
       "L 194.935646 132.92108 \n",
       "L 195.240314 106.958989 \n",
       "L 195.849651 137.069345 \n",
       "L 196.154319 121.496339 \n",
       "L 196.458987 128.573581 \n",
       "L 197.068324 134.282589 \n",
       "L 197.372992 144.579666 \n",
       "L 197.67766 150.036172 \n",
       "L 197.982329 125.798378 \n",
       "L 198.591665 102.655832 \n",
       "L 198.896334 110.214283 \n",
       "L 199.201002 131.083826 \n",
       "L 199.50567 132.909045 \n",
       "L 200.115007 147.904507 \n",
       "L 200.419675 127.253784 \n",
       "L 200.724344 128.505856 \n",
       "L 201.029012 122.624697 \n",
       "L 201.33368 109.169969 \n",
       "L 201.638348 122.863743 \n",
       "L 201.943017 117.856952 \n",
       "L 202.247685 128.687543 \n",
       "L 202.552353 125.575574 \n",
       "L 202.857022 127.084843 \n",
       "L 203.16169 103.819246 \n",
       "L 203.466358 123.169547 \n",
       "L 203.771027 113.14788 \n",
       "L 204.075695 131.540919 \n",
       "L 204.380363 114.571248 \n",
       "L 204.685031 105.292681 \n",
       "L 204.9897 112.125938 \n",
       "L 205.294368 123.308852 \n",
       "L 205.599036 126.285013 \n",
       "L 206.208373 99.897234 \n",
       "L 206.513041 116.404103 \n",
       "L 206.81771 126.685711 \n",
       "L 207.122378 123.50077 \n",
       "L 207.427046 112.37312 \n",
       "L 207.731715 91.883955 \n",
       "L 208.036383 87.367527 \n",
       "L 208.341051 115.433254 \n",
       "L 208.645719 119.713491 \n",
       "L 208.950388 113.895143 \n",
       "L 209.255056 128.807369 \n",
       "L 209.559724 121.931425 \n",
       "L 209.864393 126.816546 \n",
       "L 210.169061 108.552695 \n",
       "L 210.473729 119.471103 \n",
       "L 210.778398 109.242099 \n",
       "L 211.083066 145.041061 \n",
       "L 211.692402 106.342214 \n",
       "L 211.997071 120.815419 \n",
       "L 212.301739 73.321809 \n",
       "L 212.606407 106.173466 \n",
       "L 212.911076 126.152621 \n",
       "L 213.215744 111.576265 \n",
       "L 213.520412 118.901348 \n",
       "L 213.825081 99.107494 \n",
       "L 214.129749 103.005462 \n",
       "L 214.434417 120.521749 \n",
       "L 214.739086 125.607021 \n",
       "L 215.043754 104.501184 \n",
       "L 215.348422 129.086121 \n",
       "L 215.65309 112.264671 \n",
       "L 215.957759 104.16231 \n",
       "L 216.262427 108.599764 \n",
       "L 216.567095 131.633588 \n",
       "L 216.871764 98.504183 \n",
       "L 217.176432 108.743526 \n",
       "L 217.4811 107.464723 \n",
       "L 217.785769 115.343103 \n",
       "L 218.090437 105.531793 \n",
       "L 218.395105 119.42096 \n",
       "L 218.699773 105.971895 \n",
       "L 219.004442 122.392188 \n",
       "L 219.30911 86.988664 \n",
       "L 219.613778 112.354056 \n",
       "L 219.918447 109.325337 \n",
       "L 220.223115 139.375331 \n",
       "L 220.527783 99.257987 \n",
       "L 220.832452 110.278692 \n",
       "L 221.13712 99.428575 \n",
       "L 221.441788 120.394879 \n",
       "L 221.746457 124.942564 \n",
       "L 222.051125 115.388877 \n",
       "L 222.355793 99.886928 \n",
       "L 222.660461 124.694437 \n",
       "L 222.96513 111.644035 \n",
       "L 223.269798 125.63974 \n",
       "L 223.574466 103.764943 \n",
       "L 223.879135 101.017805 \n",
       "L 224.183803 105.739444 \n",
       "L 224.488471 106.92317 \n",
       "L 224.79314 95.31236 \n",
       "L 225.097808 117.525458 \n",
       "L 225.402476 97.704749 \n",
       "L 225.707145 102.236835 \n",
       "L 226.011813 81.995032 \n",
       "L 226.316481 114.156944 \n",
       "L 226.621149 100.145477 \n",
       "L 226.925818 126.163206 \n",
       "L 227.839823 86.935966 \n",
       "L 228.144491 103.460374 \n",
       "L 228.449159 96.147713 \n",
       "L 229.058496 115.641783 \n",
       "L 229.363164 112.453246 \n",
       "L 229.667832 137.889771 \n",
       "L 229.972501 120.334434 \n",
       "L 230.277169 119.414791 \n",
       "L 230.581837 117.068338 \n",
       "L 230.886506 109.04948 \n",
       "L 231.191174 116.475266 \n",
       "L 231.495842 93.811494 \n",
       "L 231.800511 113.493229 \n",
       "L 232.105179 113.951553 \n",
       "L 232.409847 74.352654 \n",
       "L 232.714516 100.200456 \n",
       "L 233.019184 107.774047 \n",
       "L 233.323852 102.285563 \n",
       "L 233.62852 112.207146 \n",
       "L 233.933189 75.176055 \n",
       "L 234.237857 75.673128 \n",
       "L 234.542525 85.849109 \n",
       "L 234.847194 106.805216 \n",
       "L 235.151862 93.910281 \n",
       "L 235.45653 126.367741 \n",
       "L 235.761199 93.784523 \n",
       "L 236.065867 105.549969 \n",
       "L 236.370535 112.793627 \n",
       "L 236.675203 100.680522 \n",
       "L 236.979872 120.811786 \n",
       "L 237.893877 77.137367 \n",
       "L 238.503213 120.182404 \n",
       "L 239.11255 103.936254 \n",
       "L 239.417218 113.957155 \n",
       "L 239.721887 116.991507 \n",
       "L 240.026555 125.427963 \n",
       "L 240.331223 111.731057 \n",
       "L 240.635891 103.087322 \n",
       "L 240.94056 90.529355 \n",
       "L 241.245228 94.877446 \n",
       "L 241.549896 95.618999 \n",
       "L 241.854565 109.077019 \n",
       "L 242.159233 97.36799 \n",
       "L 242.463901 103.561823 \n",
       "L 242.76857 112.801642 \n",
       "L 243.073238 85.153216 \n",
       "L 243.377906 108.383952 \n",
       "L 243.682574 95.649549 \n",
       "L 243.987243 94.07255 \n",
       "L 244.291911 117.014967 \n",
       "L 244.596579 99.813019 \n",
       "L 244.901248 73.120274 \n",
       "L 245.205916 94.940875 \n",
       "L 245.510584 102.321853 \n",
       "L 245.815253 99.285327 \n",
       "L 246.119921 70.200237 \n",
       "L 246.424589 73.837403 \n",
       "L 246.729258 96.803767 \n",
       "L 247.033926 82.506997 \n",
       "L 247.338594 104.711235 \n",
       "L 247.643262 113.690522 \n",
       "L 247.947931 106.768139 \n",
       "L 248.252599 105.881225 \n",
       "L 248.557267 94.802032 \n",
       "L 248.861936 94.726696 \n",
       "L 249.166604 75.41223 \n",
       "L 249.471272 111.118186 \n",
       "L 249.775941 100.353534 \n",
       "L 250.080609 96.791682 \n",
       "L 250.385277 96.674087 \n",
       "L 250.689945 115.926667 \n",
       "L 250.994614 118.266748 \n",
       "L 251.60395 95.616572 \n",
       "L 251.908619 93.032285 \n",
       "L 252.213287 86.468264 \n",
       "L 252.517955 99.738596 \n",
       "L 252.822624 95.708341 \n",
       "L 253.127292 121.043966 \n",
       "L 253.43196 69.340955 \n",
       "L 253.736629 88.831844 \n",
       "L 254.041297 58.547113 \n",
       "L 254.345965 94.571886 \n",
       "L 254.650633 98.365158 \n",
       "L 254.955302 108.08665 \n",
       "L 255.25997 93.480586 \n",
       "L 255.564638 109.203328 \n",
       "L 256.173975 79.748808 \n",
       "L 256.478643 54.14355 \n",
       "L 256.783312 86.606856 \n",
       "L 257.08798 81.966172 \n",
       "L 257.392648 93.088346 \n",
       "L 257.697316 79.801962 \n",
       "L 258.001985 75.830203 \n",
       "L 258.306653 85.220917 \n",
       "L 258.611321 101.71384 \n",
       "L 258.91599 90.206018 \n",
       "L 259.220658 121.95252 \n",
       "L 259.829995 98.482482 \n",
       "L 260.134663 95.471087 \n",
       "L 260.439331 94.258903 \n",
       "L 260.744 78.863488 \n",
       "L 261.048668 85.153943 \n",
       "L 261.353336 99.724286 \n",
       "L 261.658004 94.23529 \n",
       "L 261.962673 68.331146 \n",
       "L 262.267341 100.292705 \n",
       "L 262.572009 96.45521 \n",
       "L 262.876678 85.471165 \n",
       "L 263.486014 76.880927 \n",
       "L 263.790683 79.644629 \n",
       "L 264.095351 116.830287 \n",
       "L 264.400019 72.78231 \n",
       "L 264.704688 75.990283 \n",
       "L 265.009356 86.881004 \n",
       "L 265.314024 88.158756 \n",
       "L 265.618692 81.653434 \n",
       "L 265.923361 82.865162 \n",
       "L 266.228029 83.551589 \n",
       "L 266.532697 61.682157 \n",
       "L 266.837366 99.233812 \n",
       "L 267.446702 66.592062 \n",
       "L 267.751371 82.925107 \n",
       "L 268.360707 81.4387 \n",
       "L 268.665375 102.576021 \n",
       "L 268.970044 101.117714 \n",
       "L 269.274712 79.916794 \n",
       "L 269.57938 93.659893 \n",
       "L 269.884049 61.722178 \n",
       "L 270.188717 101.513692 \n",
       "L 270.493385 65.601363 \n",
       "L 270.798054 75.519738 \n",
       "L 271.102722 92.77716 \n",
       "L 271.40739 88.502799 \n",
       "L 271.712059 77.855053 \n",
       "L 272.016727 92.69177 \n",
       "L 272.321395 97.291527 \n",
       "L 272.626063 96.877694 \n",
       "L 272.930732 88.506213 \n",
       "L 273.2354 86.119684 \n",
       "L 273.844737 75.972693 \n",
       "L 274.149405 77.458218 \n",
       "L 274.454073 95.82835 \n",
       "L 274.758742 72.203889 \n",
       "L 275.06341 86.131908 \n",
       "L 275.368078 82.213778 \n",
       "L 275.672746 81.11525 \n",
       "L 275.977415 84.679517 \n",
       "L 276.282083 97.065914 \n",
       "L 276.586751 78.521133 \n",
       "L 276.89142 107.25815 \n",
       "L 277.196088 84.205883 \n",
       "L 277.805425 94.997092 \n",
       "L 278.110093 96.094066 \n",
       "L 278.414761 71.094197 \n",
       "L 278.71943 98.386573 \n",
       "L 279.024098 50.864762 \n",
       "L 279.328766 95.644611 \n",
       "L 279.633434 84.325047 \n",
       "L 279.938103 95.602494 \n",
       "L 280.547439 71.138593 \n",
       "L 280.852108 88.607935 \n",
       "L 281.156776 89.238033 \n",
       "L 281.461444 91.458543 \n",
       "L 281.766113 89.009066 \n",
       "L 282.070781 69.114975 \n",
       "L 282.375449 68.03768 \n",
       "L 282.680117 87.043023 \n",
       "L 282.984786 69.344439 \n",
       "L 283.289454 92.388621 \n",
       "L 283.594122 73.242929 \n",
       "L 283.898791 83.413623 \n",
       "L 284.203459 74.143213 \n",
       "L 284.508127 88.609947 \n",
       "L 284.812796 88.890657 \n",
       "L 285.117464 97.28697 \n",
       "L 285.726801 77.306621 \n",
       "L 286.031469 53.997415 \n",
       "L 286.336137 82.255474 \n",
       "L 286.640805 62.968889 \n",
       "L 286.945474 96.926583 \n",
       "L 287.250142 85.796869 \n",
       "L 287.55481 83.532471 \n",
       "L 287.859479 89.363494 \n",
       "L 288.164147 74.5084 \n",
       "L 288.468815 72.082916 \n",
       "L 288.773484 96.004726 \n",
       "L 289.078152 86.394864 \n",
       "L 289.38282 56.677792 \n",
       "L 289.687488 81.804193 \n",
       "L 289.992157 87.585473 \n",
       "L 290.601493 108.285637 \n",
       "L 290.906162 102.782122 \n",
       "L 291.21083 63.966936 \n",
       "L 291.515498 69.832124 \n",
       "L 291.820167 92.806739 \n",
       "L 292.124835 83.880395 \n",
       "L 292.429503 60.120142 \n",
       "L 292.734172 86.712677 \n",
       "L 293.03884 66.574789 \n",
       "L 293.343508 66.415151 \n",
       "L 293.648176 73.466039 \n",
       "L 293.952845 69.359443 \n",
       "L 294.257513 57.296854 \n",
       "L 294.562181 103.73723 \n",
       "L 294.86685 62.128214 \n",
       "L 295.171518 72.913768 \n",
       "L 295.476186 51.343488 \n",
       "L 295.780855 79.16536 \n",
       "L 296.085523 71.45491 \n",
       "L 296.390191 70.321068 \n",
       "L 296.694859 97.746664 \n",
       "L 297.304196 65.548049 \n",
       "L 297.608864 71.10704 \n",
       "L 297.913533 70.569044 \n",
       "L 298.218201 68.898433 \n",
       "L 298.522869 97.176638 \n",
       "L 298.827538 62.752843 \n",
       "L 299.132206 85.719356 \n",
       "L 299.741543 39.651408 \n",
       "L 300.046211 76.011248 \n",
       "L 300.350879 81.960049 \n",
       "L 300.655547 65.924329 \n",
       "L 300.960216 73.439173 \n",
       "L 301.264884 53.415731 \n",
       "L 301.569552 76.765586 \n",
       "L 301.874221 84.921355 \n",
       "L 302.178889 65.164144 \n",
       "L 302.483557 67.110563 \n",
       "L 302.788226 75.935449 \n",
       "L 303.092894 72.54644 \n",
       "L 303.397562 56.11763 \n",
       "L 303.70223 67.479623 \n",
       "L 304.006899 55.713927 \n",
       "L 304.311567 77.022969 \n",
       "L 304.616235 77.421635 \n",
       "L 304.920904 57.956969 \n",
       "L 305.53024 70.65354 \n",
       "L 305.834909 94.250262 \n",
       "L 306.139577 85.068041 \n",
       "L 306.444245 68.544524 \n",
       "L 306.748914 69.676018 \n",
       "L 307.053582 69.05693 \n",
       "L 307.35825 40.843663 \n",
       "L 307.662918 52.091706 \n",
       "L 307.967587 56.254821 \n",
       "L 308.272255 102.628241 \n",
       "L 308.576923 65.248039 \n",
       "L 308.881592 54.568112 \n",
       "L 309.18626 66.442564 \n",
       "L 309.490928 56.502289 \n",
       "L 309.795597 73.57413 \n",
       "L 310.100265 69.029912 \n",
       "L 310.404933 57.467942 \n",
       "L 310.709602 83.211351 \n",
       "L 311.01427 72.55094 \n",
       "L 311.318938 86.713968 \n",
       "L 311.623606 61.038335 \n",
       "L 311.928275 69.463612 \n",
       "L 312.232943 60.858957 \n",
       "L 312.537611 66.067783 \n",
       "L 312.84228 67.780805 \n",
       "L 313.146948 53.656679 \n",
       "L 313.756285 66.54356 \n",
       "L 314.060953 78.870143 \n",
       "L 314.365621 59.069555 \n",
       "L 314.670289 78.917392 \n",
       "L 314.974958 44.706537 \n",
       "L 315.279626 69.575136 \n",
       "L 315.584294 78.354763 \n",
       "L 315.888963 71.39637 \n",
       "L 316.193631 55.566548 \n",
       "L 316.498299 79.060331 \n",
       "L 316.802968 67.646823 \n",
       "L 317.107636 82.957907 \n",
       "L 317.412304 53.734153 \n",
       "L 317.716973 71.555303 \n",
       "L 318.021641 73.919472 \n",
       "L 318.326309 67.073102 \n",
       "L 318.630977 64.526261 \n",
       "L 318.935646 60.533035 \n",
       "L 319.240314 54.000783 \n",
       "L 319.544982 77.526923 \n",
       "L 319.849651 86.370545 \n",
       "L 320.154319 59.968605 \n",
       "L 320.458987 53.439157 \n",
       "L 320.763656 57.993107 \n",
       "L 321.068324 64.685073 \n",
       "L 321.372992 66.964111 \n",
       "L 321.67766 64.185488 \n",
       "L 321.982329 58.835897 \n",
       "L 322.286997 64.645609 \n",
       "L 322.591665 41.579302 \n",
       "L 322.896334 100.590995 \n",
       "L 323.201002 46.988179 \n",
       "L 323.50567 65.053837 \n",
       "L 323.810339 54.229656 \n",
       "L 324.115007 79.426513 \n",
       "L 324.419675 56.286248 \n",
       "L 324.724344 54.447187 \n",
       "L 325.029012 56.659107 \n",
       "L 325.638348 92.079676 \n",
       "L 325.943017 45.477171 \n",
       "L 326.247685 72.717935 \n",
       "L 326.552353 87.373632 \n",
       "L 326.857022 49.864223 \n",
       "L 327.16169 55.13669 \n",
       "L 327.466358 56.713997 \n",
       "L 327.771027 92.06168 \n",
       "L 328.075695 55.469173 \n",
       "L 328.380363 44.744597 \n",
       "L 328.685031 77.702955 \n",
       "L 328.9897 17.083636 \n",
       "L 329.294368 60.986746 \n",
       "L 329.599036 79.641509 \n",
       "L 329.903705 61.35829 \n",
       "L 330.208373 60.766218 \n",
       "L 330.81771 68.184944 \n",
       "L 331.122378 47.856437 \n",
       "L 331.731715 64.408415 \n",
       "L 332.036383 46.846115 \n",
       "L 332.341051 72.740481 \n",
       "L 332.950388 55.640509 \n",
       "L 333.255056 65.624064 \n",
       "L 333.559724 67.72735 \n",
       "L 333.864393 52.751597 \n",
       "L 334.169061 47.467234 \n",
       "L 334.473729 63.459324 \n",
       "L 334.778398 88.36381 \n",
       "L 335.083066 55.805408 \n",
       "L 335.387734 77.431567 \n",
       "L 335.692402 60.581741 \n",
       "L 335.997071 56.521487 \n",
       "L 336.301739 64.775299 \n",
       "L 336.606407 42.855993 \n",
       "L 336.911076 52.798737 \n",
       "L 337.215744 25.455571 \n",
       "L 337.520412 59.605591 \n",
       "L 338.129749 39.882165 \n",
       "L 338.434417 67.373387 \n",
       "L 338.739086 56.06104 \n",
       "L 339.043754 66.672808 \n",
       "L 339.348422 41.515573 \n",
       "L 339.65309 46.127413 \n",
       "L 339.957759 34.915245 \n",
       "L 340.262427 35.736002 \n",
       "L 340.567095 49.918503 \n",
       "L 340.871764 77.188998 \n",
       "L 341.176432 40.011908 \n",
       "L 341.4811 38.910603 \n",
       "L 341.785769 62.514384 \n",
       "L 342.395105 46.785589 \n",
       "L 342.699773 84.730609 \n",
       "L 343.004442 21.315521 \n",
       "L 343.30911 44.332643 \n",
       "L 343.613778 38.625873 \n",
       "L 343.918447 51.357224 \n",
       "L 344.223115 45.549888 \n",
       "L 344.527783 55.377917 \n",
       "L 344.832452 25.485016 \n",
       "L 345.13712 47.92418 \n",
       "L 345.441788 56.808726 \n",
       "L 345.746457 70.512 \n",
       "L 346.051125 77.396987 \n",
       "L 346.355793 59.910164 \n",
       "L 346.660461 54.677279 \n",
       "L 346.96513 33.861137 \n",
       "L 347.269798 52.424459 \n",
       "L 347.574466 79.773144 \n",
       "L 347.879135 56.080514 \n",
       "L 348.183803 58.550103 \n",
       "L 348.488471 64.31902 \n",
       "L 348.79314 49.799439 \n",
       "L 349.097808 66.84199 \n",
       "L 349.402476 44.637939 \n",
       "L 349.707145 51.137784 \n",
       "L 350.011813 27.831492 \n",
       "L 350.316481 53.169972 \n",
       "L 350.925818 33.834875 \n",
       "L 351.535154 50.931772 \n",
       "L 351.839823 43.93303 \n",
       "L 352.144491 29.294899 \n",
       "L 352.449159 28.719662 \n",
       "L 352.753828 30.210312 \n",
       "L 353.058496 44.760985 \n",
       "L 353.363164 36.761113 \n",
       "L 353.972501 47.170107 \n",
       "L 354.277169 33.550237 \n",
       "L 354.581837 63.045782 \n",
       "L 354.886506 70.871624 \n",
       "L 354.886506 70.871624 \n",
       "\" style=\"fill:none;stroke:#1f77b4;stroke-linecap:square;stroke-width:1.5;\"/>\n",
       "   </g>\n",
       "   <g id=\"patch_3\">\n",
       "    <path d=\"M 35.304688 224.64 \n",
       "L 35.304688 7.2 \n",
       "\" style=\"fill:none;stroke:#000000;stroke-linecap:square;stroke-linejoin:miter;stroke-width:0.8;\"/>\n",
       "   </g>\n",
       "   <g id=\"patch_4\">\n",
       "    <path d=\"M 370.104688 224.64 \n",
       "L 370.104688 7.2 \n",
       "\" style=\"fill:none;stroke:#000000;stroke-linecap:square;stroke-linejoin:miter;stroke-width:0.8;\"/>\n",
       "   </g>\n",
       "   <g id=\"patch_5\">\n",
       "    <path d=\"M 35.304688 224.64 \n",
       "L 370.104688 224.64 \n",
       "\" style=\"fill:none;stroke:#000000;stroke-linecap:square;stroke-linejoin:miter;stroke-width:0.8;\"/>\n",
       "   </g>\n",
       "   <g id=\"patch_6\">\n",
       "    <path d=\"M 35.304688 7.2 \n",
       "L 370.104688 7.2 \n",
       "\" style=\"fill:none;stroke:#000000;stroke-linecap:square;stroke-linejoin:miter;stroke-width:0.8;\"/>\n",
       "   </g>\n",
       "  </g>\n",
       " </g>\n",
       " <defs>\n",
       "  <clipPath id=\"p11de04dc27\">\n",
       "   <rect height=\"217.44\" width=\"334.8\" x=\"35.304688\" y=\"7.2\"/>\n",
       "  </clipPath>\n",
       " </defs>\n",
       "</svg>\n"
      ],
      "text/plain": [
       "<Figure size 432x288 with 1 Axes>"
      ]
     },
     "metadata": {
      "needs_background": "light"
     },
     "output_type": "display_data"
    }
   ],
   "source": [
    "noise = np.random.randn(1000)\n",
    "x = np.linspace(-10,10,1000)\n",
    "y = 3*x + 6*noise\n",
    "plt.plot(x,y);"
   ]
  },
  {
   "cell_type": "markdown",
   "metadata": {
    "id": "7z4HoJ59uc2H"
   },
   "source": [
    "The plot does look messy right! We use scatter plots when we want to plot the data points without any curve to fit them"
   ]
  },
  {
   "cell_type": "code",
   "execution_count": 34,
   "metadata": {
    "id": "iDurC0vrtgDf"
   },
   "outputs": [
    {
     "data": {
      "image/png": "[encoded data removed]",
      "image/svg+xml": [
       "<?xml version=\"1.0\" encoding=\"utf-8\" standalone=\"no\"?>\n",
       "<!DOCTYPE svg PUBLIC \"-//W3C//DTD SVG 1.1//EN\"\n",
       "  \"http://www.w3.org/Graphics/SVG/1.1/DTD/svg11.dtd\">\n",
       "<!-- Created with matplotlib (https://matplotlib.org/) -->\n",
       "<svg height=\"248.518125pt\" version=\"1.1\" viewBox=\"0 0 377.304687 248.518125\" width=\"377.304687pt\" xmlns=\"http://www.w3.org/2000/svg\" xmlns:xlink=\"http://www.w3.org/1999/xlink\">\n",
       " <metadata>\n",
       "  <rdf:RDF xmlns:cc=\"http://creativecommons.org/ns#\" xmlns:dc=\"http://purl.org/dc/elements/1.1/\" xmlns:rdf=\"http://www.w3.org/1999/02/22-rdf-syntax-ns#\">\n",
       "   <cc:Work>\n",
       "    <dc:type rdf:resource=\"http://purl.org/dc/dcmitype/StillImage\"/>\n",
       "    <dc:date>2021-02-12T00:09:03.389603</dc:date>\n",
       "    <dc:format>image/svg+xml</dc:format>\n",
       "    <dc:creator>\n",
       "     <cc:Agent>\n",
       "      <dc:title>Matplotlib v3.3.3, https://matplotlib.org/</dc:title>\n",
       "     </cc:Agent>\n",
       "    </dc:creator>\n",
       "   </cc:Work>\n",
       "  </rdf:RDF>\n",
       " </metadata>\n",
       " <defs>\n",
       "  <style type=\"text/css\">*{stroke-linecap:butt;stroke-linejoin:round;}</style>\n",
       " </defs>\n",
       " <g id=\"figure_1\">\n",
       "  <g id=\"patch_1\">\n",
       "   <path d=\"M 0 248.518125 \n",
       "L 377.304687 248.518125 \n",
       "L 377.304687 0 \n",
       "L 0 0 \n",
       "z\n",
       "\" style=\"fill:none;\"/>\n",
       "  </g>\n",
       "  <g id=\"axes_1\">\n",
       "   <g id=\"patch_2\">\n",
       "    <path d=\"M 35.304688 224.64 \n",
       "L 370.104688 224.64 \n",
       "L 370.104688 7.2 \n",
       "L 35.304688 7.2 \n",
       "z\n",
       "\" style=\"fill:#ffffff;\"/>\n",
       "   </g>\n",
       "   <g id=\"PathCollection_1\">\n",
       "    <defs>\n",
       "     <path d=\"M 0 0.707107 \n",
       "C 0.187527 0.707107 0.367398 0.632602 0.5 0.5 \n",
       "C 0.632602 0.367398 0.707107 0.187527 0.707107 0 \n",
       "C 0.707107 -0.187527 0.632602 -0.367398 0.5 -0.5 \n",
       "C 0.367398 -0.632602 0.187527 -0.707107 0 -0.707107 \n",
       "C -0.187527 -0.707107 -0.367398 -0.632602 -0.5 -0.5 \n",
       "C -0.632602 -0.367398 -0.707107 -0.187527 -0.707107 0 \n",
       "C -0.707107 0.187527 -0.632602 0.367398 -0.5 0.5 \n",
       "C -0.367398 0.632602 -0.187527 0.707107 0 0.707107 \n",
       "z\n",
       "\" id=\"m207602a23e\" style=\"stroke:#1f77b4;\"/>\n",
       "    </defs>\n",
       "    <g clip-path=\"url(#p1227eebcfb)\">\n",
       "     <use style=\"fill:#1f77b4;stroke:#1f77b4;\" x=\"50.522869\" xlink:href=\"#m207602a23e\" y=\"205.657252\"/>\n",
       "     <use style=\"fill:#1f77b4;stroke:#1f77b4;\" x=\"50.827538\" xlink:href=\"#m207602a23e\" y=\"197.627049\"/>\n",
       "     <use style=\"fill:#1f77b4;stroke:#1f77b4;\" x=\"51.132206\" xlink:href=\"#m207602a23e\" y=\"179.77637\"/>\n",
       "     <use style=\"fill:#1f77b4;stroke:#1f77b4;\" x=\"51.436874\" xlink:href=\"#m207602a23e\" y=\"167.876145\"/>\n",
       "     <use style=\"fill:#1f77b4;stroke:#1f77b4;\" x=\"51.741543\" xlink:href=\"#m207602a23e\" y=\"211.107275\"/>\n",
       "     <use style=\"fill:#1f77b4;stroke:#1f77b4;\" x=\"52.046211\" xlink:href=\"#m207602a23e\" y=\"173.920225\"/>\n",
       "     <use style=\"fill:#1f77b4;stroke:#1f77b4;\" x=\"52.350879\" xlink:href=\"#m207602a23e\" y=\"187.716946\"/>\n",
       "     <use style=\"fill:#1f77b4;stroke:#1f77b4;\" x=\"52.655547\" xlink:href=\"#m207602a23e\" y=\"164.939457\"/>\n",
       "     <use style=\"fill:#1f77b4;stroke:#1f77b4;\" x=\"52.960216\" xlink:href=\"#m207602a23e\" y=\"188.443616\"/>\n",
       "     <use style=\"fill:#1f77b4;stroke:#1f77b4;\" x=\"53.264884\" xlink:href=\"#m207602a23e\" y=\"164.974325\"/>\n",
       "     <use style=\"fill:#1f77b4;stroke:#1f77b4;\" x=\"53.569552\" xlink:href=\"#m207602a23e\" y=\"163.524734\"/>\n",
       "     <use style=\"fill:#1f77b4;stroke:#1f77b4;\" x=\"53.874221\" xlink:href=\"#m207602a23e\" y=\"182.223372\"/>\n",
       "     <use style=\"fill:#1f77b4;stroke:#1f77b4;\" x=\"54.178889\" xlink:href=\"#m207602a23e\" y=\"188.677539\"/>\n",
       "     <use style=\"fill:#1f77b4;stroke:#1f77b4;\" x=\"54.483557\" xlink:href=\"#m207602a23e\" y=\"177.318387\"/>\n",
       "     <use style=\"fill:#1f77b4;stroke:#1f77b4;\" x=\"54.788226\" xlink:href=\"#m207602a23e\" y=\"188.204245\"/>\n",
       "     <use style=\"fill:#1f77b4;stroke:#1f77b4;\" x=\"55.092894\" xlink:href=\"#m207602a23e\" y=\"189.524406\"/>\n",
       "     <use style=\"fill:#1f77b4;stroke:#1f77b4;\" x=\"55.397562\" xlink:href=\"#m207602a23e\" y=\"208.323642\"/>\n",
       "     <use style=\"fill:#1f77b4;stroke:#1f77b4;\" x=\"55.70223\" xlink:href=\"#m207602a23e\" y=\"188.345898\"/>\n",
       "     <use style=\"fill:#1f77b4;stroke:#1f77b4;\" x=\"56.006899\" xlink:href=\"#m207602a23e\" y=\"168.786925\"/>\n",
       "     <use style=\"fill:#1f77b4;stroke:#1f77b4;\" x=\"56.311567\" xlink:href=\"#m207602a23e\" y=\"159.583923\"/>\n",
       "     <use style=\"fill:#1f77b4;stroke:#1f77b4;\" x=\"56.616235\" xlink:href=\"#m207602a23e\" y=\"163.342389\"/>\n",
       "     <use style=\"fill:#1f77b4;stroke:#1f77b4;\" x=\"56.920904\" xlink:href=\"#m207602a23e\" y=\"183.453624\"/>\n",
       "     <use style=\"fill:#1f77b4;stroke:#1f77b4;\" x=\"57.225572\" xlink:href=\"#m207602a23e\" y=\"191.920614\"/>\n",
       "     <use style=\"fill:#1f77b4;stroke:#1f77b4;\" x=\"57.53024\" xlink:href=\"#m207602a23e\" y=\"181.844193\"/>\n",
       "     <use style=\"fill:#1f77b4;stroke:#1f77b4;\" x=\"57.834909\" xlink:href=\"#m207602a23e\" y=\"170.357367\"/>\n",
       "     <use style=\"fill:#1f77b4;stroke:#1f77b4;\" x=\"58.139577\" xlink:href=\"#m207602a23e\" y=\"186.392605\"/>\n",
       "     <use style=\"fill:#1f77b4;stroke:#1f77b4;\" x=\"58.444245\" xlink:href=\"#m207602a23e\" y=\"186.900665\"/>\n",
       "     <use style=\"fill:#1f77b4;stroke:#1f77b4;\" x=\"58.748914\" xlink:href=\"#m207602a23e\" y=\"192.859931\"/>\n",
       "     <use style=\"fill:#1f77b4;stroke:#1f77b4;\" x=\"59.053582\" xlink:href=\"#m207602a23e\" y=\"185.0945\"/>\n",
       "     <use style=\"fill:#1f77b4;stroke:#1f77b4;\" x=\"59.35825\" xlink:href=\"#m207602a23e\" y=\"195.315246\"/>\n",
       "     <use style=\"fill:#1f77b4;stroke:#1f77b4;\" x=\"59.662918\" xlink:href=\"#m207602a23e\" y=\"181.032451\"/>\n",
       "     <use style=\"fill:#1f77b4;stroke:#1f77b4;\" x=\"59.967587\" xlink:href=\"#m207602a23e\" y=\"180.836942\"/>\n",
       "     <use style=\"fill:#1f77b4;stroke:#1f77b4;\" x=\"60.272255\" xlink:href=\"#m207602a23e\" y=\"187.587681\"/>\n",
       "     <use style=\"fill:#1f77b4;stroke:#1f77b4;\" x=\"60.576923\" xlink:href=\"#m207602a23e\" y=\"163.538249\"/>\n",
       "     <use style=\"fill:#1f77b4;stroke:#1f77b4;\" x=\"60.881592\" xlink:href=\"#m207602a23e\" y=\"167.209218\"/>\n",
       "     <use style=\"fill:#1f77b4;stroke:#1f77b4;\" x=\"61.18626\" xlink:href=\"#m207602a23e\" y=\"181.43235\"/>\n",
       "     <use style=\"fill:#1f77b4;stroke:#1f77b4;\" x=\"61.490928\" xlink:href=\"#m207602a23e\" y=\"184.334495\"/>\n",
       "     <use style=\"fill:#1f77b4;stroke:#1f77b4;\" x=\"61.795597\" xlink:href=\"#m207602a23e\" y=\"190.708489\"/>\n",
       "     <use style=\"fill:#1f77b4;stroke:#1f77b4;\" x=\"62.100265\" xlink:href=\"#m207602a23e\" y=\"189.431115\"/>\n",
       "     <use style=\"fill:#1f77b4;stroke:#1f77b4;\" x=\"62.404933\" xlink:href=\"#m207602a23e\" y=\"165.30077\"/>\n",
       "     <use style=\"fill:#1f77b4;stroke:#1f77b4;\" x=\"62.709602\" xlink:href=\"#m207602a23e\" y=\"179.51505\"/>\n",
       "     <use style=\"fill:#1f77b4;stroke:#1f77b4;\" x=\"63.01427\" xlink:href=\"#m207602a23e\" y=\"191.223224\"/>\n",
       "     <use style=\"fill:#1f77b4;stroke:#1f77b4;\" x=\"63.318938\" xlink:href=\"#m207602a23e\" y=\"202.522448\"/>\n",
       "     <use style=\"fill:#1f77b4;stroke:#1f77b4;\" x=\"63.623606\" xlink:href=\"#m207602a23e\" y=\"186.166373\"/>\n",
       "     <use style=\"fill:#1f77b4;stroke:#1f77b4;\" x=\"63.928275\" xlink:href=\"#m207602a23e\" y=\"183.704995\"/>\n",
       "     <use style=\"fill:#1f77b4;stroke:#1f77b4;\" x=\"64.232943\" xlink:href=\"#m207602a23e\" y=\"196.187124\"/>\n",
       "     <use style=\"fill:#1f77b4;stroke:#1f77b4;\" x=\"64.537611\" xlink:href=\"#m207602a23e\" y=\"178.195122\"/>\n",
       "     <use style=\"fill:#1f77b4;stroke:#1f77b4;\" x=\"64.84228\" xlink:href=\"#m207602a23e\" y=\"214.756364\"/>\n",
       "     <use style=\"fill:#1f77b4;stroke:#1f77b4;\" x=\"65.146948\" xlink:href=\"#m207602a23e\" y=\"154.944151\"/>\n",
       "     <use style=\"fill:#1f77b4;stroke:#1f77b4;\" x=\"65.451616\" xlink:href=\"#m207602a23e\" y=\"196.251307\"/>\n",
       "     <use style=\"fill:#1f77b4;stroke:#1f77b4;\" x=\"65.756285\" xlink:href=\"#m207602a23e\" y=\"158.244883\"/>\n",
       "     <use style=\"fill:#1f77b4;stroke:#1f77b4;\" x=\"66.060953\" xlink:href=\"#m207602a23e\" y=\"156.46648\"/>\n",
       "     <use style=\"fill:#1f77b4;stroke:#1f77b4;\" x=\"66.365621\" xlink:href=\"#m207602a23e\" y=\"187.111005\"/>\n",
       "     <use style=\"fill:#1f77b4;stroke:#1f77b4;\" x=\"66.670289\" xlink:href=\"#m207602a23e\" y=\"159.397802\"/>\n",
       "     <use style=\"fill:#1f77b4;stroke:#1f77b4;\" x=\"66.974958\" xlink:href=\"#m207602a23e\" y=\"186.857395\"/>\n",
       "     <use style=\"fill:#1f77b4;stroke:#1f77b4;\" x=\"67.279626\" xlink:href=\"#m207602a23e\" y=\"186.790557\"/>\n",
       "     <use style=\"fill:#1f77b4;stroke:#1f77b4;\" x=\"67.584294\" xlink:href=\"#m207602a23e\" y=\"177.629941\"/>\n",
       "     <use style=\"fill:#1f77b4;stroke:#1f77b4;\" x=\"67.888963\" xlink:href=\"#m207602a23e\" y=\"183.89653\"/>\n",
       "     <use style=\"fill:#1f77b4;stroke:#1f77b4;\" x=\"68.193631\" xlink:href=\"#m207602a23e\" y=\"172.699079\"/>\n",
       "     <use style=\"fill:#1f77b4;stroke:#1f77b4;\" x=\"68.498299\" xlink:href=\"#m207602a23e\" y=\"174.27619\"/>\n",
       "     <use style=\"fill:#1f77b4;stroke:#1f77b4;\" x=\"68.802968\" xlink:href=\"#m207602a23e\" y=\"174.22498\"/>\n",
       "     <use style=\"fill:#1f77b4;stroke:#1f77b4;\" x=\"69.107636\" xlink:href=\"#m207602a23e\" y=\"180.054312\"/>\n",
       "     <use style=\"fill:#1f77b4;stroke:#1f77b4;\" x=\"69.412304\" xlink:href=\"#m207602a23e\" y=\"202.392754\"/>\n",
       "     <use style=\"fill:#1f77b4;stroke:#1f77b4;\" x=\"69.716973\" xlink:href=\"#m207602a23e\" y=\"181.297828\"/>\n",
       "     <use style=\"fill:#1f77b4;stroke:#1f77b4;\" x=\"70.021641\" xlink:href=\"#m207602a23e\" y=\"198.604249\"/>\n",
       "     <use style=\"fill:#1f77b4;stroke:#1f77b4;\" x=\"70.326309\" xlink:href=\"#m207602a23e\" y=\"199.145952\"/>\n",
       "     <use style=\"fill:#1f77b4;stroke:#1f77b4;\" x=\"70.630977\" xlink:href=\"#m207602a23e\" y=\"166.581276\"/>\n",
       "     <use style=\"fill:#1f77b4;stroke:#1f77b4;\" x=\"70.935646\" xlink:href=\"#m207602a23e\" y=\"193.755011\"/>\n",
       "     <use style=\"fill:#1f77b4;stroke:#1f77b4;\" x=\"71.240314\" xlink:href=\"#m207602a23e\" y=\"172.579709\"/>\n",
       "     <use style=\"fill:#1f77b4;stroke:#1f77b4;\" x=\"71.544982\" xlink:href=\"#m207602a23e\" y=\"182.436108\"/>\n",
       "     <use style=\"fill:#1f77b4;stroke:#1f77b4;\" x=\"71.849651\" xlink:href=\"#m207602a23e\" y=\"168.38442\"/>\n",
       "     <use style=\"fill:#1f77b4;stroke:#1f77b4;\" x=\"72.154319\" xlink:href=\"#m207602a23e\" y=\"159.12409\"/>\n",
       "     <use style=\"fill:#1f77b4;stroke:#1f77b4;\" x=\"72.458987\" xlink:href=\"#m207602a23e\" y=\"210.101703\"/>\n",
       "     <use style=\"fill:#1f77b4;stroke:#1f77b4;\" x=\"72.763656\" xlink:href=\"#m207602a23e\" y=\"194.548203\"/>\n",
       "     <use style=\"fill:#1f77b4;stroke:#1f77b4;\" x=\"73.068324\" xlink:href=\"#m207602a23e\" y=\"188.060236\"/>\n",
       "     <use style=\"fill:#1f77b4;stroke:#1f77b4;\" x=\"73.372992\" xlink:href=\"#m207602a23e\" y=\"156.015744\"/>\n",
       "     <use style=\"fill:#1f77b4;stroke:#1f77b4;\" x=\"73.67766\" xlink:href=\"#m207602a23e\" y=\"175.883761\"/>\n",
       "     <use style=\"fill:#1f77b4;stroke:#1f77b4;\" x=\"73.982329\" xlink:href=\"#m207602a23e\" y=\"162.799097\"/>\n",
       "     <use style=\"fill:#1f77b4;stroke:#1f77b4;\" x=\"74.286997\" xlink:href=\"#m207602a23e\" y=\"168.632112\"/>\n",
       "     <use style=\"fill:#1f77b4;stroke:#1f77b4;\" x=\"74.591665\" xlink:href=\"#m207602a23e\" y=\"161.111364\"/>\n",
       "     <use style=\"fill:#1f77b4;stroke:#1f77b4;\" x=\"74.896334\" xlink:href=\"#m207602a23e\" y=\"172.713095\"/>\n",
       "     <use style=\"fill:#1f77b4;stroke:#1f77b4;\" x=\"75.201002\" xlink:href=\"#m207602a23e\" y=\"175.710764\"/>\n",
       "     <use style=\"fill:#1f77b4;stroke:#1f77b4;\" x=\"75.50567\" xlink:href=\"#m207602a23e\" y=\"158.643465\"/>\n",
       "     <use style=\"fill:#1f77b4;stroke:#1f77b4;\" x=\"75.810339\" xlink:href=\"#m207602a23e\" y=\"170.561046\"/>\n",
       "     <use style=\"fill:#1f77b4;stroke:#1f77b4;\" x=\"76.115007\" xlink:href=\"#m207602a23e\" y=\"129.009186\"/>\n",
       "     <use style=\"fill:#1f77b4;stroke:#1f77b4;\" x=\"76.419675\" xlink:href=\"#m207602a23e\" y=\"180.06684\"/>\n",
       "     <use style=\"fill:#1f77b4;stroke:#1f77b4;\" x=\"76.724344\" xlink:href=\"#m207602a23e\" y=\"174.694546\"/>\n",
       "     <use style=\"fill:#1f77b4;stroke:#1f77b4;\" x=\"77.029012\" xlink:href=\"#m207602a23e\" y=\"175.949174\"/>\n",
       "     <use style=\"fill:#1f77b4;stroke:#1f77b4;\" x=\"77.33368\" xlink:href=\"#m207602a23e\" y=\"179.071598\"/>\n",
       "     <use style=\"fill:#1f77b4;stroke:#1f77b4;\" x=\"77.638348\" xlink:href=\"#m207602a23e\" y=\"191.357543\"/>\n",
       "     <use style=\"fill:#1f77b4;stroke:#1f77b4;\" x=\"77.943017\" xlink:href=\"#m207602a23e\" y=\"172.876781\"/>\n",
       "     <use style=\"fill:#1f77b4;stroke:#1f77b4;\" x=\"78.247685\" xlink:href=\"#m207602a23e\" y=\"155.768357\"/>\n",
       "     <use style=\"fill:#1f77b4;stroke:#1f77b4;\" x=\"78.552353\" xlink:href=\"#m207602a23e\" y=\"177.979957\"/>\n",
       "     <use style=\"fill:#1f77b4;stroke:#1f77b4;\" x=\"78.857022\" xlink:href=\"#m207602a23e\" y=\"175.251769\"/>\n",
       "     <use style=\"fill:#1f77b4;stroke:#1f77b4;\" x=\"79.16169\" xlink:href=\"#m207602a23e\" y=\"185.562544\"/>\n",
       "     <use style=\"fill:#1f77b4;stroke:#1f77b4;\" x=\"79.466358\" xlink:href=\"#m207602a23e\" y=\"177.101297\"/>\n",
       "     <use style=\"fill:#1f77b4;stroke:#1f77b4;\" x=\"79.771027\" xlink:href=\"#m207602a23e\" y=\"170.33682\"/>\n",
       "     <use style=\"fill:#1f77b4;stroke:#1f77b4;\" x=\"80.075695\" xlink:href=\"#m207602a23e\" y=\"159.668577\"/>\n",
       "     <use style=\"fill:#1f77b4;stroke:#1f77b4;\" x=\"80.380363\" xlink:href=\"#m207602a23e\" y=\"188.073776\"/>\n",
       "     <use style=\"fill:#1f77b4;stroke:#1f77b4;\" x=\"80.685031\" xlink:href=\"#m207602a23e\" y=\"185.314126\"/>\n",
       "     <use style=\"fill:#1f77b4;stroke:#1f77b4;\" x=\"80.9897\" xlink:href=\"#m207602a23e\" y=\"178.437388\"/>\n",
       "     <use style=\"fill:#1f77b4;stroke:#1f77b4;\" x=\"81.294368\" xlink:href=\"#m207602a23e\" y=\"184.288442\"/>\n",
       "     <use style=\"fill:#1f77b4;stroke:#1f77b4;\" x=\"81.599036\" xlink:href=\"#m207602a23e\" y=\"184.245767\"/>\n",
       "     <use style=\"fill:#1f77b4;stroke:#1f77b4;\" x=\"81.903705\" xlink:href=\"#m207602a23e\" y=\"141.759704\"/>\n",
       "     <use style=\"fill:#1f77b4;stroke:#1f77b4;\" x=\"82.208373\" xlink:href=\"#m207602a23e\" y=\"169.746089\"/>\n",
       "     <use style=\"fill:#1f77b4;stroke:#1f77b4;\" x=\"82.513041\" xlink:href=\"#m207602a23e\" y=\"177.103716\"/>\n",
       "     <use style=\"fill:#1f77b4;stroke:#1f77b4;\" x=\"82.81771\" xlink:href=\"#m207602a23e\" y=\"165.804052\"/>\n",
       "     <use style=\"fill:#1f77b4;stroke:#1f77b4;\" x=\"83.122378\" xlink:href=\"#m207602a23e\" y=\"183.01197\"/>\n",
       "     <use style=\"fill:#1f77b4;stroke:#1f77b4;\" x=\"83.427046\" xlink:href=\"#m207602a23e\" y=\"160.30051\"/>\n",
       "     <use style=\"fill:#1f77b4;stroke:#1f77b4;\" x=\"83.731715\" xlink:href=\"#m207602a23e\" y=\"195.01278\"/>\n",
       "     <use style=\"fill:#1f77b4;stroke:#1f77b4;\" x=\"84.036383\" xlink:href=\"#m207602a23e\" y=\"180.993464\"/>\n",
       "     <use style=\"fill:#1f77b4;stroke:#1f77b4;\" x=\"84.341051\" xlink:href=\"#m207602a23e\" y=\"173.501967\"/>\n",
       "     <use style=\"fill:#1f77b4;stroke:#1f77b4;\" x=\"84.645719\" xlink:href=\"#m207602a23e\" y=\"153.704039\"/>\n",
       "     <use style=\"fill:#1f77b4;stroke:#1f77b4;\" x=\"84.950388\" xlink:href=\"#m207602a23e\" y=\"155.251069\"/>\n",
       "     <use style=\"fill:#1f77b4;stroke:#1f77b4;\" x=\"85.255056\" xlink:href=\"#m207602a23e\" y=\"171.914951\"/>\n",
       "     <use style=\"fill:#1f77b4;stroke:#1f77b4;\" x=\"85.559724\" xlink:href=\"#m207602a23e\" y=\"191.162808\"/>\n",
       "     <use style=\"fill:#1f77b4;stroke:#1f77b4;\" x=\"85.864393\" xlink:href=\"#m207602a23e\" y=\"196.053645\"/>\n",
       "     <use style=\"fill:#1f77b4;stroke:#1f77b4;\" x=\"86.169061\" xlink:href=\"#m207602a23e\" y=\"156.617187\"/>\n",
       "     <use style=\"fill:#1f77b4;stroke:#1f77b4;\" x=\"86.473729\" xlink:href=\"#m207602a23e\" y=\"171.110375\"/>\n",
       "     <use style=\"fill:#1f77b4;stroke:#1f77b4;\" x=\"86.778398\" xlink:href=\"#m207602a23e\" y=\"177.321748\"/>\n",
       "     <use style=\"fill:#1f77b4;stroke:#1f77b4;\" x=\"87.083066\" xlink:href=\"#m207602a23e\" y=\"157.719313\"/>\n",
       "     <use style=\"fill:#1f77b4;stroke:#1f77b4;\" x=\"87.387734\" xlink:href=\"#m207602a23e\" y=\"160.677638\"/>\n",
       "     <use style=\"fill:#1f77b4;stroke:#1f77b4;\" x=\"87.692402\" xlink:href=\"#m207602a23e\" y=\"178.558786\"/>\n",
       "     <use style=\"fill:#1f77b4;stroke:#1f77b4;\" x=\"87.997071\" xlink:href=\"#m207602a23e\" y=\"163.833753\"/>\n",
       "     <use style=\"fill:#1f77b4;stroke:#1f77b4;\" x=\"88.301739\" xlink:href=\"#m207602a23e\" y=\"186.021313\"/>\n",
       "     <use style=\"fill:#1f77b4;stroke:#1f77b4;\" x=\"88.606407\" xlink:href=\"#m207602a23e\" y=\"143.371971\"/>\n",
       "     <use style=\"fill:#1f77b4;stroke:#1f77b4;\" x=\"88.911076\" xlink:href=\"#m207602a23e\" y=\"181.65282\"/>\n",
       "     <use style=\"fill:#1f77b4;stroke:#1f77b4;\" x=\"89.215744\" xlink:href=\"#m207602a23e\" y=\"147.046026\"/>\n",
       "     <use style=\"fill:#1f77b4;stroke:#1f77b4;\" x=\"89.520412\" xlink:href=\"#m207602a23e\" y=\"166.132249\"/>\n",
       "     <use style=\"fill:#1f77b4;stroke:#1f77b4;\" x=\"89.825081\" xlink:href=\"#m207602a23e\" y=\"175.848785\"/>\n",
       "     <use style=\"fill:#1f77b4;stroke:#1f77b4;\" x=\"90.129749\" xlink:href=\"#m207602a23e\" y=\"170.562294\"/>\n",
       "     <use style=\"fill:#1f77b4;stroke:#1f77b4;\" x=\"90.434417\" xlink:href=\"#m207602a23e\" y=\"172.213656\"/>\n",
       "     <use style=\"fill:#1f77b4;stroke:#1f77b4;\" x=\"90.739086\" xlink:href=\"#m207602a23e\" y=\"166.076887\"/>\n",
       "     <use style=\"fill:#1f77b4;stroke:#1f77b4;\" x=\"91.043754\" xlink:href=\"#m207602a23e\" y=\"157.432307\"/>\n",
       "     <use style=\"fill:#1f77b4;stroke:#1f77b4;\" x=\"91.348422\" xlink:href=\"#m207602a23e\" y=\"185.134859\"/>\n",
       "     <use style=\"fill:#1f77b4;stroke:#1f77b4;\" x=\"91.65309\" xlink:href=\"#m207602a23e\" y=\"170.813069\"/>\n",
       "     <use style=\"fill:#1f77b4;stroke:#1f77b4;\" x=\"91.957759\" xlink:href=\"#m207602a23e\" y=\"183.939714\"/>\n",
       "     <use style=\"fill:#1f77b4;stroke:#1f77b4;\" x=\"92.262427\" xlink:href=\"#m207602a23e\" y=\"158.859929\"/>\n",
       "     <use style=\"fill:#1f77b4;stroke:#1f77b4;\" x=\"92.567095\" xlink:href=\"#m207602a23e\" y=\"157.449575\"/>\n",
       "     <use style=\"fill:#1f77b4;stroke:#1f77b4;\" x=\"92.871764\" xlink:href=\"#m207602a23e\" y=\"191.627618\"/>\n",
       "     <use style=\"fill:#1f77b4;stroke:#1f77b4;\" x=\"93.176432\" xlink:href=\"#m207602a23e\" y=\"166.065723\"/>\n",
       "     <use style=\"fill:#1f77b4;stroke:#1f77b4;\" x=\"93.4811\" xlink:href=\"#m207602a23e\" y=\"167.960407\"/>\n",
       "     <use style=\"fill:#1f77b4;stroke:#1f77b4;\" x=\"93.785769\" xlink:href=\"#m207602a23e\" y=\"163.851811\"/>\n",
       "     <use style=\"fill:#1f77b4;stroke:#1f77b4;\" x=\"94.090437\" xlink:href=\"#m207602a23e\" y=\"168.068268\"/>\n",
       "     <use style=\"fill:#1f77b4;stroke:#1f77b4;\" x=\"94.395105\" xlink:href=\"#m207602a23e\" y=\"178.54234\"/>\n",
       "     <use style=\"fill:#1f77b4;stroke:#1f77b4;\" x=\"94.699773\" xlink:href=\"#m207602a23e\" y=\"168.896904\"/>\n",
       "     <use style=\"fill:#1f77b4;stroke:#1f77b4;\" x=\"95.004442\" xlink:href=\"#m207602a23e\" y=\"161.17972\"/>\n",
       "     <use style=\"fill:#1f77b4;stroke:#1f77b4;\" x=\"95.30911\" xlink:href=\"#m207602a23e\" y=\"153.670215\"/>\n",
       "     <use style=\"fill:#1f77b4;stroke:#1f77b4;\" x=\"95.613778\" xlink:href=\"#m207602a23e\" y=\"200.748659\"/>\n",
       "     <use style=\"fill:#1f77b4;stroke:#1f77b4;\" x=\"95.918447\" xlink:href=\"#m207602a23e\" y=\"176.883158\"/>\n",
       "     <use style=\"fill:#1f77b4;stroke:#1f77b4;\" x=\"96.223115\" xlink:href=\"#m207602a23e\" y=\"134.501046\"/>\n",
       "     <use style=\"fill:#1f77b4;stroke:#1f77b4;\" x=\"96.527783\" xlink:href=\"#m207602a23e\" y=\"180.897331\"/>\n",
       "     <use style=\"fill:#1f77b4;stroke:#1f77b4;\" x=\"96.832452\" xlink:href=\"#m207602a23e\" y=\"189.798608\"/>\n",
       "     <use style=\"fill:#1f77b4;stroke:#1f77b4;\" x=\"97.13712\" xlink:href=\"#m207602a23e\" y=\"178.418102\"/>\n",
       "     <use style=\"fill:#1f77b4;stroke:#1f77b4;\" x=\"97.441788\" xlink:href=\"#m207602a23e\" y=\"140.615528\"/>\n",
       "     <use style=\"fill:#1f77b4;stroke:#1f77b4;\" x=\"97.746457\" xlink:href=\"#m207602a23e\" y=\"135.202683\"/>\n",
       "     <use style=\"fill:#1f77b4;stroke:#1f77b4;\" x=\"98.051125\" xlink:href=\"#m207602a23e\" y=\"164.550061\"/>\n",
       "     <use style=\"fill:#1f77b4;stroke:#1f77b4;\" x=\"98.355793\" xlink:href=\"#m207602a23e\" y=\"118.488925\"/>\n",
       "     <use style=\"fill:#1f77b4;stroke:#1f77b4;\" x=\"98.660461\" xlink:href=\"#m207602a23e\" y=\"180.407559\"/>\n",
       "     <use style=\"fill:#1f77b4;stroke:#1f77b4;\" x=\"98.96513\" xlink:href=\"#m207602a23e\" y=\"171.90856\"/>\n",
       "     <use style=\"fill:#1f77b4;stroke:#1f77b4;\" x=\"99.269798\" xlink:href=\"#m207602a23e\" y=\"173.812111\"/>\n",
       "     <use style=\"fill:#1f77b4;stroke:#1f77b4;\" x=\"99.574466\" xlink:href=\"#m207602a23e\" y=\"161.71168\"/>\n",
       "     <use style=\"fill:#1f77b4;stroke:#1f77b4;\" x=\"99.879135\" xlink:href=\"#m207602a23e\" y=\"158.774914\"/>\n",
       "     <use style=\"fill:#1f77b4;stroke:#1f77b4;\" x=\"100.183803\" xlink:href=\"#m207602a23e\" y=\"162.027039\"/>\n",
       "     <use style=\"fill:#1f77b4;stroke:#1f77b4;\" x=\"100.488471\" xlink:href=\"#m207602a23e\" y=\"172.157349\"/>\n",
       "     <use style=\"fill:#1f77b4;stroke:#1f77b4;\" x=\"100.79314\" xlink:href=\"#m207602a23e\" y=\"171.767505\"/>\n",
       "     <use style=\"fill:#1f77b4;stroke:#1f77b4;\" x=\"101.097808\" xlink:href=\"#m207602a23e\" y=\"167.003608\"/>\n",
       "     <use style=\"fill:#1f77b4;stroke:#1f77b4;\" x=\"101.402476\" xlink:href=\"#m207602a23e\" y=\"172.658675\"/>\n",
       "     <use style=\"fill:#1f77b4;stroke:#1f77b4;\" x=\"101.707145\" xlink:href=\"#m207602a23e\" y=\"164.534724\"/>\n",
       "     <use style=\"fill:#1f77b4;stroke:#1f77b4;\" x=\"102.011813\" xlink:href=\"#m207602a23e\" y=\"160.48458\"/>\n",
       "     <use style=\"fill:#1f77b4;stroke:#1f77b4;\" x=\"102.316481\" xlink:href=\"#m207602a23e\" y=\"139.210861\"/>\n",
       "     <use style=\"fill:#1f77b4;stroke:#1f77b4;\" x=\"102.621149\" xlink:href=\"#m207602a23e\" y=\"186.505339\"/>\n",
       "     <use style=\"fill:#1f77b4;stroke:#1f77b4;\" x=\"102.925818\" xlink:href=\"#m207602a23e\" y=\"173.726994\"/>\n",
       "     <use style=\"fill:#1f77b4;stroke:#1f77b4;\" x=\"103.230486\" xlink:href=\"#m207602a23e\" y=\"159.235793\"/>\n",
       "     <use style=\"fill:#1f77b4;stroke:#1f77b4;\" x=\"103.535154\" xlink:href=\"#m207602a23e\" y=\"166.624631\"/>\n",
       "     <use style=\"fill:#1f77b4;stroke:#1f77b4;\" x=\"103.839823\" xlink:href=\"#m207602a23e\" y=\"172.971339\"/>\n",
       "     <use style=\"fill:#1f77b4;stroke:#1f77b4;\" x=\"104.144491\" xlink:href=\"#m207602a23e\" y=\"180.706106\"/>\n",
       "     <use style=\"fill:#1f77b4;stroke:#1f77b4;\" x=\"104.449159\" xlink:href=\"#m207602a23e\" y=\"176.777237\"/>\n",
       "     <use style=\"fill:#1f77b4;stroke:#1f77b4;\" x=\"104.753828\" xlink:href=\"#m207602a23e\" y=\"145.845156\"/>\n",
       "     <use style=\"fill:#1f77b4;stroke:#1f77b4;\" x=\"105.058496\" xlink:href=\"#m207602a23e\" y=\"174.077907\"/>\n",
       "     <use style=\"fill:#1f77b4;stroke:#1f77b4;\" x=\"105.363164\" xlink:href=\"#m207602a23e\" y=\"156.175307\"/>\n",
       "     <use style=\"fill:#1f77b4;stroke:#1f77b4;\" x=\"105.667832\" xlink:href=\"#m207602a23e\" y=\"143.988061\"/>\n",
       "     <use style=\"fill:#1f77b4;stroke:#1f77b4;\" x=\"105.972501\" xlink:href=\"#m207602a23e\" y=\"149.634161\"/>\n",
       "     <use style=\"fill:#1f77b4;stroke:#1f77b4;\" x=\"106.277169\" xlink:href=\"#m207602a23e\" y=\"155.743205\"/>\n",
       "     <use style=\"fill:#1f77b4;stroke:#1f77b4;\" x=\"106.581837\" xlink:href=\"#m207602a23e\" y=\"140.312361\"/>\n",
       "     <use style=\"fill:#1f77b4;stroke:#1f77b4;\" x=\"106.886506\" xlink:href=\"#m207602a23e\" y=\"173.46285\"/>\n",
       "     <use style=\"fill:#1f77b4;stroke:#1f77b4;\" x=\"107.191174\" xlink:href=\"#m207602a23e\" y=\"136.115471\"/>\n",
       "     <use style=\"fill:#1f77b4;stroke:#1f77b4;\" x=\"107.495842\" xlink:href=\"#m207602a23e\" y=\"156.182813\"/>\n",
       "     <use style=\"fill:#1f77b4;stroke:#1f77b4;\" x=\"107.800511\" xlink:href=\"#m207602a23e\" y=\"149.697444\"/>\n",
       "     <use style=\"fill:#1f77b4;stroke:#1f77b4;\" x=\"108.105179\" xlink:href=\"#m207602a23e\" y=\"140.693548\"/>\n",
       "     <use style=\"fill:#1f77b4;stroke:#1f77b4;\" x=\"108.409847\" xlink:href=\"#m207602a23e\" y=\"161.808876\"/>\n",
       "     <use style=\"fill:#1f77b4;stroke:#1f77b4;\" x=\"108.714516\" xlink:href=\"#m207602a23e\" y=\"148.798062\"/>\n",
       "     <use style=\"fill:#1f77b4;stroke:#1f77b4;\" x=\"109.019184\" xlink:href=\"#m207602a23e\" y=\"169.3731\"/>\n",
       "     <use style=\"fill:#1f77b4;stroke:#1f77b4;\" x=\"109.323852\" xlink:href=\"#m207602a23e\" y=\"186.762632\"/>\n",
       "     <use style=\"fill:#1f77b4;stroke:#1f77b4;\" x=\"109.62852\" xlink:href=\"#m207602a23e\" y=\"155.18521\"/>\n",
       "     <use style=\"fill:#1f77b4;stroke:#1f77b4;\" x=\"109.933189\" xlink:href=\"#m207602a23e\" y=\"158.793046\"/>\n",
       "     <use style=\"fill:#1f77b4;stroke:#1f77b4;\" x=\"110.237857\" xlink:href=\"#m207602a23e\" y=\"173.465239\"/>\n",
       "     <use style=\"fill:#1f77b4;stroke:#1f77b4;\" x=\"110.542525\" xlink:href=\"#m207602a23e\" y=\"165.982542\"/>\n",
       "     <use style=\"fill:#1f77b4;stroke:#1f77b4;\" x=\"110.847194\" xlink:href=\"#m207602a23e\" y=\"177.237485\"/>\n",
       "     <use style=\"fill:#1f77b4;stroke:#1f77b4;\" x=\"111.151862\" xlink:href=\"#m207602a23e\" y=\"154.447299\"/>\n",
       "     <use style=\"fill:#1f77b4;stroke:#1f77b4;\" x=\"111.45653\" xlink:href=\"#m207602a23e\" y=\"147.349738\"/>\n",
       "     <use style=\"fill:#1f77b4;stroke:#1f77b4;\" x=\"111.761199\" xlink:href=\"#m207602a23e\" y=\"150.548251\"/>\n",
       "     <use style=\"fill:#1f77b4;stroke:#1f77b4;\" x=\"112.065867\" xlink:href=\"#m207602a23e\" y=\"151.516644\"/>\n",
       "     <use style=\"fill:#1f77b4;stroke:#1f77b4;\" x=\"112.370535\" xlink:href=\"#m207602a23e\" y=\"149.600832\"/>\n",
       "     <use style=\"fill:#1f77b4;stroke:#1f77b4;\" x=\"112.675203\" xlink:href=\"#m207602a23e\" y=\"157.12361\"/>\n",
       "     <use style=\"fill:#1f77b4;stroke:#1f77b4;\" x=\"112.979872\" xlink:href=\"#m207602a23e\" y=\"177.709029\"/>\n",
       "     <use style=\"fill:#1f77b4;stroke:#1f77b4;\" x=\"113.28454\" xlink:href=\"#m207602a23e\" y=\"176.993189\"/>\n",
       "     <use style=\"fill:#1f77b4;stroke:#1f77b4;\" x=\"113.589208\" xlink:href=\"#m207602a23e\" y=\"175.686004\"/>\n",
       "     <use style=\"fill:#1f77b4;stroke:#1f77b4;\" x=\"113.893877\" xlink:href=\"#m207602a23e\" y=\"157.487644\"/>\n",
       "     <use style=\"fill:#1f77b4;stroke:#1f77b4;\" x=\"114.198545\" xlink:href=\"#m207602a23e\" y=\"169.466107\"/>\n",
       "     <use style=\"fill:#1f77b4;stroke:#1f77b4;\" x=\"114.503213\" xlink:href=\"#m207602a23e\" y=\"145.901729\"/>\n",
       "     <use style=\"fill:#1f77b4;stroke:#1f77b4;\" x=\"114.807882\" xlink:href=\"#m207602a23e\" y=\"163.946518\"/>\n",
       "     <use style=\"fill:#1f77b4;stroke:#1f77b4;\" x=\"115.11255\" xlink:href=\"#m207602a23e\" y=\"162.77524\"/>\n",
       "     <use style=\"fill:#1f77b4;stroke:#1f77b4;\" x=\"115.417218\" xlink:href=\"#m207602a23e\" y=\"122.360267\"/>\n",
       "     <use style=\"fill:#1f77b4;stroke:#1f77b4;\" x=\"115.721887\" xlink:href=\"#m207602a23e\" y=\"135.131256\"/>\n",
       "     <use style=\"fill:#1f77b4;stroke:#1f77b4;\" x=\"116.026555\" xlink:href=\"#m207602a23e\" y=\"156.657751\"/>\n",
       "     <use style=\"fill:#1f77b4;stroke:#1f77b4;\" x=\"116.331223\" xlink:href=\"#m207602a23e\" y=\"152.884656\"/>\n",
       "     <use style=\"fill:#1f77b4;stroke:#1f77b4;\" x=\"116.635891\" xlink:href=\"#m207602a23e\" y=\"137.700462\"/>\n",
       "     <use style=\"fill:#1f77b4;stroke:#1f77b4;\" x=\"116.94056\" xlink:href=\"#m207602a23e\" y=\"147.984235\"/>\n",
       "     <use style=\"fill:#1f77b4;stroke:#1f77b4;\" x=\"117.245228\" xlink:href=\"#m207602a23e\" y=\"146.407406\"/>\n",
       "     <use style=\"fill:#1f77b4;stroke:#1f77b4;\" x=\"117.549896\" xlink:href=\"#m207602a23e\" y=\"133.693811\"/>\n",
       "     <use style=\"fill:#1f77b4;stroke:#1f77b4;\" x=\"117.854565\" xlink:href=\"#m207602a23e\" y=\"154.437\"/>\n",
       "     <use style=\"fill:#1f77b4;stroke:#1f77b4;\" x=\"118.159233\" xlink:href=\"#m207602a23e\" y=\"152.701729\"/>\n",
       "     <use style=\"fill:#1f77b4;stroke:#1f77b4;\" x=\"118.463901\" xlink:href=\"#m207602a23e\" y=\"168.173607\"/>\n",
       "     <use style=\"fill:#1f77b4;stroke:#1f77b4;\" x=\"118.76857\" xlink:href=\"#m207602a23e\" y=\"177.502354\"/>\n",
       "     <use style=\"fill:#1f77b4;stroke:#1f77b4;\" x=\"119.073238\" xlink:href=\"#m207602a23e\" y=\"166.44453\"/>\n",
       "     <use style=\"fill:#1f77b4;stroke:#1f77b4;\" x=\"119.377906\" xlink:href=\"#m207602a23e\" y=\"167.705306\"/>\n",
       "     <use style=\"fill:#1f77b4;stroke:#1f77b4;\" x=\"119.682574\" xlink:href=\"#m207602a23e\" y=\"153.18583\"/>\n",
       "     <use style=\"fill:#1f77b4;stroke:#1f77b4;\" x=\"119.987243\" xlink:href=\"#m207602a23e\" y=\"178.426964\"/>\n",
       "     <use style=\"fill:#1f77b4;stroke:#1f77b4;\" x=\"120.291911\" xlink:href=\"#m207602a23e\" y=\"183.276818\"/>\n",
       "     <use style=\"fill:#1f77b4;stroke:#1f77b4;\" x=\"120.596579\" xlink:href=\"#m207602a23e\" y=\"174.677503\"/>\n",
       "     <use style=\"fill:#1f77b4;stroke:#1f77b4;\" x=\"120.901248\" xlink:href=\"#m207602a23e\" y=\"137.91644\"/>\n",
       "     <use style=\"fill:#1f77b4;stroke:#1f77b4;\" x=\"121.205916\" xlink:href=\"#m207602a23e\" y=\"164.821952\"/>\n",
       "     <use style=\"fill:#1f77b4;stroke:#1f77b4;\" x=\"121.510584\" xlink:href=\"#m207602a23e\" y=\"139.620432\"/>\n",
       "     <use style=\"fill:#1f77b4;stroke:#1f77b4;\" x=\"121.815253\" xlink:href=\"#m207602a23e\" y=\"172.393484\"/>\n",
       "     <use style=\"fill:#1f77b4;stroke:#1f77b4;\" x=\"122.119921\" xlink:href=\"#m207602a23e\" y=\"128.63978\"/>\n",
       "     <use style=\"fill:#1f77b4;stroke:#1f77b4;\" x=\"122.424589\" xlink:href=\"#m207602a23e\" y=\"141.646693\"/>\n",
       "     <use style=\"fill:#1f77b4;stroke:#1f77b4;\" x=\"122.729258\" xlink:href=\"#m207602a23e\" y=\"156.299006\"/>\n",
       "     <use style=\"fill:#1f77b4;stroke:#1f77b4;\" x=\"123.033926\" xlink:href=\"#m207602a23e\" y=\"152.983809\"/>\n",
       "     <use style=\"fill:#1f77b4;stroke:#1f77b4;\" x=\"123.338594\" xlink:href=\"#m207602a23e\" y=\"165.711124\"/>\n",
       "     <use style=\"fill:#1f77b4;stroke:#1f77b4;\" x=\"123.643262\" xlink:href=\"#m207602a23e\" y=\"170.710053\"/>\n",
       "     <use style=\"fill:#1f77b4;stroke:#1f77b4;\" x=\"123.947931\" xlink:href=\"#m207602a23e\" y=\"136.811841\"/>\n",
       "     <use style=\"fill:#1f77b4;stroke:#1f77b4;\" x=\"124.252599\" xlink:href=\"#m207602a23e\" y=\"147.399918\"/>\n",
       "     <use style=\"fill:#1f77b4;stroke:#1f77b4;\" x=\"124.557267\" xlink:href=\"#m207602a23e\" y=\"161.820057\"/>\n",
       "     <use style=\"fill:#1f77b4;stroke:#1f77b4;\" x=\"124.861936\" xlink:href=\"#m207602a23e\" y=\"151.667105\"/>\n",
       "     <use style=\"fill:#1f77b4;stroke:#1f77b4;\" x=\"125.166604\" xlink:href=\"#m207602a23e\" y=\"183.4414\"/>\n",
       "     <use style=\"fill:#1f77b4;stroke:#1f77b4;\" x=\"125.471272\" xlink:href=\"#m207602a23e\" y=\"132.976295\"/>\n",
       "     <use style=\"fill:#1f77b4;stroke:#1f77b4;\" x=\"125.775941\" xlink:href=\"#m207602a23e\" y=\"127.780644\"/>\n",
       "     <use style=\"fill:#1f77b4;stroke:#1f77b4;\" x=\"126.080609\" xlink:href=\"#m207602a23e\" y=\"130.640519\"/>\n",
       "     <use style=\"fill:#1f77b4;stroke:#1f77b4;\" x=\"126.385277\" xlink:href=\"#m207602a23e\" y=\"153.885786\"/>\n",
       "     <use style=\"fill:#1f77b4;stroke:#1f77b4;\" x=\"126.689945\" xlink:href=\"#m207602a23e\" y=\"145.193215\"/>\n",
       "     <use style=\"fill:#1f77b4;stroke:#1f77b4;\" x=\"126.994614\" xlink:href=\"#m207602a23e\" y=\"141.343927\"/>\n",
       "     <use style=\"fill:#1f77b4;stroke:#1f77b4;\" x=\"127.299282\" xlink:href=\"#m207602a23e\" y=\"159.738892\"/>\n",
       "     <use style=\"fill:#1f77b4;stroke:#1f77b4;\" x=\"127.60395\" xlink:href=\"#m207602a23e\" y=\"137.40955\"/>\n",
       "     <use style=\"fill:#1f77b4;stroke:#1f77b4;\" x=\"127.908619\" xlink:href=\"#m207602a23e\" y=\"171.456529\"/>\n",
       "     <use style=\"fill:#1f77b4;stroke:#1f77b4;\" x=\"128.213287\" xlink:href=\"#m207602a23e\" y=\"154.078717\"/>\n",
       "     <use style=\"fill:#1f77b4;stroke:#1f77b4;\" x=\"128.517955\" xlink:href=\"#m207602a23e\" y=\"121.837684\"/>\n",
       "     <use style=\"fill:#1f77b4;stroke:#1f77b4;\" x=\"128.822624\" xlink:href=\"#m207602a23e\" y=\"124.651007\"/>\n",
       "     <use style=\"fill:#1f77b4;stroke:#1f77b4;\" x=\"129.127292\" xlink:href=\"#m207602a23e\" y=\"152.778847\"/>\n",
       "     <use style=\"fill:#1f77b4;stroke:#1f77b4;\" x=\"129.43196\" xlink:href=\"#m207602a23e\" y=\"188.263794\"/>\n",
       "     <use style=\"fill:#1f77b4;stroke:#1f77b4;\" x=\"129.736629\" xlink:href=\"#m207602a23e\" y=\"146.250523\"/>\n",
       "     <use style=\"fill:#1f77b4;stroke:#1f77b4;\" x=\"130.041297\" xlink:href=\"#m207602a23e\" y=\"138.819279\"/>\n",
       "     <use style=\"fill:#1f77b4;stroke:#1f77b4;\" x=\"130.345965\" xlink:href=\"#m207602a23e\" y=\"193.581849\"/>\n",
       "     <use style=\"fill:#1f77b4;stroke:#1f77b4;\" x=\"130.650633\" xlink:href=\"#m207602a23e\" y=\"165.810134\"/>\n",
       "     <use style=\"fill:#1f77b4;stroke:#1f77b4;\" x=\"130.955302\" xlink:href=\"#m207602a23e\" y=\"155.526637\"/>\n",
       "     <use style=\"fill:#1f77b4;stroke:#1f77b4;\" x=\"131.25997\" xlink:href=\"#m207602a23e\" y=\"139.60658\"/>\n",
       "     <use style=\"fill:#1f77b4;stroke:#1f77b4;\" x=\"131.564638\" xlink:href=\"#m207602a23e\" y=\"148.145983\"/>\n",
       "     <use style=\"fill:#1f77b4;stroke:#1f77b4;\" x=\"131.869307\" xlink:href=\"#m207602a23e\" y=\"123.812231\"/>\n",
       "     <use style=\"fill:#1f77b4;stroke:#1f77b4;\" x=\"132.173975\" xlink:href=\"#m207602a23e\" y=\"173.197634\"/>\n",
       "     <use style=\"fill:#1f77b4;stroke:#1f77b4;\" x=\"132.478643\" xlink:href=\"#m207602a23e\" y=\"154.191235\"/>\n",
       "     <use style=\"fill:#1f77b4;stroke:#1f77b4;\" x=\"132.783312\" xlink:href=\"#m207602a23e\" y=\"141.433178\"/>\n",
       "     <use style=\"fill:#1f77b4;stroke:#1f77b4;\" x=\"133.08798\" xlink:href=\"#m207602a23e\" y=\"137.848297\"/>\n",
       "     <use style=\"fill:#1f77b4;stroke:#1f77b4;\" x=\"133.392648\" xlink:href=\"#m207602a23e\" y=\"156.409935\"/>\n",
       "     <use style=\"fill:#1f77b4;stroke:#1f77b4;\" x=\"133.697316\" xlink:href=\"#m207602a23e\" y=\"172.985785\"/>\n",
       "     <use style=\"fill:#1f77b4;stroke:#1f77b4;\" x=\"134.001985\" xlink:href=\"#m207602a23e\" y=\"171.788663\"/>\n",
       "     <use style=\"fill:#1f77b4;stroke:#1f77b4;\" x=\"134.306653\" xlink:href=\"#m207602a23e\" y=\"152.221904\"/>\n",
       "     <use style=\"fill:#1f77b4;stroke:#1f77b4;\" x=\"134.611321\" xlink:href=\"#m207602a23e\" y=\"176.609028\"/>\n",
       "     <use style=\"fill:#1f77b4;stroke:#1f77b4;\" x=\"134.91599\" xlink:href=\"#m207602a23e\" y=\"174.969367\"/>\n",
       "     <use style=\"fill:#1f77b4;stroke:#1f77b4;\" x=\"135.220658\" xlink:href=\"#m207602a23e\" y=\"141.95132\"/>\n",
       "     <use style=\"fill:#1f77b4;stroke:#1f77b4;\" x=\"135.525326\" xlink:href=\"#m207602a23e\" y=\"163.283537\"/>\n",
       "     <use style=\"fill:#1f77b4;stroke:#1f77b4;\" x=\"135.829995\" xlink:href=\"#m207602a23e\" y=\"154.863617\"/>\n",
       "     <use style=\"fill:#1f77b4;stroke:#1f77b4;\" x=\"136.134663\" xlink:href=\"#m207602a23e\" y=\"163.168873\"/>\n",
       "     <use style=\"fill:#1f77b4;stroke:#1f77b4;\" x=\"136.439331\" xlink:href=\"#m207602a23e\" y=\"137.633245\"/>\n",
       "     <use style=\"fill:#1f77b4;stroke:#1f77b4;\" x=\"136.744\" xlink:href=\"#m207602a23e\" y=\"145.360748\"/>\n",
       "     <use style=\"fill:#1f77b4;stroke:#1f77b4;\" x=\"137.048668\" xlink:href=\"#m207602a23e\" y=\"151.415872\"/>\n",
       "     <use style=\"fill:#1f77b4;stroke:#1f77b4;\" x=\"137.353336\" xlink:href=\"#m207602a23e\" y=\"151.175666\"/>\n",
       "     <use style=\"fill:#1f77b4;stroke:#1f77b4;\" x=\"137.658004\" xlink:href=\"#m207602a23e\" y=\"144.79778\"/>\n",
       "     <use style=\"fill:#1f77b4;stroke:#1f77b4;\" x=\"137.962673\" xlink:href=\"#m207602a23e\" y=\"164.522222\"/>\n",
       "     <use style=\"fill:#1f77b4;stroke:#1f77b4;\" x=\"138.267341\" xlink:href=\"#m207602a23e\" y=\"157.448572\"/>\n",
       "     <use style=\"fill:#1f77b4;stroke:#1f77b4;\" x=\"138.572009\" xlink:href=\"#m207602a23e\" y=\"155.758672\"/>\n",
       "     <use style=\"fill:#1f77b4;stroke:#1f77b4;\" x=\"138.876678\" xlink:href=\"#m207602a23e\" y=\"156.513234\"/>\n",
       "     <use style=\"fill:#1f77b4;stroke:#1f77b4;\" x=\"139.181346\" xlink:href=\"#m207602a23e\" y=\"134.376763\"/>\n",
       "     <use style=\"fill:#1f77b4;stroke:#1f77b4;\" x=\"139.486014\" xlink:href=\"#m207602a23e\" y=\"139.226007\"/>\n",
       "     <use style=\"fill:#1f77b4;stroke:#1f77b4;\" x=\"139.790683\" xlink:href=\"#m207602a23e\" y=\"169.29753\"/>\n",
       "     <use style=\"fill:#1f77b4;stroke:#1f77b4;\" x=\"140.095351\" xlink:href=\"#m207602a23e\" y=\"137.813914\"/>\n",
       "     <use style=\"fill:#1f77b4;stroke:#1f77b4;\" x=\"140.400019\" xlink:href=\"#m207602a23e\" y=\"147.694724\"/>\n",
       "     <use style=\"fill:#1f77b4;stroke:#1f77b4;\" x=\"140.704688\" xlink:href=\"#m207602a23e\" y=\"147.992206\"/>\n",
       "     <use style=\"fill:#1f77b4;stroke:#1f77b4;\" x=\"141.009356\" xlink:href=\"#m207602a23e\" y=\"157.030947\"/>\n",
       "     <use style=\"fill:#1f77b4;stroke:#1f77b4;\" x=\"141.314024\" xlink:href=\"#m207602a23e\" y=\"120.659084\"/>\n",
       "     <use style=\"fill:#1f77b4;stroke:#1f77b4;\" x=\"141.618692\" xlink:href=\"#m207602a23e\" y=\"151.329622\"/>\n",
       "     <use style=\"fill:#1f77b4;stroke:#1f77b4;\" x=\"141.923361\" xlink:href=\"#m207602a23e\" y=\"154.536423\"/>\n",
       "     <use style=\"fill:#1f77b4;stroke:#1f77b4;\" x=\"142.228029\" xlink:href=\"#m207602a23e\" y=\"130.497944\"/>\n",
       "     <use style=\"fill:#1f77b4;stroke:#1f77b4;\" x=\"142.532697\" xlink:href=\"#m207602a23e\" y=\"126.726066\"/>\n",
       "     <use style=\"fill:#1f77b4;stroke:#1f77b4;\" x=\"142.837366\" xlink:href=\"#m207602a23e\" y=\"148.761707\"/>\n",
       "     <use style=\"fill:#1f77b4;stroke:#1f77b4;\" x=\"143.142034\" xlink:href=\"#m207602a23e\" y=\"146.727072\"/>\n",
       "     <use style=\"fill:#1f77b4;stroke:#1f77b4;\" x=\"143.446702\" xlink:href=\"#m207602a23e\" y=\"165.463392\"/>\n",
       "     <use style=\"fill:#1f77b4;stroke:#1f77b4;\" x=\"143.751371\" xlink:href=\"#m207602a23e\" y=\"125.010348\"/>\n",
       "     <use style=\"fill:#1f77b4;stroke:#1f77b4;\" x=\"144.056039\" xlink:href=\"#m207602a23e\" y=\"168.042848\"/>\n",
       "     <use style=\"fill:#1f77b4;stroke:#1f77b4;\" x=\"144.360707\" xlink:href=\"#m207602a23e\" y=\"140.222244\"/>\n",
       "     <use style=\"fill:#1f77b4;stroke:#1f77b4;\" x=\"144.665375\" xlink:href=\"#m207602a23e\" y=\"148.690288\"/>\n",
       "     <use style=\"fill:#1f77b4;stroke:#1f77b4;\" x=\"144.970044\" xlink:href=\"#m207602a23e\" y=\"142.784509\"/>\n",
       "     <use style=\"fill:#1f77b4;stroke:#1f77b4;\" x=\"145.274712\" xlink:href=\"#m207602a23e\" y=\"157.311037\"/>\n",
       "     <use style=\"fill:#1f77b4;stroke:#1f77b4;\" x=\"145.57938\" xlink:href=\"#m207602a23e\" y=\"131.763786\"/>\n",
       "     <use style=\"fill:#1f77b4;stroke:#1f77b4;\" x=\"145.884049\" xlink:href=\"#m207602a23e\" y=\"121.128681\"/>\n",
       "     <use style=\"fill:#1f77b4;stroke:#1f77b4;\" x=\"146.188717\" xlink:href=\"#m207602a23e\" y=\"139.464145\"/>\n",
       "     <use style=\"fill:#1f77b4;stroke:#1f77b4;\" x=\"146.493385\" xlink:href=\"#m207602a23e\" y=\"140.561639\"/>\n",
       "     <use style=\"fill:#1f77b4;stroke:#1f77b4;\" x=\"146.798054\" xlink:href=\"#m207602a23e\" y=\"139.432446\"/>\n",
       "     <use style=\"fill:#1f77b4;stroke:#1f77b4;\" x=\"147.102722\" xlink:href=\"#m207602a23e\" y=\"147.279469\"/>\n",
       "     <use style=\"fill:#1f77b4;stroke:#1f77b4;\" x=\"147.40739\" xlink:href=\"#m207602a23e\" y=\"120.859738\"/>\n",
       "     <use style=\"fill:#1f77b4;stroke:#1f77b4;\" x=\"147.712059\" xlink:href=\"#m207602a23e\" y=\"142.212699\"/>\n",
       "     <use style=\"fill:#1f77b4;stroke:#1f77b4;\" x=\"148.016727\" xlink:href=\"#m207602a23e\" y=\"139.370448\"/>\n",
       "     <use style=\"fill:#1f77b4;stroke:#1f77b4;\" x=\"148.321395\" xlink:href=\"#m207602a23e\" y=\"134.49943\"/>\n",
       "     <use style=\"fill:#1f77b4;stroke:#1f77b4;\" x=\"148.626063\" xlink:href=\"#m207602a23e\" y=\"144.877143\"/>\n",
       "     <use style=\"fill:#1f77b4;stroke:#1f77b4;\" x=\"148.930732\" xlink:href=\"#m207602a23e\" y=\"150.004372\"/>\n",
       "     <use style=\"fill:#1f77b4;stroke:#1f77b4;\" x=\"149.2354\" xlink:href=\"#m207602a23e\" y=\"142.54332\"/>\n",
       "     <use style=\"fill:#1f77b4;stroke:#1f77b4;\" x=\"149.540068\" xlink:href=\"#m207602a23e\" y=\"136.148469\"/>\n",
       "     <use style=\"fill:#1f77b4;stroke:#1f77b4;\" x=\"149.844737\" xlink:href=\"#m207602a23e\" y=\"148.468202\"/>\n",
       "     <use style=\"fill:#1f77b4;stroke:#1f77b4;\" x=\"150.149405\" xlink:href=\"#m207602a23e\" y=\"140.320469\"/>\n",
       "     <use style=\"fill:#1f77b4;stroke:#1f77b4;\" x=\"150.454073\" xlink:href=\"#m207602a23e\" y=\"141.585647\"/>\n",
       "     <use style=\"fill:#1f77b4;stroke:#1f77b4;\" x=\"150.758742\" xlink:href=\"#m207602a23e\" y=\"144.740722\"/>\n",
       "     <use style=\"fill:#1f77b4;stroke:#1f77b4;\" x=\"151.06341\" xlink:href=\"#m207602a23e\" y=\"148.161258\"/>\n",
       "     <use style=\"fill:#1f77b4;stroke:#1f77b4;\" x=\"151.368078\" xlink:href=\"#m207602a23e\" y=\"127.687016\"/>\n",
       "     <use style=\"fill:#1f77b4;stroke:#1f77b4;\" x=\"151.672746\" xlink:href=\"#m207602a23e\" y=\"132.832906\"/>\n",
       "     <use style=\"fill:#1f77b4;stroke:#1f77b4;\" x=\"151.977415\" xlink:href=\"#m207602a23e\" y=\"125.227529\"/>\n",
       "     <use style=\"fill:#1f77b4;stroke:#1f77b4;\" x=\"152.282083\" xlink:href=\"#m207602a23e\" y=\"171.167877\"/>\n",
       "     <use style=\"fill:#1f77b4;stroke:#1f77b4;\" x=\"152.586751\" xlink:href=\"#m207602a23e\" y=\"114.7398\"/>\n",
       "     <use style=\"fill:#1f77b4;stroke:#1f77b4;\" x=\"152.89142\" xlink:href=\"#m207602a23e\" y=\"139.730249\"/>\n",
       "     <use style=\"fill:#1f77b4;stroke:#1f77b4;\" x=\"153.196088\" xlink:href=\"#m207602a23e\" y=\"117.136893\"/>\n",
       "     <use style=\"fill:#1f77b4;stroke:#1f77b4;\" x=\"153.500756\" xlink:href=\"#m207602a23e\" y=\"153.875885\"/>\n",
       "     <use style=\"fill:#1f77b4;stroke:#1f77b4;\" x=\"153.805425\" xlink:href=\"#m207602a23e\" y=\"141.967401\"/>\n",
       "     <use style=\"fill:#1f77b4;stroke:#1f77b4;\" x=\"154.110093\" xlink:href=\"#m207602a23e\" y=\"158.298451\"/>\n",
       "     <use style=\"fill:#1f77b4;stroke:#1f77b4;\" x=\"154.414761\" xlink:href=\"#m207602a23e\" y=\"162.292406\"/>\n",
       "     <use style=\"fill:#1f77b4;stroke:#1f77b4;\" x=\"154.71943\" xlink:href=\"#m207602a23e\" y=\"138.304239\"/>\n",
       "     <use style=\"fill:#1f77b4;stroke:#1f77b4;\" x=\"155.024098\" xlink:href=\"#m207602a23e\" y=\"160.069875\"/>\n",
       "     <use style=\"fill:#1f77b4;stroke:#1f77b4;\" x=\"155.328766\" xlink:href=\"#m207602a23e\" y=\"144.455038\"/>\n",
       "     <use style=\"fill:#1f77b4;stroke:#1f77b4;\" x=\"155.633434\" xlink:href=\"#m207602a23e\" y=\"135.505093\"/>\n",
       "     <use style=\"fill:#1f77b4;stroke:#1f77b4;\" x=\"155.938103\" xlink:href=\"#m207602a23e\" y=\"125.089163\"/>\n",
       "     <use style=\"fill:#1f77b4;stroke:#1f77b4;\" x=\"156.242771\" xlink:href=\"#m207602a23e\" y=\"135.589862\"/>\n",
       "     <use style=\"fill:#1f77b4;stroke:#1f77b4;\" x=\"156.547439\" xlink:href=\"#m207602a23e\" y=\"152.103626\"/>\n",
       "     <use style=\"fill:#1f77b4;stroke:#1f77b4;\" x=\"156.852108\" xlink:href=\"#m207602a23e\" y=\"141.458105\"/>\n",
       "     <use style=\"fill:#1f77b4;stroke:#1f77b4;\" x=\"157.156776\" xlink:href=\"#m207602a23e\" y=\"97.05265\"/>\n",
       "     <use style=\"fill:#1f77b4;stroke:#1f77b4;\" x=\"157.461444\" xlink:href=\"#m207602a23e\" y=\"130.250096\"/>\n",
       "     <use style=\"fill:#1f77b4;stroke:#1f77b4;\" x=\"157.766113\" xlink:href=\"#m207602a23e\" y=\"159.41848\"/>\n",
       "     <use style=\"fill:#1f77b4;stroke:#1f77b4;\" x=\"158.070781\" xlink:href=\"#m207602a23e\" y=\"130.981567\"/>\n",
       "     <use style=\"fill:#1f77b4;stroke:#1f77b4;\" x=\"158.375449\" xlink:href=\"#m207602a23e\" y=\"143.129382\"/>\n",
       "     <use style=\"fill:#1f77b4;stroke:#1f77b4;\" x=\"158.680117\" xlink:href=\"#m207602a23e\" y=\"130.095235\"/>\n",
       "     <use style=\"fill:#1f77b4;stroke:#1f77b4;\" x=\"158.984786\" xlink:href=\"#m207602a23e\" y=\"125.273515\"/>\n",
       "     <use style=\"fill:#1f77b4;stroke:#1f77b4;\" x=\"159.289454\" xlink:href=\"#m207602a23e\" y=\"139.819909\"/>\n",
       "     <use style=\"fill:#1f77b4;stroke:#1f77b4;\" x=\"159.594122\" xlink:href=\"#m207602a23e\" y=\"164.666672\"/>\n",
       "     <use style=\"fill:#1f77b4;stroke:#1f77b4;\" x=\"159.898791\" xlink:href=\"#m207602a23e\" y=\"128.347998\"/>\n",
       "     <use style=\"fill:#1f77b4;stroke:#1f77b4;\" x=\"160.203459\" xlink:href=\"#m207602a23e\" y=\"144.358045\"/>\n",
       "     <use style=\"fill:#1f77b4;stroke:#1f77b4;\" x=\"160.508127\" xlink:href=\"#m207602a23e\" y=\"131.456883\"/>\n",
       "     <use style=\"fill:#1f77b4;stroke:#1f77b4;\" x=\"160.812796\" xlink:href=\"#m207602a23e\" y=\"134.565563\"/>\n",
       "     <use style=\"fill:#1f77b4;stroke:#1f77b4;\" x=\"161.117464\" xlink:href=\"#m207602a23e\" y=\"130.477094\"/>\n",
       "     <use style=\"fill:#1f77b4;stroke:#1f77b4;\" x=\"161.422132\" xlink:href=\"#m207602a23e\" y=\"112.291154\"/>\n",
       "     <use style=\"fill:#1f77b4;stroke:#1f77b4;\" x=\"161.726801\" xlink:href=\"#m207602a23e\" y=\"122.632978\"/>\n",
       "     <use style=\"fill:#1f77b4;stroke:#1f77b4;\" x=\"162.031469\" xlink:href=\"#m207602a23e\" y=\"125.064181\"/>\n",
       "     <use style=\"fill:#1f77b4;stroke:#1f77b4;\" x=\"162.336137\" xlink:href=\"#m207602a23e\" y=\"149.331369\"/>\n",
       "     <use style=\"fill:#1f77b4;stroke:#1f77b4;\" x=\"162.640805\" xlink:href=\"#m207602a23e\" y=\"131.0233\"/>\n",
       "     <use style=\"fill:#1f77b4;stroke:#1f77b4;\" x=\"162.945474\" xlink:href=\"#m207602a23e\" y=\"138.688803\"/>\n",
       "     <use style=\"fill:#1f77b4;stroke:#1f77b4;\" x=\"163.250142\" xlink:href=\"#m207602a23e\" y=\"120.807714\"/>\n",
       "     <use style=\"fill:#1f77b4;stroke:#1f77b4;\" x=\"163.55481\" xlink:href=\"#m207602a23e\" y=\"109.892798\"/>\n",
       "     <use style=\"fill:#1f77b4;stroke:#1f77b4;\" x=\"163.859479\" xlink:href=\"#m207602a23e\" y=\"134.35844\"/>\n",
       "     <use style=\"fill:#1f77b4;stroke:#1f77b4;\" x=\"164.164147\" xlink:href=\"#m207602a23e\" y=\"137.542551\"/>\n",
       "     <use style=\"fill:#1f77b4;stroke:#1f77b4;\" x=\"164.468815\" xlink:href=\"#m207602a23e\" y=\"134.677203\"/>\n",
       "     <use style=\"fill:#1f77b4;stroke:#1f77b4;\" x=\"164.773484\" xlink:href=\"#m207602a23e\" y=\"107.107877\"/>\n",
       "     <use style=\"fill:#1f77b4;stroke:#1f77b4;\" x=\"165.078152\" xlink:href=\"#m207602a23e\" y=\"149.380826\"/>\n",
       "     <use style=\"fill:#1f77b4;stroke:#1f77b4;\" x=\"165.38282\" xlink:href=\"#m207602a23e\" y=\"114.898734\"/>\n",
       "     <use style=\"fill:#1f77b4;stroke:#1f77b4;\" x=\"165.687488\" xlink:href=\"#m207602a23e\" y=\"145.393547\"/>\n",
       "     <use style=\"fill:#1f77b4;stroke:#1f77b4;\" x=\"165.992157\" xlink:href=\"#m207602a23e\" y=\"136.845981\"/>\n",
       "     <use style=\"fill:#1f77b4;stroke:#1f77b4;\" x=\"166.296825\" xlink:href=\"#m207602a23e\" y=\"126.267121\"/>\n",
       "     <use style=\"fill:#1f77b4;stroke:#1f77b4;\" x=\"166.601493\" xlink:href=\"#m207602a23e\" y=\"159.418413\"/>\n",
       "     <use style=\"fill:#1f77b4;stroke:#1f77b4;\" x=\"166.906162\" xlink:href=\"#m207602a23e\" y=\"148.948013\"/>\n",
       "     <use style=\"fill:#1f77b4;stroke:#1f77b4;\" x=\"167.21083\" xlink:href=\"#m207602a23e\" y=\"107.503864\"/>\n",
       "     <use style=\"fill:#1f77b4;stroke:#1f77b4;\" x=\"167.515498\" xlink:href=\"#m207602a23e\" y=\"114.315435\"/>\n",
       "     <use style=\"fill:#1f77b4;stroke:#1f77b4;\" x=\"167.820167\" xlink:href=\"#m207602a23e\" y=\"124.376663\"/>\n",
       "     <use style=\"fill:#1f77b4;stroke:#1f77b4;\" x=\"168.124835\" xlink:href=\"#m207602a23e\" y=\"125.004537\"/>\n",
       "     <use style=\"fill:#1f77b4;stroke:#1f77b4;\" x=\"168.429503\" xlink:href=\"#m207602a23e\" y=\"142.162443\"/>\n",
       "     <use style=\"fill:#1f77b4;stroke:#1f77b4;\" x=\"168.734172\" xlink:href=\"#m207602a23e\" y=\"121.736565\"/>\n",
       "     <use style=\"fill:#1f77b4;stroke:#1f77b4;\" x=\"169.03884\" xlink:href=\"#m207602a23e\" y=\"115.377306\"/>\n",
       "     <use style=\"fill:#1f77b4;stroke:#1f77b4;\" x=\"169.343508\" xlink:href=\"#m207602a23e\" y=\"135.174866\"/>\n",
       "     <use style=\"fill:#1f77b4;stroke:#1f77b4;\" x=\"169.648176\" xlink:href=\"#m207602a23e\" y=\"107.962808\"/>\n",
       "     <use style=\"fill:#1f77b4;stroke:#1f77b4;\" x=\"169.952845\" xlink:href=\"#m207602a23e\" y=\"127.637433\"/>\n",
       "     <use style=\"fill:#1f77b4;stroke:#1f77b4;\" x=\"170.257513\" xlink:href=\"#m207602a23e\" y=\"128.880552\"/>\n",
       "     <use style=\"fill:#1f77b4;stroke:#1f77b4;\" x=\"170.562181\" xlink:href=\"#m207602a23e\" y=\"131.761466\"/>\n",
       "     <use style=\"fill:#1f77b4;stroke:#1f77b4;\" x=\"170.86685\" xlink:href=\"#m207602a23e\" y=\"138.518374\"/>\n",
       "     <use style=\"fill:#1f77b4;stroke:#1f77b4;\" x=\"171.171518\" xlink:href=\"#m207602a23e\" y=\"121.017942\"/>\n",
       "     <use style=\"fill:#1f77b4;stroke:#1f77b4;\" x=\"171.476186\" xlink:href=\"#m207602a23e\" y=\"111.371534\"/>\n",
       "     <use style=\"fill:#1f77b4;stroke:#1f77b4;\" x=\"171.780855\" xlink:href=\"#m207602a23e\" y=\"132.406329\"/>\n",
       "     <use style=\"fill:#1f77b4;stroke:#1f77b4;\" x=\"172.085523\" xlink:href=\"#m207602a23e\" y=\"126.870947\"/>\n",
       "     <use style=\"fill:#1f77b4;stroke:#1f77b4;\" x=\"172.390191\" xlink:href=\"#m207602a23e\" y=\"132.882339\"/>\n",
       "     <use style=\"fill:#1f77b4;stroke:#1f77b4;\" x=\"172.694859\" xlink:href=\"#m207602a23e\" y=\"147.03089\"/>\n",
       "     <use style=\"fill:#1f77b4;stroke:#1f77b4;\" x=\"172.999528\" xlink:href=\"#m207602a23e\" y=\"137.90592\"/>\n",
       "     <use style=\"fill:#1f77b4;stroke:#1f77b4;\" x=\"173.304196\" xlink:href=\"#m207602a23e\" y=\"131.424891\"/>\n",
       "     <use style=\"fill:#1f77b4;stroke:#1f77b4;\" x=\"173.608864\" xlink:href=\"#m207602a23e\" y=\"146.966061\"/>\n",
       "     <use style=\"fill:#1f77b4;stroke:#1f77b4;\" x=\"173.913533\" xlink:href=\"#m207602a23e\" y=\"118.003373\"/>\n",
       "     <use style=\"fill:#1f77b4;stroke:#1f77b4;\" x=\"174.218201\" xlink:href=\"#m207602a23e\" y=\"130.01771\"/>\n",
       "     <use style=\"fill:#1f77b4;stroke:#1f77b4;\" x=\"174.522869\" xlink:href=\"#m207602a23e\" y=\"143.353692\"/>\n",
       "     <use style=\"fill:#1f77b4;stroke:#1f77b4;\" x=\"174.827538\" xlink:href=\"#m207602a23e\" y=\"145.897476\"/>\n",
       "     <use style=\"fill:#1f77b4;stroke:#1f77b4;\" x=\"175.132206\" xlink:href=\"#m207602a23e\" y=\"143.000122\"/>\n",
       "     <use style=\"fill:#1f77b4;stroke:#1f77b4;\" x=\"175.436874\" xlink:href=\"#m207602a23e\" y=\"143.590232\"/>\n",
       "     <use style=\"fill:#1f77b4;stroke:#1f77b4;\" x=\"175.741543\" xlink:href=\"#m207602a23e\" y=\"118.879399\"/>\n",
       "     <use style=\"fill:#1f77b4;stroke:#1f77b4;\" x=\"176.046211\" xlink:href=\"#m207602a23e\" y=\"111.090076\"/>\n",
       "     <use style=\"fill:#1f77b4;stroke:#1f77b4;\" x=\"176.350879\" xlink:href=\"#m207602a23e\" y=\"116.979594\"/>\n",
       "     <use style=\"fill:#1f77b4;stroke:#1f77b4;\" x=\"176.655547\" xlink:href=\"#m207602a23e\" y=\"103.627009\"/>\n",
       "     <use style=\"fill:#1f77b4;stroke:#1f77b4;\" x=\"176.960216\" xlink:href=\"#m207602a23e\" y=\"162.948191\"/>\n",
       "     <use style=\"fill:#1f77b4;stroke:#1f77b4;\" x=\"177.264884\" xlink:href=\"#m207602a23e\" y=\"121.000403\"/>\n",
       "     <use style=\"fill:#1f77b4;stroke:#1f77b4;\" x=\"177.569552\" xlink:href=\"#m207602a23e\" y=\"140.388409\"/>\n",
       "     <use style=\"fill:#1f77b4;stroke:#1f77b4;\" x=\"177.874221\" xlink:href=\"#m207602a23e\" y=\"138.921289\"/>\n",
       "     <use style=\"fill:#1f77b4;stroke:#1f77b4;\" x=\"178.178889\" xlink:href=\"#m207602a23e\" y=\"130.834306\"/>\n",
       "     <use style=\"fill:#1f77b4;stroke:#1f77b4;\" x=\"178.483557\" xlink:href=\"#m207602a23e\" y=\"132.041108\"/>\n",
       "     <use style=\"fill:#1f77b4;stroke:#1f77b4;\" x=\"178.788226\" xlink:href=\"#m207602a23e\" y=\"139.784489\"/>\n",
       "     <use style=\"fill:#1f77b4;stroke:#1f77b4;\" x=\"179.092894\" xlink:href=\"#m207602a23e\" y=\"123.998883\"/>\n",
       "     <use style=\"fill:#1f77b4;stroke:#1f77b4;\" x=\"179.397562\" xlink:href=\"#m207602a23e\" y=\"137.796453\"/>\n",
       "     <use style=\"fill:#1f77b4;stroke:#1f77b4;\" x=\"179.70223\" xlink:href=\"#m207602a23e\" y=\"135.433613\"/>\n",
       "     <use style=\"fill:#1f77b4;stroke:#1f77b4;\" x=\"180.006899\" xlink:href=\"#m207602a23e\" y=\"123.243245\"/>\n",
       "     <use style=\"fill:#1f77b4;stroke:#1f77b4;\" x=\"180.311567\" xlink:href=\"#m207602a23e\" y=\"121.865051\"/>\n",
       "     <use style=\"fill:#1f77b4;stroke:#1f77b4;\" x=\"180.616235\" xlink:href=\"#m207602a23e\" y=\"171.946342\"/>\n",
       "     <use style=\"fill:#1f77b4;stroke:#1f77b4;\" x=\"180.920904\" xlink:href=\"#m207602a23e\" y=\"123.970666\"/>\n",
       "     <use style=\"fill:#1f77b4;stroke:#1f77b4;\" x=\"181.225572\" xlink:href=\"#m207602a23e\" y=\"122.924057\"/>\n",
       "     <use style=\"fill:#1f77b4;stroke:#1f77b4;\" x=\"181.53024\" xlink:href=\"#m207602a23e\" y=\"115.772724\"/>\n",
       "     <use style=\"fill:#1f77b4;stroke:#1f77b4;\" x=\"181.834909\" xlink:href=\"#m207602a23e\" y=\"130.604687\"/>\n",
       "     <use style=\"fill:#1f77b4;stroke:#1f77b4;\" x=\"182.139577\" xlink:href=\"#m207602a23e\" y=\"120.487602\"/>\n",
       "     <use style=\"fill:#1f77b4;stroke:#1f77b4;\" x=\"182.444245\" xlink:href=\"#m207602a23e\" y=\"112.884672\"/>\n",
       "     <use style=\"fill:#1f77b4;stroke:#1f77b4;\" x=\"182.748914\" xlink:href=\"#m207602a23e\" y=\"130.867504\"/>\n",
       "     <use style=\"fill:#1f77b4;stroke:#1f77b4;\" x=\"183.053582\" xlink:href=\"#m207602a23e\" y=\"142.38278\"/>\n",
       "     <use style=\"fill:#1f77b4;stroke:#1f77b4;\" x=\"183.35825\" xlink:href=\"#m207602a23e\" y=\"141.204862\"/>\n",
       "     <use style=\"fill:#1f77b4;stroke:#1f77b4;\" x=\"183.662918\" xlink:href=\"#m207602a23e\" y=\"125.118581\"/>\n",
       "     <use style=\"fill:#1f77b4;stroke:#1f77b4;\" x=\"183.967587\" xlink:href=\"#m207602a23e\" y=\"133.402653\"/>\n",
       "     <use style=\"fill:#1f77b4;stroke:#1f77b4;\" x=\"184.272255\" xlink:href=\"#m207602a23e\" y=\"130.472537\"/>\n",
       "     <use style=\"fill:#1f77b4;stroke:#1f77b4;\" x=\"184.576923\" xlink:href=\"#m207602a23e\" y=\"119.727792\"/>\n",
       "     <use style=\"fill:#1f77b4;stroke:#1f77b4;\" x=\"184.881592\" xlink:href=\"#m207602a23e\" y=\"125.53068\"/>\n",
       "     <use style=\"fill:#1f77b4;stroke:#1f77b4;\" x=\"185.18626\" xlink:href=\"#m207602a23e\" y=\"122.881046\"/>\n",
       "     <use style=\"fill:#1f77b4;stroke:#1f77b4;\" x=\"185.490928\" xlink:href=\"#m207602a23e\" y=\"137.86502\"/>\n",
       "     <use style=\"fill:#1f77b4;stroke:#1f77b4;\" x=\"185.795597\" xlink:href=\"#m207602a23e\" y=\"122.024692\"/>\n",
       "     <use style=\"fill:#1f77b4;stroke:#1f77b4;\" x=\"186.100265\" xlink:href=\"#m207602a23e\" y=\"151.020913\"/>\n",
       "     <use style=\"fill:#1f77b4;stroke:#1f77b4;\" x=\"186.404933\" xlink:href=\"#m207602a23e\" y=\"134.583831\"/>\n",
       "     <use style=\"fill:#1f77b4;stroke:#1f77b4;\" x=\"186.709602\" xlink:href=\"#m207602a23e\" y=\"143.184032\"/>\n",
       "     <use style=\"fill:#1f77b4;stroke:#1f77b4;\" x=\"187.01427\" xlink:href=\"#m207602a23e\" y=\"137.206957\"/>\n",
       "     <use style=\"fill:#1f77b4;stroke:#1f77b4;\" x=\"187.318938\" xlink:href=\"#m207602a23e\" y=\"138.819192\"/>\n",
       "     <use style=\"fill:#1f77b4;stroke:#1f77b4;\" x=\"187.623606\" xlink:href=\"#m207602a23e\" y=\"115.118915\"/>\n",
       "     <use style=\"fill:#1f77b4;stroke:#1f77b4;\" x=\"187.928275\" xlink:href=\"#m207602a23e\" y=\"122.580019\"/>\n",
       "     <use style=\"fill:#1f77b4;stroke:#1f77b4;\" x=\"188.232943\" xlink:href=\"#m207602a23e\" y=\"133.324263\"/>\n",
       "     <use style=\"fill:#1f77b4;stroke:#1f77b4;\" x=\"188.537611\" xlink:href=\"#m207602a23e\" y=\"105.292931\"/>\n",
       "     <use style=\"fill:#1f77b4;stroke:#1f77b4;\" x=\"188.84228\" xlink:href=\"#m207602a23e\" y=\"103.855917\"/>\n",
       "     <use style=\"fill:#1f77b4;stroke:#1f77b4;\" x=\"189.146948\" xlink:href=\"#m207602a23e\" y=\"127.624469\"/>\n",
       "     <use style=\"fill:#1f77b4;stroke:#1f77b4;\" x=\"189.451616\" xlink:href=\"#m207602a23e\" y=\"129.834301\"/>\n",
       "     <use style=\"fill:#1f77b4;stroke:#1f77b4;\" x=\"189.756285\" xlink:href=\"#m207602a23e\" y=\"104.401099\"/>\n",
       "     <use style=\"fill:#1f77b4;stroke:#1f77b4;\" x=\"190.060953\" xlink:href=\"#m207602a23e\" y=\"103.908172\"/>\n",
       "     <use style=\"fill:#1f77b4;stroke:#1f77b4;\" x=\"190.365621\" xlink:href=\"#m207602a23e\" y=\"110.108422\"/>\n",
       "     <use style=\"fill:#1f77b4;stroke:#1f77b4;\" x=\"190.670289\" xlink:href=\"#m207602a23e\" y=\"97.898619\"/>\n",
       "     <use style=\"fill:#1f77b4;stroke:#1f77b4;\" x=\"190.974958\" xlink:href=\"#m207602a23e\" y=\"106.488571\"/>\n",
       "     <use style=\"fill:#1f77b4;stroke:#1f77b4;\" x=\"191.279626\" xlink:href=\"#m207602a23e\" y=\"134.605078\"/>\n",
       "     <use style=\"fill:#1f77b4;stroke:#1f77b4;\" x=\"191.584294\" xlink:href=\"#m207602a23e\" y=\"131.557038\"/>\n",
       "     <use style=\"fill:#1f77b4;stroke:#1f77b4;\" x=\"191.888963\" xlink:href=\"#m207602a23e\" y=\"106.347189\"/>\n",
       "     <use style=\"fill:#1f77b4;stroke:#1f77b4;\" x=\"192.193631\" xlink:href=\"#m207602a23e\" y=\"125.563507\"/>\n",
       "     <use style=\"fill:#1f77b4;stroke:#1f77b4;\" x=\"192.498299\" xlink:href=\"#m207602a23e\" y=\"116.44426\"/>\n",
       "     <use style=\"fill:#1f77b4;stroke:#1f77b4;\" x=\"192.802968\" xlink:href=\"#m207602a23e\" y=\"102.069558\"/>\n",
       "     <use style=\"fill:#1f77b4;stroke:#1f77b4;\" x=\"193.107636\" xlink:href=\"#m207602a23e\" y=\"129.384679\"/>\n",
       "     <use style=\"fill:#1f77b4;stroke:#1f77b4;\" x=\"193.412304\" xlink:href=\"#m207602a23e\" y=\"105.914146\"/>\n",
       "     <use style=\"fill:#1f77b4;stroke:#1f77b4;\" x=\"193.716973\" xlink:href=\"#m207602a23e\" y=\"114.973378\"/>\n",
       "     <use style=\"fill:#1f77b4;stroke:#1f77b4;\" x=\"194.021641\" xlink:href=\"#m207602a23e\" y=\"127.714016\"/>\n",
       "     <use style=\"fill:#1f77b4;stroke:#1f77b4;\" x=\"194.326309\" xlink:href=\"#m207602a23e\" y=\"116.167849\"/>\n",
       "     <use style=\"fill:#1f77b4;stroke:#1f77b4;\" x=\"194.630977\" xlink:href=\"#m207602a23e\" y=\"128.299168\"/>\n",
       "     <use style=\"fill:#1f77b4;stroke:#1f77b4;\" x=\"194.935646\" xlink:href=\"#m207602a23e\" y=\"132.92108\"/>\n",
       "     <use style=\"fill:#1f77b4;stroke:#1f77b4;\" x=\"195.240314\" xlink:href=\"#m207602a23e\" y=\"106.958989\"/>\n",
       "     <use style=\"fill:#1f77b4;stroke:#1f77b4;\" x=\"195.544982\" xlink:href=\"#m207602a23e\" y=\"123.239119\"/>\n",
       "     <use style=\"fill:#1f77b4;stroke:#1f77b4;\" x=\"195.849651\" xlink:href=\"#m207602a23e\" y=\"137.069345\"/>\n",
       "     <use style=\"fill:#1f77b4;stroke:#1f77b4;\" x=\"196.154319\" xlink:href=\"#m207602a23e\" y=\"121.496339\"/>\n",
       "     <use style=\"fill:#1f77b4;stroke:#1f77b4;\" x=\"196.458987\" xlink:href=\"#m207602a23e\" y=\"128.573581\"/>\n",
       "     <use style=\"fill:#1f77b4;stroke:#1f77b4;\" x=\"196.763656\" xlink:href=\"#m207602a23e\" y=\"131.679275\"/>\n",
       "     <use style=\"fill:#1f77b4;stroke:#1f77b4;\" x=\"197.068324\" xlink:href=\"#m207602a23e\" y=\"134.282589\"/>\n",
       "     <use style=\"fill:#1f77b4;stroke:#1f77b4;\" x=\"197.372992\" xlink:href=\"#m207602a23e\" y=\"144.579666\"/>\n",
       "     <use style=\"fill:#1f77b4;stroke:#1f77b4;\" x=\"197.67766\" xlink:href=\"#m207602a23e\" y=\"150.036172\"/>\n",
       "     <use style=\"fill:#1f77b4;stroke:#1f77b4;\" x=\"197.982329\" xlink:href=\"#m207602a23e\" y=\"125.798378\"/>\n",
       "     <use style=\"fill:#1f77b4;stroke:#1f77b4;\" x=\"198.286997\" xlink:href=\"#m207602a23e\" y=\"115.980817\"/>\n",
       "     <use style=\"fill:#1f77b4;stroke:#1f77b4;\" x=\"198.591665\" xlink:href=\"#m207602a23e\" y=\"102.655832\"/>\n",
       "     <use style=\"fill:#1f77b4;stroke:#1f77b4;\" x=\"198.896334\" xlink:href=\"#m207602a23e\" y=\"110.214283\"/>\n",
       "     <use style=\"fill:#1f77b4;stroke:#1f77b4;\" x=\"199.201002\" xlink:href=\"#m207602a23e\" y=\"131.083826\"/>\n",
       "     <use style=\"fill:#1f77b4;stroke:#1f77b4;\" x=\"199.50567\" xlink:href=\"#m207602a23e\" y=\"132.909045\"/>\n",
       "     <use style=\"fill:#1f77b4;stroke:#1f77b4;\" x=\"199.810339\" xlink:href=\"#m207602a23e\" y=\"139.686144\"/>\n",
       "     <use style=\"fill:#1f77b4;stroke:#1f77b4;\" x=\"200.115007\" xlink:href=\"#m207602a23e\" y=\"147.904507\"/>\n",
       "     <use style=\"fill:#1f77b4;stroke:#1f77b4;\" x=\"200.419675\" xlink:href=\"#m207602a23e\" y=\"127.253784\"/>\n",
       "     <use style=\"fill:#1f77b4;stroke:#1f77b4;\" x=\"200.724344\" xlink:href=\"#m207602a23e\" y=\"128.505856\"/>\n",
       "     <use style=\"fill:#1f77b4;stroke:#1f77b4;\" x=\"201.029012\" xlink:href=\"#m207602a23e\" y=\"122.624697\"/>\n",
       "     <use style=\"fill:#1f77b4;stroke:#1f77b4;\" x=\"201.33368\" xlink:href=\"#m207602a23e\" y=\"109.169969\"/>\n",
       "     <use style=\"fill:#1f77b4;stroke:#1f77b4;\" x=\"201.638348\" xlink:href=\"#m207602a23e\" y=\"122.863743\"/>\n",
       "     <use style=\"fill:#1f77b4;stroke:#1f77b4;\" x=\"201.943017\" xlink:href=\"#m207602a23e\" y=\"117.856952\"/>\n",
       "     <use style=\"fill:#1f77b4;stroke:#1f77b4;\" x=\"202.247685\" xlink:href=\"#m207602a23e\" y=\"128.687543\"/>\n",
       "     <use style=\"fill:#1f77b4;stroke:#1f77b4;\" x=\"202.552353\" xlink:href=\"#m207602a23e\" y=\"125.575574\"/>\n",
       "     <use style=\"fill:#1f77b4;stroke:#1f77b4;\" x=\"202.857022\" xlink:href=\"#m207602a23e\" y=\"127.084843\"/>\n",
       "     <use style=\"fill:#1f77b4;stroke:#1f77b4;\" x=\"203.16169\" xlink:href=\"#m207602a23e\" y=\"103.819246\"/>\n",
       "     <use style=\"fill:#1f77b4;stroke:#1f77b4;\" x=\"203.466358\" xlink:href=\"#m207602a23e\" y=\"123.169547\"/>\n",
       "     <use style=\"fill:#1f77b4;stroke:#1f77b4;\" x=\"203.771027\" xlink:href=\"#m207602a23e\" y=\"113.14788\"/>\n",
       "     <use style=\"fill:#1f77b4;stroke:#1f77b4;\" x=\"204.075695\" xlink:href=\"#m207602a23e\" y=\"131.540919\"/>\n",
       "     <use style=\"fill:#1f77b4;stroke:#1f77b4;\" x=\"204.380363\" xlink:href=\"#m207602a23e\" y=\"114.571248\"/>\n",
       "     <use style=\"fill:#1f77b4;stroke:#1f77b4;\" x=\"204.685031\" xlink:href=\"#m207602a23e\" y=\"105.292681\"/>\n",
       "     <use style=\"fill:#1f77b4;stroke:#1f77b4;\" x=\"204.9897\" xlink:href=\"#m207602a23e\" y=\"112.125938\"/>\n",
       "     <use style=\"fill:#1f77b4;stroke:#1f77b4;\" x=\"205.294368\" xlink:href=\"#m207602a23e\" y=\"123.308852\"/>\n",
       "     <use style=\"fill:#1f77b4;stroke:#1f77b4;\" x=\"205.599036\" xlink:href=\"#m207602a23e\" y=\"126.285013\"/>\n",
       "     <use style=\"fill:#1f77b4;stroke:#1f77b4;\" x=\"205.903705\" xlink:href=\"#m207602a23e\" y=\"112.840251\"/>\n",
       "     <use style=\"fill:#1f77b4;stroke:#1f77b4;\" x=\"206.208373\" xlink:href=\"#m207602a23e\" y=\"99.897234\"/>\n",
       "     <use style=\"fill:#1f77b4;stroke:#1f77b4;\" x=\"206.513041\" xlink:href=\"#m207602a23e\" y=\"116.404103\"/>\n",
       "     <use style=\"fill:#1f77b4;stroke:#1f77b4;\" x=\"206.81771\" xlink:href=\"#m207602a23e\" y=\"126.685711\"/>\n",
       "     <use style=\"fill:#1f77b4;stroke:#1f77b4;\" x=\"207.122378\" xlink:href=\"#m207602a23e\" y=\"123.50077\"/>\n",
       "     <use style=\"fill:#1f77b4;stroke:#1f77b4;\" x=\"207.427046\" xlink:href=\"#m207602a23e\" y=\"112.37312\"/>\n",
       "     <use style=\"fill:#1f77b4;stroke:#1f77b4;\" x=\"207.731715\" xlink:href=\"#m207602a23e\" y=\"91.883955\"/>\n",
       "     <use style=\"fill:#1f77b4;stroke:#1f77b4;\" x=\"208.036383\" xlink:href=\"#m207602a23e\" y=\"87.367527\"/>\n",
       "     <use style=\"fill:#1f77b4;stroke:#1f77b4;\" x=\"208.341051\" xlink:href=\"#m207602a23e\" y=\"115.433254\"/>\n",
       "     <use style=\"fill:#1f77b4;stroke:#1f77b4;\" x=\"208.645719\" xlink:href=\"#m207602a23e\" y=\"119.713491\"/>\n",
       "     <use style=\"fill:#1f77b4;stroke:#1f77b4;\" x=\"208.950388\" xlink:href=\"#m207602a23e\" y=\"113.895143\"/>\n",
       "     <use style=\"fill:#1f77b4;stroke:#1f77b4;\" x=\"209.255056\" xlink:href=\"#m207602a23e\" y=\"128.807369\"/>\n",
       "     <use style=\"fill:#1f77b4;stroke:#1f77b4;\" x=\"209.559724\" xlink:href=\"#m207602a23e\" y=\"121.931425\"/>\n",
       "     <use style=\"fill:#1f77b4;stroke:#1f77b4;\" x=\"209.864393\" xlink:href=\"#m207602a23e\" y=\"126.816546\"/>\n",
       "     <use style=\"fill:#1f77b4;stroke:#1f77b4;\" x=\"210.169061\" xlink:href=\"#m207602a23e\" y=\"108.552695\"/>\n",
       "     <use style=\"fill:#1f77b4;stroke:#1f77b4;\" x=\"210.473729\" xlink:href=\"#m207602a23e\" y=\"119.471103\"/>\n",
       "     <use style=\"fill:#1f77b4;stroke:#1f77b4;\" x=\"210.778398\" xlink:href=\"#m207602a23e\" y=\"109.242099\"/>\n",
       "     <use style=\"fill:#1f77b4;stroke:#1f77b4;\" x=\"211.083066\" xlink:href=\"#m207602a23e\" y=\"145.041061\"/>\n",
       "     <use style=\"fill:#1f77b4;stroke:#1f77b4;\" x=\"211.387734\" xlink:href=\"#m207602a23e\" y=\"123.816841\"/>\n",
       "     <use style=\"fill:#1f77b4;stroke:#1f77b4;\" x=\"211.692402\" xlink:href=\"#m207602a23e\" y=\"106.342214\"/>\n",
       "     <use style=\"fill:#1f77b4;stroke:#1f77b4;\" x=\"211.997071\" xlink:href=\"#m207602a23e\" y=\"120.815419\"/>\n",
       "     <use style=\"fill:#1f77b4;stroke:#1f77b4;\" x=\"212.301739\" xlink:href=\"#m207602a23e\" y=\"73.321809\"/>\n",
       "     <use style=\"fill:#1f77b4;stroke:#1f77b4;\" x=\"212.606407\" xlink:href=\"#m207602a23e\" y=\"106.173466\"/>\n",
       "     <use style=\"fill:#1f77b4;stroke:#1f77b4;\" x=\"212.911076\" xlink:href=\"#m207602a23e\" y=\"126.152621\"/>\n",
       "     <use style=\"fill:#1f77b4;stroke:#1f77b4;\" x=\"213.215744\" xlink:href=\"#m207602a23e\" y=\"111.576265\"/>\n",
       "     <use style=\"fill:#1f77b4;stroke:#1f77b4;\" x=\"213.520412\" xlink:href=\"#m207602a23e\" y=\"118.901348\"/>\n",
       "     <use style=\"fill:#1f77b4;stroke:#1f77b4;\" x=\"213.825081\" xlink:href=\"#m207602a23e\" y=\"99.107494\"/>\n",
       "     <use style=\"fill:#1f77b4;stroke:#1f77b4;\" x=\"214.129749\" xlink:href=\"#m207602a23e\" y=\"103.005462\"/>\n",
       "     <use style=\"fill:#1f77b4;stroke:#1f77b4;\" x=\"214.434417\" xlink:href=\"#m207602a23e\" y=\"120.521749\"/>\n",
       "     <use style=\"fill:#1f77b4;stroke:#1f77b4;\" x=\"214.739086\" xlink:href=\"#m207602a23e\" y=\"125.607021\"/>\n",
       "     <use style=\"fill:#1f77b4;stroke:#1f77b4;\" x=\"215.043754\" xlink:href=\"#m207602a23e\" y=\"104.501184\"/>\n",
       "     <use style=\"fill:#1f77b4;stroke:#1f77b4;\" x=\"215.348422\" xlink:href=\"#m207602a23e\" y=\"129.086121\"/>\n",
       "     <use style=\"fill:#1f77b4;stroke:#1f77b4;\" x=\"215.65309\" xlink:href=\"#m207602a23e\" y=\"112.264671\"/>\n",
       "     <use style=\"fill:#1f77b4;stroke:#1f77b4;\" x=\"215.957759\" xlink:href=\"#m207602a23e\" y=\"104.16231\"/>\n",
       "     <use style=\"fill:#1f77b4;stroke:#1f77b4;\" x=\"216.262427\" xlink:href=\"#m207602a23e\" y=\"108.599764\"/>\n",
       "     <use style=\"fill:#1f77b4;stroke:#1f77b4;\" x=\"216.567095\" xlink:href=\"#m207602a23e\" y=\"131.633588\"/>\n",
       "     <use style=\"fill:#1f77b4;stroke:#1f77b4;\" x=\"216.871764\" xlink:href=\"#m207602a23e\" y=\"98.504183\"/>\n",
       "     <use style=\"fill:#1f77b4;stroke:#1f77b4;\" x=\"217.176432\" xlink:href=\"#m207602a23e\" y=\"108.743526\"/>\n",
       "     <use style=\"fill:#1f77b4;stroke:#1f77b4;\" x=\"217.4811\" xlink:href=\"#m207602a23e\" y=\"107.464723\"/>\n",
       "     <use style=\"fill:#1f77b4;stroke:#1f77b4;\" x=\"217.785769\" xlink:href=\"#m207602a23e\" y=\"115.343103\"/>\n",
       "     <use style=\"fill:#1f77b4;stroke:#1f77b4;\" x=\"218.090437\" xlink:href=\"#m207602a23e\" y=\"105.531793\"/>\n",
       "     <use style=\"fill:#1f77b4;stroke:#1f77b4;\" x=\"218.395105\" xlink:href=\"#m207602a23e\" y=\"119.42096\"/>\n",
       "     <use style=\"fill:#1f77b4;stroke:#1f77b4;\" x=\"218.699773\" xlink:href=\"#m207602a23e\" y=\"105.971895\"/>\n",
       "     <use style=\"fill:#1f77b4;stroke:#1f77b4;\" x=\"219.004442\" xlink:href=\"#m207602a23e\" y=\"122.392188\"/>\n",
       "     <use style=\"fill:#1f77b4;stroke:#1f77b4;\" x=\"219.30911\" xlink:href=\"#m207602a23e\" y=\"86.988664\"/>\n",
       "     <use style=\"fill:#1f77b4;stroke:#1f77b4;\" x=\"219.613778\" xlink:href=\"#m207602a23e\" y=\"112.354056\"/>\n",
       "     <use style=\"fill:#1f77b4;stroke:#1f77b4;\" x=\"219.918447\" xlink:href=\"#m207602a23e\" y=\"109.325337\"/>\n",
       "     <use style=\"fill:#1f77b4;stroke:#1f77b4;\" x=\"220.223115\" xlink:href=\"#m207602a23e\" y=\"139.375331\"/>\n",
       "     <use style=\"fill:#1f77b4;stroke:#1f77b4;\" x=\"220.527783\" xlink:href=\"#m207602a23e\" y=\"99.257987\"/>\n",
       "     <use style=\"fill:#1f77b4;stroke:#1f77b4;\" x=\"220.832452\" xlink:href=\"#m207602a23e\" y=\"110.278692\"/>\n",
       "     <use style=\"fill:#1f77b4;stroke:#1f77b4;\" x=\"221.13712\" xlink:href=\"#m207602a23e\" y=\"99.428575\"/>\n",
       "     <use style=\"fill:#1f77b4;stroke:#1f77b4;\" x=\"221.441788\" xlink:href=\"#m207602a23e\" y=\"120.394879\"/>\n",
       "     <use style=\"fill:#1f77b4;stroke:#1f77b4;\" x=\"221.746457\" xlink:href=\"#m207602a23e\" y=\"124.942564\"/>\n",
       "     <use style=\"fill:#1f77b4;stroke:#1f77b4;\" x=\"222.051125\" xlink:href=\"#m207602a23e\" y=\"115.388877\"/>\n",
       "     <use style=\"fill:#1f77b4;stroke:#1f77b4;\" x=\"222.355793\" xlink:href=\"#m207602a23e\" y=\"99.886928\"/>\n",
       "     <use style=\"fill:#1f77b4;stroke:#1f77b4;\" x=\"222.660461\" xlink:href=\"#m207602a23e\" y=\"124.694437\"/>\n",
       "     <use style=\"fill:#1f77b4;stroke:#1f77b4;\" x=\"222.96513\" xlink:href=\"#m207602a23e\" y=\"111.644035\"/>\n",
       "     <use style=\"fill:#1f77b4;stroke:#1f77b4;\" x=\"223.269798\" xlink:href=\"#m207602a23e\" y=\"125.63974\"/>\n",
       "     <use style=\"fill:#1f77b4;stroke:#1f77b4;\" x=\"223.574466\" xlink:href=\"#m207602a23e\" y=\"103.764943\"/>\n",
       "     <use style=\"fill:#1f77b4;stroke:#1f77b4;\" x=\"223.879135\" xlink:href=\"#m207602a23e\" y=\"101.017805\"/>\n",
       "     <use style=\"fill:#1f77b4;stroke:#1f77b4;\" x=\"224.183803\" xlink:href=\"#m207602a23e\" y=\"105.739444\"/>\n",
       "     <use style=\"fill:#1f77b4;stroke:#1f77b4;\" x=\"224.488471\" xlink:href=\"#m207602a23e\" y=\"106.92317\"/>\n",
       "     <use style=\"fill:#1f77b4;stroke:#1f77b4;\" x=\"224.79314\" xlink:href=\"#m207602a23e\" y=\"95.31236\"/>\n",
       "     <use style=\"fill:#1f77b4;stroke:#1f77b4;\" x=\"225.097808\" xlink:href=\"#m207602a23e\" y=\"117.525458\"/>\n",
       "     <use style=\"fill:#1f77b4;stroke:#1f77b4;\" x=\"225.402476\" xlink:href=\"#m207602a23e\" y=\"97.704749\"/>\n",
       "     <use style=\"fill:#1f77b4;stroke:#1f77b4;\" x=\"225.707145\" xlink:href=\"#m207602a23e\" y=\"102.236835\"/>\n",
       "     <use style=\"fill:#1f77b4;stroke:#1f77b4;\" x=\"226.011813\" xlink:href=\"#m207602a23e\" y=\"81.995032\"/>\n",
       "     <use style=\"fill:#1f77b4;stroke:#1f77b4;\" x=\"226.316481\" xlink:href=\"#m207602a23e\" y=\"114.156944\"/>\n",
       "     <use style=\"fill:#1f77b4;stroke:#1f77b4;\" x=\"226.621149\" xlink:href=\"#m207602a23e\" y=\"100.145477\"/>\n",
       "     <use style=\"fill:#1f77b4;stroke:#1f77b4;\" x=\"226.925818\" xlink:href=\"#m207602a23e\" y=\"126.163206\"/>\n",
       "     <use style=\"fill:#1f77b4;stroke:#1f77b4;\" x=\"227.230486\" xlink:href=\"#m207602a23e\" y=\"113.01569\"/>\n",
       "     <use style=\"fill:#1f77b4;stroke:#1f77b4;\" x=\"227.535154\" xlink:href=\"#m207602a23e\" y=\"97.555877\"/>\n",
       "     <use style=\"fill:#1f77b4;stroke:#1f77b4;\" x=\"227.839823\" xlink:href=\"#m207602a23e\" y=\"86.935966\"/>\n",
       "     <use style=\"fill:#1f77b4;stroke:#1f77b4;\" x=\"228.144491\" xlink:href=\"#m207602a23e\" y=\"103.460374\"/>\n",
       "     <use style=\"fill:#1f77b4;stroke:#1f77b4;\" x=\"228.449159\" xlink:href=\"#m207602a23e\" y=\"96.147713\"/>\n",
       "     <use style=\"fill:#1f77b4;stroke:#1f77b4;\" x=\"228.753828\" xlink:href=\"#m207602a23e\" y=\"105.225542\"/>\n",
       "     <use style=\"fill:#1f77b4;stroke:#1f77b4;\" x=\"229.058496\" xlink:href=\"#m207602a23e\" y=\"115.641783\"/>\n",
       "     <use style=\"fill:#1f77b4;stroke:#1f77b4;\" x=\"229.363164\" xlink:href=\"#m207602a23e\" y=\"112.453246\"/>\n",
       "     <use style=\"fill:#1f77b4;stroke:#1f77b4;\" x=\"229.667832\" xlink:href=\"#m207602a23e\" y=\"137.889771\"/>\n",
       "     <use style=\"fill:#1f77b4;stroke:#1f77b4;\" x=\"229.972501\" xlink:href=\"#m207602a23e\" y=\"120.334434\"/>\n",
       "     <use style=\"fill:#1f77b4;stroke:#1f77b4;\" x=\"230.277169\" xlink:href=\"#m207602a23e\" y=\"119.414791\"/>\n",
       "     <use style=\"fill:#1f77b4;stroke:#1f77b4;\" x=\"230.581837\" xlink:href=\"#m207602a23e\" y=\"117.068338\"/>\n",
       "     <use style=\"fill:#1f77b4;stroke:#1f77b4;\" x=\"230.886506\" xlink:href=\"#m207602a23e\" y=\"109.04948\"/>\n",
       "     <use style=\"fill:#1f77b4;stroke:#1f77b4;\" x=\"231.191174\" xlink:href=\"#m207602a23e\" y=\"116.475266\"/>\n",
       "     <use style=\"fill:#1f77b4;stroke:#1f77b4;\" x=\"231.495842\" xlink:href=\"#m207602a23e\" y=\"93.811494\"/>\n",
       "     <use style=\"fill:#1f77b4;stroke:#1f77b4;\" x=\"231.800511\" xlink:href=\"#m207602a23e\" y=\"113.493229\"/>\n",
       "     <use style=\"fill:#1f77b4;stroke:#1f77b4;\" x=\"232.105179\" xlink:href=\"#m207602a23e\" y=\"113.951553\"/>\n",
       "     <use style=\"fill:#1f77b4;stroke:#1f77b4;\" x=\"232.409847\" xlink:href=\"#m207602a23e\" y=\"74.352654\"/>\n",
       "     <use style=\"fill:#1f77b4;stroke:#1f77b4;\" x=\"232.714516\" xlink:href=\"#m207602a23e\" y=\"100.200456\"/>\n",
       "     <use style=\"fill:#1f77b4;stroke:#1f77b4;\" x=\"233.019184\" xlink:href=\"#m207602a23e\" y=\"107.774047\"/>\n",
       "     <use style=\"fill:#1f77b4;stroke:#1f77b4;\" x=\"233.323852\" xlink:href=\"#m207602a23e\" y=\"102.285563\"/>\n",
       "     <use style=\"fill:#1f77b4;stroke:#1f77b4;\" x=\"233.62852\" xlink:href=\"#m207602a23e\" y=\"112.207146\"/>\n",
       "     <use style=\"fill:#1f77b4;stroke:#1f77b4;\" x=\"233.933189\" xlink:href=\"#m207602a23e\" y=\"75.176055\"/>\n",
       "     <use style=\"fill:#1f77b4;stroke:#1f77b4;\" x=\"234.237857\" xlink:href=\"#m207602a23e\" y=\"75.673128\"/>\n",
       "     <use style=\"fill:#1f77b4;stroke:#1f77b4;\" x=\"234.542525\" xlink:href=\"#m207602a23e\" y=\"85.849109\"/>\n",
       "     <use style=\"fill:#1f77b4;stroke:#1f77b4;\" x=\"234.847194\" xlink:href=\"#m207602a23e\" y=\"106.805216\"/>\n",
       "     <use style=\"fill:#1f77b4;stroke:#1f77b4;\" x=\"235.151862\" xlink:href=\"#m207602a23e\" y=\"93.910281\"/>\n",
       "     <use style=\"fill:#1f77b4;stroke:#1f77b4;\" x=\"235.45653\" xlink:href=\"#m207602a23e\" y=\"126.367741\"/>\n",
       "     <use style=\"fill:#1f77b4;stroke:#1f77b4;\" x=\"235.761199\" xlink:href=\"#m207602a23e\" y=\"93.784523\"/>\n",
       "     <use style=\"fill:#1f77b4;stroke:#1f77b4;\" x=\"236.065867\" xlink:href=\"#m207602a23e\" y=\"105.549969\"/>\n",
       "     <use style=\"fill:#1f77b4;stroke:#1f77b4;\" x=\"236.370535\" xlink:href=\"#m207602a23e\" y=\"112.793627\"/>\n",
       "     <use style=\"fill:#1f77b4;stroke:#1f77b4;\" x=\"236.675203\" xlink:href=\"#m207602a23e\" y=\"100.680522\"/>\n",
       "     <use style=\"fill:#1f77b4;stroke:#1f77b4;\" x=\"236.979872\" xlink:href=\"#m207602a23e\" y=\"120.811786\"/>\n",
       "     <use style=\"fill:#1f77b4;stroke:#1f77b4;\" x=\"237.28454\" xlink:href=\"#m207602a23e\" y=\"106.904063\"/>\n",
       "     <use style=\"fill:#1f77b4;stroke:#1f77b4;\" x=\"237.589208\" xlink:href=\"#m207602a23e\" y=\"97.166816\"/>\n",
       "     <use style=\"fill:#1f77b4;stroke:#1f77b4;\" x=\"237.893877\" xlink:href=\"#m207602a23e\" y=\"77.137367\"/>\n",
       "     <use style=\"fill:#1f77b4;stroke:#1f77b4;\" x=\"238.198545\" xlink:href=\"#m207602a23e\" y=\"98.503605\"/>\n",
       "     <use style=\"fill:#1f77b4;stroke:#1f77b4;\" x=\"238.503213\" xlink:href=\"#m207602a23e\" y=\"120.182404\"/>\n",
       "     <use style=\"fill:#1f77b4;stroke:#1f77b4;\" x=\"238.807882\" xlink:href=\"#m207602a23e\" y=\"110.651857\"/>\n",
       "     <use style=\"fill:#1f77b4;stroke:#1f77b4;\" x=\"239.11255\" xlink:href=\"#m207602a23e\" y=\"103.936254\"/>\n",
       "     <use style=\"fill:#1f77b4;stroke:#1f77b4;\" x=\"239.417218\" xlink:href=\"#m207602a23e\" y=\"113.957155\"/>\n",
       "     <use style=\"fill:#1f77b4;stroke:#1f77b4;\" x=\"239.721887\" xlink:href=\"#m207602a23e\" y=\"116.991507\"/>\n",
       "     <use style=\"fill:#1f77b4;stroke:#1f77b4;\" x=\"240.026555\" xlink:href=\"#m207602a23e\" y=\"125.427963\"/>\n",
       "     <use style=\"fill:#1f77b4;stroke:#1f77b4;\" x=\"240.331223\" xlink:href=\"#m207602a23e\" y=\"111.731057\"/>\n",
       "     <use style=\"fill:#1f77b4;stroke:#1f77b4;\" x=\"240.635891\" xlink:href=\"#m207602a23e\" y=\"103.087322\"/>\n",
       "     <use style=\"fill:#1f77b4;stroke:#1f77b4;\" x=\"240.94056\" xlink:href=\"#m207602a23e\" y=\"90.529355\"/>\n",
       "     <use style=\"fill:#1f77b4;stroke:#1f77b4;\" x=\"241.245228\" xlink:href=\"#m207602a23e\" y=\"94.877446\"/>\n",
       "     <use style=\"fill:#1f77b4;stroke:#1f77b4;\" x=\"241.549896\" xlink:href=\"#m207602a23e\" y=\"95.618999\"/>\n",
       "     <use style=\"fill:#1f77b4;stroke:#1f77b4;\" x=\"241.854565\" xlink:href=\"#m207602a23e\" y=\"109.077019\"/>\n",
       "     <use style=\"fill:#1f77b4;stroke:#1f77b4;\" x=\"242.159233\" xlink:href=\"#m207602a23e\" y=\"97.36799\"/>\n",
       "     <use style=\"fill:#1f77b4;stroke:#1f77b4;\" x=\"242.463901\" xlink:href=\"#m207602a23e\" y=\"103.561823\"/>\n",
       "     <use style=\"fill:#1f77b4;stroke:#1f77b4;\" x=\"242.76857\" xlink:href=\"#m207602a23e\" y=\"112.801642\"/>\n",
       "     <use style=\"fill:#1f77b4;stroke:#1f77b4;\" x=\"243.073238\" xlink:href=\"#m207602a23e\" y=\"85.153216\"/>\n",
       "     <use style=\"fill:#1f77b4;stroke:#1f77b4;\" x=\"243.377906\" xlink:href=\"#m207602a23e\" y=\"108.383952\"/>\n",
       "     <use style=\"fill:#1f77b4;stroke:#1f77b4;\" x=\"243.682574\" xlink:href=\"#m207602a23e\" y=\"95.649549\"/>\n",
       "     <use style=\"fill:#1f77b4;stroke:#1f77b4;\" x=\"243.987243\" xlink:href=\"#m207602a23e\" y=\"94.07255\"/>\n",
       "     <use style=\"fill:#1f77b4;stroke:#1f77b4;\" x=\"244.291911\" xlink:href=\"#m207602a23e\" y=\"117.014967\"/>\n",
       "     <use style=\"fill:#1f77b4;stroke:#1f77b4;\" x=\"244.596579\" xlink:href=\"#m207602a23e\" y=\"99.813019\"/>\n",
       "     <use style=\"fill:#1f77b4;stroke:#1f77b4;\" x=\"244.901248\" xlink:href=\"#m207602a23e\" y=\"73.120274\"/>\n",
       "     <use style=\"fill:#1f77b4;stroke:#1f77b4;\" x=\"245.205916\" xlink:href=\"#m207602a23e\" y=\"94.940875\"/>\n",
       "     <use style=\"fill:#1f77b4;stroke:#1f77b4;\" x=\"245.510584\" xlink:href=\"#m207602a23e\" y=\"102.321853\"/>\n",
       "     <use style=\"fill:#1f77b4;stroke:#1f77b4;\" x=\"245.815253\" xlink:href=\"#m207602a23e\" y=\"99.285327\"/>\n",
       "     <use style=\"fill:#1f77b4;stroke:#1f77b4;\" x=\"246.119921\" xlink:href=\"#m207602a23e\" y=\"70.200237\"/>\n",
       "     <use style=\"fill:#1f77b4;stroke:#1f77b4;\" x=\"246.424589\" xlink:href=\"#m207602a23e\" y=\"73.837403\"/>\n",
       "     <use style=\"fill:#1f77b4;stroke:#1f77b4;\" x=\"246.729258\" xlink:href=\"#m207602a23e\" y=\"96.803767\"/>\n",
       "     <use style=\"fill:#1f77b4;stroke:#1f77b4;\" x=\"247.033926\" xlink:href=\"#m207602a23e\" y=\"82.506997\"/>\n",
       "     <use style=\"fill:#1f77b4;stroke:#1f77b4;\" x=\"247.338594\" xlink:href=\"#m207602a23e\" y=\"104.711235\"/>\n",
       "     <use style=\"fill:#1f77b4;stroke:#1f77b4;\" x=\"247.643262\" xlink:href=\"#m207602a23e\" y=\"113.690522\"/>\n",
       "     <use style=\"fill:#1f77b4;stroke:#1f77b4;\" x=\"247.947931\" xlink:href=\"#m207602a23e\" y=\"106.768139\"/>\n",
       "     <use style=\"fill:#1f77b4;stroke:#1f77b4;\" x=\"248.252599\" xlink:href=\"#m207602a23e\" y=\"105.881225\"/>\n",
       "     <use style=\"fill:#1f77b4;stroke:#1f77b4;\" x=\"248.557267\" xlink:href=\"#m207602a23e\" y=\"94.802032\"/>\n",
       "     <use style=\"fill:#1f77b4;stroke:#1f77b4;\" x=\"248.861936\" xlink:href=\"#m207602a23e\" y=\"94.726696\"/>\n",
       "     <use style=\"fill:#1f77b4;stroke:#1f77b4;\" x=\"249.166604\" xlink:href=\"#m207602a23e\" y=\"75.41223\"/>\n",
       "     <use style=\"fill:#1f77b4;stroke:#1f77b4;\" x=\"249.471272\" xlink:href=\"#m207602a23e\" y=\"111.118186\"/>\n",
       "     <use style=\"fill:#1f77b4;stroke:#1f77b4;\" x=\"249.775941\" xlink:href=\"#m207602a23e\" y=\"100.353534\"/>\n",
       "     <use style=\"fill:#1f77b4;stroke:#1f77b4;\" x=\"250.080609\" xlink:href=\"#m207602a23e\" y=\"96.791682\"/>\n",
       "     <use style=\"fill:#1f77b4;stroke:#1f77b4;\" x=\"250.385277\" xlink:href=\"#m207602a23e\" y=\"96.674087\"/>\n",
       "     <use style=\"fill:#1f77b4;stroke:#1f77b4;\" x=\"250.689945\" xlink:href=\"#m207602a23e\" y=\"115.926667\"/>\n",
       "     <use style=\"fill:#1f77b4;stroke:#1f77b4;\" x=\"250.994614\" xlink:href=\"#m207602a23e\" y=\"118.266748\"/>\n",
       "     <use style=\"fill:#1f77b4;stroke:#1f77b4;\" x=\"251.299282\" xlink:href=\"#m207602a23e\" y=\"106.736603\"/>\n",
       "     <use style=\"fill:#1f77b4;stroke:#1f77b4;\" x=\"251.60395\" xlink:href=\"#m207602a23e\" y=\"95.616572\"/>\n",
       "     <use style=\"fill:#1f77b4;stroke:#1f77b4;\" x=\"251.908619\" xlink:href=\"#m207602a23e\" y=\"93.032285\"/>\n",
       "     <use style=\"fill:#1f77b4;stroke:#1f77b4;\" x=\"252.213287\" xlink:href=\"#m207602a23e\" y=\"86.468264\"/>\n",
       "     <use style=\"fill:#1f77b4;stroke:#1f77b4;\" x=\"252.517955\" xlink:href=\"#m207602a23e\" y=\"99.738596\"/>\n",
       "     <use style=\"fill:#1f77b4;stroke:#1f77b4;\" x=\"252.822624\" xlink:href=\"#m207602a23e\" y=\"95.708341\"/>\n",
       "     <use style=\"fill:#1f77b4;stroke:#1f77b4;\" x=\"253.127292\" xlink:href=\"#m207602a23e\" y=\"121.043966\"/>\n",
       "     <use style=\"fill:#1f77b4;stroke:#1f77b4;\" x=\"253.43196\" xlink:href=\"#m207602a23e\" y=\"69.340955\"/>\n",
       "     <use style=\"fill:#1f77b4;stroke:#1f77b4;\" x=\"253.736629\" xlink:href=\"#m207602a23e\" y=\"88.831844\"/>\n",
       "     <use style=\"fill:#1f77b4;stroke:#1f77b4;\" x=\"254.041297\" xlink:href=\"#m207602a23e\" y=\"58.547113\"/>\n",
       "     <use style=\"fill:#1f77b4;stroke:#1f77b4;\" x=\"254.345965\" xlink:href=\"#m207602a23e\" y=\"94.571886\"/>\n",
       "     <use style=\"fill:#1f77b4;stroke:#1f77b4;\" x=\"254.650633\" xlink:href=\"#m207602a23e\" y=\"98.365158\"/>\n",
       "     <use style=\"fill:#1f77b4;stroke:#1f77b4;\" x=\"254.955302\" xlink:href=\"#m207602a23e\" y=\"108.08665\"/>\n",
       "     <use style=\"fill:#1f77b4;stroke:#1f77b4;\" x=\"255.25997\" xlink:href=\"#m207602a23e\" y=\"93.480586\"/>\n",
       "     <use style=\"fill:#1f77b4;stroke:#1f77b4;\" x=\"255.564638\" xlink:href=\"#m207602a23e\" y=\"109.203328\"/>\n",
       "     <use style=\"fill:#1f77b4;stroke:#1f77b4;\" x=\"255.869307\" xlink:href=\"#m207602a23e\" y=\"94.018632\"/>\n",
       "     <use style=\"fill:#1f77b4;stroke:#1f77b4;\" x=\"256.173975\" xlink:href=\"#m207602a23e\" y=\"79.748808\"/>\n",
       "     <use style=\"fill:#1f77b4;stroke:#1f77b4;\" x=\"256.478643\" xlink:href=\"#m207602a23e\" y=\"54.14355\"/>\n",
       "     <use style=\"fill:#1f77b4;stroke:#1f77b4;\" x=\"256.783312\" xlink:href=\"#m207602a23e\" y=\"86.606856\"/>\n",
       "     <use style=\"fill:#1f77b4;stroke:#1f77b4;\" x=\"257.08798\" xlink:href=\"#m207602a23e\" y=\"81.966172\"/>\n",
       "     <use style=\"fill:#1f77b4;stroke:#1f77b4;\" x=\"257.392648\" xlink:href=\"#m207602a23e\" y=\"93.088346\"/>\n",
       "     <use style=\"fill:#1f77b4;stroke:#1f77b4;\" x=\"257.697316\" xlink:href=\"#m207602a23e\" y=\"79.801962\"/>\n",
       "     <use style=\"fill:#1f77b4;stroke:#1f77b4;\" x=\"258.001985\" xlink:href=\"#m207602a23e\" y=\"75.830203\"/>\n",
       "     <use style=\"fill:#1f77b4;stroke:#1f77b4;\" x=\"258.306653\" xlink:href=\"#m207602a23e\" y=\"85.220917\"/>\n",
       "     <use style=\"fill:#1f77b4;stroke:#1f77b4;\" x=\"258.611321\" xlink:href=\"#m207602a23e\" y=\"101.71384\"/>\n",
       "     <use style=\"fill:#1f77b4;stroke:#1f77b4;\" x=\"258.91599\" xlink:href=\"#m207602a23e\" y=\"90.206018\"/>\n",
       "     <use style=\"fill:#1f77b4;stroke:#1f77b4;\" x=\"259.220658\" xlink:href=\"#m207602a23e\" y=\"121.95252\"/>\n",
       "     <use style=\"fill:#1f77b4;stroke:#1f77b4;\" x=\"259.525326\" xlink:href=\"#m207602a23e\" y=\"110.277266\"/>\n",
       "     <use style=\"fill:#1f77b4;stroke:#1f77b4;\" x=\"259.829995\" xlink:href=\"#m207602a23e\" y=\"98.482482\"/>\n",
       "     <use style=\"fill:#1f77b4;stroke:#1f77b4;\" x=\"260.134663\" xlink:href=\"#m207602a23e\" y=\"95.471087\"/>\n",
       "     <use style=\"fill:#1f77b4;stroke:#1f77b4;\" x=\"260.439331\" xlink:href=\"#m207602a23e\" y=\"94.258903\"/>\n",
       "     <use style=\"fill:#1f77b4;stroke:#1f77b4;\" x=\"260.744\" xlink:href=\"#m207602a23e\" y=\"78.863488\"/>\n",
       "     <use style=\"fill:#1f77b4;stroke:#1f77b4;\" x=\"261.048668\" xlink:href=\"#m207602a23e\" y=\"85.153943\"/>\n",
       "     <use style=\"fill:#1f77b4;stroke:#1f77b4;\" x=\"261.353336\" xlink:href=\"#m207602a23e\" y=\"99.724286\"/>\n",
       "     <use style=\"fill:#1f77b4;stroke:#1f77b4;\" x=\"261.658004\" xlink:href=\"#m207602a23e\" y=\"94.23529\"/>\n",
       "     <use style=\"fill:#1f77b4;stroke:#1f77b4;\" x=\"261.962673\" xlink:href=\"#m207602a23e\" y=\"68.331146\"/>\n",
       "     <use style=\"fill:#1f77b4;stroke:#1f77b4;\" x=\"262.267341\" xlink:href=\"#m207602a23e\" y=\"100.292705\"/>\n",
       "     <use style=\"fill:#1f77b4;stroke:#1f77b4;\" x=\"262.572009\" xlink:href=\"#m207602a23e\" y=\"96.45521\"/>\n",
       "     <use style=\"fill:#1f77b4;stroke:#1f77b4;\" x=\"262.876678\" xlink:href=\"#m207602a23e\" y=\"85.471165\"/>\n",
       "     <use style=\"fill:#1f77b4;stroke:#1f77b4;\" x=\"263.181346\" xlink:href=\"#m207602a23e\" y=\"81.716533\"/>\n",
       "     <use style=\"fill:#1f77b4;stroke:#1f77b4;\" x=\"263.486014\" xlink:href=\"#m207602a23e\" y=\"76.880927\"/>\n",
       "     <use style=\"fill:#1f77b4;stroke:#1f77b4;\" x=\"263.790683\" xlink:href=\"#m207602a23e\" y=\"79.644629\"/>\n",
       "     <use style=\"fill:#1f77b4;stroke:#1f77b4;\" x=\"264.095351\" xlink:href=\"#m207602a23e\" y=\"116.830287\"/>\n",
       "     <use style=\"fill:#1f77b4;stroke:#1f77b4;\" x=\"264.400019\" xlink:href=\"#m207602a23e\" y=\"72.78231\"/>\n",
       "     <use style=\"fill:#1f77b4;stroke:#1f77b4;\" x=\"264.704688\" xlink:href=\"#m207602a23e\" y=\"75.990283\"/>\n",
       "     <use style=\"fill:#1f77b4;stroke:#1f77b4;\" x=\"265.009356\" xlink:href=\"#m207602a23e\" y=\"86.881004\"/>\n",
       "     <use style=\"fill:#1f77b4;stroke:#1f77b4;\" x=\"265.314024\" xlink:href=\"#m207602a23e\" y=\"88.158756\"/>\n",
       "     <use style=\"fill:#1f77b4;stroke:#1f77b4;\" x=\"265.618692\" xlink:href=\"#m207602a23e\" y=\"81.653434\"/>\n",
       "     <use style=\"fill:#1f77b4;stroke:#1f77b4;\" x=\"265.923361\" xlink:href=\"#m207602a23e\" y=\"82.865162\"/>\n",
       "     <use style=\"fill:#1f77b4;stroke:#1f77b4;\" x=\"266.228029\" xlink:href=\"#m207602a23e\" y=\"83.551589\"/>\n",
       "     <use style=\"fill:#1f77b4;stroke:#1f77b4;\" x=\"266.532697\" xlink:href=\"#m207602a23e\" y=\"61.682157\"/>\n",
       "     <use style=\"fill:#1f77b4;stroke:#1f77b4;\" x=\"266.837366\" xlink:href=\"#m207602a23e\" y=\"99.233812\"/>\n",
       "     <use style=\"fill:#1f77b4;stroke:#1f77b4;\" x=\"267.142034\" xlink:href=\"#m207602a23e\" y=\"82.682509\"/>\n",
       "     <use style=\"fill:#1f77b4;stroke:#1f77b4;\" x=\"267.446702\" xlink:href=\"#m207602a23e\" y=\"66.592062\"/>\n",
       "     <use style=\"fill:#1f77b4;stroke:#1f77b4;\" x=\"267.751371\" xlink:href=\"#m207602a23e\" y=\"82.925107\"/>\n",
       "     <use style=\"fill:#1f77b4;stroke:#1f77b4;\" x=\"268.056039\" xlink:href=\"#m207602a23e\" y=\"82.056383\"/>\n",
       "     <use style=\"fill:#1f77b4;stroke:#1f77b4;\" x=\"268.360707\" xlink:href=\"#m207602a23e\" y=\"81.4387\"/>\n",
       "     <use style=\"fill:#1f77b4;stroke:#1f77b4;\" x=\"268.665375\" xlink:href=\"#m207602a23e\" y=\"102.576021\"/>\n",
       "     <use style=\"fill:#1f77b4;stroke:#1f77b4;\" x=\"268.970044\" xlink:href=\"#m207602a23e\" y=\"101.117714\"/>\n",
       "     <use style=\"fill:#1f77b4;stroke:#1f77b4;\" x=\"269.274712\" xlink:href=\"#m207602a23e\" y=\"79.916794\"/>\n",
       "     <use style=\"fill:#1f77b4;stroke:#1f77b4;\" x=\"269.57938\" xlink:href=\"#m207602a23e\" y=\"93.659893\"/>\n",
       "     <use style=\"fill:#1f77b4;stroke:#1f77b4;\" x=\"269.884049\" xlink:href=\"#m207602a23e\" y=\"61.722178\"/>\n",
       "     <use style=\"fill:#1f77b4;stroke:#1f77b4;\" x=\"270.188717\" xlink:href=\"#m207602a23e\" y=\"101.513692\"/>\n",
       "     <use style=\"fill:#1f77b4;stroke:#1f77b4;\" x=\"270.493385\" xlink:href=\"#m207602a23e\" y=\"65.601363\"/>\n",
       "     <use style=\"fill:#1f77b4;stroke:#1f77b4;\" x=\"270.798054\" xlink:href=\"#m207602a23e\" y=\"75.519738\"/>\n",
       "     <use style=\"fill:#1f77b4;stroke:#1f77b4;\" x=\"271.102722\" xlink:href=\"#m207602a23e\" y=\"92.77716\"/>\n",
       "     <use style=\"fill:#1f77b4;stroke:#1f77b4;\" x=\"271.40739\" xlink:href=\"#m207602a23e\" y=\"88.502799\"/>\n",
       "     <use style=\"fill:#1f77b4;stroke:#1f77b4;\" x=\"271.712059\" xlink:href=\"#m207602a23e\" y=\"77.855053\"/>\n",
       "     <use style=\"fill:#1f77b4;stroke:#1f77b4;\" x=\"272.016727\" xlink:href=\"#m207602a23e\" y=\"92.69177\"/>\n",
       "     <use style=\"fill:#1f77b4;stroke:#1f77b4;\" x=\"272.321395\" xlink:href=\"#m207602a23e\" y=\"97.291527\"/>\n",
       "     <use style=\"fill:#1f77b4;stroke:#1f77b4;\" x=\"272.626063\" xlink:href=\"#m207602a23e\" y=\"96.877694\"/>\n",
       "     <use style=\"fill:#1f77b4;stroke:#1f77b4;\" x=\"272.930732\" xlink:href=\"#m207602a23e\" y=\"88.506213\"/>\n",
       "     <use style=\"fill:#1f77b4;stroke:#1f77b4;\" x=\"273.2354\" xlink:href=\"#m207602a23e\" y=\"86.119684\"/>\n",
       "     <use style=\"fill:#1f77b4;stroke:#1f77b4;\" x=\"273.540068\" xlink:href=\"#m207602a23e\" y=\"80.660382\"/>\n",
       "     <use style=\"fill:#1f77b4;stroke:#1f77b4;\" x=\"273.844737\" xlink:href=\"#m207602a23e\" y=\"75.972693\"/>\n",
       "     <use style=\"fill:#1f77b4;stroke:#1f77b4;\" x=\"274.149405\" xlink:href=\"#m207602a23e\" y=\"77.458218\"/>\n",
       "     <use style=\"fill:#1f77b4;stroke:#1f77b4;\" x=\"274.454073\" xlink:href=\"#m207602a23e\" y=\"95.82835\"/>\n",
       "     <use style=\"fill:#1f77b4;stroke:#1f77b4;\" x=\"274.758742\" xlink:href=\"#m207602a23e\" y=\"72.203889\"/>\n",
       "     <use style=\"fill:#1f77b4;stroke:#1f77b4;\" x=\"275.06341\" xlink:href=\"#m207602a23e\" y=\"86.131908\"/>\n",
       "     <use style=\"fill:#1f77b4;stroke:#1f77b4;\" x=\"275.368078\" xlink:href=\"#m207602a23e\" y=\"82.213778\"/>\n",
       "     <use style=\"fill:#1f77b4;stroke:#1f77b4;\" x=\"275.672746\" xlink:href=\"#m207602a23e\" y=\"81.11525\"/>\n",
       "     <use style=\"fill:#1f77b4;stroke:#1f77b4;\" x=\"275.977415\" xlink:href=\"#m207602a23e\" y=\"84.679517\"/>\n",
       "     <use style=\"fill:#1f77b4;stroke:#1f77b4;\" x=\"276.282083\" xlink:href=\"#m207602a23e\" y=\"97.065914\"/>\n",
       "     <use style=\"fill:#1f77b4;stroke:#1f77b4;\" x=\"276.586751\" xlink:href=\"#m207602a23e\" y=\"78.521133\"/>\n",
       "     <use style=\"fill:#1f77b4;stroke:#1f77b4;\" x=\"276.89142\" xlink:href=\"#m207602a23e\" y=\"107.25815\"/>\n",
       "     <use style=\"fill:#1f77b4;stroke:#1f77b4;\" x=\"277.196088\" xlink:href=\"#m207602a23e\" y=\"84.205883\"/>\n",
       "     <use style=\"fill:#1f77b4;stroke:#1f77b4;\" x=\"277.500756\" xlink:href=\"#m207602a23e\" y=\"90.114832\"/>\n",
       "     <use style=\"fill:#1f77b4;stroke:#1f77b4;\" x=\"277.805425\" xlink:href=\"#m207602a23e\" y=\"94.997092\"/>\n",
       "     <use style=\"fill:#1f77b4;stroke:#1f77b4;\" x=\"278.110093\" xlink:href=\"#m207602a23e\" y=\"96.094066\"/>\n",
       "     <use style=\"fill:#1f77b4;stroke:#1f77b4;\" x=\"278.414761\" xlink:href=\"#m207602a23e\" y=\"71.094197\"/>\n",
       "     <use style=\"fill:#1f77b4;stroke:#1f77b4;\" x=\"278.71943\" xlink:href=\"#m207602a23e\" y=\"98.386573\"/>\n",
       "     <use style=\"fill:#1f77b4;stroke:#1f77b4;\" x=\"279.024098\" xlink:href=\"#m207602a23e\" y=\"50.864762\"/>\n",
       "     <use style=\"fill:#1f77b4;stroke:#1f77b4;\" x=\"279.328766\" xlink:href=\"#m207602a23e\" y=\"95.644611\"/>\n",
       "     <use style=\"fill:#1f77b4;stroke:#1f77b4;\" x=\"279.633434\" xlink:href=\"#m207602a23e\" y=\"84.325047\"/>\n",
       "     <use style=\"fill:#1f77b4;stroke:#1f77b4;\" x=\"279.938103\" xlink:href=\"#m207602a23e\" y=\"95.602494\"/>\n",
       "     <use style=\"fill:#1f77b4;stroke:#1f77b4;\" x=\"280.242771\" xlink:href=\"#m207602a23e\" y=\"81.725465\"/>\n",
       "     <use style=\"fill:#1f77b4;stroke:#1f77b4;\" x=\"280.547439\" xlink:href=\"#m207602a23e\" y=\"71.138593\"/>\n",
       "     <use style=\"fill:#1f77b4;stroke:#1f77b4;\" x=\"280.852108\" xlink:href=\"#m207602a23e\" y=\"88.607935\"/>\n",
       "     <use style=\"fill:#1f77b4;stroke:#1f77b4;\" x=\"281.156776\" xlink:href=\"#m207602a23e\" y=\"89.238033\"/>\n",
       "     <use style=\"fill:#1f77b4;stroke:#1f77b4;\" x=\"281.461444\" xlink:href=\"#m207602a23e\" y=\"91.458543\"/>\n",
       "     <use style=\"fill:#1f77b4;stroke:#1f77b4;\" x=\"281.766113\" xlink:href=\"#m207602a23e\" y=\"89.009066\"/>\n",
       "     <use style=\"fill:#1f77b4;stroke:#1f77b4;\" x=\"282.070781\" xlink:href=\"#m207602a23e\" y=\"69.114975\"/>\n",
       "     <use style=\"fill:#1f77b4;stroke:#1f77b4;\" x=\"282.375449\" xlink:href=\"#m207602a23e\" y=\"68.03768\"/>\n",
       "     <use style=\"fill:#1f77b4;stroke:#1f77b4;\" x=\"282.680117\" xlink:href=\"#m207602a23e\" y=\"87.043023\"/>\n",
       "     <use style=\"fill:#1f77b4;stroke:#1f77b4;\" x=\"282.984786\" xlink:href=\"#m207602a23e\" y=\"69.344439\"/>\n",
       "     <use style=\"fill:#1f77b4;stroke:#1f77b4;\" x=\"283.289454\" xlink:href=\"#m207602a23e\" y=\"92.388621\"/>\n",
       "     <use style=\"fill:#1f77b4;stroke:#1f77b4;\" x=\"283.594122\" xlink:href=\"#m207602a23e\" y=\"73.242929\"/>\n",
       "     <use style=\"fill:#1f77b4;stroke:#1f77b4;\" x=\"283.898791\" xlink:href=\"#m207602a23e\" y=\"83.413623\"/>\n",
       "     <use style=\"fill:#1f77b4;stroke:#1f77b4;\" x=\"284.203459\" xlink:href=\"#m207602a23e\" y=\"74.143213\"/>\n",
       "     <use style=\"fill:#1f77b4;stroke:#1f77b4;\" x=\"284.508127\" xlink:href=\"#m207602a23e\" y=\"88.609947\"/>\n",
       "     <use style=\"fill:#1f77b4;stroke:#1f77b4;\" x=\"284.812796\" xlink:href=\"#m207602a23e\" y=\"88.890657\"/>\n",
       "     <use style=\"fill:#1f77b4;stroke:#1f77b4;\" x=\"285.117464\" xlink:href=\"#m207602a23e\" y=\"97.28697\"/>\n",
       "     <use style=\"fill:#1f77b4;stroke:#1f77b4;\" x=\"285.422132\" xlink:href=\"#m207602a23e\" y=\"86.652591\"/>\n",
       "     <use style=\"fill:#1f77b4;stroke:#1f77b4;\" x=\"285.726801\" xlink:href=\"#m207602a23e\" y=\"77.306621\"/>\n",
       "     <use style=\"fill:#1f77b4;stroke:#1f77b4;\" x=\"286.031469\" xlink:href=\"#m207602a23e\" y=\"53.997415\"/>\n",
       "     <use style=\"fill:#1f77b4;stroke:#1f77b4;\" x=\"286.336137\" xlink:href=\"#m207602a23e\" y=\"82.255474\"/>\n",
       "     <use style=\"fill:#1f77b4;stroke:#1f77b4;\" x=\"286.640805\" xlink:href=\"#m207602a23e\" y=\"62.968889\"/>\n",
       "     <use style=\"fill:#1f77b4;stroke:#1f77b4;\" x=\"286.945474\" xlink:href=\"#m207602a23e\" y=\"96.926583\"/>\n",
       "     <use style=\"fill:#1f77b4;stroke:#1f77b4;\" x=\"287.250142\" xlink:href=\"#m207602a23e\" y=\"85.796869\"/>\n",
       "     <use style=\"fill:#1f77b4;stroke:#1f77b4;\" x=\"287.55481\" xlink:href=\"#m207602a23e\" y=\"83.532471\"/>\n",
       "     <use style=\"fill:#1f77b4;stroke:#1f77b4;\" x=\"287.859479\" xlink:href=\"#m207602a23e\" y=\"89.363494\"/>\n",
       "     <use style=\"fill:#1f77b4;stroke:#1f77b4;\" x=\"288.164147\" xlink:href=\"#m207602a23e\" y=\"74.5084\"/>\n",
       "     <use style=\"fill:#1f77b4;stroke:#1f77b4;\" x=\"288.468815\" xlink:href=\"#m207602a23e\" y=\"72.082916\"/>\n",
       "     <use style=\"fill:#1f77b4;stroke:#1f77b4;\" x=\"288.773484\" xlink:href=\"#m207602a23e\" y=\"96.004726\"/>\n",
       "     <use style=\"fill:#1f77b4;stroke:#1f77b4;\" x=\"289.078152\" xlink:href=\"#m207602a23e\" y=\"86.394864\"/>\n",
       "     <use style=\"fill:#1f77b4;stroke:#1f77b4;\" x=\"289.38282\" xlink:href=\"#m207602a23e\" y=\"56.677792\"/>\n",
       "     <use style=\"fill:#1f77b4;stroke:#1f77b4;\" x=\"289.687488\" xlink:href=\"#m207602a23e\" y=\"81.804193\"/>\n",
       "     <use style=\"fill:#1f77b4;stroke:#1f77b4;\" x=\"289.992157\" xlink:href=\"#m207602a23e\" y=\"87.585473\"/>\n",
       "     <use style=\"fill:#1f77b4;stroke:#1f77b4;\" x=\"290.296825\" xlink:href=\"#m207602a23e\" y=\"97.334275\"/>\n",
       "     <use style=\"fill:#1f77b4;stroke:#1f77b4;\" x=\"290.601493\" xlink:href=\"#m207602a23e\" y=\"108.285637\"/>\n",
       "     <use style=\"fill:#1f77b4;stroke:#1f77b4;\" x=\"290.906162\" xlink:href=\"#m207602a23e\" y=\"102.782122\"/>\n",
       "     <use style=\"fill:#1f77b4;stroke:#1f77b4;\" x=\"291.21083\" xlink:href=\"#m207602a23e\" y=\"63.966936\"/>\n",
       "     <use style=\"fill:#1f77b4;stroke:#1f77b4;\" x=\"291.515498\" xlink:href=\"#m207602a23e\" y=\"69.832124\"/>\n",
       "     <use style=\"fill:#1f77b4;stroke:#1f77b4;\" x=\"291.820167\" xlink:href=\"#m207602a23e\" y=\"92.806739\"/>\n",
       "     <use style=\"fill:#1f77b4;stroke:#1f77b4;\" x=\"292.124835\" xlink:href=\"#m207602a23e\" y=\"83.880395\"/>\n",
       "     <use style=\"fill:#1f77b4;stroke:#1f77b4;\" x=\"292.429503\" xlink:href=\"#m207602a23e\" y=\"60.120142\"/>\n",
       "     <use style=\"fill:#1f77b4;stroke:#1f77b4;\" x=\"292.734172\" xlink:href=\"#m207602a23e\" y=\"86.712677\"/>\n",
       "     <use style=\"fill:#1f77b4;stroke:#1f77b4;\" x=\"293.03884\" xlink:href=\"#m207602a23e\" y=\"66.574789\"/>\n",
       "     <use style=\"fill:#1f77b4;stroke:#1f77b4;\" x=\"293.343508\" xlink:href=\"#m207602a23e\" y=\"66.415151\"/>\n",
       "     <use style=\"fill:#1f77b4;stroke:#1f77b4;\" x=\"293.648176\" xlink:href=\"#m207602a23e\" y=\"73.466039\"/>\n",
       "     <use style=\"fill:#1f77b4;stroke:#1f77b4;\" x=\"293.952845\" xlink:href=\"#m207602a23e\" y=\"69.359443\"/>\n",
       "     <use style=\"fill:#1f77b4;stroke:#1f77b4;\" x=\"294.257513\" xlink:href=\"#m207602a23e\" y=\"57.296854\"/>\n",
       "     <use style=\"fill:#1f77b4;stroke:#1f77b4;\" x=\"294.562181\" xlink:href=\"#m207602a23e\" y=\"103.73723\"/>\n",
       "     <use style=\"fill:#1f77b4;stroke:#1f77b4;\" x=\"294.86685\" xlink:href=\"#m207602a23e\" y=\"62.128214\"/>\n",
       "     <use style=\"fill:#1f77b4;stroke:#1f77b4;\" x=\"295.171518\" xlink:href=\"#m207602a23e\" y=\"72.913768\"/>\n",
       "     <use style=\"fill:#1f77b4;stroke:#1f77b4;\" x=\"295.476186\" xlink:href=\"#m207602a23e\" y=\"51.343488\"/>\n",
       "     <use style=\"fill:#1f77b4;stroke:#1f77b4;\" x=\"295.780855\" xlink:href=\"#m207602a23e\" y=\"79.16536\"/>\n",
       "     <use style=\"fill:#1f77b4;stroke:#1f77b4;\" x=\"296.085523\" xlink:href=\"#m207602a23e\" y=\"71.45491\"/>\n",
       "     <use style=\"fill:#1f77b4;stroke:#1f77b4;\" x=\"296.390191\" xlink:href=\"#m207602a23e\" y=\"70.321068\"/>\n",
       "     <use style=\"fill:#1f77b4;stroke:#1f77b4;\" x=\"296.694859\" xlink:href=\"#m207602a23e\" y=\"97.746664\"/>\n",
       "     <use style=\"fill:#1f77b4;stroke:#1f77b4;\" x=\"296.999528\" xlink:href=\"#m207602a23e\" y=\"78.86524\"/>\n",
       "     <use style=\"fill:#1f77b4;stroke:#1f77b4;\" x=\"297.304196\" xlink:href=\"#m207602a23e\" y=\"65.548049\"/>\n",
       "     <use style=\"fill:#1f77b4;stroke:#1f77b4;\" x=\"297.608864\" xlink:href=\"#m207602a23e\" y=\"71.10704\"/>\n",
       "     <use style=\"fill:#1f77b4;stroke:#1f77b4;\" x=\"297.913533\" xlink:href=\"#m207602a23e\" y=\"70.569044\"/>\n",
       "     <use style=\"fill:#1f77b4;stroke:#1f77b4;\" x=\"298.218201\" xlink:href=\"#m207602a23e\" y=\"68.898433\"/>\n",
       "     <use style=\"fill:#1f77b4;stroke:#1f77b4;\" x=\"298.522869\" xlink:href=\"#m207602a23e\" y=\"97.176638\"/>\n",
       "     <use style=\"fill:#1f77b4;stroke:#1f77b4;\" x=\"298.827538\" xlink:href=\"#m207602a23e\" y=\"62.752843\"/>\n",
       "     <use style=\"fill:#1f77b4;stroke:#1f77b4;\" x=\"299.132206\" xlink:href=\"#m207602a23e\" y=\"85.719356\"/>\n",
       "     <use style=\"fill:#1f77b4;stroke:#1f77b4;\" x=\"299.436874\" xlink:href=\"#m207602a23e\" y=\"63.543728\"/>\n",
       "     <use style=\"fill:#1f77b4;stroke:#1f77b4;\" x=\"299.741543\" xlink:href=\"#m207602a23e\" y=\"39.651408\"/>\n",
       "     <use style=\"fill:#1f77b4;stroke:#1f77b4;\" x=\"300.046211\" xlink:href=\"#m207602a23e\" y=\"76.011248\"/>\n",
       "     <use style=\"fill:#1f77b4;stroke:#1f77b4;\" x=\"300.350879\" xlink:href=\"#m207602a23e\" y=\"81.960049\"/>\n",
       "     <use style=\"fill:#1f77b4;stroke:#1f77b4;\" x=\"300.655547\" xlink:href=\"#m207602a23e\" y=\"65.924329\"/>\n",
       "     <use style=\"fill:#1f77b4;stroke:#1f77b4;\" x=\"300.960216\" xlink:href=\"#m207602a23e\" y=\"73.439173\"/>\n",
       "     <use style=\"fill:#1f77b4;stroke:#1f77b4;\" x=\"301.264884\" xlink:href=\"#m207602a23e\" y=\"53.415731\"/>\n",
       "     <use style=\"fill:#1f77b4;stroke:#1f77b4;\" x=\"301.569552\" xlink:href=\"#m207602a23e\" y=\"76.765586\"/>\n",
       "     <use style=\"fill:#1f77b4;stroke:#1f77b4;\" x=\"301.874221\" xlink:href=\"#m207602a23e\" y=\"84.921355\"/>\n",
       "     <use style=\"fill:#1f77b4;stroke:#1f77b4;\" x=\"302.178889\" xlink:href=\"#m207602a23e\" y=\"65.164144\"/>\n",
       "     <use style=\"fill:#1f77b4;stroke:#1f77b4;\" x=\"302.483557\" xlink:href=\"#m207602a23e\" y=\"67.110563\"/>\n",
       "     <use style=\"fill:#1f77b4;stroke:#1f77b4;\" x=\"302.788226\" xlink:href=\"#m207602a23e\" y=\"75.935449\"/>\n",
       "     <use style=\"fill:#1f77b4;stroke:#1f77b4;\" x=\"303.092894\" xlink:href=\"#m207602a23e\" y=\"72.54644\"/>\n",
       "     <use style=\"fill:#1f77b4;stroke:#1f77b4;\" x=\"303.397562\" xlink:href=\"#m207602a23e\" y=\"56.11763\"/>\n",
       "     <use style=\"fill:#1f77b4;stroke:#1f77b4;\" x=\"303.70223\" xlink:href=\"#m207602a23e\" y=\"67.479623\"/>\n",
       "     <use style=\"fill:#1f77b4;stroke:#1f77b4;\" x=\"304.006899\" xlink:href=\"#m207602a23e\" y=\"55.713927\"/>\n",
       "     <use style=\"fill:#1f77b4;stroke:#1f77b4;\" x=\"304.311567\" xlink:href=\"#m207602a23e\" y=\"77.022969\"/>\n",
       "     <use style=\"fill:#1f77b4;stroke:#1f77b4;\" x=\"304.616235\" xlink:href=\"#m207602a23e\" y=\"77.421635\"/>\n",
       "     <use style=\"fill:#1f77b4;stroke:#1f77b4;\" x=\"304.920904\" xlink:href=\"#m207602a23e\" y=\"57.956969\"/>\n",
       "     <use style=\"fill:#1f77b4;stroke:#1f77b4;\" x=\"305.225572\" xlink:href=\"#m207602a23e\" y=\"63.493198\"/>\n",
       "     <use style=\"fill:#1f77b4;stroke:#1f77b4;\" x=\"305.53024\" xlink:href=\"#m207602a23e\" y=\"70.65354\"/>\n",
       "     <use style=\"fill:#1f77b4;stroke:#1f77b4;\" x=\"305.834909\" xlink:href=\"#m207602a23e\" y=\"94.250262\"/>\n",
       "     <use style=\"fill:#1f77b4;stroke:#1f77b4;\" x=\"306.139577\" xlink:href=\"#m207602a23e\" y=\"85.068041\"/>\n",
       "     <use style=\"fill:#1f77b4;stroke:#1f77b4;\" x=\"306.444245\" xlink:href=\"#m207602a23e\" y=\"68.544524\"/>\n",
       "     <use style=\"fill:#1f77b4;stroke:#1f77b4;\" x=\"306.748914\" xlink:href=\"#m207602a23e\" y=\"69.676018\"/>\n",
       "     <use style=\"fill:#1f77b4;stroke:#1f77b4;\" x=\"307.053582\" xlink:href=\"#m207602a23e\" y=\"69.05693\"/>\n",
       "     <use style=\"fill:#1f77b4;stroke:#1f77b4;\" x=\"307.35825\" xlink:href=\"#m207602a23e\" y=\"40.843663\"/>\n",
       "     <use style=\"fill:#1f77b4;stroke:#1f77b4;\" x=\"307.662918\" xlink:href=\"#m207602a23e\" y=\"52.091706\"/>\n",
       "     <use style=\"fill:#1f77b4;stroke:#1f77b4;\" x=\"307.967587\" xlink:href=\"#m207602a23e\" y=\"56.254821\"/>\n",
       "     <use style=\"fill:#1f77b4;stroke:#1f77b4;\" x=\"308.272255\" xlink:href=\"#m207602a23e\" y=\"102.628241\"/>\n",
       "     <use style=\"fill:#1f77b4;stroke:#1f77b4;\" x=\"308.576923\" xlink:href=\"#m207602a23e\" y=\"65.248039\"/>\n",
       "     <use style=\"fill:#1f77b4;stroke:#1f77b4;\" x=\"308.881592\" xlink:href=\"#m207602a23e\" y=\"54.568112\"/>\n",
       "     <use style=\"fill:#1f77b4;stroke:#1f77b4;\" x=\"309.18626\" xlink:href=\"#m207602a23e\" y=\"66.442564\"/>\n",
       "     <use style=\"fill:#1f77b4;stroke:#1f77b4;\" x=\"309.490928\" xlink:href=\"#m207602a23e\" y=\"56.502289\"/>\n",
       "     <use style=\"fill:#1f77b4;stroke:#1f77b4;\" x=\"309.795597\" xlink:href=\"#m207602a23e\" y=\"73.57413\"/>\n",
       "     <use style=\"fill:#1f77b4;stroke:#1f77b4;\" x=\"310.100265\" xlink:href=\"#m207602a23e\" y=\"69.029912\"/>\n",
       "     <use style=\"fill:#1f77b4;stroke:#1f77b4;\" x=\"310.404933\" xlink:href=\"#m207602a23e\" y=\"57.467942\"/>\n",
       "     <use style=\"fill:#1f77b4;stroke:#1f77b4;\" x=\"310.709602\" xlink:href=\"#m207602a23e\" y=\"83.211351\"/>\n",
       "     <use style=\"fill:#1f77b4;stroke:#1f77b4;\" x=\"311.01427\" xlink:href=\"#m207602a23e\" y=\"72.55094\"/>\n",
       "     <use style=\"fill:#1f77b4;stroke:#1f77b4;\" x=\"311.318938\" xlink:href=\"#m207602a23e\" y=\"86.713968\"/>\n",
       "     <use style=\"fill:#1f77b4;stroke:#1f77b4;\" x=\"311.623606\" xlink:href=\"#m207602a23e\" y=\"61.038335\"/>\n",
       "     <use style=\"fill:#1f77b4;stroke:#1f77b4;\" x=\"311.928275\" xlink:href=\"#m207602a23e\" y=\"69.463612\"/>\n",
       "     <use style=\"fill:#1f77b4;stroke:#1f77b4;\" x=\"312.232943\" xlink:href=\"#m207602a23e\" y=\"60.858957\"/>\n",
       "     <use style=\"fill:#1f77b4;stroke:#1f77b4;\" x=\"312.537611\" xlink:href=\"#m207602a23e\" y=\"66.067783\"/>\n",
       "     <use style=\"fill:#1f77b4;stroke:#1f77b4;\" x=\"312.84228\" xlink:href=\"#m207602a23e\" y=\"67.780805\"/>\n",
       "     <use style=\"fill:#1f77b4;stroke:#1f77b4;\" x=\"313.146948\" xlink:href=\"#m207602a23e\" y=\"53.656679\"/>\n",
       "     <use style=\"fill:#1f77b4;stroke:#1f77b4;\" x=\"313.451616\" xlink:href=\"#m207602a23e\" y=\"60.488756\"/>\n",
       "     <use style=\"fill:#1f77b4;stroke:#1f77b4;\" x=\"313.756285\" xlink:href=\"#m207602a23e\" y=\"66.54356\"/>\n",
       "     <use style=\"fill:#1f77b4;stroke:#1f77b4;\" x=\"314.060953\" xlink:href=\"#m207602a23e\" y=\"78.870143\"/>\n",
       "     <use style=\"fill:#1f77b4;stroke:#1f77b4;\" x=\"314.365621\" xlink:href=\"#m207602a23e\" y=\"59.069555\"/>\n",
       "     <use style=\"fill:#1f77b4;stroke:#1f77b4;\" x=\"314.670289\" xlink:href=\"#m207602a23e\" y=\"78.917392\"/>\n",
       "     <use style=\"fill:#1f77b4;stroke:#1f77b4;\" x=\"314.974958\" xlink:href=\"#m207602a23e\" y=\"44.706537\"/>\n",
       "     <use style=\"fill:#1f77b4;stroke:#1f77b4;\" x=\"315.279626\" xlink:href=\"#m207602a23e\" y=\"69.575136\"/>\n",
       "     <use style=\"fill:#1f77b4;stroke:#1f77b4;\" x=\"315.584294\" xlink:href=\"#m207602a23e\" y=\"78.354763\"/>\n",
       "     <use style=\"fill:#1f77b4;stroke:#1f77b4;\" x=\"315.888963\" xlink:href=\"#m207602a23e\" y=\"71.39637\"/>\n",
       "     <use style=\"fill:#1f77b4;stroke:#1f77b4;\" x=\"316.193631\" xlink:href=\"#m207602a23e\" y=\"55.566548\"/>\n",
       "     <use style=\"fill:#1f77b4;stroke:#1f77b4;\" x=\"316.498299\" xlink:href=\"#m207602a23e\" y=\"79.060331\"/>\n",
       "     <use style=\"fill:#1f77b4;stroke:#1f77b4;\" x=\"316.802968\" xlink:href=\"#m207602a23e\" y=\"67.646823\"/>\n",
       "     <use style=\"fill:#1f77b4;stroke:#1f77b4;\" x=\"317.107636\" xlink:href=\"#m207602a23e\" y=\"82.957907\"/>\n",
       "     <use style=\"fill:#1f77b4;stroke:#1f77b4;\" x=\"317.412304\" xlink:href=\"#m207602a23e\" y=\"53.734153\"/>\n",
       "     <use style=\"fill:#1f77b4;stroke:#1f77b4;\" x=\"317.716973\" xlink:href=\"#m207602a23e\" y=\"71.555303\"/>\n",
       "     <use style=\"fill:#1f77b4;stroke:#1f77b4;\" x=\"318.021641\" xlink:href=\"#m207602a23e\" y=\"73.919472\"/>\n",
       "     <use style=\"fill:#1f77b4;stroke:#1f77b4;\" x=\"318.326309\" xlink:href=\"#m207602a23e\" y=\"67.073102\"/>\n",
       "     <use style=\"fill:#1f77b4;stroke:#1f77b4;\" x=\"318.630977\" xlink:href=\"#m207602a23e\" y=\"64.526261\"/>\n",
       "     <use style=\"fill:#1f77b4;stroke:#1f77b4;\" x=\"318.935646\" xlink:href=\"#m207602a23e\" y=\"60.533035\"/>\n",
       "     <use style=\"fill:#1f77b4;stroke:#1f77b4;\" x=\"319.240314\" xlink:href=\"#m207602a23e\" y=\"54.000783\"/>\n",
       "     <use style=\"fill:#1f77b4;stroke:#1f77b4;\" x=\"319.544982\" xlink:href=\"#m207602a23e\" y=\"77.526923\"/>\n",
       "     <use style=\"fill:#1f77b4;stroke:#1f77b4;\" x=\"319.849651\" xlink:href=\"#m207602a23e\" y=\"86.370545\"/>\n",
       "     <use style=\"fill:#1f77b4;stroke:#1f77b4;\" x=\"320.154319\" xlink:href=\"#m207602a23e\" y=\"59.968605\"/>\n",
       "     <use style=\"fill:#1f77b4;stroke:#1f77b4;\" x=\"320.458987\" xlink:href=\"#m207602a23e\" y=\"53.439157\"/>\n",
       "     <use style=\"fill:#1f77b4;stroke:#1f77b4;\" x=\"320.763656\" xlink:href=\"#m207602a23e\" y=\"57.993107\"/>\n",
       "     <use style=\"fill:#1f77b4;stroke:#1f77b4;\" x=\"321.068324\" xlink:href=\"#m207602a23e\" y=\"64.685073\"/>\n",
       "     <use style=\"fill:#1f77b4;stroke:#1f77b4;\" x=\"321.372992\" xlink:href=\"#m207602a23e\" y=\"66.964111\"/>\n",
       "     <use style=\"fill:#1f77b4;stroke:#1f77b4;\" x=\"321.67766\" xlink:href=\"#m207602a23e\" y=\"64.185488\"/>\n",
       "     <use style=\"fill:#1f77b4;stroke:#1f77b4;\" x=\"321.982329\" xlink:href=\"#m207602a23e\" y=\"58.835897\"/>\n",
       "     <use style=\"fill:#1f77b4;stroke:#1f77b4;\" x=\"322.286997\" xlink:href=\"#m207602a23e\" y=\"64.645609\"/>\n",
       "     <use style=\"fill:#1f77b4;stroke:#1f77b4;\" x=\"322.591665\" xlink:href=\"#m207602a23e\" y=\"41.579302\"/>\n",
       "     <use style=\"fill:#1f77b4;stroke:#1f77b4;\" x=\"322.896334\" xlink:href=\"#m207602a23e\" y=\"100.590995\"/>\n",
       "     <use style=\"fill:#1f77b4;stroke:#1f77b4;\" x=\"323.201002\" xlink:href=\"#m207602a23e\" y=\"46.988179\"/>\n",
       "     <use style=\"fill:#1f77b4;stroke:#1f77b4;\" x=\"323.50567\" xlink:href=\"#m207602a23e\" y=\"65.053837\"/>\n",
       "     <use style=\"fill:#1f77b4;stroke:#1f77b4;\" x=\"323.810339\" xlink:href=\"#m207602a23e\" y=\"54.229656\"/>\n",
       "     <use style=\"fill:#1f77b4;stroke:#1f77b4;\" x=\"324.115007\" xlink:href=\"#m207602a23e\" y=\"79.426513\"/>\n",
       "     <use style=\"fill:#1f77b4;stroke:#1f77b4;\" x=\"324.419675\" xlink:href=\"#m207602a23e\" y=\"56.286248\"/>\n",
       "     <use style=\"fill:#1f77b4;stroke:#1f77b4;\" x=\"324.724344\" xlink:href=\"#m207602a23e\" y=\"54.447187\"/>\n",
       "     <use style=\"fill:#1f77b4;stroke:#1f77b4;\" x=\"325.029012\" xlink:href=\"#m207602a23e\" y=\"56.659107\"/>\n",
       "     <use style=\"fill:#1f77b4;stroke:#1f77b4;\" x=\"325.33368\" xlink:href=\"#m207602a23e\" y=\"73.024917\"/>\n",
       "     <use style=\"fill:#1f77b4;stroke:#1f77b4;\" x=\"325.638348\" xlink:href=\"#m207602a23e\" y=\"92.079676\"/>\n",
       "     <use style=\"fill:#1f77b4;stroke:#1f77b4;\" x=\"325.943017\" xlink:href=\"#m207602a23e\" y=\"45.477171\"/>\n",
       "     <use style=\"fill:#1f77b4;stroke:#1f77b4;\" x=\"326.247685\" xlink:href=\"#m207602a23e\" y=\"72.717935\"/>\n",
       "     <use style=\"fill:#1f77b4;stroke:#1f77b4;\" x=\"326.552353\" xlink:href=\"#m207602a23e\" y=\"87.373632\"/>\n",
       "     <use style=\"fill:#1f77b4;stroke:#1f77b4;\" x=\"326.857022\" xlink:href=\"#m207602a23e\" y=\"49.864223\"/>\n",
       "     <use style=\"fill:#1f77b4;stroke:#1f77b4;\" x=\"327.16169\" xlink:href=\"#m207602a23e\" y=\"55.13669\"/>\n",
       "     <use style=\"fill:#1f77b4;stroke:#1f77b4;\" x=\"327.466358\" xlink:href=\"#m207602a23e\" y=\"56.713997\"/>\n",
       "     <use style=\"fill:#1f77b4;stroke:#1f77b4;\" x=\"327.771027\" xlink:href=\"#m207602a23e\" y=\"92.06168\"/>\n",
       "     <use style=\"fill:#1f77b4;stroke:#1f77b4;\" x=\"328.075695\" xlink:href=\"#m207602a23e\" y=\"55.469173\"/>\n",
       "     <use style=\"fill:#1f77b4;stroke:#1f77b4;\" x=\"328.380363\" xlink:href=\"#m207602a23e\" y=\"44.744597\"/>\n",
       "     <use style=\"fill:#1f77b4;stroke:#1f77b4;\" x=\"328.685031\" xlink:href=\"#m207602a23e\" y=\"77.702955\"/>\n",
       "     <use style=\"fill:#1f77b4;stroke:#1f77b4;\" x=\"328.9897\" xlink:href=\"#m207602a23e\" y=\"17.083636\"/>\n",
       "     <use style=\"fill:#1f77b4;stroke:#1f77b4;\" x=\"329.294368\" xlink:href=\"#m207602a23e\" y=\"60.986746\"/>\n",
       "     <use style=\"fill:#1f77b4;stroke:#1f77b4;\" x=\"329.599036\" xlink:href=\"#m207602a23e\" y=\"79.641509\"/>\n",
       "     <use style=\"fill:#1f77b4;stroke:#1f77b4;\" x=\"329.903705\" xlink:href=\"#m207602a23e\" y=\"61.35829\"/>\n",
       "     <use style=\"fill:#1f77b4;stroke:#1f77b4;\" x=\"330.208373\" xlink:href=\"#m207602a23e\" y=\"60.766218\"/>\n",
       "     <use style=\"fill:#1f77b4;stroke:#1f77b4;\" x=\"330.513041\" xlink:href=\"#m207602a23e\" y=\"64.058319\"/>\n",
       "     <use style=\"fill:#1f77b4;stroke:#1f77b4;\" x=\"330.81771\" xlink:href=\"#m207602a23e\" y=\"68.184944\"/>\n",
       "     <use style=\"fill:#1f77b4;stroke:#1f77b4;\" x=\"331.122378\" xlink:href=\"#m207602a23e\" y=\"47.856437\"/>\n",
       "     <use style=\"fill:#1f77b4;stroke:#1f77b4;\" x=\"331.427046\" xlink:href=\"#m207602a23e\" y=\"56.270475\"/>\n",
       "     <use style=\"fill:#1f77b4;stroke:#1f77b4;\" x=\"331.731715\" xlink:href=\"#m207602a23e\" y=\"64.408415\"/>\n",
       "     <use style=\"fill:#1f77b4;stroke:#1f77b4;\" x=\"332.036383\" xlink:href=\"#m207602a23e\" y=\"46.846115\"/>\n",
       "     <use style=\"fill:#1f77b4;stroke:#1f77b4;\" x=\"332.341051\" xlink:href=\"#m207602a23e\" y=\"72.740481\"/>\n",
       "     <use style=\"fill:#1f77b4;stroke:#1f77b4;\" x=\"332.645719\" xlink:href=\"#m207602a23e\" y=\"62.451418\"/>\n",
       "     <use style=\"fill:#1f77b4;stroke:#1f77b4;\" x=\"332.950388\" xlink:href=\"#m207602a23e\" y=\"55.640509\"/>\n",
       "     <use style=\"fill:#1f77b4;stroke:#1f77b4;\" x=\"333.255056\" xlink:href=\"#m207602a23e\" y=\"65.624064\"/>\n",
       "     <use style=\"fill:#1f77b4;stroke:#1f77b4;\" x=\"333.559724\" xlink:href=\"#m207602a23e\" y=\"67.72735\"/>\n",
       "     <use style=\"fill:#1f77b4;stroke:#1f77b4;\" x=\"333.864393\" xlink:href=\"#m207602a23e\" y=\"52.751597\"/>\n",
       "     <use style=\"fill:#1f77b4;stroke:#1f77b4;\" x=\"334.169061\" xlink:href=\"#m207602a23e\" y=\"47.467234\"/>\n",
       "     <use style=\"fill:#1f77b4;stroke:#1f77b4;\" x=\"334.473729\" xlink:href=\"#m207602a23e\" y=\"63.459324\"/>\n",
       "     <use style=\"fill:#1f77b4;stroke:#1f77b4;\" x=\"334.778398\" xlink:href=\"#m207602a23e\" y=\"88.36381\"/>\n",
       "     <use style=\"fill:#1f77b4;stroke:#1f77b4;\" x=\"335.083066\" xlink:href=\"#m207602a23e\" y=\"55.805408\"/>\n",
       "     <use style=\"fill:#1f77b4;stroke:#1f77b4;\" x=\"335.387734\" xlink:href=\"#m207602a23e\" y=\"77.431567\"/>\n",
       "     <use style=\"fill:#1f77b4;stroke:#1f77b4;\" x=\"335.692402\" xlink:href=\"#m207602a23e\" y=\"60.581741\"/>\n",
       "     <use style=\"fill:#1f77b4;stroke:#1f77b4;\" x=\"335.997071\" xlink:href=\"#m207602a23e\" y=\"56.521487\"/>\n",
       "     <use style=\"fill:#1f77b4;stroke:#1f77b4;\" x=\"336.301739\" xlink:href=\"#m207602a23e\" y=\"64.775299\"/>\n",
       "     <use style=\"fill:#1f77b4;stroke:#1f77b4;\" x=\"336.606407\" xlink:href=\"#m207602a23e\" y=\"42.855993\"/>\n",
       "     <use style=\"fill:#1f77b4;stroke:#1f77b4;\" x=\"336.911076\" xlink:href=\"#m207602a23e\" y=\"52.798737\"/>\n",
       "     <use style=\"fill:#1f77b4;stroke:#1f77b4;\" x=\"337.215744\" xlink:href=\"#m207602a23e\" y=\"25.455571\"/>\n",
       "     <use style=\"fill:#1f77b4;stroke:#1f77b4;\" x=\"337.520412\" xlink:href=\"#m207602a23e\" y=\"59.605591\"/>\n",
       "     <use style=\"fill:#1f77b4;stroke:#1f77b4;\" x=\"337.825081\" xlink:href=\"#m207602a23e\" y=\"50.73043\"/>\n",
       "     <use style=\"fill:#1f77b4;stroke:#1f77b4;\" x=\"338.129749\" xlink:href=\"#m207602a23e\" y=\"39.882165\"/>\n",
       "     <use style=\"fill:#1f77b4;stroke:#1f77b4;\" x=\"338.434417\" xlink:href=\"#m207602a23e\" y=\"67.373387\"/>\n",
       "     <use style=\"fill:#1f77b4;stroke:#1f77b4;\" x=\"338.739086\" xlink:href=\"#m207602a23e\" y=\"56.06104\"/>\n",
       "     <use style=\"fill:#1f77b4;stroke:#1f77b4;\" x=\"339.043754\" xlink:href=\"#m207602a23e\" y=\"66.672808\"/>\n",
       "     <use style=\"fill:#1f77b4;stroke:#1f77b4;\" x=\"339.348422\" xlink:href=\"#m207602a23e\" y=\"41.515573\"/>\n",
       "     <use style=\"fill:#1f77b4;stroke:#1f77b4;\" x=\"339.65309\" xlink:href=\"#m207602a23e\" y=\"46.127413\"/>\n",
       "     <use style=\"fill:#1f77b4;stroke:#1f77b4;\" x=\"339.957759\" xlink:href=\"#m207602a23e\" y=\"34.915245\"/>\n",
       "     <use style=\"fill:#1f77b4;stroke:#1f77b4;\" x=\"340.262427\" xlink:href=\"#m207602a23e\" y=\"35.736002\"/>\n",
       "     <use style=\"fill:#1f77b4;stroke:#1f77b4;\" x=\"340.567095\" xlink:href=\"#m207602a23e\" y=\"49.918503\"/>\n",
       "     <use style=\"fill:#1f77b4;stroke:#1f77b4;\" x=\"340.871764\" xlink:href=\"#m207602a23e\" y=\"77.188998\"/>\n",
       "     <use style=\"fill:#1f77b4;stroke:#1f77b4;\" x=\"341.176432\" xlink:href=\"#m207602a23e\" y=\"40.011908\"/>\n",
       "     <use style=\"fill:#1f77b4;stroke:#1f77b4;\" x=\"341.4811\" xlink:href=\"#m207602a23e\" y=\"38.910603\"/>\n",
       "     <use style=\"fill:#1f77b4;stroke:#1f77b4;\" x=\"341.785769\" xlink:href=\"#m207602a23e\" y=\"62.514384\"/>\n",
       "     <use style=\"fill:#1f77b4;stroke:#1f77b4;\" x=\"342.090437\" xlink:href=\"#m207602a23e\" y=\"55.373768\"/>\n",
       "     <use style=\"fill:#1f77b4;stroke:#1f77b4;\" x=\"342.395105\" xlink:href=\"#m207602a23e\" y=\"46.785589\"/>\n",
       "     <use style=\"fill:#1f77b4;stroke:#1f77b4;\" x=\"342.699773\" xlink:href=\"#m207602a23e\" y=\"84.730609\"/>\n",
       "     <use style=\"fill:#1f77b4;stroke:#1f77b4;\" x=\"343.004442\" xlink:href=\"#m207602a23e\" y=\"21.315521\"/>\n",
       "     <use style=\"fill:#1f77b4;stroke:#1f77b4;\" x=\"343.30911\" xlink:href=\"#m207602a23e\" y=\"44.332643\"/>\n",
       "     <use style=\"fill:#1f77b4;stroke:#1f77b4;\" x=\"343.613778\" xlink:href=\"#m207602a23e\" y=\"38.625873\"/>\n",
       "     <use style=\"fill:#1f77b4;stroke:#1f77b4;\" x=\"343.918447\" xlink:href=\"#m207602a23e\" y=\"51.357224\"/>\n",
       "     <use style=\"fill:#1f77b4;stroke:#1f77b4;\" x=\"344.223115\" xlink:href=\"#m207602a23e\" y=\"45.549888\"/>\n",
       "     <use style=\"fill:#1f77b4;stroke:#1f77b4;\" x=\"344.527783\" xlink:href=\"#m207602a23e\" y=\"55.377917\"/>\n",
       "     <use style=\"fill:#1f77b4;stroke:#1f77b4;\" x=\"344.832452\" xlink:href=\"#m207602a23e\" y=\"25.485016\"/>\n",
       "     <use style=\"fill:#1f77b4;stroke:#1f77b4;\" x=\"345.13712\" xlink:href=\"#m207602a23e\" y=\"47.92418\"/>\n",
       "     <use style=\"fill:#1f77b4;stroke:#1f77b4;\" x=\"345.441788\" xlink:href=\"#m207602a23e\" y=\"56.808726\"/>\n",
       "     <use style=\"fill:#1f77b4;stroke:#1f77b4;\" x=\"345.746457\" xlink:href=\"#m207602a23e\" y=\"70.512\"/>\n",
       "     <use style=\"fill:#1f77b4;stroke:#1f77b4;\" x=\"346.051125\" xlink:href=\"#m207602a23e\" y=\"77.396987\"/>\n",
       "     <use style=\"fill:#1f77b4;stroke:#1f77b4;\" x=\"346.355793\" xlink:href=\"#m207602a23e\" y=\"59.910164\"/>\n",
       "     <use style=\"fill:#1f77b4;stroke:#1f77b4;\" x=\"346.660461\" xlink:href=\"#m207602a23e\" y=\"54.677279\"/>\n",
       "     <use style=\"fill:#1f77b4;stroke:#1f77b4;\" x=\"346.96513\" xlink:href=\"#m207602a23e\" y=\"33.861137\"/>\n",
       "     <use style=\"fill:#1f77b4;stroke:#1f77b4;\" x=\"347.269798\" xlink:href=\"#m207602a23e\" y=\"52.424459\"/>\n",
       "     <use style=\"fill:#1f77b4;stroke:#1f77b4;\" x=\"347.574466\" xlink:href=\"#m207602a23e\" y=\"79.773144\"/>\n",
       "     <use style=\"fill:#1f77b4;stroke:#1f77b4;\" x=\"347.879135\" xlink:href=\"#m207602a23e\" y=\"56.080514\"/>\n",
       "     <use style=\"fill:#1f77b4;stroke:#1f77b4;\" x=\"348.183803\" xlink:href=\"#m207602a23e\" y=\"58.550103\"/>\n",
       "     <use style=\"fill:#1f77b4;stroke:#1f77b4;\" x=\"348.488471\" xlink:href=\"#m207602a23e\" y=\"64.31902\"/>\n",
       "     <use style=\"fill:#1f77b4;stroke:#1f77b4;\" x=\"348.79314\" xlink:href=\"#m207602a23e\" y=\"49.799439\"/>\n",
       "     <use style=\"fill:#1f77b4;stroke:#1f77b4;\" x=\"349.097808\" xlink:href=\"#m207602a23e\" y=\"66.84199\"/>\n",
       "     <use style=\"fill:#1f77b4;stroke:#1f77b4;\" x=\"349.402476\" xlink:href=\"#m207602a23e\" y=\"44.637939\"/>\n",
       "     <use style=\"fill:#1f77b4;stroke:#1f77b4;\" x=\"349.707145\" xlink:href=\"#m207602a23e\" y=\"51.137784\"/>\n",
       "     <use style=\"fill:#1f77b4;stroke:#1f77b4;\" x=\"350.011813\" xlink:href=\"#m207602a23e\" y=\"27.831492\"/>\n",
       "     <use style=\"fill:#1f77b4;stroke:#1f77b4;\" x=\"350.316481\" xlink:href=\"#m207602a23e\" y=\"53.169972\"/>\n",
       "     <use style=\"fill:#1f77b4;stroke:#1f77b4;\" x=\"350.621149\" xlink:href=\"#m207602a23e\" y=\"43.678367\"/>\n",
       "     <use style=\"fill:#1f77b4;stroke:#1f77b4;\" x=\"350.925818\" xlink:href=\"#m207602a23e\" y=\"33.834875\"/>\n",
       "     <use style=\"fill:#1f77b4;stroke:#1f77b4;\" x=\"351.230486\" xlink:href=\"#m207602a23e\" y=\"41.777815\"/>\n",
       "     <use style=\"fill:#1f77b4;stroke:#1f77b4;\" x=\"351.535154\" xlink:href=\"#m207602a23e\" y=\"50.931772\"/>\n",
       "     <use style=\"fill:#1f77b4;stroke:#1f77b4;\" x=\"351.839823\" xlink:href=\"#m207602a23e\" y=\"43.93303\"/>\n",
       "     <use style=\"fill:#1f77b4;stroke:#1f77b4;\" x=\"352.144491\" xlink:href=\"#m207602a23e\" y=\"29.294899\"/>\n",
       "     <use style=\"fill:#1f77b4;stroke:#1f77b4;\" x=\"352.449159\" xlink:href=\"#m207602a23e\" y=\"28.719662\"/>\n",
       "     <use style=\"fill:#1f77b4;stroke:#1f77b4;\" x=\"352.753828\" xlink:href=\"#m207602a23e\" y=\"30.210312\"/>\n",
       "     <use style=\"fill:#1f77b4;stroke:#1f77b4;\" x=\"353.058496\" xlink:href=\"#m207602a23e\" y=\"44.760985\"/>\n",
       "     <use style=\"fill:#1f77b4;stroke:#1f77b4;\" x=\"353.363164\" xlink:href=\"#m207602a23e\" y=\"36.761113\"/>\n",
       "     <use style=\"fill:#1f77b4;stroke:#1f77b4;\" x=\"353.667832\" xlink:href=\"#m207602a23e\" y=\"41.530821\"/>\n",
       "     <use style=\"fill:#1f77b4;stroke:#1f77b4;\" x=\"353.972501\" xlink:href=\"#m207602a23e\" y=\"47.170107\"/>\n",
       "     <use style=\"fill:#1f77b4;stroke:#1f77b4;\" x=\"354.277169\" xlink:href=\"#m207602a23e\" y=\"33.550237\"/>\n",
       "     <use style=\"fill:#1f77b4;stroke:#1f77b4;\" x=\"354.581837\" xlink:href=\"#m207602a23e\" y=\"63.045782\"/>\n",
       "     <use style=\"fill:#1f77b4;stroke:#1f77b4;\" x=\"354.886506\" xlink:href=\"#m207602a23e\" y=\"70.871624\"/>\n",
       "    </g>\n",
       "   </g>\n",
       "   <g id=\"matplotlib.axis_1\">\n",
       "    <g id=\"xtick_1\">\n",
       "     <g id=\"line2d_1\">\n",
       "      <defs>\n",
       "       <path d=\"M 0 0 \n",
       "L 0 3.5 \n",
       "\" id=\"m28ea4b1c21\" style=\"stroke:#000000;stroke-width:0.8;\"/>\n",
       "      </defs>\n",
       "      <g>\n",
       "       <use style=\"stroke:#000000;stroke-width:0.8;\" x=\"50.522869\" xlink:href=\"#m28ea4b1c21\" y=\"224.64\"/>\n",
       "      </g>\n",
       "     </g>\n",
       "     <g id=\"text_1\">\n",
       "      <!-- −10.0 -->\n",
       "      <g transform=\"translate(35.200213 239.238437)scale(0.1 -0.1)\">\n",
       "       <defs>\n",
       "        <path d=\"M 10.59375 35.5 \n",
       "L 73.1875 35.5 \n",
       "L 73.1875 27.203125 \n",
       "L 10.59375 27.203125 \n",
       "z\n",
       "\" id=\"DejaVuSans-8722\"/>\n",
       "        <path d=\"M 12.40625 8.296875 \n",
       "L 28.515625 8.296875 \n",
       "L 28.515625 63.921875 \n",
       "L 10.984375 60.40625 \n",
       "L 10.984375 69.390625 \n",
       "L 28.421875 72.90625 \n",
       "L 38.28125 72.90625 \n",
       "L 38.28125 8.296875 \n",
       "L 54.390625 8.296875 \n",
       "L 54.390625 0 \n",
       "L 12.40625 0 \n",
       "z\n",
       "\" id=\"DejaVuSans-49\"/>\n",
       "        <path d=\"M 31.78125 66.40625 \n",
       "Q 24.171875 66.40625 20.328125 58.90625 \n",
       "Q 16.5 51.421875 16.5 36.375 \n",
       "Q 16.5 21.390625 20.328125 13.890625 \n",
       "Q 24.171875 6.390625 31.78125 6.390625 \n",
       "Q 39.453125 6.390625 43.28125 13.890625 \n",
       "Q 47.125 21.390625 47.125 36.375 \n",
       "Q 47.125 51.421875 43.28125 58.90625 \n",
       "Q 39.453125 66.40625 31.78125 66.40625 \n",
       "z\n",
       "M 31.78125 74.21875 \n",
       "Q 44.046875 74.21875 50.515625 64.515625 \n",
       "Q 56.984375 54.828125 56.984375 36.375 \n",
       "Q 56.984375 17.96875 50.515625 8.265625 \n",
       "Q 44.046875 -1.421875 31.78125 -1.421875 \n",
       "Q 19.53125 -1.421875 13.0625 8.265625 \n",
       "Q 6.59375 17.96875 6.59375 36.375 \n",
       "Q 6.59375 54.828125 13.0625 64.515625 \n",
       "Q 19.53125 74.21875 31.78125 74.21875 \n",
       "z\n",
       "\" id=\"DejaVuSans-48\"/>\n",
       "        <path d=\"M 10.6875 12.40625 \n",
       "L 21 12.40625 \n",
       "L 21 0 \n",
       "L 10.6875 0 \n",
       "z\n",
       "\" id=\"DejaVuSans-46\"/>\n",
       "       </defs>\n",
       "       <use xlink:href=\"#DejaVuSans-8722\"/>\n",
       "       <use x=\"83.789062\" xlink:href=\"#DejaVuSans-49\"/>\n",
       "       <use x=\"147.412109\" xlink:href=\"#DejaVuSans-48\"/>\n",
       "       <use x=\"211.035156\" xlink:href=\"#DejaVuSans-46\"/>\n",
       "       <use x=\"242.822266\" xlink:href=\"#DejaVuSans-48\"/>\n",
       "      </g>\n",
       "     </g>\n",
       "    </g>\n",
       "    <g id=\"xtick_2\">\n",
       "     <g id=\"line2d_2\">\n",
       "      <g>\n",
       "       <use style=\"stroke:#000000;stroke-width:0.8;\" x=\"88.568324\" xlink:href=\"#m28ea4b1c21\" y=\"224.64\"/>\n",
       "      </g>\n",
       "     </g>\n",
       "     <g id=\"text_2\">\n",
       "      <!-- −7.5 -->\n",
       "      <g transform=\"translate(76.426918 239.238437)scale(0.1 -0.1)\">\n",
       "       <defs>\n",
       "        <path d=\"M 8.203125 72.90625 \n",
       "L 55.078125 72.90625 \n",
       "L 55.078125 68.703125 \n",
       "L 28.609375 0 \n",
       "L 18.3125 0 \n",
       "L 43.21875 64.59375 \n",
       "L 8.203125 64.59375 \n",
       "z\n",
       "\" id=\"DejaVuSans-55\"/>\n",
       "        <path d=\"M 10.796875 72.90625 \n",
       "L 49.515625 72.90625 \n",
       "L 49.515625 64.59375 \n",
       "L 19.828125 64.59375 \n",
       "L 19.828125 46.734375 \n",
       "Q 21.96875 47.46875 24.109375 47.828125 \n",
       "Q 26.265625 48.1875 28.421875 48.1875 \n",
       "Q 40.625 48.1875 47.75 41.5 \n",
       "Q 54.890625 34.8125 54.890625 23.390625 \n",
       "Q 54.890625 11.625 47.5625 5.09375 \n",
       "Q 40.234375 -1.421875 26.90625 -1.421875 \n",
       "Q 22.3125 -1.421875 17.546875 -0.640625 \n",
       "Q 12.796875 0.140625 7.71875 1.703125 \n",
       "L 7.71875 11.625 \n",
       "Q 12.109375 9.234375 16.796875 8.0625 \n",
       "Q 21.484375 6.890625 26.703125 6.890625 \n",
       "Q 35.15625 6.890625 40.078125 11.328125 \n",
       "Q 45.015625 15.765625 45.015625 23.390625 \n",
       "Q 45.015625 31 40.078125 35.4375 \n",
       "Q 35.15625 39.890625 26.703125 39.890625 \n",
       "Q 22.75 39.890625 18.8125 39.015625 \n",
       "Q 14.890625 38.140625 10.796875 36.28125 \n",
       "z\n",
       "\" id=\"DejaVuSans-53\"/>\n",
       "       </defs>\n",
       "       <use xlink:href=\"#DejaVuSans-8722\"/>\n",
       "       <use x=\"83.789062\" xlink:href=\"#DejaVuSans-55\"/>\n",
       "       <use x=\"147.412109\" xlink:href=\"#DejaVuSans-46\"/>\n",
       "       <use x=\"179.199219\" xlink:href=\"#DejaVuSans-53\"/>\n",
       "      </g>\n",
       "     </g>\n",
       "    </g>\n",
       "    <g id=\"xtick_3\">\n",
       "     <g id=\"line2d_3\">\n",
       "      <g>\n",
       "       <use style=\"stroke:#000000;stroke-width:0.8;\" x=\"126.613778\" xlink:href=\"#m28ea4b1c21\" y=\"224.64\"/>\n",
       "      </g>\n",
       "     </g>\n",
       "     <g id=\"text_3\">\n",
       "      <!-- −5.0 -->\n",
       "      <g transform=\"translate(114.472372 239.238437)scale(0.1 -0.1)\">\n",
       "       <use xlink:href=\"#DejaVuSans-8722\"/>\n",
       "       <use x=\"83.789062\" xlink:href=\"#DejaVuSans-53\"/>\n",
       "       <use x=\"147.412109\" xlink:href=\"#DejaVuSans-46\"/>\n",
       "       <use x=\"179.199219\" xlink:href=\"#DejaVuSans-48\"/>\n",
       "      </g>\n",
       "     </g>\n",
       "    </g>\n",
       "    <g id=\"xtick_4\">\n",
       "     <g id=\"line2d_4\">\n",
       "      <g>\n",
       "       <use style=\"stroke:#000000;stroke-width:0.8;\" x=\"164.659233\" xlink:href=\"#m28ea4b1c21\" y=\"224.64\"/>\n",
       "      </g>\n",
       "     </g>\n",
       "     <g id=\"text_4\">\n",
       "      <!-- −2.5 -->\n",
       "      <g transform=\"translate(152.517827 239.238437)scale(0.1 -0.1)\">\n",
       "       <defs>\n",
       "        <path d=\"M 19.1875 8.296875 \n",
       "L 53.609375 8.296875 \n",
       "L 53.609375 0 \n",
       "L 7.328125 0 \n",
       "L 7.328125 8.296875 \n",
       "Q 12.9375 14.109375 22.625 23.890625 \n",
       "Q 32.328125 33.6875 34.8125 36.53125 \n",
       "Q 39.546875 41.84375 41.421875 45.53125 \n",
       "Q 43.3125 49.21875 43.3125 52.78125 \n",
       "Q 43.3125 58.59375 39.234375 62.25 \n",
       "Q 35.15625 65.921875 28.609375 65.921875 \n",
       "Q 23.96875 65.921875 18.8125 64.3125 \n",
       "Q 13.671875 62.703125 7.8125 59.421875 \n",
       "L 7.8125 69.390625 \n",
       "Q 13.765625 71.78125 18.9375 73 \n",
       "Q 24.125 74.21875 28.421875 74.21875 \n",
       "Q 39.75 74.21875 46.484375 68.546875 \n",
       "Q 53.21875 62.890625 53.21875 53.421875 \n",
       "Q 53.21875 48.921875 51.53125 44.890625 \n",
       "Q 49.859375 40.875 45.40625 35.40625 \n",
       "Q 44.1875 33.984375 37.640625 27.21875 \n",
       "Q 31.109375 20.453125 19.1875 8.296875 \n",
       "z\n",
       "\" id=\"DejaVuSans-50\"/>\n",
       "       </defs>\n",
       "       <use xlink:href=\"#DejaVuSans-8722\"/>\n",
       "       <use x=\"83.789062\" xlink:href=\"#DejaVuSans-50\"/>\n",
       "       <use x=\"147.412109\" xlink:href=\"#DejaVuSans-46\"/>\n",
       "       <use x=\"179.199219\" xlink:href=\"#DejaVuSans-53\"/>\n",
       "      </g>\n",
       "     </g>\n",
       "    </g>\n",
       "    <g id=\"xtick_5\">\n",
       "     <g id=\"line2d_5\">\n",
       "      <g>\n",
       "       <use style=\"stroke:#000000;stroke-width:0.8;\" x=\"202.704688\" xlink:href=\"#m28ea4b1c21\" y=\"224.64\"/>\n",
       "      </g>\n",
       "     </g>\n",
       "     <g id=\"text_5\">\n",
       "      <!-- 0.0 -->\n",
       "      <g transform=\"translate(194.753125 239.238437)scale(0.1 -0.1)\">\n",
       "       <use xlink:href=\"#DejaVuSans-48\"/>\n",
       "       <use x=\"63.623047\" xlink:href=\"#DejaVuSans-46\"/>\n",
       "       <use x=\"95.410156\" xlink:href=\"#DejaVuSans-48\"/>\n",
       "      </g>\n",
       "     </g>\n",
       "    </g>\n",
       "    <g id=\"xtick_6\">\n",
       "     <g id=\"line2d_6\">\n",
       "      <g>\n",
       "       <use style=\"stroke:#000000;stroke-width:0.8;\" x=\"240.750142\" xlink:href=\"#m28ea4b1c21\" y=\"224.64\"/>\n",
       "      </g>\n",
       "     </g>\n",
       "     <g id=\"text_6\">\n",
       "      <!-- 2.5 -->\n",
       "      <g transform=\"translate(232.79858 239.238437)scale(0.1 -0.1)\">\n",
       "       <use xlink:href=\"#DejaVuSans-50\"/>\n",
       "       <use x=\"63.623047\" xlink:href=\"#DejaVuSans-46\"/>\n",
       "       <use x=\"95.410156\" xlink:href=\"#DejaVuSans-53\"/>\n",
       "      </g>\n",
       "     </g>\n",
       "    </g>\n",
       "    <g id=\"xtick_7\">\n",
       "     <g id=\"line2d_7\">\n",
       "      <g>\n",
       "       <use style=\"stroke:#000000;stroke-width:0.8;\" x=\"278.795597\" xlink:href=\"#m28ea4b1c21\" y=\"224.64\"/>\n",
       "      </g>\n",
       "     </g>\n",
       "     <g id=\"text_7\">\n",
       "      <!-- 5.0 -->\n",
       "      <g transform=\"translate(270.844034 239.238437)scale(0.1 -0.1)\">\n",
       "       <use xlink:href=\"#DejaVuSans-53\"/>\n",
       "       <use x=\"63.623047\" xlink:href=\"#DejaVuSans-46\"/>\n",
       "       <use x=\"95.410156\" xlink:href=\"#DejaVuSans-48\"/>\n",
       "      </g>\n",
       "     </g>\n",
       "    </g>\n",
       "    <g id=\"xtick_8\">\n",
       "     <g id=\"line2d_8\">\n",
       "      <g>\n",
       "       <use style=\"stroke:#000000;stroke-width:0.8;\" x=\"316.841051\" xlink:href=\"#m28ea4b1c21\" y=\"224.64\"/>\n",
       "      </g>\n",
       "     </g>\n",
       "     <g id=\"text_8\">\n",
       "      <!-- 7.5 -->\n",
       "      <g transform=\"translate(308.889489 239.238437)scale(0.1 -0.1)\">\n",
       "       <use xlink:href=\"#DejaVuSans-55\"/>\n",
       "       <use x=\"63.623047\" xlink:href=\"#DejaVuSans-46\"/>\n",
       "       <use x=\"95.410156\" xlink:href=\"#DejaVuSans-53\"/>\n",
       "      </g>\n",
       "     </g>\n",
       "    </g>\n",
       "    <g id=\"xtick_9\">\n",
       "     <g id=\"line2d_9\">\n",
       "      <g>\n",
       "       <use style=\"stroke:#000000;stroke-width:0.8;\" x=\"354.886506\" xlink:href=\"#m28ea4b1c21\" y=\"224.64\"/>\n",
       "      </g>\n",
       "     </g>\n",
       "     <g id=\"text_9\">\n",
       "      <!-- 10.0 -->\n",
       "      <g transform=\"translate(343.753693 239.238437)scale(0.1 -0.1)\">\n",
       "       <use xlink:href=\"#DejaVuSans-49\"/>\n",
       "       <use x=\"63.623047\" xlink:href=\"#DejaVuSans-48\"/>\n",
       "       <use x=\"127.246094\" xlink:href=\"#DejaVuSans-46\"/>\n",
       "       <use x=\"159.033203\" xlink:href=\"#DejaVuSans-48\"/>\n",
       "      </g>\n",
       "     </g>\n",
       "    </g>\n",
       "   </g>\n",
       "   <g id=\"matplotlib.axis_2\">\n",
       "    <g id=\"ytick_1\">\n",
       "     <g id=\"line2d_10\">\n",
       "      <defs>\n",
       "       <path d=\"M 0 0 \n",
       "L -3.5 0 \n",
       "\" id=\"ma5d6176074\" style=\"stroke:#000000;stroke-width:0.8;\"/>\n",
       "      </defs>\n",
       "      <g>\n",
       "       <use style=\"stroke:#000000;stroke-width:0.8;\" x=\"35.304688\" xlink:href=\"#ma5d6176074\" y=\"211.724912\"/>\n",
       "      </g>\n",
       "     </g>\n",
       "     <g id=\"text_10\">\n",
       "      <!-- −40 -->\n",
       "      <g transform=\"translate(7.2 215.524131)scale(0.1 -0.1)\">\n",
       "       <defs>\n",
       "        <path d=\"M 37.796875 64.3125 \n",
       "L 12.890625 25.390625 \n",
       "L 37.796875 25.390625 \n",
       "z\n",
       "M 35.203125 72.90625 \n",
       "L 47.609375 72.90625 \n",
       "L 47.609375 25.390625 \n",
       "L 58.015625 25.390625 \n",
       "L 58.015625 17.1875 \n",
       "L 47.609375 17.1875 \n",
       "L 47.609375 0 \n",
       "L 37.796875 0 \n",
       "L 37.796875 17.1875 \n",
       "L 4.890625 17.1875 \n",
       "L 4.890625 26.703125 \n",
       "z\n",
       "\" id=\"DejaVuSans-52\"/>\n",
       "       </defs>\n",
       "       <use xlink:href=\"#DejaVuSans-8722\"/>\n",
       "       <use x=\"83.789062\" xlink:href=\"#DejaVuSans-52\"/>\n",
       "       <use x=\"147.412109\" xlink:href=\"#DejaVuSans-48\"/>\n",
       "      </g>\n",
       "     </g>\n",
       "    </g>\n",
       "    <g id=\"ytick_2\">\n",
       "     <g id=\"line2d_11\">\n",
       "      <g>\n",
       "       <use style=\"stroke:#000000;stroke-width:0.8;\" x=\"35.304688\" xlink:href=\"#ma5d6176074\" y=\"164.928676\"/>\n",
       "      </g>\n",
       "     </g>\n",
       "     <g id=\"text_11\">\n",
       "      <!-- −20 -->\n",
       "      <g transform=\"translate(7.2 168.727895)scale(0.1 -0.1)\">\n",
       "       <use xlink:href=\"#DejaVuSans-8722\"/>\n",
       "       <use x=\"83.789062\" xlink:href=\"#DejaVuSans-50\"/>\n",
       "       <use x=\"147.412109\" xlink:href=\"#DejaVuSans-48\"/>\n",
       "      </g>\n",
       "     </g>\n",
       "    </g>\n",
       "    <g id=\"ytick_3\">\n",
       "     <g id=\"line2d_12\">\n",
       "      <g>\n",
       "       <use style=\"stroke:#000000;stroke-width:0.8;\" x=\"35.304688\" xlink:href=\"#ma5d6176074\" y=\"118.132441\"/>\n",
       "      </g>\n",
       "     </g>\n",
       "     <g id=\"text_12\">\n",
       "      <!-- 0 -->\n",
       "      <g transform=\"translate(21.942188 121.931659)scale(0.1 -0.1)\">\n",
       "       <use xlink:href=\"#DejaVuSans-48\"/>\n",
       "      </g>\n",
       "     </g>\n",
       "    </g>\n",
       "    <g id=\"ytick_4\">\n",
       "     <g id=\"line2d_13\">\n",
       "      <g>\n",
       "       <use style=\"stroke:#000000;stroke-width:0.8;\" x=\"35.304688\" xlink:href=\"#ma5d6176074\" y=\"71.336205\"/>\n",
       "      </g>\n",
       "     </g>\n",
       "     <g id=\"text_13\">\n",
       "      <!-- 20 -->\n",
       "      <g transform=\"translate(15.579688 75.135424)scale(0.1 -0.1)\">\n",
       "       <use xlink:href=\"#DejaVuSans-50\"/>\n",
       "       <use x=\"63.623047\" xlink:href=\"#DejaVuSans-48\"/>\n",
       "      </g>\n",
       "     </g>\n",
       "    </g>\n",
       "    <g id=\"ytick_5\">\n",
       "     <g id=\"line2d_14\">\n",
       "      <g>\n",
       "       <use style=\"stroke:#000000;stroke-width:0.8;\" x=\"35.304688\" xlink:href=\"#ma5d6176074\" y=\"24.53997\"/>\n",
       "      </g>\n",
       "     </g>\n",
       "     <g id=\"text_14\">\n",
       "      <!-- 40 -->\n",
       "      <g transform=\"translate(15.579688 28.339188)scale(0.1 -0.1)\">\n",
       "       <use xlink:href=\"#DejaVuSans-52\"/>\n",
       "       <use x=\"63.623047\" xlink:href=\"#DejaVuSans-48\"/>\n",
       "      </g>\n",
       "     </g>\n",
       "    </g>\n",
       "   </g>\n",
       "   <g id=\"patch_3\">\n",
       "    <path d=\"M 35.304688 224.64 \n",
       "L 35.304688 7.2 \n",
       "\" style=\"fill:none;stroke:#000000;stroke-linecap:square;stroke-linejoin:miter;stroke-width:0.8;\"/>\n",
       "   </g>\n",
       "   <g id=\"patch_4\">\n",
       "    <path d=\"M 370.104688 224.64 \n",
       "L 370.104688 7.2 \n",
       "\" style=\"fill:none;stroke:#000000;stroke-linecap:square;stroke-linejoin:miter;stroke-width:0.8;\"/>\n",
       "   </g>\n",
       "   <g id=\"patch_5\">\n",
       "    <path d=\"M 35.304688 224.64 \n",
       "L 370.104688 224.64 \n",
       "\" style=\"fill:none;stroke:#000000;stroke-linecap:square;stroke-linejoin:miter;stroke-width:0.8;\"/>\n",
       "   </g>\n",
       "   <g id=\"patch_6\">\n",
       "    <path d=\"M 35.304688 7.2 \n",
       "L 370.104688 7.2 \n",
       "\" style=\"fill:none;stroke:#000000;stroke-linecap:square;stroke-linejoin:miter;stroke-width:0.8;\"/>\n",
       "   </g>\n",
       "  </g>\n",
       " </g>\n",
       " <defs>\n",
       "  <clipPath id=\"p1227eebcfb\">\n",
       "   <rect height=\"217.44\" width=\"334.8\" x=\"35.304688\" y=\"7.2\"/>\n",
       "  </clipPath>\n",
       " </defs>\n",
       "</svg>\n"
      ],
      "text/plain": [
       "<Figure size 432x288 with 1 Axes>"
      ]
     },
     "metadata": {
      "needs_background": "light"
     },
     "output_type": "display_data"
    }
   ],
   "source": [
    "plt.scatter(x,y,s=2);"
   ]
  },
  {
   "cell_type": "markdown",
   "metadata": {
    "id": "k7W-ZEdiookv"
   },
   "source": [
    "## Histograms "
   ]
  },
  {
   "cell_type": "markdown",
   "metadata": {
    "id": "L0aH8KsppKLr"
   },
   "source": [
    "To get a better understanding of normal distribution, we can use histograms"
   ]
  },
  {
   "cell_type": "code",
   "execution_count": 35,
   "metadata": {
    "id": "XAlhQfcJoq3n"
   },
   "outputs": [
    {
     "data": {
      "image/png": "[encoded data removed]",
      "image/svg+xml": [
       "<?xml version=\"1.0\" encoding=\"utf-8\" standalone=\"no\"?>\n",
       "<!DOCTYPE svg PUBLIC \"-//W3C//DTD SVG 1.1//EN\"\n",
       "  \"http://www.w3.org/Graphics/SVG/1.1/DTD/svg11.dtd\">\n",
       "<!-- Created with matplotlib (https://matplotlib.org/) -->\n",
       "<svg height=\"248.518125pt\" version=\"1.1\" viewBox=\"0 0 381.65 248.518125\" width=\"381.65pt\" xmlns=\"http://www.w3.org/2000/svg\" xmlns:xlink=\"http://www.w3.org/1999/xlink\">\n",
       " <metadata>\n",
       "  <rdf:RDF xmlns:cc=\"http://creativecommons.org/ns#\" xmlns:dc=\"http://purl.org/dc/elements/1.1/\" xmlns:rdf=\"http://www.w3.org/1999/02/22-rdf-syntax-ns#\">\n",
       "   <cc:Work>\n",
       "    <dc:type rdf:resource=\"http://purl.org/dc/dcmitype/StillImage\"/>\n",
       "    <dc:date>2021-02-12T00:09:06.383472</dc:date>\n",
       "    <dc:format>image/svg+xml</dc:format>\n",
       "    <dc:creator>\n",
       "     <cc:Agent>\n",
       "      <dc:title>Matplotlib v3.3.3, https://matplotlib.org/</dc:title>\n",
       "     </cc:Agent>\n",
       "    </dc:creator>\n",
       "   </cc:Work>\n",
       "  </rdf:RDF>\n",
       " </metadata>\n",
       " <defs>\n",
       "  <style type=\"text/css\">*{stroke-linecap:butt;stroke-linejoin:round;}</style>\n",
       " </defs>\n",
       " <g id=\"figure_1\">\n",
       "  <g id=\"patch_1\">\n",
       "   <path d=\"M -0 248.518125 \n",
       "L 381.65 248.518125 \n",
       "L 381.65 0 \n",
       "L -0 0 \n",
       "z\n",
       "\" style=\"fill:none;\"/>\n",
       "  </g>\n",
       "  <g id=\"axes_1\">\n",
       "   <g id=\"patch_2\">\n",
       "    <path d=\"M 39.65 224.64 \n",
       "L 374.45 224.64 \n",
       "L 374.45 7.2 \n",
       "L 39.65 7.2 \n",
       "z\n",
       "\" style=\"fill:#ffffff;\"/>\n",
       "   </g>\n",
       "   <g id=\"patch_3\">\n",
       "    <path clip-path=\"url(#pff49e4f370)\" d=\"M 54.868182 224.64 \n",
       "L 85.304545 224.64 \n",
       "L 85.304545 223.054457 \n",
       "L 54.868182 223.054457 \n",
       "z\n",
       "\" style=\"fill:#1f77b4;\"/>\n",
       "   </g>\n",
       "   <g id=\"patch_4\">\n",
       "    <path clip-path=\"url(#pff49e4f370)\" d=\"M 85.304545 224.64 \n",
       "L 115.740909 224.64 \n",
       "L 115.740909 212.920768 \n",
       "L 85.304545 212.920768 \n",
       "z\n",
       "\" style=\"fill:#1f77b4;\"/>\n",
       "   </g>\n",
       "   <g id=\"patch_5\">\n",
       "    <path clip-path=\"url(#pff49e4f370)\" d=\"M 115.740909 224.64 \n",
       "L 146.177273 224.64 \n",
       "L 146.177273 173.489001 \n",
       "L 115.740909 173.489001 \n",
       "z\n",
       "\" style=\"fill:#1f77b4;\"/>\n",
       "   </g>\n",
       "   <g id=\"patch_6\">\n",
       "    <path clip-path=\"url(#pff49e4f370)\" d=\"M 146.177273 224.64 \n",
       "L 176.613636 224.64 \n",
       "L 176.613636 85.525828 \n",
       "L 146.177273 85.525828 \n",
       "z\n",
       "\" style=\"fill:#1f77b4;\"/>\n",
       "   </g>\n",
       "   <g id=\"patch_7\">\n",
       "    <path clip-path=\"url(#pff49e4f370)\" d=\"M 176.613636 224.64 \n",
       "L 207.05 224.64 \n",
       "L 207.05 17.554286 \n",
       "L 176.613636 17.554286 \n",
       "z\n",
       "\" style=\"fill:#1f77b4;\"/>\n",
       "   </g>\n",
       "   <g id=\"patch_8\">\n",
       "    <path clip-path=\"url(#pff49e4f370)\" d=\"M 207.05 224.64 \n",
       "L 237.486364 224.64 \n",
       "L 237.486364 53.263473 \n",
       "L 207.05 53.263473 \n",
       "z\n",
       "\" style=\"fill:#1f77b4;\"/>\n",
       "   </g>\n",
       "   <g id=\"patch_9\">\n",
       "    <path clip-path=\"url(#pff49e4f370)\" d=\"M 237.486364 224.64 \n",
       "L 267.922727 224.64 \n",
       "L 267.922727 144.535606 \n",
       "L 237.486364 144.535606 \n",
       "z\n",
       "\" style=\"fill:#1f77b4;\"/>\n",
       "   </g>\n",
       "   <g id=\"patch_10\">\n",
       "    <path clip-path=\"url(#pff49e4f370)\" d=\"M 267.922727 224.64 \n",
       "L 298.359091 224.64 \n",
       "L 298.359091 200.92579 \n",
       "L 267.922727 200.92579 \n",
       "z\n",
       "\" style=\"fill:#1f77b4;\"/>\n",
       "   </g>\n",
       "   <g id=\"patch_11\">\n",
       "    <path clip-path=\"url(#pff49e4f370)\" d=\"M 298.359091 224.64 \n",
       "L 328.795455 224.64 \n",
       "L 328.795455 221.882534 \n",
       "L 298.359091 221.882534 \n",
       "z\n",
       "\" style=\"fill:#1f77b4;\"/>\n",
       "   </g>\n",
       "   <g id=\"patch_12\">\n",
       "    <path clip-path=\"url(#pff49e4f370)\" d=\"M 328.795455 224.64 \n",
       "L 359.231818 224.64 \n",
       "L 359.231818 223.881697 \n",
       "L 328.795455 223.881697 \n",
       "z\n",
       "\" style=\"fill:#1f77b4;\"/>\n",
       "   </g>\n",
       "   <g id=\"matplotlib.axis_1\">\n",
       "    <g id=\"xtick_1\">\n",
       "     <g id=\"line2d_1\">\n",
       "      <defs>\n",
       "       <path d=\"M 0 0 \n",
       "L 0 3.5 \n",
       "\" id=\"m24eecf51ca\" style=\"stroke:#000000;stroke-width:0.8;\"/>\n",
       "      </defs>\n",
       "      <g>\n",
       "       <use style=\"stroke:#000000;stroke-width:0.8;\" x=\"41.596605\" xlink:href=\"#m24eecf51ca\" y=\"224.64\"/>\n",
       "      </g>\n",
       "     </g>\n",
       "     <g id=\"text_1\">\n",
       "      <!-- −4 -->\n",
       "      <g transform=\"translate(34.225511 239.238438)scale(0.1 -0.1)\">\n",
       "       <defs>\n",
       "        <path d=\"M 10.59375 35.5 \n",
       "L 73.1875 35.5 \n",
       "L 73.1875 27.203125 \n",
       "L 10.59375 27.203125 \n",
       "z\n",
       "\" id=\"DejaVuSans-8722\"/>\n",
       "        <path d=\"M 37.796875 64.3125 \n",
       "L 12.890625 25.390625 \n",
       "L 37.796875 25.390625 \n",
       "z\n",
       "M 35.203125 72.90625 \n",
       "L 47.609375 72.90625 \n",
       "L 47.609375 25.390625 \n",
       "L 58.015625 25.390625 \n",
       "L 58.015625 17.1875 \n",
       "L 47.609375 17.1875 \n",
       "L 47.609375 0 \n",
       "L 37.796875 0 \n",
       "L 37.796875 17.1875 \n",
       "L 4.890625 17.1875 \n",
       "L 4.890625 26.703125 \n",
       "z\n",
       "\" id=\"DejaVuSans-52\"/>\n",
       "       </defs>\n",
       "       <use xlink:href=\"#DejaVuSans-8722\"/>\n",
       "       <use x=\"83.789062\" xlink:href=\"#DejaVuSans-52\"/>\n",
       "      </g>\n",
       "     </g>\n",
       "    </g>\n",
       "    <g id=\"xtick_2\">\n",
       "     <g id=\"line2d_2\">\n",
       "      <g>\n",
       "       <use style=\"stroke:#000000;stroke-width:0.8;\" x=\"80.611908\" xlink:href=\"#m24eecf51ca\" y=\"224.64\"/>\n",
       "      </g>\n",
       "     </g>\n",
       "     <g id=\"text_2\">\n",
       "      <!-- −3 -->\n",
       "      <g transform=\"translate(73.240814 239.238438)scale(0.1 -0.1)\">\n",
       "       <defs>\n",
       "        <path d=\"M 40.578125 39.3125 \n",
       "Q 47.65625 37.796875 51.625 33 \n",
       "Q 55.609375 28.21875 55.609375 21.1875 \n",
       "Q 55.609375 10.40625 48.1875 4.484375 \n",
       "Q 40.765625 -1.421875 27.09375 -1.421875 \n",
       "Q 22.515625 -1.421875 17.65625 -0.515625 \n",
       "Q 12.796875 0.390625 7.625 2.203125 \n",
       "L 7.625 11.71875 \n",
       "Q 11.71875 9.328125 16.59375 8.109375 \n",
       "Q 21.484375 6.890625 26.8125 6.890625 \n",
       "Q 36.078125 6.890625 40.9375 10.546875 \n",
       "Q 45.796875 14.203125 45.796875 21.1875 \n",
       "Q 45.796875 27.640625 41.28125 31.265625 \n",
       "Q 36.765625 34.90625 28.71875 34.90625 \n",
       "L 20.21875 34.90625 \n",
       "L 20.21875 43.015625 \n",
       "L 29.109375 43.015625 \n",
       "Q 36.375 43.015625 40.234375 45.921875 \n",
       "Q 44.09375 48.828125 44.09375 54.296875 \n",
       "Q 44.09375 59.90625 40.109375 62.90625 \n",
       "Q 36.140625 65.921875 28.71875 65.921875 \n",
       "Q 24.65625 65.921875 20.015625 65.03125 \n",
       "Q 15.375 64.15625 9.8125 62.3125 \n",
       "L 9.8125 71.09375 \n",
       "Q 15.4375 72.65625 20.34375 73.4375 \n",
       "Q 25.25 74.21875 29.59375 74.21875 \n",
       "Q 40.828125 74.21875 47.359375 69.109375 \n",
       "Q 53.90625 64.015625 53.90625 55.328125 \n",
       "Q 53.90625 49.265625 50.4375 45.09375 \n",
       "Q 46.96875 40.921875 40.578125 39.3125 \n",
       "z\n",
       "\" id=\"DejaVuSans-51\"/>\n",
       "       </defs>\n",
       "       <use xlink:href=\"#DejaVuSans-8722\"/>\n",
       "       <use x=\"83.789062\" xlink:href=\"#DejaVuSans-51\"/>\n",
       "      </g>\n",
       "     </g>\n",
       "    </g>\n",
       "    <g id=\"xtick_3\">\n",
       "     <g id=\"line2d_3\">\n",
       "      <g>\n",
       "       <use style=\"stroke:#000000;stroke-width:0.8;\" x=\"119.627211\" xlink:href=\"#m24eecf51ca\" y=\"224.64\"/>\n",
       "      </g>\n",
       "     </g>\n",
       "     <g id=\"text_3\">\n",
       "      <!-- −2 -->\n",
       "      <g transform=\"translate(112.256117 239.238438)scale(0.1 -0.1)\">\n",
       "       <defs>\n",
       "        <path d=\"M 19.1875 8.296875 \n",
       "L 53.609375 8.296875 \n",
       "L 53.609375 0 \n",
       "L 7.328125 0 \n",
       "L 7.328125 8.296875 \n",
       "Q 12.9375 14.109375 22.625 23.890625 \n",
       "Q 32.328125 33.6875 34.8125 36.53125 \n",
       "Q 39.546875 41.84375 41.421875 45.53125 \n",
       "Q 43.3125 49.21875 43.3125 52.78125 \n",
       "Q 43.3125 58.59375 39.234375 62.25 \n",
       "Q 35.15625 65.921875 28.609375 65.921875 \n",
       "Q 23.96875 65.921875 18.8125 64.3125 \n",
       "Q 13.671875 62.703125 7.8125 59.421875 \n",
       "L 7.8125 69.390625 \n",
       "Q 13.765625 71.78125 18.9375 73 \n",
       "Q 24.125 74.21875 28.421875 74.21875 \n",
       "Q 39.75 74.21875 46.484375 68.546875 \n",
       "Q 53.21875 62.890625 53.21875 53.421875 \n",
       "Q 53.21875 48.921875 51.53125 44.890625 \n",
       "Q 49.859375 40.875 45.40625 35.40625 \n",
       "Q 44.1875 33.984375 37.640625 27.21875 \n",
       "Q 31.109375 20.453125 19.1875 8.296875 \n",
       "z\n",
       "\" id=\"DejaVuSans-50\"/>\n",
       "       </defs>\n",
       "       <use xlink:href=\"#DejaVuSans-8722\"/>\n",
       "       <use x=\"83.789062\" xlink:href=\"#DejaVuSans-50\"/>\n",
       "      </g>\n",
       "     </g>\n",
       "    </g>\n",
       "    <g id=\"xtick_4\">\n",
       "     <g id=\"line2d_4\">\n",
       "      <g>\n",
       "       <use style=\"stroke:#000000;stroke-width:0.8;\" x=\"158.642514\" xlink:href=\"#m24eecf51ca\" y=\"224.64\"/>\n",
       "      </g>\n",
       "     </g>\n",
       "     <g id=\"text_4\">\n",
       "      <!-- −1 -->\n",
       "      <g transform=\"translate(151.27142 239.238438)scale(0.1 -0.1)\">\n",
       "       <defs>\n",
       "        <path d=\"M 12.40625 8.296875 \n",
       "L 28.515625 8.296875 \n",
       "L 28.515625 63.921875 \n",
       "L 10.984375 60.40625 \n",
       "L 10.984375 69.390625 \n",
       "L 28.421875 72.90625 \n",
       "L 38.28125 72.90625 \n",
       "L 38.28125 8.296875 \n",
       "L 54.390625 8.296875 \n",
       "L 54.390625 0 \n",
       "L 12.40625 0 \n",
       "z\n",
       "\" id=\"DejaVuSans-49\"/>\n",
       "       </defs>\n",
       "       <use xlink:href=\"#DejaVuSans-8722\"/>\n",
       "       <use x=\"83.789062\" xlink:href=\"#DejaVuSans-49\"/>\n",
       "      </g>\n",
       "     </g>\n",
       "    </g>\n",
       "    <g id=\"xtick_5\">\n",
       "     <g id=\"line2d_5\">\n",
       "      <g>\n",
       "       <use style=\"stroke:#000000;stroke-width:0.8;\" x=\"197.657817\" xlink:href=\"#m24eecf51ca\" y=\"224.64\"/>\n",
       "      </g>\n",
       "     </g>\n",
       "     <g id=\"text_5\">\n",
       "      <!-- 0 -->\n",
       "      <g transform=\"translate(194.476567 239.238438)scale(0.1 -0.1)\">\n",
       "       <defs>\n",
       "        <path d=\"M 31.78125 66.40625 \n",
       "Q 24.171875 66.40625 20.328125 58.90625 \n",
       "Q 16.5 51.421875 16.5 36.375 \n",
       "Q 16.5 21.390625 20.328125 13.890625 \n",
       "Q 24.171875 6.390625 31.78125 6.390625 \n",
       "Q 39.453125 6.390625 43.28125 13.890625 \n",
       "Q 47.125 21.390625 47.125 36.375 \n",
       "Q 47.125 51.421875 43.28125 58.90625 \n",
       "Q 39.453125 66.40625 31.78125 66.40625 \n",
       "z\n",
       "M 31.78125 74.21875 \n",
       "Q 44.046875 74.21875 50.515625 64.515625 \n",
       "Q 56.984375 54.828125 56.984375 36.375 \n",
       "Q 56.984375 17.96875 50.515625 8.265625 \n",
       "Q 44.046875 -1.421875 31.78125 -1.421875 \n",
       "Q 19.53125 -1.421875 13.0625 8.265625 \n",
       "Q 6.59375 17.96875 6.59375 36.375 \n",
       "Q 6.59375 54.828125 13.0625 64.515625 \n",
       "Q 19.53125 74.21875 31.78125 74.21875 \n",
       "z\n",
       "\" id=\"DejaVuSans-48\"/>\n",
       "       </defs>\n",
       "       <use xlink:href=\"#DejaVuSans-48\"/>\n",
       "      </g>\n",
       "     </g>\n",
       "    </g>\n",
       "    <g id=\"xtick_6\">\n",
       "     <g id=\"line2d_6\">\n",
       "      <g>\n",
       "       <use style=\"stroke:#000000;stroke-width:0.8;\" x=\"236.67312\" xlink:href=\"#m24eecf51ca\" y=\"224.64\"/>\n",
       "      </g>\n",
       "     </g>\n",
       "     <g id=\"text_6\">\n",
       "      <!-- 1 -->\n",
       "      <g transform=\"translate(233.49187 239.238438)scale(0.1 -0.1)\">\n",
       "       <use xlink:href=\"#DejaVuSans-49\"/>\n",
       "      </g>\n",
       "     </g>\n",
       "    </g>\n",
       "    <g id=\"xtick_7\">\n",
       "     <g id=\"line2d_7\">\n",
       "      <g>\n",
       "       <use style=\"stroke:#000000;stroke-width:0.8;\" x=\"275.688423\" xlink:href=\"#m24eecf51ca\" y=\"224.64\"/>\n",
       "      </g>\n",
       "     </g>\n",
       "     <g id=\"text_7\">\n",
       "      <!-- 2 -->\n",
       "      <g transform=\"translate(272.507173 239.238438)scale(0.1 -0.1)\">\n",
       "       <use xlink:href=\"#DejaVuSans-50\"/>\n",
       "      </g>\n",
       "     </g>\n",
       "    </g>\n",
       "    <g id=\"xtick_8\">\n",
       "     <g id=\"line2d_8\">\n",
       "      <g>\n",
       "       <use style=\"stroke:#000000;stroke-width:0.8;\" x=\"314.703726\" xlink:href=\"#m24eecf51ca\" y=\"224.64\"/>\n",
       "      </g>\n",
       "     </g>\n",
       "     <g id=\"text_8\">\n",
       "      <!-- 3 -->\n",
       "      <g transform=\"translate(311.522476 239.238438)scale(0.1 -0.1)\">\n",
       "       <use xlink:href=\"#DejaVuSans-51\"/>\n",
       "      </g>\n",
       "     </g>\n",
       "    </g>\n",
       "    <g id=\"xtick_9\">\n",
       "     <g id=\"line2d_9\">\n",
       "      <g>\n",
       "       <use style=\"stroke:#000000;stroke-width:0.8;\" x=\"353.719029\" xlink:href=\"#m24eecf51ca\" y=\"224.64\"/>\n",
       "      </g>\n",
       "     </g>\n",
       "     <g id=\"text_9\">\n",
       "      <!-- 4 -->\n",
       "      <g transform=\"translate(350.537779 239.238438)scale(0.1 -0.1)\">\n",
       "       <use xlink:href=\"#DejaVuSans-52\"/>\n",
       "      </g>\n",
       "     </g>\n",
       "    </g>\n",
       "   </g>\n",
       "   <g id=\"matplotlib.axis_2\">\n",
       "    <g id=\"ytick_1\">\n",
       "     <g id=\"line2d_10\">\n",
       "      <defs>\n",
       "       <path d=\"M 0 0 \n",
       "L -3.5 0 \n",
       "\" id=\"m8cca4e4207\" style=\"stroke:#000000;stroke-width:0.8;\"/>\n",
       "      </defs>\n",
       "      <g>\n",
       "       <use style=\"stroke:#000000;stroke-width:0.8;\" x=\"39.65\" xlink:href=\"#m8cca4e4207\" y=\"224.64\"/>\n",
       "      </g>\n",
       "     </g>\n",
       "     <g id=\"text_10\">\n",
       "      <!-- 0 -->\n",
       "      <g transform=\"translate(26.2875 228.439219)scale(0.1 -0.1)\">\n",
       "       <use xlink:href=\"#DejaVuSans-48\"/>\n",
       "      </g>\n",
       "     </g>\n",
       "    </g>\n",
       "    <g id=\"ytick_2\">\n",
       "     <g id=\"line2d_11\">\n",
       "      <g>\n",
       "       <use style=\"stroke:#000000;stroke-width:0.8;\" x=\"39.65\" xlink:href=\"#m8cca4e4207\" y=\"190.171672\"/>\n",
       "      </g>\n",
       "     </g>\n",
       "     <g id=\"text_11\">\n",
       "      <!-- 500 -->\n",
       "      <g transform=\"translate(13.5625 193.970891)scale(0.1 -0.1)\">\n",
       "       <defs>\n",
       "        <path d=\"M 10.796875 72.90625 \n",
       "L 49.515625 72.90625 \n",
       "L 49.515625 64.59375 \n",
       "L 19.828125 64.59375 \n",
       "L 19.828125 46.734375 \n",
       "Q 21.96875 47.46875 24.109375 47.828125 \n",
       "Q 26.265625 48.1875 28.421875 48.1875 \n",
       "Q 40.625 48.1875 47.75 41.5 \n",
       "Q 54.890625 34.8125 54.890625 23.390625 \n",
       "Q 54.890625 11.625 47.5625 5.09375 \n",
       "Q 40.234375 -1.421875 26.90625 -1.421875 \n",
       "Q 22.3125 -1.421875 17.546875 -0.640625 \n",
       "Q 12.796875 0.140625 7.71875 1.703125 \n",
       "L 7.71875 11.625 \n",
       "Q 12.109375 9.234375 16.796875 8.0625 \n",
       "Q 21.484375 6.890625 26.703125 6.890625 \n",
       "Q 35.15625 6.890625 40.078125 11.328125 \n",
       "Q 45.015625 15.765625 45.015625 23.390625 \n",
       "Q 45.015625 31 40.078125 35.4375 \n",
       "Q 35.15625 39.890625 26.703125 39.890625 \n",
       "Q 22.75 39.890625 18.8125 39.015625 \n",
       "Q 14.890625 38.140625 10.796875 36.28125 \n",
       "z\n",
       "\" id=\"DejaVuSans-53\"/>\n",
       "       </defs>\n",
       "       <use xlink:href=\"#DejaVuSans-53\"/>\n",
       "       <use x=\"63.623047\" xlink:href=\"#DejaVuSans-48\"/>\n",
       "       <use x=\"127.246094\" xlink:href=\"#DejaVuSans-48\"/>\n",
       "      </g>\n",
       "     </g>\n",
       "    </g>\n",
       "    <g id=\"ytick_3\">\n",
       "     <g id=\"line2d_12\">\n",
       "      <g>\n",
       "       <use style=\"stroke:#000000;stroke-width:0.8;\" x=\"39.65\" xlink:href=\"#m8cca4e4207\" y=\"155.703344\"/>\n",
       "      </g>\n",
       "     </g>\n",
       "     <g id=\"text_12\">\n",
       "      <!-- 1000 -->\n",
       "      <g transform=\"translate(7.2 159.502563)scale(0.1 -0.1)\">\n",
       "       <use xlink:href=\"#DejaVuSans-49\"/>\n",
       "       <use x=\"63.623047\" xlink:href=\"#DejaVuSans-48\"/>\n",
       "       <use x=\"127.246094\" xlink:href=\"#DejaVuSans-48\"/>\n",
       "       <use x=\"190.869141\" xlink:href=\"#DejaVuSans-48\"/>\n",
       "      </g>\n",
       "     </g>\n",
       "    </g>\n",
       "    <g id=\"ytick_4\">\n",
       "     <g id=\"line2d_13\">\n",
       "      <g>\n",
       "       <use style=\"stroke:#000000;stroke-width:0.8;\" x=\"39.65\" xlink:href=\"#m8cca4e4207\" y=\"121.235016\"/>\n",
       "      </g>\n",
       "     </g>\n",
       "     <g id=\"text_13\">\n",
       "      <!-- 1500 -->\n",
       "      <g transform=\"translate(7.2 125.034235)scale(0.1 -0.1)\">\n",
       "       <use xlink:href=\"#DejaVuSans-49\"/>\n",
       "       <use x=\"63.623047\" xlink:href=\"#DejaVuSans-53\"/>\n",
       "       <use x=\"127.246094\" xlink:href=\"#DejaVuSans-48\"/>\n",
       "       <use x=\"190.869141\" xlink:href=\"#DejaVuSans-48\"/>\n",
       "      </g>\n",
       "     </g>\n",
       "    </g>\n",
       "    <g id=\"ytick_5\">\n",
       "     <g id=\"line2d_14\">\n",
       "      <g>\n",
       "       <use style=\"stroke:#000000;stroke-width:0.8;\" x=\"39.65\" xlink:href=\"#m8cca4e4207\" y=\"86.766688\"/>\n",
       "      </g>\n",
       "     </g>\n",
       "     <g id=\"text_14\">\n",
       "      <!-- 2000 -->\n",
       "      <g transform=\"translate(7.2 90.565907)scale(0.1 -0.1)\">\n",
       "       <use xlink:href=\"#DejaVuSans-50\"/>\n",
       "       <use x=\"63.623047\" xlink:href=\"#DejaVuSans-48\"/>\n",
       "       <use x=\"127.246094\" xlink:href=\"#DejaVuSans-48\"/>\n",
       "       <use x=\"190.869141\" xlink:href=\"#DejaVuSans-48\"/>\n",
       "      </g>\n",
       "     </g>\n",
       "    </g>\n",
       "    <g id=\"ytick_6\">\n",
       "     <g id=\"line2d_15\">\n",
       "      <g>\n",
       "       <use style=\"stroke:#000000;stroke-width:0.8;\" x=\"39.65\" xlink:href=\"#m8cca4e4207\" y=\"52.29836\"/>\n",
       "      </g>\n",
       "     </g>\n",
       "     <g id=\"text_15\">\n",
       "      <!-- 2500 -->\n",
       "      <g transform=\"translate(7.2 56.097579)scale(0.1 -0.1)\">\n",
       "       <use xlink:href=\"#DejaVuSans-50\"/>\n",
       "       <use x=\"63.623047\" xlink:href=\"#DejaVuSans-53\"/>\n",
       "       <use x=\"127.246094\" xlink:href=\"#DejaVuSans-48\"/>\n",
       "       <use x=\"190.869141\" xlink:href=\"#DejaVuSans-48\"/>\n",
       "      </g>\n",
       "     </g>\n",
       "    </g>\n",
       "    <g id=\"ytick_7\">\n",
       "     <g id=\"line2d_16\">\n",
       "      <g>\n",
       "       <use style=\"stroke:#000000;stroke-width:0.8;\" x=\"39.65\" xlink:href=\"#m8cca4e4207\" y=\"17.830032\"/>\n",
       "      </g>\n",
       "     </g>\n",
       "     <g id=\"text_16\">\n",
       "      <!-- 3000 -->\n",
       "      <g transform=\"translate(7.2 21.629251)scale(0.1 -0.1)\">\n",
       "       <use xlink:href=\"#DejaVuSans-51\"/>\n",
       "       <use x=\"63.623047\" xlink:href=\"#DejaVuSans-48\"/>\n",
       "       <use x=\"127.246094\" xlink:href=\"#DejaVuSans-48\"/>\n",
       "       <use x=\"190.869141\" xlink:href=\"#DejaVuSans-48\"/>\n",
       "      </g>\n",
       "     </g>\n",
       "    </g>\n",
       "   </g>\n",
       "   <g id=\"patch_13\">\n",
       "    <path d=\"M 39.65 224.64 \n",
       "L 39.65 7.2 \n",
       "\" style=\"fill:none;stroke:#000000;stroke-linecap:square;stroke-linejoin:miter;stroke-width:0.8;\"/>\n",
       "   </g>\n",
       "   <g id=\"patch_14\">\n",
       "    <path d=\"M 374.45 224.64 \n",
       "L 374.45 7.2 \n",
       "\" style=\"fill:none;stroke:#000000;stroke-linecap:square;stroke-linejoin:miter;stroke-width:0.8;\"/>\n",
       "   </g>\n",
       "   <g id=\"patch_15\">\n",
       "    <path d=\"M 39.65 224.64 \n",
       "L 374.45 224.64 \n",
       "\" style=\"fill:none;stroke:#000000;stroke-linecap:square;stroke-linejoin:miter;stroke-width:0.8;\"/>\n",
       "   </g>\n",
       "   <g id=\"patch_16\">\n",
       "    <path d=\"M 39.65 7.2 \n",
       "L 374.45 7.2 \n",
       "\" style=\"fill:none;stroke:#000000;stroke-linecap:square;stroke-linejoin:miter;stroke-width:0.8;\"/>\n",
       "   </g>\n",
       "  </g>\n",
       " </g>\n",
       " <defs>\n",
       "  <clipPath id=\"pff49e4f370\">\n",
       "   <rect height=\"217.44\" width=\"334.8\" x=\"39.65\" y=\"7.2\"/>\n",
       "  </clipPath>\n",
       " </defs>\n",
       "</svg>\n"
      ],
      "text/plain": [
       "<Figure size 432x288 with 1 Axes>"
      ]
     },
     "metadata": {
      "needs_background": "light"
     },
     "output_type": "display_data"
    }
   ],
   "source": [
    "# A 1D array of size 10k\n",
    "x = np.random.randn(10000)\n",
    "plt.hist(x);"
   ]
  },
  {
   "cell_type": "markdown",
   "metadata": {
    "id": "bHJW3Z-kyjH8"
   },
   "source": [
    "plt.hist() function takes an argument called 'bins'. When it takes positive integral value it defines the number of equal-width bins (Class Intervals) in the range."
   ]
  },
  {
   "cell_type": "code",
   "execution_count": 36,
   "metadata": {
    "id": "3e5CbH-Wye2Y"
   },
   "outputs": [
    {
     "data": {
      "image/png": "[encoded data removed]",
      "image/svg+xml": [
       "<?xml version=\"1.0\" encoding=\"utf-8\" standalone=\"no\"?>\n",
       "<!DOCTYPE svg PUBLIC \"-//W3C//DTD SVG 1.1//EN\"\n",
       "  \"http://www.w3.org/Graphics/SVG/1.1/DTD/svg11.dtd\">\n",
       "<!-- Created with matplotlib (https://matplotlib.org/) -->\n",
       "<svg height=\"248.518125pt\" version=\"1.1\" viewBox=\"0 0 381.65 248.518125\" width=\"381.65pt\" xmlns=\"http://www.w3.org/2000/svg\" xmlns:xlink=\"http://www.w3.org/1999/xlink\">\n",
       " <metadata>\n",
       "  <rdf:RDF xmlns:cc=\"http://creativecommons.org/ns#\" xmlns:dc=\"http://purl.org/dc/elements/1.1/\" xmlns:rdf=\"http://www.w3.org/1999/02/22-rdf-syntax-ns#\">\n",
       "   <cc:Work>\n",
       "    <dc:type rdf:resource=\"http://purl.org/dc/dcmitype/StillImage\"/>\n",
       "    <dc:date>2021-02-12T00:09:08.994309</dc:date>\n",
       "    <dc:format>image/svg+xml</dc:format>\n",
       "    <dc:creator>\n",
       "     <cc:Agent>\n",
       "      <dc:title>Matplotlib v3.3.3, https://matplotlib.org/</dc:title>\n",
       "     </cc:Agent>\n",
       "    </dc:creator>\n",
       "   </cc:Work>\n",
       "  </rdf:RDF>\n",
       " </metadata>\n",
       " <defs>\n",
       "  <style type=\"text/css\">*{stroke-linecap:butt;stroke-linejoin:round;}</style>\n",
       " </defs>\n",
       " <g id=\"figure_1\">\n",
       "  <g id=\"patch_1\">\n",
       "   <path d=\"M -0 248.518125 \n",
       "L 381.65 248.518125 \n",
       "L 381.65 0 \n",
       "L -0 0 \n",
       "z\n",
       "\" style=\"fill:none;\"/>\n",
       "  </g>\n",
       "  <g id=\"axes_1\">\n",
       "   <g id=\"patch_2\">\n",
       "    <path d=\"M 39.65 224.64 \n",
       "L 374.45 224.64 \n",
       "L 374.45 7.2 \n",
       "L 39.65 7.2 \n",
       "z\n",
       "\" style=\"fill:#ffffff;\"/>\n",
       "   </g>\n",
       "   <g id=\"patch_3\">\n",
       "    <path clip-path=\"url(#p67bd90065d)\" d=\"M 54.868182 224.64 \n",
       "L 82.537603 224.64 \n",
       "L 82.537603 223.384935 \n",
       "L 54.868182 223.384935 \n",
       "z\n",
       "\" style=\"fill:#1f77b4;\"/>\n",
       "   </g>\n",
       "   <g id=\"patch_4\">\n",
       "    <path clip-path=\"url(#p67bd90065d)\" d=\"M 82.537603 224.64 \n",
       "L 110.207025 224.64 \n",
       "L 110.207025 215.07013 \n",
       "L 82.537603 215.07013 \n",
       "z\n",
       "\" style=\"fill:#1f77b4;\"/>\n",
       "   </g>\n",
       "   <g id=\"patch_5\">\n",
       "    <path clip-path=\"url(#p67bd90065d)\" d=\"M 110.207025 224.64 \n",
       "L 137.876446 224.64 \n",
       "L 137.876446 185.183896 \n",
       "L 110.207025 185.183896 \n",
       "z\n",
       "\" style=\"fill:#1f77b4;\"/>\n",
       "   </g>\n",
       "   <g id=\"patch_6\">\n",
       "    <path clip-path=\"url(#p67bd90065d)\" d=\"M 137.876446 224.64 \n",
       "L 165.545868 224.64 \n",
       "L 165.545868 117.253506 \n",
       "L 137.876446 117.253506 \n",
       "z\n",
       "\" style=\"fill:#1f77b4;\"/>\n",
       "   </g>\n",
       "   <g id=\"patch_7\">\n",
       "    <path clip-path=\"url(#p67bd90065d)\" d=\"M 165.545868 224.64 \n",
       "L 193.215289 224.64 \n",
       "L 193.215289 25.476883 \n",
       "L 165.545868 25.476883 \n",
       "z\n",
       "\" style=\"fill:#1f77b4;\"/>\n",
       "   </g>\n",
       "   <g id=\"patch_8\">\n",
       "    <path clip-path=\"url(#p67bd90065d)\" d=\"M 193.215289 224.64 \n",
       "L 220.884711 224.64 \n",
       "L 220.884711 17.554286 \n",
       "L 193.215289 17.554286 \n",
       "z\n",
       "\" style=\"fill:#1f77b4;\"/>\n",
       "   </g>\n",
       "   <g id=\"patch_9\">\n",
       "    <path clip-path=\"url(#p67bd90065d)\" d=\"M 220.884711 224.64 \n",
       "L 248.554132 224.64 \n",
       "L 248.554132 80.464416 \n",
       "L 220.884711 80.464416 \n",
       "z\n",
       "\" style=\"fill:#1f77b4;\"/>\n",
       "   </g>\n",
       "   <g id=\"patch_10\">\n",
       "    <path clip-path=\"url(#p67bd90065d)\" d=\"M 248.554132 224.64 \n",
       "L 276.223554 224.64 \n",
       "L 276.223554 166.593247 \n",
       "L 248.554132 166.593247 \n",
       "z\n",
       "\" style=\"fill:#1f77b4;\"/>\n",
       "   </g>\n",
       "   <g id=\"patch_11\">\n",
       "    <path clip-path=\"url(#p67bd90065d)\" d=\"M 276.223554 224.64 \n",
       "L 303.892975 224.64 \n",
       "L 303.892975 209.422338 \n",
       "L 276.223554 209.422338 \n",
       "z\n",
       "\" style=\"fill:#1f77b4;\"/>\n",
       "   </g>\n",
       "   <g id=\"patch_12\">\n",
       "    <path clip-path=\"url(#p67bd90065d)\" d=\"M 303.892975 224.64 \n",
       "L 331.562397 224.64 \n",
       "L 331.562397 222.443636 \n",
       "L 303.892975 222.443636 \n",
       "z\n",
       "\" style=\"fill:#1f77b4;\"/>\n",
       "   </g>\n",
       "   <g id=\"patch_13\">\n",
       "    <path clip-path=\"url(#p67bd90065d)\" d=\"M 331.562397 224.64 \n",
       "L 359.231818 224.64 \n",
       "L 359.231818 223.777143 \n",
       "L 331.562397 223.777143 \n",
       "z\n",
       "\" style=\"fill:#1f77b4;\"/>\n",
       "   </g>\n",
       "   <g id=\"matplotlib.axis_1\">\n",
       "    <g id=\"xtick_1\">\n",
       "     <g id=\"line2d_1\">\n",
       "      <defs>\n",
       "       <path d=\"M 0 0 \n",
       "L 0 3.5 \n",
       "\" id=\"mbbc776b356\" style=\"stroke:#000000;stroke-width:0.8;\"/>\n",
       "      </defs>\n",
       "      <g>\n",
       "       <use style=\"stroke:#000000;stroke-width:0.8;\" x=\"41.596605\" xlink:href=\"#mbbc776b356\" y=\"224.64\"/>\n",
       "      </g>\n",
       "     </g>\n",
       "     <g id=\"text_1\">\n",
       "      <!-- −4 -->\n",
       "      <g transform=\"translate(34.225511 239.238437)scale(0.1 -0.1)\">\n",
       "       <defs>\n",
       "        <path d=\"M 10.59375 35.5 \n",
       "L 73.1875 35.5 \n",
       "L 73.1875 27.203125 \n",
       "L 10.59375 27.203125 \n",
       "z\n",
       "\" id=\"DejaVuSans-8722\"/>\n",
       "        <path d=\"M 37.796875 64.3125 \n",
       "L 12.890625 25.390625 \n",
       "L 37.796875 25.390625 \n",
       "z\n",
       "M 35.203125 72.90625 \n",
       "L 47.609375 72.90625 \n",
       "L 47.609375 25.390625 \n",
       "L 58.015625 25.390625 \n",
       "L 58.015625 17.1875 \n",
       "L 47.609375 17.1875 \n",
       "L 47.609375 0 \n",
       "L 37.796875 0 \n",
       "L 37.796875 17.1875 \n",
       "L 4.890625 17.1875 \n",
       "L 4.890625 26.703125 \n",
       "z\n",
       "\" id=\"DejaVuSans-52\"/>\n",
       "       </defs>\n",
       "       <use xlink:href=\"#DejaVuSans-8722\"/>\n",
       "       <use x=\"83.789062\" xlink:href=\"#DejaVuSans-52\"/>\n",
       "      </g>\n",
       "     </g>\n",
       "    </g>\n",
       "    <g id=\"xtick_2\">\n",
       "     <g id=\"line2d_2\">\n",
       "      <g>\n",
       "       <use style=\"stroke:#000000;stroke-width:0.8;\" x=\"80.611908\" xlink:href=\"#mbbc776b356\" y=\"224.64\"/>\n",
       "      </g>\n",
       "     </g>\n",
       "     <g id=\"text_2\">\n",
       "      <!-- −3 -->\n",
       "      <g transform=\"translate(73.240814 239.238437)scale(0.1 -0.1)\">\n",
       "       <defs>\n",
       "        <path d=\"M 40.578125 39.3125 \n",
       "Q 47.65625 37.796875 51.625 33 \n",
       "Q 55.609375 28.21875 55.609375 21.1875 \n",
       "Q 55.609375 10.40625 48.1875 4.484375 \n",
       "Q 40.765625 -1.421875 27.09375 -1.421875 \n",
       "Q 22.515625 -1.421875 17.65625 -0.515625 \n",
       "Q 12.796875 0.390625 7.625 2.203125 \n",
       "L 7.625 11.71875 \n",
       "Q 11.71875 9.328125 16.59375 8.109375 \n",
       "Q 21.484375 6.890625 26.8125 6.890625 \n",
       "Q 36.078125 6.890625 40.9375 10.546875 \n",
       "Q 45.796875 14.203125 45.796875 21.1875 \n",
       "Q 45.796875 27.640625 41.28125 31.265625 \n",
       "Q 36.765625 34.90625 28.71875 34.90625 \n",
       "L 20.21875 34.90625 \n",
       "L 20.21875 43.015625 \n",
       "L 29.109375 43.015625 \n",
       "Q 36.375 43.015625 40.234375 45.921875 \n",
       "Q 44.09375 48.828125 44.09375 54.296875 \n",
       "Q 44.09375 59.90625 40.109375 62.90625 \n",
       "Q 36.140625 65.921875 28.71875 65.921875 \n",
       "Q 24.65625 65.921875 20.015625 65.03125 \n",
       "Q 15.375 64.15625 9.8125 62.3125 \n",
       "L 9.8125 71.09375 \n",
       "Q 15.4375 72.65625 20.34375 73.4375 \n",
       "Q 25.25 74.21875 29.59375 74.21875 \n",
       "Q 40.828125 74.21875 47.359375 69.109375 \n",
       "Q 53.90625 64.015625 53.90625 55.328125 \n",
       "Q 53.90625 49.265625 50.4375 45.09375 \n",
       "Q 46.96875 40.921875 40.578125 39.3125 \n",
       "z\n",
       "\" id=\"DejaVuSans-51\"/>\n",
       "       </defs>\n",
       "       <use xlink:href=\"#DejaVuSans-8722\"/>\n",
       "       <use x=\"83.789062\" xlink:href=\"#DejaVuSans-51\"/>\n",
       "      </g>\n",
       "     </g>\n",
       "    </g>\n",
       "    <g id=\"xtick_3\">\n",
       "     <g id=\"line2d_3\">\n",
       "      <g>\n",
       "       <use style=\"stroke:#000000;stroke-width:0.8;\" x=\"119.627211\" xlink:href=\"#mbbc776b356\" y=\"224.64\"/>\n",
       "      </g>\n",
       "     </g>\n",
       "     <g id=\"text_3\">\n",
       "      <!-- −2 -->\n",
       "      <g transform=\"translate(112.256117 239.238437)scale(0.1 -0.1)\">\n",
       "       <defs>\n",
       "        <path d=\"M 19.1875 8.296875 \n",
       "L 53.609375 8.296875 \n",
       "L 53.609375 0 \n",
       "L 7.328125 0 \n",
       "L 7.328125 8.296875 \n",
       "Q 12.9375 14.109375 22.625 23.890625 \n",
       "Q 32.328125 33.6875 34.8125 36.53125 \n",
       "Q 39.546875 41.84375 41.421875 45.53125 \n",
       "Q 43.3125 49.21875 43.3125 52.78125 \n",
       "Q 43.3125 58.59375 39.234375 62.25 \n",
       "Q 35.15625 65.921875 28.609375 65.921875 \n",
       "Q 23.96875 65.921875 18.8125 64.3125 \n",
       "Q 13.671875 62.703125 7.8125 59.421875 \n",
       "L 7.8125 69.390625 \n",
       "Q 13.765625 71.78125 18.9375 73 \n",
       "Q 24.125 74.21875 28.421875 74.21875 \n",
       "Q 39.75 74.21875 46.484375 68.546875 \n",
       "Q 53.21875 62.890625 53.21875 53.421875 \n",
       "Q 53.21875 48.921875 51.53125 44.890625 \n",
       "Q 49.859375 40.875 45.40625 35.40625 \n",
       "Q 44.1875 33.984375 37.640625 27.21875 \n",
       "Q 31.109375 20.453125 19.1875 8.296875 \n",
       "z\n",
       "\" id=\"DejaVuSans-50\"/>\n",
       "       </defs>\n",
       "       <use xlink:href=\"#DejaVuSans-8722\"/>\n",
       "       <use x=\"83.789062\" xlink:href=\"#DejaVuSans-50\"/>\n",
       "      </g>\n",
       "     </g>\n",
       "    </g>\n",
       "    <g id=\"xtick_4\">\n",
       "     <g id=\"line2d_4\">\n",
       "      <g>\n",
       "       <use style=\"stroke:#000000;stroke-width:0.8;\" x=\"158.642514\" xlink:href=\"#mbbc776b356\" y=\"224.64\"/>\n",
       "      </g>\n",
       "     </g>\n",
       "     <g id=\"text_4\">\n",
       "      <!-- −1 -->\n",
       "      <g transform=\"translate(151.27142 239.238437)scale(0.1 -0.1)\">\n",
       "       <defs>\n",
       "        <path d=\"M 12.40625 8.296875 \n",
       "L 28.515625 8.296875 \n",
       "L 28.515625 63.921875 \n",
       "L 10.984375 60.40625 \n",
       "L 10.984375 69.390625 \n",
       "L 28.421875 72.90625 \n",
       "L 38.28125 72.90625 \n",
       "L 38.28125 8.296875 \n",
       "L 54.390625 8.296875 \n",
       "L 54.390625 0 \n",
       "L 12.40625 0 \n",
       "z\n",
       "\" id=\"DejaVuSans-49\"/>\n",
       "       </defs>\n",
       "       <use xlink:href=\"#DejaVuSans-8722\"/>\n",
       "       <use x=\"83.789062\" xlink:href=\"#DejaVuSans-49\"/>\n",
       "      </g>\n",
       "     </g>\n",
       "    </g>\n",
       "    <g id=\"xtick_5\">\n",
       "     <g id=\"line2d_5\">\n",
       "      <g>\n",
       "       <use style=\"stroke:#000000;stroke-width:0.8;\" x=\"197.657817\" xlink:href=\"#mbbc776b356\" y=\"224.64\"/>\n",
       "      </g>\n",
       "     </g>\n",
       "     <g id=\"text_5\">\n",
       "      <!-- 0 -->\n",
       "      <g transform=\"translate(194.476567 239.238437)scale(0.1 -0.1)\">\n",
       "       <defs>\n",
       "        <path d=\"M 31.78125 66.40625 \n",
       "Q 24.171875 66.40625 20.328125 58.90625 \n",
       "Q 16.5 51.421875 16.5 36.375 \n",
       "Q 16.5 21.390625 20.328125 13.890625 \n",
       "Q 24.171875 6.390625 31.78125 6.390625 \n",
       "Q 39.453125 6.390625 43.28125 13.890625 \n",
       "Q 47.125 21.390625 47.125 36.375 \n",
       "Q 47.125 51.421875 43.28125 58.90625 \n",
       "Q 39.453125 66.40625 31.78125 66.40625 \n",
       "z\n",
       "M 31.78125 74.21875 \n",
       "Q 44.046875 74.21875 50.515625 64.515625 \n",
       "Q 56.984375 54.828125 56.984375 36.375 \n",
       "Q 56.984375 17.96875 50.515625 8.265625 \n",
       "Q 44.046875 -1.421875 31.78125 -1.421875 \n",
       "Q 19.53125 -1.421875 13.0625 8.265625 \n",
       "Q 6.59375 17.96875 6.59375 36.375 \n",
       "Q 6.59375 54.828125 13.0625 64.515625 \n",
       "Q 19.53125 74.21875 31.78125 74.21875 \n",
       "z\n",
       "\" id=\"DejaVuSans-48\"/>\n",
       "       </defs>\n",
       "       <use xlink:href=\"#DejaVuSans-48\"/>\n",
       "      </g>\n",
       "     </g>\n",
       "    </g>\n",
       "    <g id=\"xtick_6\">\n",
       "     <g id=\"line2d_6\">\n",
       "      <g>\n",
       "       <use style=\"stroke:#000000;stroke-width:0.8;\" x=\"236.67312\" xlink:href=\"#mbbc776b356\" y=\"224.64\"/>\n",
       "      </g>\n",
       "     </g>\n",
       "     <g id=\"text_6\">\n",
       "      <!-- 1 -->\n",
       "      <g transform=\"translate(233.49187 239.238437)scale(0.1 -0.1)\">\n",
       "       <use xlink:href=\"#DejaVuSans-49\"/>\n",
       "      </g>\n",
       "     </g>\n",
       "    </g>\n",
       "    <g id=\"xtick_7\">\n",
       "     <g id=\"line2d_7\">\n",
       "      <g>\n",
       "       <use style=\"stroke:#000000;stroke-width:0.8;\" x=\"275.688423\" xlink:href=\"#mbbc776b356\" y=\"224.64\"/>\n",
       "      </g>\n",
       "     </g>\n",
       "     <g id=\"text_7\">\n",
       "      <!-- 2 -->\n",
       "      <g transform=\"translate(272.507173 239.238437)scale(0.1 -0.1)\">\n",
       "       <use xlink:href=\"#DejaVuSans-50\"/>\n",
       "      </g>\n",
       "     </g>\n",
       "    </g>\n",
       "    <g id=\"xtick_8\">\n",
       "     <g id=\"line2d_8\">\n",
       "      <g>\n",
       "       <use style=\"stroke:#000000;stroke-width:0.8;\" x=\"314.703726\" xlink:href=\"#mbbc776b356\" y=\"224.64\"/>\n",
       "      </g>\n",
       "     </g>\n",
       "     <g id=\"text_8\">\n",
       "      <!-- 3 -->\n",
       "      <g transform=\"translate(311.522476 239.238437)scale(0.1 -0.1)\">\n",
       "       <use xlink:href=\"#DejaVuSans-51\"/>\n",
       "      </g>\n",
       "     </g>\n",
       "    </g>\n",
       "    <g id=\"xtick_9\">\n",
       "     <g id=\"line2d_9\">\n",
       "      <g>\n",
       "       <use style=\"stroke:#000000;stroke-width:0.8;\" x=\"353.719029\" xlink:href=\"#mbbc776b356\" y=\"224.64\"/>\n",
       "      </g>\n",
       "     </g>\n",
       "     <g id=\"text_9\">\n",
       "      <!-- 4 -->\n",
       "      <g transform=\"translate(350.537779 239.238437)scale(0.1 -0.1)\">\n",
       "       <use xlink:href=\"#DejaVuSans-52\"/>\n",
       "      </g>\n",
       "     </g>\n",
       "    </g>\n",
       "   </g>\n",
       "   <g id=\"matplotlib.axis_2\">\n",
       "    <g id=\"ytick_1\">\n",
       "     <g id=\"line2d_10\">\n",
       "      <defs>\n",
       "       <path d=\"M 0 0 \n",
       "L -3.5 0 \n",
       "\" id=\"me3122852e7\" style=\"stroke:#000000;stroke-width:0.8;\"/>\n",
       "      </defs>\n",
       "      <g>\n",
       "       <use style=\"stroke:#000000;stroke-width:0.8;\" x=\"39.65\" xlink:href=\"#me3122852e7\" y=\"224.64\"/>\n",
       "      </g>\n",
       "     </g>\n",
       "     <g id=\"text_10\">\n",
       "      <!-- 0 -->\n",
       "      <g transform=\"translate(26.2875 228.439219)scale(0.1 -0.1)\">\n",
       "       <use xlink:href=\"#DejaVuSans-48\"/>\n",
       "      </g>\n",
       "     </g>\n",
       "    </g>\n",
       "    <g id=\"ytick_2\">\n",
       "     <g id=\"line2d_11\">\n",
       "      <g>\n",
       "       <use style=\"stroke:#000000;stroke-width:0.8;\" x=\"39.65\" xlink:href=\"#me3122852e7\" y=\"185.419221\"/>\n",
       "      </g>\n",
       "     </g>\n",
       "     <g id=\"text_11\">\n",
       "      <!-- 500 -->\n",
       "      <g transform=\"translate(13.5625 189.21844)scale(0.1 -0.1)\">\n",
       "       <defs>\n",
       "        <path d=\"M 10.796875 72.90625 \n",
       "L 49.515625 72.90625 \n",
       "L 49.515625 64.59375 \n",
       "L 19.828125 64.59375 \n",
       "L 19.828125 46.734375 \n",
       "Q 21.96875 47.46875 24.109375 47.828125 \n",
       "Q 26.265625 48.1875 28.421875 48.1875 \n",
       "Q 40.625 48.1875 47.75 41.5 \n",
       "Q 54.890625 34.8125 54.890625 23.390625 \n",
       "Q 54.890625 11.625 47.5625 5.09375 \n",
       "Q 40.234375 -1.421875 26.90625 -1.421875 \n",
       "Q 22.3125 -1.421875 17.546875 -0.640625 \n",
       "Q 12.796875 0.140625 7.71875 1.703125 \n",
       "L 7.71875 11.625 \n",
       "Q 12.109375 9.234375 16.796875 8.0625 \n",
       "Q 21.484375 6.890625 26.703125 6.890625 \n",
       "Q 35.15625 6.890625 40.078125 11.328125 \n",
       "Q 45.015625 15.765625 45.015625 23.390625 \n",
       "Q 45.015625 31 40.078125 35.4375 \n",
       "Q 35.15625 39.890625 26.703125 39.890625 \n",
       "Q 22.75 39.890625 18.8125 39.015625 \n",
       "Q 14.890625 38.140625 10.796875 36.28125 \n",
       "z\n",
       "\" id=\"DejaVuSans-53\"/>\n",
       "       </defs>\n",
       "       <use xlink:href=\"#DejaVuSans-53\"/>\n",
       "       <use x=\"63.623047\" xlink:href=\"#DejaVuSans-48\"/>\n",
       "       <use x=\"127.246094\" xlink:href=\"#DejaVuSans-48\"/>\n",
       "      </g>\n",
       "     </g>\n",
       "    </g>\n",
       "    <g id=\"ytick_3\">\n",
       "     <g id=\"line2d_12\">\n",
       "      <g>\n",
       "       <use style=\"stroke:#000000;stroke-width:0.8;\" x=\"39.65\" xlink:href=\"#me3122852e7\" y=\"146.198442\"/>\n",
       "      </g>\n",
       "     </g>\n",
       "     <g id=\"text_12\">\n",
       "      <!-- 1000 -->\n",
       "      <g transform=\"translate(7.2 149.99766)scale(0.1 -0.1)\">\n",
       "       <use xlink:href=\"#DejaVuSans-49\"/>\n",
       "       <use x=\"63.623047\" xlink:href=\"#DejaVuSans-48\"/>\n",
       "       <use x=\"127.246094\" xlink:href=\"#DejaVuSans-48\"/>\n",
       "       <use x=\"190.869141\" xlink:href=\"#DejaVuSans-48\"/>\n",
       "      </g>\n",
       "     </g>\n",
       "    </g>\n",
       "    <g id=\"ytick_4\">\n",
       "     <g id=\"line2d_13\">\n",
       "      <g>\n",
       "       <use style=\"stroke:#000000;stroke-width:0.8;\" x=\"39.65\" xlink:href=\"#me3122852e7\" y=\"106.977662\"/>\n",
       "      </g>\n",
       "     </g>\n",
       "     <g id=\"text_13\">\n",
       "      <!-- 1500 -->\n",
       "      <g transform=\"translate(7.2 110.776881)scale(0.1 -0.1)\">\n",
       "       <use xlink:href=\"#DejaVuSans-49\"/>\n",
       "       <use x=\"63.623047\" xlink:href=\"#DejaVuSans-53\"/>\n",
       "       <use x=\"127.246094\" xlink:href=\"#DejaVuSans-48\"/>\n",
       "       <use x=\"190.869141\" xlink:href=\"#DejaVuSans-48\"/>\n",
       "      </g>\n",
       "     </g>\n",
       "    </g>\n",
       "    <g id=\"ytick_5\">\n",
       "     <g id=\"line2d_14\">\n",
       "      <g>\n",
       "       <use style=\"stroke:#000000;stroke-width:0.8;\" x=\"39.65\" xlink:href=\"#me3122852e7\" y=\"67.756883\"/>\n",
       "      </g>\n",
       "     </g>\n",
       "     <g id=\"text_14\">\n",
       "      <!-- 2000 -->\n",
       "      <g transform=\"translate(7.2 71.556102)scale(0.1 -0.1)\">\n",
       "       <use xlink:href=\"#DejaVuSans-50\"/>\n",
       "       <use x=\"63.623047\" xlink:href=\"#DejaVuSans-48\"/>\n",
       "       <use x=\"127.246094\" xlink:href=\"#DejaVuSans-48\"/>\n",
       "       <use x=\"190.869141\" xlink:href=\"#DejaVuSans-48\"/>\n",
       "      </g>\n",
       "     </g>\n",
       "    </g>\n",
       "    <g id=\"ytick_6\">\n",
       "     <g id=\"line2d_15\">\n",
       "      <g>\n",
       "       <use style=\"stroke:#000000;stroke-width:0.8;\" x=\"39.65\" xlink:href=\"#me3122852e7\" y=\"28.536104\"/>\n",
       "      </g>\n",
       "     </g>\n",
       "     <g id=\"text_15\">\n",
       "      <!-- 2500 -->\n",
       "      <g transform=\"translate(7.2 32.335323)scale(0.1 -0.1)\">\n",
       "       <use xlink:href=\"#DejaVuSans-50\"/>\n",
       "       <use x=\"63.623047\" xlink:href=\"#DejaVuSans-53\"/>\n",
       "       <use x=\"127.246094\" xlink:href=\"#DejaVuSans-48\"/>\n",
       "       <use x=\"190.869141\" xlink:href=\"#DejaVuSans-48\"/>\n",
       "      </g>\n",
       "     </g>\n",
       "    </g>\n",
       "   </g>\n",
       "   <g id=\"patch_14\">\n",
       "    <path d=\"M 39.65 224.64 \n",
       "L 39.65 7.2 \n",
       "\" style=\"fill:none;stroke:#000000;stroke-linecap:square;stroke-linejoin:miter;stroke-width:0.8;\"/>\n",
       "   </g>\n",
       "   <g id=\"patch_15\">\n",
       "    <path d=\"M 374.45 224.64 \n",
       "L 374.45 7.2 \n",
       "\" style=\"fill:none;stroke:#000000;stroke-linecap:square;stroke-linejoin:miter;stroke-width:0.8;\"/>\n",
       "   </g>\n",
       "   <g id=\"patch_16\">\n",
       "    <path d=\"M 39.65 224.64 \n",
       "L 374.45 224.64 \n",
       "\" style=\"fill:none;stroke:#000000;stroke-linecap:square;stroke-linejoin:miter;stroke-width:0.8;\"/>\n",
       "   </g>\n",
       "   <g id=\"patch_17\">\n",
       "    <path d=\"M 39.65 7.2 \n",
       "L 374.45 7.2 \n",
       "\" style=\"fill:none;stroke:#000000;stroke-linecap:square;stroke-linejoin:miter;stroke-width:0.8;\"/>\n",
       "   </g>\n",
       "  </g>\n",
       " </g>\n",
       " <defs>\n",
       "  <clipPath id=\"p67bd90065d\">\n",
       "   <rect height=\"217.44\" width=\"334.8\" x=\"39.65\" y=\"7.2\"/>\n",
       "  </clipPath>\n",
       " </defs>\n",
       "</svg>\n"
      ],
      "text/plain": [
       "<Figure size 432x288 with 1 Axes>"
      ]
     },
     "metadata": {
      "needs_background": "light"
     },
     "output_type": "display_data"
    }
   ],
   "source": [
    "plt.hist(x, bins = 11);"
   ]
  },
  {
   "cell_type": "markdown",
   "metadata": {
    "id": "DwX_pgQfzVRR"
   },
   "source": [
    "Play around with the value of bins, see what happens when you increase it"
   ]
  },
  {
   "cell_type": "code",
   "execution_count": null,
   "metadata": {
    "id": "oBT5k6W8zivm"
   },
   "outputs": [],
   "source": []
  }
 ],
 "metadata": {
  "colab": {
   "collapsed_sections": [],
   "name": "Python_Session.ipynb",
   "provenance": [],
   "toc_visible": true
  },
  "kernelspec": {
   "display_name": "Python 3",
   "language": "python",
   "name": "python3"
  },
  "language_info": {
   "codemirror_mode": {
    "name": "ipython",
    "version": 3
   },
   "file_extension": ".py",
   "mimetype": "text/x-python",
   "name": "python",
   "nbconvert_exporter": "python",
   "pygments_lexer": "ipython3",
   "version": "3.8.5"
  },
  "toc": {
   "base_numbering": 1,
   "nav_menu": {},
   "number_sections": true,
   "sideBar": true,
   "skip_h1_title": false,
   "title_cell": "Table of Contents",
   "title_sidebar": "Contents",
   "toc_cell": false,
   "toc_position": {},
   "toc_section_display": true,
   "toc_window_display": false
  },
  "varInspector": {
   "cols": {
    "lenName": 16,
    "lenType": 16,
    "lenVar": 40
   },
   "kernels_config": {
    "python": {
     "delete_cmd_postfix": "",
     "delete_cmd_prefix": "del ",
     "library": "var_list.py",
     "varRefreshCmd": "print(var_dic_list())"
    },
    "r": {
     "delete_cmd_postfix": ") ",
     "delete_cmd_prefix": "rm(",
     "library": "var_list.r",
     "varRefreshCmd": "cat(var_dic_list()) "
    }
   },
   "types_to_exclude": [
    "module",
    "function",
    "builtin_function_or_method",
    "instance",
    "_Feature"
   ],
   "window_display": false
  }
 },
 "nbformat": 4,
 "nbformat_minor": 1
}
